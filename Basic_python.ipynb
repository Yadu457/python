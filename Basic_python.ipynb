{
  "cells": [
    {
      "cell_type": "code",
      "execution_count": null,
      "metadata": {
        "colab": {
          "base_uri": "https://localhost:8080/"
        },
        "id": "ai203EKqqWdr",
        "outputId": "cd5bcad4-a973-49c3-e303-519009ed0f7c"
      },
      "outputs": [
        {
          "name": "stdout",
          "output_type": "stream",
          "text": [
            "10\n"
          ]
        }
      ],
      "source": [
        "a=5\n",
        "a=10\n",
        "print(a)"
      ]
    },
    {
      "cell_type": "markdown",
      "metadata": {
        "id": "ZuVYT77xzP9g"
      },
      "source": [
        "# variable\n"
      ]
    },
    {
      "cell_type": "code",
      "execution_count": null,
      "metadata": {
        "colab": {
          "base_uri": "https://localhost:8080/"
        },
        "id": "DSoCR0gvrQuf",
        "outputId": "a2d3a0d2-69e3-4b55-8aee-75ec933352f9"
      },
      "outputs": [
        {
          "name": "stdout",
          "output_type": "stream",
          "text": [
            "10\n"
          ]
        }
      ],
      "source": [
        "name = 6\n",
        "Name =8\n",
        "NAME=10\n",
        "n_ame=91\n",
        "print(NAME)"
      ]
    },
    {
      "cell_type": "code",
      "execution_count": null,
      "metadata": {
        "colab": {
          "base_uri": "https://localhost:8080/"
        },
        "id": "OfK1K_m_0AL_",
        "outputId": "db9f2bb0-6520-4aa6-e781-fe0d25b676d4"
      },
      "outputs": [
        {
          "name": "stdout",
          "output_type": "stream",
          "text": [
            "20670\n"
          ]
        }
      ],
      "source": [
        "aseuikDFC545Ghnd=795\n",
        "aseuikDFFG545Ghjd=26\n",
        "axzvmbnmlopys89=aseuikDFC545Ghnd*aseuikDFFG545Ghjd\n",
        "print(axzvmbnmlopys89)"
      ]
    },
    {
      "cell_type": "code",
      "execution_count": null,
      "metadata": {
        "colab": {
          "base_uri": "https://localhost:8080/"
        },
        "id": "K0rtr63D17Sm",
        "outputId": "fb674022-746a-4718-9fef-4f8b36ac6f5d"
      },
      "outputs": [
        {
          "name": "stdout",
          "output_type": "stream",
          "text": [
            "20670\n"
          ]
        }
      ],
      "source": [
        "s=795\n",
        "y=26\n",
        "z=s*y\n",
        "print(z)"
      ]
    },
    {
      "cell_type": "code",
      "execution_count": null,
      "metadata": {
        "colab": {
          "base_uri": "https://localhost:8080/"
        },
        "id": "-eDTQRyZ0F47",
        "outputId": "ed198413-0595-46ae-b453-123472e1d548"
      },
      "outputs": [
        {
          "name": "stdout",
          "output_type": "stream",
          "text": [
            "33226\n"
          ]
        }
      ],
      "source": [
        "Payment_p_day=898\n",
        "N_of_day=37\n",
        "total_paymnt=Payment_p_day*N_of_day\n",
        "print(total_paymnt)"
      ]
    },
    {
      "cell_type": "code",
      "execution_count": null,
      "metadata": {
        "colab": {
          "base_uri": "https://localhost:8080/"
        },
        "id": "N_Pi6xPO6NC7",
        "outputId": "eb9dd514-1413-44b4-dfaf-72c27b1dea55"
      },
      "outputs": [
        {
          "name": "stdout",
          "output_type": "stream",
          "text": [
            "fruit market compute\n",
            "0 0 0\n"
          ]
        }
      ],
      "source": [
        "x,y,z=\"fruit\",\"market\",\"compute\"\n",
        "print(x,y,z)\n",
        "a,b,c=0,0,0\n",
        "print(a,b,c)"
      ]
    },
    {
      "cell_type": "markdown",
      "metadata": {
        "id": "eA3vwsQHUxzo"
      },
      "source": [
        "Comment"
      ]
    },
    {
      "cell_type": "code",
      "execution_count": null,
      "metadata": {
        "colab": {
          "base_uri": "https://localhost:8080/"
        },
        "id": "SGAWmeoK7TSG",
        "outputId": "5f782691-217b-4bf1-87e3-e0f839a2b4c8"
      },
      "outputs": [
        {
          "name": "stdout",
          "output_type": "stream",
          "text": [
            "yadu\n"
          ]
        }
      ],
      "source": [
        "\"\"\"yruy5t\n",
        "uytu\"\"\"\n",
        "print(\"yadu\") # shows output"
      ]
    },
    {
      "cell_type": "markdown",
      "metadata": {
        "id": "cu_5884QU1Ex"
      },
      "source": [
        "Type of data"
      ]
    },
    {
      "cell_type": "code",
      "execution_count": null,
      "metadata": {
        "colab": {
          "base_uri": "https://localhost:8080/"
        },
        "id": "-Af60pOP8AKx",
        "outputId": "793997c9-fd54-4ba0-a76c-4949c5a9765b"
      },
      "outputs": [
        {
          "name": "stdout",
          "output_type": "stream",
          "text": [
            "<class 'int'>\n",
            "<class 'str'>\n",
            "<class 'float'>\n",
            "<class 'bool'>\n",
            "<class 'str'>\n"
          ]
        }
      ],
      "source": [
        "\n",
        "x=\"helo pyton\"\n",
        "y=123\n",
        "z=1.23\n",
        "a=False\n",
        "b=\"1234\"\n",
        "\n",
        "print(type(y))\n",
        "print(type(x))\n",
        "print(type(z))\n",
        "print(type(a))\n",
        "print(type(b))"
      ]
    },
    {
      "cell_type": "markdown",
      "metadata": {
        "id": "SRutubavU_b3"
      },
      "source": [
        "Arithmetic opn"
      ]
    },
    {
      "cell_type": "code",
      "execution_count": null,
      "metadata": {
        "colab": {
          "base_uri": "https://localhost:8080/"
        },
        "id": "ipcyz8fZDq7C",
        "outputId": "632254bf-242f-4c9b-bc28-bcf888c76ffc"
      },
      "outputs": [
        {
          "name": "stdout",
          "output_type": "stream",
          "text": [
            "10\n",
            "4\n",
            "21\n",
            "2.3333333333333335\n",
            "1\n",
            "2\n"
          ]
        }
      ],
      "source": [
        "a=7\n",
        "b=3\n",
        "print(a+b)\n",
        "print(a-b)\n",
        "print(a*b)\n",
        "print(a/b)\n",
        "print(a%b)\n",
        "print(a//b)"
      ]
    },
    {
      "cell_type": "markdown",
      "metadata": {
        "id": "TrmCYECRQAtI"
      },
      "source": [
        "Converations"
      ]
    },
    {
      "cell_type": "code",
      "execution_count": null,
      "metadata": {
        "colab": {
          "base_uri": "https://localhost:8080/"
        },
        "id": "grjAO4PnF16h",
        "outputId": "c7a8697d-d519-461c-c7fa-279b395f9331"
      },
      "outputs": [
        {
          "name": "stdout",
          "output_type": "stream",
          "text": [
            "2\n"
          ]
        }
      ],
      "source": [
        "a=2.5\n",
        "print(round(a)) #change float to int"
      ]
    },
    {
      "cell_type": "code",
      "execution_count": null,
      "metadata": {
        "colab": {
          "base_uri": "https://localhost:8080/"
        },
        "id": "im0QtVWCGiQW",
        "outputId": "5aacb29c-12b6-4a64-e465-4b23f4b42596"
      },
      "outputs": [
        {
          "name": "stdout",
          "output_type": "stream",
          "text": [
            "123\n"
          ]
        }
      ],
      "source": [
        "x=123\n",
        "print(str(x))"
      ]
    },
    {
      "cell_type": "code",
      "execution_count": null,
      "metadata": {
        "colab": {
          "base_uri": "https://localhost:8080/"
        },
        "id": "Csh_7dcRH9_f",
        "outputId": "2179f6b4-8b86-441a-b413-74ce43373067"
      },
      "outputs": [
        {
          "name": "stdout",
          "output_type": "stream",
          "text": [
            "123\n"
          ]
        }
      ],
      "source": [
        "x=\"123\"\n",
        "print(int(x))"
      ]
    },
    {
      "cell_type": "code",
      "execution_count": null,
      "metadata": {
        "colab": {
          "base_uri": "https://localhost:8080/"
        },
        "id": "Frt2epTaIGMV",
        "outputId": "4099a721-a1c0-4d5d-ff72-81d4986342a2"
      },
      "outputs": [
        {
          "name": "stdout",
          "output_type": "stream",
          "text": [
            "3\n"
          ]
        }
      ],
      "source": [
        "x=2.7\n",
        "\n",
        "print(round(x))"
      ]
    },
    {
      "cell_type": "code",
      "execution_count": null,
      "metadata": {
        "colab": {
          "base_uri": "https://localhost:8080/"
        },
        "id": "LUvAt-pKIWGd",
        "outputId": "0f2e1e1e-d692-446d-c008-becd2b39da0a"
      },
      "outputs": [
        {
          "name": "stdout",
          "output_type": "stream",
          "text": [
            "3.0\n"
          ]
        }
      ],
      "source": [
        "x=3\n",
        "print(float(3))"
      ]
    },
    {
      "cell_type": "code",
      "execution_count": null,
      "metadata": {
        "colab": {
          "base_uri": "https://localhost:8080/"
        },
        "id": "dXm1gWA-IkqM",
        "outputId": "d4735f40-6661-42db-ed6e-d4ccc53a299a"
      },
      "outputs": [
        {
          "name": "stdout",
          "output_type": "stream",
          "text": [
            "hellopython\n",
            "<class 'str'>\n"
          ]
        }
      ],
      "source": [
        "x=\"hello\"\n",
        "y=\"python\"\n",
        "var=x+y\n",
        "print(var)\n",
        "print(type(var))"
      ]
    },
    {
      "cell_type": "code",
      "execution_count": null,
      "metadata": {
        "colab": {
          "base_uri": "https://localhost:8080/"
        },
        "id": "fYYLsZZVMSCW",
        "outputId": "94df3a82-4ab1-4173-c08e-89c749bf0375"
      },
      "outputs": [
        {
          "name": "stdout",
          "output_type": "stream",
          "text": [
            "25690\n"
          ]
        }
      ],
      "source": [
        "x=\"13345\"\n",
        "y=12345\n",
        "z=int(x)\n",
        "a=z+y\n",
        "print(a)"
      ]
    },
    {
      "cell_type": "code",
      "execution_count": null,
      "metadata": {
        "colab": {
          "base_uri": "https://localhost:8080/",
          "height": 165
        },
        "id": "vwwt9t9eOb3s",
        "outputId": "022f4207-3a9e-44f7-a2d0-99c5fe425e4e"
      },
      "outputs": [
        {
          "ename": "ValueError",
          "evalue": "invalid literal for int() with base 10: 'yadu'",
          "output_type": "error",
          "traceback": [
            "\u001b[0;31m---------------------------------------------------------------------------\u001b[0m",
            "\u001b[0;31mValueError\u001b[0m                                Traceback (most recent call last)",
            "\u001b[0;32m<ipython-input-64-83e6ee1dc799>\u001b[0m in \u001b[0;36m<cell line: 0>\u001b[0;34m()\u001b[0m\n\u001b[1;32m      1\u001b[0m \u001b[0ma\u001b[0m\u001b[0;34m=\u001b[0m\u001b[0;34m\"yadu\"\u001b[0m\u001b[0;34m\u001b[0m\u001b[0;34m\u001b[0m\u001b[0m\n\u001b[0;32m----> 2\u001b[0;31m \u001b[0mprint\u001b[0m\u001b[0;34m|\u001b[0m\u001b[0;34m(\u001b[0m\u001b[0mint\u001b[0m\u001b[0;34m(\u001b[0m\u001b[0ma\u001b[0m\u001b[0;34m)\u001b[0m\u001b[0;34m)\u001b[0m\u001b[0;34m\u001b[0m\u001b[0;34m\u001b[0m\u001b[0m\n\u001b[0m",
            "\u001b[0;31mValueError\u001b[0m: invalid literal for int() with base 10: 'yadu'"
          ]
        }
      ],
      "source": [
        "a=\"yadu\"\n",
        "print(int(a))"
      ]
    },
    {
      "cell_type": "markdown",
      "metadata": {
        "id": "8Xhy0E09xTRX"
      },
      "source": [
        "# string"
      ]
    },
    {
      "cell_type": "code",
      "execution_count": null,
      "metadata": {
        "colab": {
          "base_uri": "https://localhost:8080/"
        },
        "id": "GpqRgSdXOgck",
        "outputId": "29db4dcc-401d-4ce7-bcfe-653d003c86ce"
      },
      "outputs": [
        {
          "name": "stdout",
          "output_type": "stream",
          "text": [
            "a\n"
          ]
        }
      ],
      "source": [
        "x=\"array\"\n",
        "print(x[0])"
      ]
    },
    {
      "cell_type": "code",
      "execution_count": null,
      "metadata": {
        "colab": {
          "base_uri": "https://localhost:8080/"
        },
        "id": "f8T6eDDxQ_zJ",
        "outputId": "927ad079-88f7-47d2-a8c7-8d13a33ce25f"
      },
      "outputs": [
        {
          "name": "stdout",
          "output_type": "stream",
          "text": [
            "r\n"
          ]
        }
      ],
      "source": [
        "X=\"array\"\n",
        "print(X[1])"
      ]
    },
    {
      "cell_type": "code",
      "execution_count": null,
      "metadata": {
        "colab": {
          "base_uri": "https://localhost:8080/"
        },
        "id": "w1fvo0OkRSjj",
        "outputId": "64b7572d-4ebb-40fb-b73c-12a0fb2ea34b"
      },
      "outputs": [
        {
          "name": "stdout",
          "output_type": "stream",
          "text": [
            "r\n"
          ]
        }
      ],
      "source": [
        "X=\"array\"\n",
        "print(X[2])"
      ]
    },
    {
      "cell_type": "code",
      "execution_count": null,
      "metadata": {
        "id": "uHb8odtnRhwZ"
      },
      "outputs": [],
      "source": [
        "X=\"array\"\n",
        "print(X[3])"
      ]
    },
    {
      "cell_type": "code",
      "execution_count": null,
      "metadata": {
        "colab": {
          "base_uri": "https://localhost:8080/"
        },
        "id": "FyD6_SaRRsvV",
        "outputId": "27e4ec22-7677-49db-c427-1f61ae6629cf"
      },
      "outputs": [
        {
          "name": "stdout",
          "output_type": "stream",
          "text": [
            "y\n"
          ]
        }
      ],
      "source": [
        "X=\"array\"\n",
        "print(X[4])"
      ]
    },
    {
      "cell_type": "markdown",
      "metadata": {
        "id": "Yf6aLP8IV58D"
      },
      "source": [
        "Len()"
      ]
    },
    {
      "cell_type": "code",
      "execution_count": null,
      "metadata": {
        "colab": {
          "base_uri": "https://localhost:8080/"
        },
        "id": "zTWdaGl7QH0r",
        "outputId": "9c2edd91-7ff3-4bc7-b66d-75e47371b02e"
      },
      "outputs": [
        {
          "name": "stdout",
          "output_type": "stream",
          "text": [
            "15\n"
          ]
        }
      ],
      "source": [
        "X=\"hello progrming\"\n",
        "print(len(X))"
      ]
    },
    {
      "cell_type": "markdown",
      "metadata": {
        "id": "LWFaejB1WEQM"
      },
      "source": [
        "Word In / not in str"
      ]
    },
    {
      "cell_type": "code",
      "execution_count": null,
      "metadata": {
        "colab": {
          "base_uri": "https://localhost:8080/"
        },
        "id": "DJM63BV86jU7",
        "outputId": "70cbe6ee-ad65-4fcd-9d6f-5aa83b3b061a"
      },
      "outputs": [
        {
          "name": "stdout",
          "output_type": "stream",
          "text": [
            "True\n"
          ]
        }
      ],
      "source": [
        "Text=\"Hello, lets start codeing\"\n",
        "print(\"start\"in Text)"
      ]
    },
    {
      "cell_type": "code",
      "execution_count": null,
      "metadata": {
        "colab": {
          "base_uri": "https://localhost:8080/"
        },
        "id": "cYzuQcQI75mH",
        "outputId": "e2e76aa9-493c-4576-cf73-d452dc769a2c"
      },
      "outputs": [
        {
          "name": "stdout",
          "output_type": "stream",
          "text": [
            "False\n"
          ]
        }
      ],
      "source": [
        "Text=\"Hello, lets start coding\"\n",
        "print(\"get\" in Text)"
      ]
    },
    {
      "cell_type": "code",
      "execution_count": null,
      "metadata": {
        "colab": {
          "base_uri": "https://localhost:8080/"
        },
        "id": "BNQRMzIf6-Ww",
        "outputId": "f003f886-862a-4e70-afed-8e53002c1723"
      },
      "outputs": [
        {
          "name": "stdout",
          "output_type": "stream",
          "text": [
            "True\n"
          ]
        }
      ],
      "source": [
        "Voice =\"This is automated voice by siri\"\n",
        "print(\"hello\" not in Voice)"
      ]
    },
    {
      "cell_type": "code",
      "execution_count": null,
      "metadata": {
        "colab": {
          "base_uri": "https://localhost:8080/"
        },
        "id": "utuBgvyH8WSv",
        "outputId": "0e47ab9d-72b1-48f9-c5db-4c794f63220c"
      },
      "outputs": [
        {
          "name": "stdout",
          "output_type": "stream",
          "text": [
            "False\n"
          ]
        }
      ],
      "source": [
        "Voice=\"This is automated voice by siri\"\n",
        "print(\"is\" not in Voice)"
      ]
    },
    {
      "cell_type": "markdown",
      "metadata": {
        "id": "ITHfQ66yWazH"
      },
      "source": [
        "Slicing string"
      ]
    },
    {
      "cell_type": "code",
      "execution_count": null,
      "metadata": {
        "colab": {
          "base_uri": "https://localhost:8080/"
        },
        "id": "GqYejW7d_prz",
        "outputId": "37d792ae-c6b9-4e55-a5aa-6357c699bc03"
      },
      "outputs": [
        {
          "name": "stdout",
          "output_type": "stream",
          "text": [
            "el\n"
          ]
        }
      ],
      "source": [
        "a=\"hello\"\n",
        "print(a[1:3])"
      ]
    },
    {
      "cell_type": "code",
      "execution_count": null,
      "metadata": {
        "colab": {
          "base_uri": "https://localhost:8080/"
        },
        "id": "fMGk4KJoAXIs",
        "outputId": "09c81d07-7437-4cf8-9820-14270805fb4e"
      },
      "outputs": [
        {
          "name": "stdout",
          "output_type": "stream",
          "text": [
            "hlo\n"
          ]
        }
      ],
      "source": [
        "a=\"helloo\"\n",
        "print(a[::2])"
      ]
    },
    {
      "cell_type": "code",
      "execution_count": null,
      "metadata": {
        "colab": {
          "base_uri": "https://localhost:8080/"
        },
        "id": "BfXt0U1CBaFq",
        "outputId": "aa90c040-88c0-4f5a-d1cb-36e03f87d75f"
      },
      "outputs": [
        {
          "name": "stdout",
          "output_type": "stream",
          "text": [
            "acegikmoqs\n"
          ]
        }
      ],
      "source": [
        "a=\"abcdefghijklmnopqrst\"\n",
        "print(a[::2])"
      ]
    },
    {
      "cell_type": "code",
      "execution_count": null,
      "metadata": {
        "colab": {
          "base_uri": "https://localhost:8080/"
        },
        "id": "OAaVO0XyBzGB",
        "outputId": "b7a1501f-ca3e-45d7-ca67-5295a7956d6b"
      },
      "outputs": [
        {
          "name": "stdout",
          "output_type": "stream",
          "text": [
            "yadu\n"
          ]
        }
      ],
      "source": [
        "a=\"hello my name is yadu\"\n",
        "print(a[17:21])"
      ]
    },
    {
      "cell_type": "code",
      "execution_count": null,
      "metadata": {
        "colab": {
          "base_uri": "https://localhost:8080/"
        },
        "id": "IOk_O0v6Cshe",
        "outputId": "ca98239a-cc32-4e44-f8c6-0e34511686c1"
      },
      "outputs": [
        {
          "name": "stdout",
          "output_type": "stream",
          "text": [
            " my name\n"
          ]
        }
      ],
      "source": [
        "xyz=\"hi my name is yadu\"\n",
        "print(xyz[2:10])"
      ]
    },
    {
      "cell_type": "code",
      "execution_count": null,
      "metadata": {
        "colab": {
          "base_uri": "https://localhost:8080/"
        },
        "id": "c2ygsJnHDeHH",
        "outputId": "a29170d0-b3ce-49d8-e1a1-973cd6d9f015"
      },
      "outputs": [
        {
          "name": "stdout",
          "output_type": "stream",
          "text": [
            "147\n"
          ]
        }
      ],
      "source": [
        "a=\"123456789\"\n",
        "print(a[::3])"
      ]
    },
    {
      "cell_type": "code",
      "execution_count": null,
      "metadata": {
        "colab": {
          "base_uri": "https://localhost:8080/"
        },
        "id": "GJFWHtRLI7eM",
        "outputId": "686c082a-5347-48ad-9089-a42b70cf76a8"
      },
      "outputs": [
        {
          "name": "stdout",
          "output_type": "stream",
          "text": [
            "1591357\n"
          ]
        }
      ],
      "source": [
        "a=\"123456789101112131415161718\"\n",
        "print(a[::4])"
      ]
    },
    {
      "cell_type": "code",
      "execution_count": null,
      "metadata": {
        "colab": {
          "base_uri": "https://localhost:8080/"
        },
        "id": "scAk7e4-OEvn",
        "outputId": "28eda9ae-5992-49f8-fbff-fe37b0634980"
      },
      "outputs": [
        {
          "name": "stdout",
          "output_type": "stream",
          "text": [
            "malappuram\n"
          ]
        }
      ],
      "source": [
        "a=\"hello my name is anshif and iam from malappuram\"\n",
        "print(a[-10:])"
      ]
    },
    {
      "cell_type": "code",
      "execution_count": null,
      "metadata": {
        "colab": {
          "base_uri": "https://localhost:8080/"
        },
        "id": "0uQe6sx4RnjV",
        "outputId": "ff0acd35-ede6-437a-c34f-f5168d4652c6"
      },
      "outputs": [
        {
          "name": "stdout",
          "output_type": "stream",
          "text": [
            "uday\n"
          ]
        }
      ],
      "source": [
        "a=\"yadu\"\n",
        "print(a[::-1])"
      ]
    },
    {
      "cell_type": "markdown",
      "metadata": {
        "id": "J7MlHZFIWfpo"
      },
      "source": [
        "Upper-case, LOwer case, strip, replace, split"
      ]
    },
    {
      "cell_type": "code",
      "execution_count": null,
      "metadata": {
        "colab": {
          "base_uri": "https://localhost:8080/"
        },
        "id": "Zbl90Z0pWkEg",
        "outputId": "c20b0086-253d-47f9-af4a-57f071af2cba"
      },
      "outputs": [
        {
          "name": "stdout",
          "output_type": "stream",
          "text": [
            "HELLO PHYTHON\n"
          ]
        }
      ],
      "source": [
        "Word=\"Hello Phython\"\n",
        "print(Word.upper())"
      ]
    },
    {
      "cell_type": "code",
      "execution_count": null,
      "metadata": {
        "colab": {
          "base_uri": "https://localhost:8080/"
        },
        "id": "KbVvKonbXtcM",
        "outputId": "e96e551a-064d-4b67-994e-89d75d1c95d3"
      },
      "outputs": [
        {
          "name": "stdout",
          "output_type": "stream",
          "text": [
            "helo pyton\n"
          ]
        }
      ],
      "source": [
        "Word=\"HELLO PYTON\"\n",
        "print(Word.lower())"
      ]
    },
    {
      "cell_type": "code",
      "execution_count": null,
      "metadata": {
        "colab": {
          "base_uri": "https://localhost:8080/"
        },
        "id": "ewalKAydYCOG",
        "outputId": "a9bae581-7b1a-401a-ac5f-c15682b25eb8"
      },
      "outputs": [
        {
          "name": "stdout",
          "output_type": "stream",
          "text": [
            "Hello World!\n"
          ]
        }
      ],
      "source": [
        "a=\"  Hello World!\"\n",
        "print(a.strip())"
      ]
    },
    {
      "cell_type": "code",
      "execution_count": null,
      "metadata": {
        "colab": {
          "base_uri": "https://localhost:8080/"
        },
        "id": "dgiaHmNzYsQC",
        "outputId": "c1a35bbd-46d8-4aa8-b934-ac27924766b4"
      },
      "outputs": [
        {
          "name": "stdout",
          "output_type": "stream",
          "text": [
            "jello, world!\n"
          ]
        }
      ],
      "source": [
        "a=\"Hello, world!\"\n",
        "print(a.replace(\"H\",\"j\"))\n"
      ]
    },
    {
      "cell_type": "code",
      "execution_count": null,
      "metadata": {
        "colab": {
          "base_uri": "https://localhost:8080/"
        },
        "id": "LpNWvsxCZGUV",
        "outputId": "c4cb5bd8-21e9-4fbe-d46c-12ea9ba46d00"
      },
      "outputs": [
        {
          "name": "stdout",
          "output_type": "stream",
          "text": [
            "['Hello', 'world', 'my', 'name!']\n"
          ]
        }
      ],
      "source": [
        "a=\"Hello%world%my%name!\"\n",
        "print(a.split(\"%\"))"
      ]
    },
    {
      "cell_type": "markdown",
      "metadata": {
        "id": "mJCRsX7GWxIJ"
      },
      "source": [
        "Concantation"
      ]
    },
    {
      "cell_type": "code",
      "execution_count": null,
      "metadata": {
        "colab": {
          "base_uri": "https://localhost:8080/"
        },
        "id": "CAy1vRmnZnMK",
        "outputId": "b951cbfc-b022-40fc-a8da-9770da760c12"
      },
      "outputs": [
        {
          "name": "stdout",
          "output_type": "stream",
          "text": [
            "Hellopythom\n"
          ]
        }
      ],
      "source": [
        "A=\"Hello\"\n",
        "B=\"pythom\"\n",
        "V=A+B\n",
        "print(V)"
      ]
    },
    {
      "cell_type": "markdown",
      "metadata": {
        "id": "UCWd9aR3W3uC"
      },
      "source": [
        "Format"
      ]
    },
    {
      "cell_type": "code",
      "execution_count": null,
      "metadata": {
        "colab": {
          "base_uri": "https://localhost:8080/",
          "height": 183
        },
        "id": "Ps26gH_E6Ggt",
        "outputId": "696682e6-1e5a-4635-e5a8-199728b1c29f"
      },
      "outputs": [
        {
          "ename": "TypeError",
          "evalue": "can only concatenate str (not \"int\") to str",
          "output_type": "error",
          "traceback": [
            "\u001b[0;31m---------------------------------------------------------------------------\u001b[0m",
            "\u001b[0;31mTypeError\u001b[0m                                 Traceback (most recent call last)",
            "\u001b[0;32m<ipython-input-1-8384f1bb3a01>\u001b[0m in \u001b[0;36m<cell line: 0>\u001b[0;34m()\u001b[0m\n\u001b[1;32m      1\u001b[0m \u001b[0mage\u001b[0m\u001b[0;34m=\u001b[0m\u001b[0;36m36\u001b[0m\u001b[0;34m\u001b[0m\u001b[0;34m\u001b[0m\u001b[0m\n\u001b[0;32m----> 2\u001b[0;31m \u001b[0mtxt\u001b[0m\u001b[0;34m=\u001b[0m\u001b[0;34m\"My name is John, I am\"\u001b[0m\u001b[0;34m+\u001b[0m\u001b[0mage\u001b[0m\u001b[0;34m\u001b[0m\u001b[0;34m\u001b[0m\u001b[0m\n\u001b[0m\u001b[1;32m      3\u001b[0m \u001b[0mprint\u001b[0m\u001b[0;34m(\u001b[0m\u001b[0mtxt\u001b[0m\u001b[0;34m)\u001b[0m\u001b[0;34m\u001b[0m\u001b[0;34m\u001b[0m\u001b[0m\n",
            "\u001b[0;31mTypeError\u001b[0m: can only concatenate str (not \"int\") to str"
          ]
        }
      ],
      "source": [
        "age=36\n",
        "txt=\"My name is John, I am\"+age\n",
        "print(txt)"
      ]
    },
    {
      "cell_type": "code",
      "execution_count": null,
      "metadata": {
        "colab": {
          "base_uri": "https://localhost:8080/"
        },
        "id": "Nykxo-MH8yOQ",
        "outputId": "b4612ff5-1cf1-4896-c2f8-ae3b2713e8eb"
      },
      "outputs": [
        {
          "name": "stdout",
          "output_type": "stream",
          "text": [
            "My name is John, Iam 36\n"
          ]
        }
      ],
      "source": [
        "age=36\n",
        "txt=\"My name is John, Iam {}\"\n",
        "print(txt.format(age))"
      ]
    },
    {
      "cell_type": "code",
      "execution_count": null,
      "metadata": {
        "colab": {
          "base_uri": "https://localhost:8080/"
        },
        "id": "ArYIuGA89i90",
        "outputId": "6b6902f1-43a5-4b4c-a51b-fac75a5441d1"
      },
      "outputs": [
        {
          "name": "stdout",
          "output_type": "stream",
          "text": [
            "i want 10 of my order 4776 for 3212 rupes \n"
          ]
        }
      ],
      "source": [
        "amount=3212\n",
        "orderno=4776\n",
        "quantity=10\n",
        "myorder=\"i want {} of my order {} for {} rupes \"\n",
        "print(myorder.format(quantity,orderno,amount))"
      ]
    },
    {
      "cell_type": "markdown",
      "metadata": {
        "id": "SplrCAtMXLtM"
      },
      "source": [
        "Escape character"
      ]
    },
    {
      "cell_type": "code",
      "execution_count": null,
      "metadata": {
        "colab": {
          "base_uri": "https://localhost:8080/",
          "height": 110
        },
        "id": "gHfvQ9PDBcWd",
        "outputId": "977838eb-f0c3-41e6-b9fc-4347b02ef553"
      },
      "outputs": [
        {
          "ename": "SyntaxError",
          "evalue": "invalid syntax (<ipython-input-7-a4f9b78f596f>, line 1)",
          "output_type": "error",
          "traceback": [
            "\u001b[0;36m  File \u001b[0;32m\"<ipython-input-7-a4f9b78f596f>\"\u001b[0;36m, line \u001b[0;32m1\u001b[0m\n\u001b[0;31m    txt=\"We are so called \"Vikings\" from north\"\u001b[0m\n\u001b[0m                           ^\u001b[0m\n\u001b[0;31mSyntaxError\u001b[0m\u001b[0;31m:\u001b[0m invalid syntax\n"
          ]
        }
      ],
      "source": [
        "txt=\"We are so called \"Vikings\" from north\"\n",
        "print(txt)"
      ]
    },
    {
      "cell_type": "code",
      "execution_count": null,
      "metadata": {
        "colab": {
          "base_uri": "https://localhost:8080/"
        },
        "id": "suqikAbFBvHn",
        "outputId": "34544ba5-d24c-44a0-80be-23ff59ef43c2"
      },
      "outputs": [
        {
          "name": "stdout",
          "output_type": "stream",
          "text": [
            "We are so called \"Vikins\" from north\n"
          ]
        }
      ],
      "source": [
        "txt=\"We are so called \\\"Vikins\\\" from north\"\n",
        "print(txt)"
      ]
    },
    {
      "cell_type": "markdown",
      "metadata": {
        "id": "Xt1hD2mD2Bmo"
      },
      "source": [
        "# boolian"
      ]
    },
    {
      "cell_type": "code",
      "execution_count": null,
      "metadata": {
        "colab": {
          "base_uri": "https://localhost:8080/"
        },
        "id": "VJXN_fOKCA0F",
        "outputId": "c4d724bc-a478-4ea9-ea2e-b19fb94f8879"
      },
      "outputs": [
        {
          "name": "stdout",
          "output_type": "stream",
          "text": [
            "True\n"
          ]
        }
      ],
      "source": [
        "print(10==10)"
      ]
    },
    {
      "cell_type": "code",
      "execution_count": null,
      "metadata": {
        "colab": {
          "base_uri": "https://localhost:8080/"
        },
        "id": "X1bjuXgkEHDa",
        "outputId": "e64c11ed-3b24-42c0-d4fe-ac5e35254840"
      },
      "outputs": [
        {
          "name": "stdout",
          "output_type": "stream",
          "text": [
            "False\n"
          ]
        }
      ],
      "source": [
        "print(10<9)"
      ]
    },
    {
      "cell_type": "code",
      "execution_count": null,
      "metadata": {
        "colab": {
          "base_uri": "https://localhost:8080/"
        },
        "id": "WoFEJa0xGDrC",
        "outputId": "d97619a7-76f4-4308-f63d-eab9656d9a2b"
      },
      "outputs": [
        {
          "name": "stdout",
          "output_type": "stream",
          "text": [
            "False\n"
          ]
        }
      ],
      "source": [
        "print(10==100)"
      ]
    },
    {
      "cell_type": "code",
      "execution_count": null,
      "metadata": {
        "colab": {
          "base_uri": "https://localhost:8080/"
        },
        "id": "k6LVN5XjGLh1",
        "outputId": "3b59f115-1dd0-41a9-ed81-fa52c5cee4a4"
      },
      "outputs": [
        {
          "name": "stdout",
          "output_type": "stream",
          "text": [
            "True\n",
            "True\n"
          ]
        }
      ],
      "source": [
        "print(bool(\"hello\"))\n",
        "print(bool(100))"
      ]
    },
    {
      "cell_type": "code",
      "execution_count": null,
      "metadata": {
        "colab": {
          "base_uri": "https://localhost:8080/"
        },
        "id": "JzH5Ked3GT15",
        "outputId": "10726740-e076-427d-ed4a-f62896afc6b6"
      },
      "outputs": [
        {
          "name": "stdout",
          "output_type": "stream",
          "text": [
            "True\n",
            "True\n",
            "True\n"
          ]
        }
      ],
      "source": [
        "print(bool(\"pyhton\"))\n",
        "print(bool(100))\n",
        "print(bool([\"apple\",\"cherry\",\"banana\"]))"
      ]
    },
    {
      "cell_type": "code",
      "execution_count": null,
      "metadata": {
        "colab": {
          "base_uri": "https://localhost:8080/"
        },
        "id": "bq6bZSiYGlBR",
        "outputId": "fcebfa28-3267-47a6-83ff-cc6b06840ec7"
      },
      "outputs": [
        {
          "name": "stdout",
          "output_type": "stream",
          "text": [
            "False\n",
            "False\n",
            "False\n"
          ]
        }
      ],
      "source": [
        "print(bool(None))\n",
        "print(bool(0))\n",
        "print(bool({}))\n"
      ]
    },
    {
      "cell_type": "code",
      "execution_count": null,
      "metadata": {
        "colab": {
          "base_uri": "https://localhost:8080/"
        },
        "id": "ctcJE0SeHKnU",
        "outputId": "9a4395d4-2c50-4a1c-fc4b-f235a6cc18d2"
      },
      "outputs": [
        {
          "name": "stdout",
          "output_type": "stream",
          "text": [
            "True\n"
          ]
        }
      ],
      "source": [
        "x=200\n",
        "print(isinstance(x,int))"
      ]
    },
    {
      "cell_type": "markdown",
      "metadata": {
        "id": "CdGQ2cKCXshj"
      },
      "source": [
        "Aritmantic operation"
      ]
    },
    {
      "cell_type": "code",
      "execution_count": null,
      "metadata": {
        "colab": {
          "base_uri": "https://localhost:8080/"
        },
        "id": "UKWx38vPPZN_",
        "outputId": "10cf46a5-60d5-48c1-c297-ac037ba5bbd5"
      },
      "outputs": [
        {
          "name": "stdout",
          "output_type": "stream",
          "text": [
            "11\n"
          ]
        }
      ],
      "source": [
        "x=5\n",
        "y=6\n",
        "print(x+y)"
      ]
    },
    {
      "cell_type": "code",
      "execution_count": null,
      "metadata": {
        "colab": {
          "base_uri": "https://localhost:8080/"
        },
        "id": "7Zaqdr9VVPRM",
        "outputId": "9cda5fd2-8e60-4880-b941-1b260304bb69"
      },
      "outputs": [
        {
          "name": "stdout",
          "output_type": "stream",
          "text": [
            "5\n"
          ]
        }
      ],
      "source": [
        "x=10\n",
        "y=5\n",
        "print(x-y)"
      ]
    },
    {
      "cell_type": "code",
      "execution_count": null,
      "metadata": {
        "colab": {
          "base_uri": "https://localhost:8080/"
        },
        "id": "mZ3hpIW3Vp-2",
        "outputId": "3db82c5f-a6af-40d4-baa8-a87d7af12fc1"
      },
      "outputs": [
        {
          "name": "stdout",
          "output_type": "stream",
          "text": [
            "30\n"
          ]
        }
      ],
      "source": [
        "x=5\n",
        "y=6\n",
        "print(x*y)"
      ]
    },
    {
      "cell_type": "code",
      "execution_count": null,
      "metadata": {
        "colab": {
          "base_uri": "https://localhost:8080/"
        },
        "id": "0hBlSV3xVwB8",
        "outputId": "d826830b-18d0-47f1-a32e-bf6df8fbc221"
      },
      "outputs": [
        {
          "name": "stdout",
          "output_type": "stream",
          "text": [
            "8\n"
          ]
        }
      ],
      "source": [
        "x=2\n",
        "y=3\n",
        "print(x**y)"
      ]
    },
    {
      "cell_type": "code",
      "execution_count": null,
      "metadata": {
        "id": "jWS9IUVBV3dB"
      },
      "outputs": [],
      "source": [
        "x=6\n",
        "y=3\n",
        "print(x/y)"
      ]
    },
    {
      "cell_type": "code",
      "execution_count": null,
      "metadata": {
        "id": "u_lmcxZBWM1i"
      },
      "outputs": [],
      "source": [
        "x=6\n",
        "y=5\n",
        "print(x//y)"
      ]
    },
    {
      "cell_type": "code",
      "execution_count": null,
      "metadata": {
        "colab": {
          "base_uri": "https://localhost:8080/"
        },
        "id": "AJleMvHQWZML",
        "outputId": "a018e7ab-818c-4c40-a1ac-067e811859e8"
      },
      "outputs": [
        {
          "name": "stdout",
          "output_type": "stream",
          "text": [
            "2\n"
          ]
        }
      ],
      "source": [
        "x=11\n",
        "y=3\n",
        "print(x%y)"
      ]
    },
    {
      "cell_type": "code",
      "execution_count": null,
      "metadata": {
        "colab": {
          "base_uri": "https://localhost:8080/"
        },
        "id": "qckCy4X_uOfD",
        "outputId": "6c723972-00d9-4603-bdb4-efd0887c8527"
      },
      "outputs": [
        {
          "name": "stdout",
          "output_type": "stream",
          "text": [
            "15\n"
          ]
        }
      ],
      "source": [
        "a=5\n",
        "a+=10 #a=a+5\n",
        "print(a)"
      ]
    },
    {
      "cell_type": "code",
      "execution_count": null,
      "metadata": {
        "colab": {
          "base_uri": "https://localhost:8080/"
        },
        "id": "oBoRDh1suPs6",
        "outputId": "b4c5b1f8-85e7-4c4c-f21f-1af85922c0ea"
      },
      "outputs": [
        {
          "name": "stdout",
          "output_type": "stream",
          "text": [
            "3\n"
          ]
        }
      ],
      "source": [
        "x=5\n",
        "x-=2 #x=x-2\n",
        "print(x)"
      ]
    },
    {
      "cell_type": "code",
      "execution_count": null,
      "metadata": {
        "colab": {
          "base_uri": "https://localhost:8080/"
        },
        "id": "0MH625fSuwMo",
        "outputId": "23cf03ad-9311-4176-c399-92a5d88f2b2d"
      },
      "outputs": [
        {
          "name": "stdout",
          "output_type": "stream",
          "text": [
            "6\n"
          ]
        }
      ],
      "source": [
        "x=2\n",
        "x*=3\n",
        "print(x)"
      ]
    },
    {
      "cell_type": "code",
      "execution_count": null,
      "metadata": {
        "id": "LsQy_NomvicB"
      },
      "outputs": [],
      "source": [
        "x=6\n",
        "x/=3\n",
        "print(x)"
      ]
    },
    {
      "cell_type": "code",
      "execution_count": null,
      "metadata": {
        "colab": {
          "base_uri": "https://localhost:8080/"
        },
        "id": "v2dDibXFvxIy",
        "outputId": "c6a29e6f-5987-4acc-f4a4-a81cf50d27a1"
      },
      "outputs": [
        {
          "name": "stdout",
          "output_type": "stream",
          "text": [
            "1\n"
          ]
        }
      ],
      "source": [
        "x=6\n",
        "x//=5\n",
        "print(x)"
      ]
    },
    {
      "cell_type": "code",
      "execution_count": null,
      "metadata": {
        "colab": {
          "base_uri": "https://localhost:8080/"
        },
        "id": "uDC0pXBJv5ht",
        "outputId": "56025dfb-ffaf-47f7-87fb-f78762d57fd3"
      },
      "outputs": [
        {
          "name": "stdout",
          "output_type": "stream",
          "text": [
            "2\n"
          ]
        }
      ],
      "source": [
        "x=11\n",
        "x%=3\n",
        "print(x)"
      ]
    },
    {
      "cell_type": "markdown",
      "metadata": {
        "id": "FSdTmPvoX4eA"
      },
      "source": [
        "Logic operation (bool)"
      ]
    },
    {
      "cell_type": "code",
      "execution_count": null,
      "metadata": {
        "colab": {
          "base_uri": "https://localhost:8080/"
        },
        "id": "wh4_9oIMyj9X",
        "outputId": "48331f89-ace0-41a5-dae7-90b0c4d2b7cc"
      },
      "outputs": [
        {
          "data": {
            "text/plain": [
              "True"
            ]
          },
          "execution_count": 47,
          "metadata": {},
          "output_type": "execute_result"
        }
      ],
      "source": [
        "x=5\n",
        "y=6\n",
        "x>1 and y<10\n"
      ]
    },
    {
      "cell_type": "code",
      "execution_count": null,
      "metadata": {
        "colab": {
          "base_uri": "https://localhost:8080/"
        },
        "id": "2wFXDmgOy4rp",
        "outputId": "ebe1eaf5-a834-4958-8ae5-e40a12f7c6be"
      },
      "outputs": [
        {
          "data": {
            "text/plain": [
              "True"
            ]
          },
          "execution_count": 48,
          "metadata": {},
          "output_type": "execute_result"
        }
      ],
      "source": [
        "x=5\n",
        "y=6\n",
        "x>6 or y<10\n"
      ]
    },
    {
      "cell_type": "code",
      "execution_count": null,
      "metadata": {
        "colab": {
          "base_uri": "https://localhost:8080/"
        },
        "id": "zCtBxEfGzNfk",
        "outputId": "9be2ce86-d155-428e-e641-be9fc272210e"
      },
      "outputs": [
        {
          "data": {
            "text/plain": [
              "False"
            ]
          },
          "execution_count": 49,
          "metadata": {},
          "output_type": "execute_result"
        }
      ],
      "source": [
        "x=5\n",
        "not x>1"
      ]
    },
    {
      "cell_type": "markdown",
      "metadata": {
        "id": "Z7lRBiSGYw0d"
      },
      "source": [
        "Import operatro"
      ]
    },
    {
      "cell_type": "code",
      "execution_count": null,
      "metadata": {
        "colab": {
          "base_uri": "https://localhost:8080/"
        },
        "id": "xWe-hyB-WGAW",
        "outputId": "9146b9b8-9ba9-4af0-d706-a72a57f08044"
      },
      "outputs": [
        {
          "data": {
            "text/plain": [
              "12"
            ]
          },
          "execution_count": 2,
          "metadata": {},
          "output_type": "execute_result"
        }
      ],
      "source": [
        "import operator\n",
        "x=5\n",
        "y=7\n",
        "operator.add(x,y)"
      ]
    },
    {
      "cell_type": "code",
      "execution_count": null,
      "metadata": {
        "colab": {
          "base_uri": "https://localhost:8080/"
        },
        "id": "PIKppfnYWlfW",
        "outputId": "ee96f30d-ac68-4810-ac38-8fd7391cd8a0"
      },
      "outputs": [
        {
          "data": {
            "text/plain": [
              "11"
            ]
          },
          "execution_count": 4,
          "metadata": {},
          "output_type": "execute_result"
        }
      ],
      "source": [
        "import operator\n",
        "x=5\n",
        "y=6\n",
        "operator.add(x,y)"
      ]
    },
    {
      "cell_type": "code",
      "execution_count": null,
      "metadata": {
        "colab": {
          "base_uri": "https://localhost:8080/"
        },
        "id": "9y3UEmvPW5o6",
        "outputId": "0ac4d6c7-10a9-45af-c8b6-7880cdd26a34"
      },
      "outputs": [
        {
          "data": {
            "text/plain": [
              "5"
            ]
          },
          "execution_count": 5,
          "metadata": {},
          "output_type": "execute_result"
        }
      ],
      "source": [
        "import operator\n",
        "x=10\n",
        "y=5\n",
        "operator.sub(x,y)"
      ]
    },
    {
      "cell_type": "code",
      "execution_count": null,
      "metadata": {
        "colab": {
          "base_uri": "https://localhost:8080/"
        },
        "id": "2bJZsC4UXIAl",
        "outputId": "35e0c9a8-9f8f-4cad-bb0a-6bfba9af9b5c"
      },
      "outputs": [
        {
          "data": {
            "text/plain": [
              "30"
            ]
          },
          "execution_count": 6,
          "metadata": {},
          "output_type": "execute_result"
        }
      ],
      "source": [
        "import operator\n",
        "x=6\n",
        "y=5\n",
        "operator.mul(x,y)"
      ]
    },
    {
      "cell_type": "code",
      "execution_count": null,
      "metadata": {
        "colab": {
          "base_uri": "https://localhost:8080/"
        },
        "id": "g8WSLT-oXVL-",
        "outputId": "d443457f-4361-4f60-e9ff-022ea8cbf3ff"
      },
      "outputs": [
        {
          "data": {
            "text/plain": [
              "8"
            ]
          },
          "execution_count": 7,
          "metadata": {},
          "output_type": "execute_result"
        }
      ],
      "source": [
        "import operator\n",
        "x=2\n",
        "y=3\n",
        "operator.pow(x,y)"
      ]
    },
    {
      "cell_type": "code",
      "execution_count": null,
      "metadata": {
        "colab": {
          "base_uri": "https://localhost:8080/"
        },
        "id": "PNP_ZM18XkXP",
        "outputId": "47c5cdc8-d2a7-4458-f418-64e9caacec3e"
      },
      "outputs": [
        {
          "data": {
            "text/plain": [
              "2.0"
            ]
          },
          "execution_count": 8,
          "metadata": {},
          "output_type": "execute_result"
        }
      ],
      "source": [
        "import operator\n",
        "x=6\n",
        "y=3\n",
        "operator.truediv(x,y)"
      ]
    },
    {
      "cell_type": "code",
      "execution_count": null,
      "metadata": {
        "colab": {
          "base_uri": "https://localhost:8080/"
        },
        "id": "66e169FDX9_Y",
        "outputId": "877271e1-206f-4f86-a361-9aac0789506d"
      },
      "outputs": [
        {
          "data": {
            "text/plain": [
              "1"
            ]
          },
          "execution_count": 9,
          "metadata": {},
          "output_type": "execute_result"
        }
      ],
      "source": [
        "import operator\n",
        "x=6\n",
        "y=5\n",
        "operator.floordiv(x,y)"
      ]
    },
    {
      "cell_type": "code",
      "execution_count": null,
      "metadata": {
        "colab": {
          "base_uri": "https://localhost:8080/"
        },
        "id": "PycyljsUYNu1",
        "outputId": "cb137dbe-23d2-4fa1-82b4-1a8409ebff6f"
      },
      "outputs": [
        {
          "data": {
            "text/plain": [
              "1"
            ]
          },
          "execution_count": 10,
          "metadata": {},
          "output_type": "execute_result"
        }
      ],
      "source": [
        "import operator\n",
        "x=6\n",
        "y=5\n",
        "operator.floordiv(x,y)"
      ]
    },
    {
      "cell_type": "code",
      "execution_count": null,
      "metadata": {
        "colab": {
          "base_uri": "https://localhost:8080/"
        },
        "id": "KhoCrajRYcmK",
        "outputId": "791385cc-88b0-4a5c-e83f-a958d64499d3"
      },
      "outputs": [
        {
          "data": {
            "text/plain": [
              "2"
            ]
          },
          "execution_count": 11,
          "metadata": {},
          "output_type": "execute_result"
        }
      ],
      "source": [
        "import operator\n",
        "x=11\n",
        "y=3\n",
        "operator.mod(x,y)"
      ]
    },
    {
      "cell_type": "code",
      "execution_count": null,
      "metadata": {
        "colab": {
          "base_uri": "https://localhost:8080/"
        },
        "id": "wVwcZfUQZWYY",
        "outputId": "bac72a88-da23-454b-ebaf-64655dfe17cb"
      },
      "outputs": [
        {
          "name": "stdout",
          "output_type": "stream",
          "text": [
            "10\n"
          ]
        }
      ],
      "source": [
        "import operator\n",
        "x=operator.iadd(5,5)\n",
        "print(x)"
      ]
    },
    {
      "cell_type": "code",
      "execution_count": null,
      "metadata": {
        "colab": {
          "base_uri": "https://localhost:8080/"
        },
        "id": "zFmJ0JSGaFF1",
        "outputId": "ea7daaf3-7608-4fb8-dba4-f35fcaab32b8"
      },
      "outputs": [
        {
          "name": "stdout",
          "output_type": "stream",
          "text": [
            "3\n"
          ]
        }
      ],
      "source": [
        "x=operator.isub(5,2)\n",
        "print(x)"
      ]
    },
    {
      "cell_type": "code",
      "execution_count": null,
      "metadata": {
        "colab": {
          "base_uri": "https://localhost:8080/"
        },
        "id": "n_MgxzlpaiOd",
        "outputId": "a211309e-e2fe-41cd-ad89-3bd5133bbbec"
      },
      "outputs": [
        {
          "name": "stdout",
          "output_type": "stream",
          "text": [
            "6\n"
          ]
        }
      ],
      "source": [
        "x=operator.imul(2,3)\n",
        "print(x)"
      ]
    },
    {
      "cell_type": "code",
      "execution_count": null,
      "metadata": {
        "colab": {
          "base_uri": "https://localhost:8080/"
        },
        "id": "lNfYlVD3ayse",
        "outputId": "3dae8f5b-9645-47b6-f590-14078eec83e7"
      },
      "outputs": [
        {
          "name": "stdout",
          "output_type": "stream",
          "text": [
            "2.0\n"
          ]
        }
      ],
      "source": [
        "x=operator.itruediv(6,3)\n",
        "print(x)"
      ]
    },
    {
      "cell_type": "code",
      "execution_count": null,
      "metadata": {
        "colab": {
          "base_uri": "https://localhost:8080/"
        },
        "id": "YujZmppWa3Uf",
        "outputId": "79e1454d-fa8f-4518-d0f2-4e8894998db7"
      },
      "outputs": [
        {
          "name": "stdout",
          "output_type": "stream",
          "text": [
            "1\n"
          ]
        }
      ],
      "source": [
        "x=operator.ifloordiv(6,5)\n",
        "print(x)"
      ]
    },
    {
      "cell_type": "code",
      "execution_count": null,
      "metadata": {
        "colab": {
          "base_uri": "https://localhost:8080/"
        },
        "id": "uWFzrgfpbTJ_",
        "outputId": "ff7f43cf-49f1-4767-9ea6-db56043595ee"
      },
      "outputs": [
        {
          "name": "stdout",
          "output_type": "stream",
          "text": [
            "2\n"
          ]
        }
      ],
      "source": [
        "x=operator.imod(11,3)\n",
        "print(x)"
      ]
    },
    {
      "cell_type": "code",
      "execution_count": null,
      "metadata": {
        "colab": {
          "base_uri": "https://localhost:8080/"
        },
        "id": "CpSy_yOmbbsK",
        "outputId": "4d7e5c13-63e8-4c9b-ce27-1bc25296ade0"
      },
      "outputs": [
        {
          "name": "stdout",
          "output_type": "stream",
          "text": [
            "3\n"
          ]
        }
      ],
      "source": [
        "x=operator.iand(11,3)\n",
        "print(x)"
      ]
    },
    {
      "cell_type": "code",
      "execution_count": null,
      "metadata": {
        "colab": {
          "base_uri": "https://localhost:8080/"
        },
        "id": "mW_XWx6PbzQU",
        "outputId": "04960b53-ad4d-44d3-9b30-8c87e66cab58"
      },
      "outputs": [
        {
          "name": "stdout",
          "output_type": "stream",
          "text": [
            "3\n"
          ]
        }
      ],
      "source": [
        "x=operator.mod(3,4)\n",
        "print(x)"
      ]
    },
    {
      "cell_type": "code",
      "execution_count": null,
      "metadata": {
        "colab": {
          "base_uri": "https://localhost:8080/"
        },
        "id": "4XtDPaAZb_aU",
        "outputId": "22f13495-63ef-4c0c-c5a8-e7803b06085c"
      },
      "outputs": [
        {
          "name": "stdout",
          "output_type": "stream",
          "text": [
            "7\n"
          ]
        }
      ],
      "source": [
        "x=operator.ixor(5,2)\n",
        "print(x)"
      ]
    },
    {
      "cell_type": "code",
      "execution_count": null,
      "metadata": {
        "colab": {
          "base_uri": "https://localhost:8080/"
        },
        "id": "nw4JJ4qBcUkk",
        "outputId": "ceaa0d72-4707-4a32-e614-7c73740cd664"
      },
      "outputs": [
        {
          "name": "stdout",
          "output_type": "stream",
          "text": [
            "1\n"
          ]
        }
      ],
      "source": [
        "x=operator.irshift(5,2)\n",
        "print(x)"
      ]
    },
    {
      "cell_type": "code",
      "execution_count": null,
      "metadata": {
        "colab": {
          "base_uri": "https://localhost:8080/"
        },
        "id": "rUzEaTlVctAk",
        "outputId": "5f6cbf51-4d3a-44c0-9c25-87e3e9bc331f"
      },
      "outputs": [
        {
          "name": "stdout",
          "output_type": "stream",
          "text": [
            "20\n"
          ]
        }
      ],
      "source": [
        "x=operator.ilshift(5,2)\n",
        "print(x)\n"
      ]
    },
    {
      "cell_type": "code",
      "execution_count": null,
      "metadata": {
        "colab": {
          "base_uri": "https://localhost:8080/"
        },
        "id": "EjsEhJOGc8H3",
        "outputId": "39d562cf-3c5a-49d4-f6d4-2a015224a701"
      },
      "outputs": [
        {
          "data": {
            "text/plain": [
              "True"
            ]
          },
          "execution_count": 37,
          "metadata": {},
          "output_type": "execute_result"
        }
      ],
      "source": [
        "num=[1,2,3,4,5]\n",
        "operator.contains(num,2)\n"
      ]
    },
    {
      "cell_type": "code",
      "execution_count": null,
      "metadata": {
        "colab": {
          "base_uri": "https://localhost:8080/"
        },
        "id": "U31h984qdo1T",
        "outputId": "4c595bb2-e0b4-4346-b9ca-3756b9a55fbe"
      },
      "outputs": [
        {
          "data": {
            "text/plain": [
              "False"
            ]
          },
          "execution_count": 38,
          "metadata": {},
          "output_type": "execute_result"
        }
      ],
      "source": [
        "num=[1,2,3,4,5,]\n",
        "not operator.contains(num,2)"
      ]
    },
    {
      "cell_type": "code",
      "execution_count": null,
      "metadata": {
        "colab": {
          "base_uri": "https://localhost:8080/"
        },
        "id": "1ZFiwVu-eQVx",
        "outputId": "7eaa8300-a6c3-47e8-f605-3b79923dfecc"
      },
      "outputs": [
        {
          "data": {
            "text/plain": [
              "0"
            ]
          },
          "execution_count": 41,
          "metadata": {},
          "output_type": "execute_result"
        }
      ],
      "source": [
        "x=5\n",
        "y=10\n",
        "operator.and_(x,y)"
      ]
    },
    {
      "cell_type": "code",
      "execution_count": null,
      "metadata": {
        "colab": {
          "base_uri": "https://localhost:8080/"
        },
        "id": "Od_V_Itde0C4",
        "outputId": "4d20fb6b-2fce-4d5a-d112-c1a2c30584eb"
      },
      "outputs": [
        {
          "data": {
            "text/plain": [
              "15"
            ]
          },
          "execution_count": 42,
          "metadata": {},
          "output_type": "execute_result"
        }
      ],
      "source": [
        "x=5\n",
        "y=10\n",
        "operator.xor(x,y)"
      ]
    },
    {
      "cell_type": "markdown",
      "metadata": {
        "id": "HRHG21_bzILi"
      },
      "source": [
        "List"
      ]
    },
    {
      "cell_type": "code",
      "execution_count": null,
      "metadata": {
        "colab": {
          "base_uri": "https://localhost:8080/"
        },
        "id": "qkAFc5ecfDVi",
        "outputId": "dce7d86c-526f-43de-fc34-8be008b44a38"
      },
      "outputs": [
        {
          "name": "stdout",
          "output_type": "stream",
          "text": [
            "['apple', 'orange', 'mango', 'apple']\n",
            "orange\n",
            "['apple', 'mango', 'orange', 'apple']\n"
          ]
        }
      ],
      "source": [
        "fruits=[\"apple\",\"orange\",\"mango\",\"apple\"]\n",
        "print(fruits)\n",
        "print(fruits[1])\n",
        "print(fruits[-1])"
      ]
    },
    {
      "cell_type": "code",
      "execution_count": null,
      "metadata": {
        "colab": {
          "base_uri": "https://localhost:8080/"
        },
        "id": "SnwoyJbrgsKF",
        "outputId": "44325168-692e-4766-905d-92fb7663702e"
      },
      "outputs": [
        {
          "name": "stdout",
          "output_type": "stream",
          "text": [
            "['orange', 'mango', 'apple', 'kiwi']\n"
          ]
        }
      ],
      "source": [
        "Fruits=[\"apple\",\"orange\",\"mango\",\"apple\",\"kiwi\",\"pinapple\"]\n",
        "print(Fruits[1:5])\n"
      ]
    },
    {
      "cell_type": "code",
      "execution_count": null,
      "metadata": {
        "colab": {
          "base_uri": "https://localhost:8080/"
        },
        "id": "p0qQSf8Rh62u",
        "outputId": "58a55d5d-6cd3-481a-cdd3-6b0747044bfb"
      },
      "outputs": [
        {
          "name": "stdout",
          "output_type": "stream",
          "text": [
            "['apple', 'orange', 'mango', 'aple', 'kiwi']\n"
          ]
        }
      ],
      "source": [
        "Fruits=[\"apple\",\"orange\",\"mango\",\"aple\",\"kiwi\",\"pineapple\"]\n",
        "print(Fruits[:5])\n"
      ]
    },
    {
      "cell_type": "code",
      "execution_count": null,
      "metadata": {
        "colab": {
          "base_uri": "https://localhost:8080/"
        },
        "id": "ZDKsuwrqmNQi",
        "outputId": "29139396-1801-4d9e-c03e-644c6b16293d"
      },
      "outputs": [
        {
          "name": "stdout",
          "output_type": "stream",
          "text": [
            "['orange', 'mango', 'apple', 'kiwi', 'pineapple']\n"
          ]
        }
      ],
      "source": [
        "fruits=[\"apple\",\"orange\",\"mango\",\"apple\",\"kiwi\",\"pineapple\"]\n",
        "print(fruits[1:])"
      ]
    },
    {
      "cell_type": "code",
      "execution_count": null,
      "metadata": {
        "colab": {
          "base_uri": "https://localhost:8080/"
        },
        "id": "GjTZuh6LnFk_",
        "outputId": "147d021f-f4cb-404d-a526-c78e88f1a069"
      },
      "outputs": [
        {
          "name": "stdout",
          "output_type": "stream",
          "text": [
            "['apple', 'banana', 'mango', 'apple', 'kiwi', 'pineapple']\n"
          ]
        }
      ],
      "source": [
        "fruits=[\"apple\",\"orange\",\"mango\",\"apple\",\"kiwi\",\"pineapple\"]\n",
        "fruits[1]=\"banana\"\n",
        "print(fruits)"
      ]
    },
    {
      "cell_type": "code",
      "execution_count": null,
      "metadata": {
        "colab": {
          "base_uri": "https://localhost:8080/"
        },
        "id": "iFd-8akmnbz7",
        "outputId": "69a2093e-5283-43a4-c0d6-e3901b01848a"
      },
      "outputs": [
        {
          "name": "stdout",
          "output_type": "stream",
          "text": [
            "['apple', 'orange', 'watermelom', 'green aple', 'kiwi', 'pineapple']\n"
          ]
        }
      ],
      "source": [
        "fruits=[\"apple\",\"orange\",\"mango\",\"apple\",\"kiwi\",\"pineapple\"]\n",
        "fruits[2:4]=[\"watermelom\",\"green aple\"]\n",
        "print(fruits)"
      ]
    },
    {
      "cell_type": "code",
      "execution_count": null,
      "metadata": {
        "colab": {
          "base_uri": "https://localhost:8080/"
        },
        "id": "kAY-IftZo0v8",
        "outputId": "0a2e4f50-c5dd-4d79-ef9e-f2ba8b64cf4c"
      },
      "outputs": [
        {
          "name": "stdout",
          "output_type": "stream",
          "text": [
            "['apple', 'banana', 'watermelon', 'kiwi']\n"
          ]
        }
      ],
      "source": [
        "Fruits=['apple','banana','orange']\n",
        "Fruits[2:]=['watermelon','kiwi']\n",
        "print(Fruits)"
      ]
    },
    {
      "cell_type": "code",
      "execution_count": null,
      "metadata": {
        "colab": {
          "base_uri": "https://localhost:8080/"
        },
        "id": "N3G0xiJJp5k5",
        "outputId": "c6cef54c-a433-4bd0-bafc-6ca5c6cbfb1a"
      },
      "outputs": [
        {
          "name": "stdout",
          "output_type": "stream",
          "text": [
            "['apple', 'kiwi', 'orange']\n"
          ]
        }
      ],
      "source": [
        "Fruits=[\"apple\",\"banana\",\"orange\"]\n",
        "Fruits[1:2]=['kiwi']\n",
        "print(Fruits)"
      ]
    },
    {
      "cell_type": "markdown",
      "metadata": {
        "id": "KGwFyZrX6RwH"
      },
      "source": [
        "insert element into lists"
      ]
    },
    {
      "cell_type": "code",
      "execution_count": null,
      "metadata": {
        "colab": {
          "base_uri": "https://localhost:8080/"
        },
        "id": "Z7fQEfovqNZ7",
        "outputId": "50363ced-dc0b-48bc-ac27-2d016005323f"
      },
      "outputs": [
        {
          "name": "stdout",
          "output_type": "stream",
          "text": [
            "['apple', 'orange', 'banana', 'cherry']\n"
          ]
        }
      ],
      "source": [
        "Fruits=[\"apple\",'banana',\"cherry\"]\n",
        "Fruits.insert(1,\"orange\")\n",
        "print(Fruits)"
      ]
    },
    {
      "cell_type": "markdown",
      "metadata": {
        "id": "Qs0n1WyO6NiM"
      },
      "source": [
        "append list"
      ]
    },
    {
      "cell_type": "code",
      "execution_count": null,
      "metadata": {
        "colab": {
          "base_uri": "https://localhost:8080/"
        },
        "id": "fPTg1E_mtmEJ",
        "outputId": "aee376b8-5e11-4a9b-ad46-aba67a005980"
      },
      "outputs": [
        {
          "name": "stdout",
          "output_type": "stream",
          "text": [
            "['apple', 'banana', 'cherry', 'orange']\n"
          ]
        }
      ],
      "source": [
        "Fruits=[\"apple\",\"banana\",\"cherry\"]\n",
        "Fruits.append(\"orange\")\n",
        "print(Fruits)"
      ]
    },
    {
      "cell_type": "markdown",
      "metadata": {
        "id": "wWM_uW746G_8"
      },
      "source": [
        "extend list"
      ]
    },
    {
      "cell_type": "code",
      "execution_count": null,
      "metadata": {
        "colab": {
          "base_uri": "https://localhost:8080/"
        },
        "id": "skN7P2Sut2_p",
        "outputId": "3723fb0a-62c3-4e53-fe13-a3c4624dd9f3"
      },
      "outputs": [
        {
          "name": "stdout",
          "output_type": "stream",
          "text": [
            "['apple', 'banana', 'cherry', 'mangp', 'pineapple', 'papaya']\n"
          ]
        }
      ],
      "source": [
        "fruits=[\"apple\",\"banana\",\"cherry\"]\n",
        "fruits2=[\"mangp\",\"pineapple\",\"papaya\"]\n",
        "fruits.extend(fruits2)\n",
        "print(fruits)"
      ]
    },
    {
      "cell_type": "markdown",
      "metadata": {
        "id": "IGzCJNzS6J0J"
      },
      "source": [
        "extend list and tuples"
      ]
    },
    {
      "cell_type": "code",
      "execution_count": null,
      "metadata": {
        "colab": {
          "base_uri": "https://localhost:8080/"
        },
        "id": "gflH-gzZxidZ",
        "outputId": "a049fcd5-66a2-44f1-e5d2-9ea6ff8b1b63"
      },
      "outputs": [
        {
          "name": "stdout",
          "output_type": "stream",
          "text": [
            "['apple', 'banana', 'cherry', 'mango', 'pineapple', 'papaya']\n"
          ]
        }
      ],
      "source": [
        "fruits=[\"apple\",\"banana\",\"cherry\"]\n",
        "fruits2=(\"mango\",\"pineapple\",\"papaya\")\n",
        "fruits.extend(fruits2)\n",
        "print(fruits)"
      ]
    },
    {
      "cell_type": "markdown",
      "metadata": {
        "id": "xUSK6DEJ6AN7"
      },
      "source": [
        "Remove()"
      ]
    },
    {
      "cell_type": "code",
      "execution_count": null,
      "metadata": {
        "colab": {
          "base_uri": "https://localhost:8080/"
        },
        "id": "2H67lNOXuVg6",
        "outputId": "cffc4f0f-a855-4ead-e7f9-e60becf90f80"
      },
      "outputs": [
        {
          "name": "stdout",
          "output_type": "stream",
          "text": [
            "['banana', 'cherry']\n"
          ]
        }
      ],
      "source": [
        "Fruits=[\"apple\",\"banana\",\"cherry\"]\n",
        "Fruits.remove(\"apple\")\n",
        "print(Fruits)"
      ]
    },
    {
      "cell_type": "markdown",
      "metadata": {
        "id": "sryGOwHh59II"
      },
      "source": [
        "pop funtion"
      ]
    },
    {
      "cell_type": "code",
      "execution_count": null,
      "metadata": {
        "colab": {
          "base_uri": "https://localhost:8080/"
        },
        "id": "fkEd3Y4Quww8",
        "outputId": "86abb376-0b94-4b68-d12e-7e9cb9fe65c1"
      },
      "outputs": [
        {
          "name": "stdout",
          "output_type": "stream",
          "text": [
            "['apple', 'cherry']\n"
          ]
        }
      ],
      "source": [
        "fruits=[\"apple\",\"banana\",\"cherry\"]\n",
        "fruits.pop(1)\n",
        "print(fruits)"
      ]
    },
    {
      "cell_type": "markdown",
      "metadata": {
        "id": "j8dSq2gj55A5"
      },
      "source": [
        "Pop fuctn"
      ]
    },
    {
      "cell_type": "code",
      "execution_count": null,
      "metadata": {
        "colab": {
          "base_uri": "https://localhost:8080/"
        },
        "id": "3x6-4Saaxliw",
        "outputId": "cecdc0b9-7b5d-4965-ec78-568e29f618d0"
      },
      "outputs": [
        {
          "name": "stdout",
          "output_type": "stream",
          "text": [
            "['apple', 'banana']\n"
          ]
        }
      ],
      "source": [
        "fruits=[\"apple\",\"banana\",\"cherry\"]\n",
        "fruits.pop() #pop() remove last element\n",
        "print(fruits)"
      ]
    },
    {
      "cell_type": "markdown",
      "metadata": {
        "id": "HQNKs-dx52_y"
      },
      "source": [
        "Delete"
      ]
    },
    {
      "cell_type": "code",
      "execution_count": null,
      "metadata": {
        "colab": {
          "base_uri": "https://localhost:8080/"
        },
        "id": "c4y3Y1TmvMTl",
        "outputId": "a7e1d7ff-af63-4d4e-f7ca-be77373bc0c9"
      },
      "outputs": [
        {
          "name": "stdout",
          "output_type": "stream",
          "text": [
            "['apple', 'chery']\n"
          ]
        }
      ],
      "source": [
        "fruits=[\"apple\",\"banana\",'chery']\n",
        "del fruits[1]\n",
        "print(fruits)"
      ]
    },
    {
      "cell_type": "code",
      "execution_count": null,
      "metadata": {
        "colab": {
          "base_uri": "https://localhost:8080/",
          "height": 165
        },
        "id": "ISuk70D1xsrK",
        "outputId": "79d68d7a-63a3-48f4-d4f6-828d8707e320"
      },
      "outputs": [
        {
          "ename": "NameError",
          "evalue": "name 'ffruits' is not defined",
          "output_type": "error",
          "traceback": [
            "\u001b[0;31m---------------------------------------------------------------------------\u001b[0m",
            "\u001b[0;31mNameError\u001b[0m                                 Traceback (most recent call last)",
            "\u001b[0;32m<ipython-input-74-b47d12e1286e>\u001b[0m in \u001b[0;36m<cell line: 0>\u001b[0;34m()\u001b[0m\n\u001b[1;32m      1\u001b[0m \u001b[0mfruits\u001b[0m\u001b[0;34m=\u001b[0m\u001b[0;34m[\u001b[0m\u001b[0;34m\"apple\"\u001b[0m\u001b[0;34m,\u001b[0m\u001b[0;34m\"banana\"\u001b[0m\u001b[0;34m,\u001b[0m\u001b[0;34m\"cherry\"\u001b[0m\u001b[0;34m]\u001b[0m\u001b[0;34m\u001b[0m\u001b[0;34m\u001b[0m\u001b[0m\n\u001b[0;32m----> 2\u001b[0;31m \u001b[0;32mdel\u001b[0m \u001b[0mffruits\u001b[0m\u001b[0;34m\u001b[0m\u001b[0;34m\u001b[0m\u001b[0m\n\u001b[0m",
            "\u001b[0;31mNameError\u001b[0m: name 'ffruits' is not defined"
          ]
        }
      ],
      "source": [
        "fruits=[\"apple\",\"banana\",\"cherry\"]\n",
        "del ffruits"
      ]
    },
    {
      "cell_type": "markdown",
      "metadata": {
        "id": "Hb_gfCYt5uQN"
      },
      "source": [
        "clear"
      ]
    },
    {
      "cell_type": "code",
      "execution_count": null,
      "metadata": {
        "colab": {
          "base_uri": "https://localhost:8080/"
        },
        "id": "nAL3sJEDvkDZ",
        "outputId": "91e19036-cef1-47dc-90ec-a5d35d2f7658"
      },
      "outputs": [
        {
          "name": "stdout",
          "output_type": "stream",
          "text": [
            "[]\n"
          ]
        }
      ],
      "source": [
        "Fruits=[\"apple\",\"banana\",\"cherry\"]\n",
        "Fruits.clear() #clear() empty list\n",
        "print(Fruits)"
      ]
    },
    {
      "cell_type": "markdown",
      "metadata": {
        "id": "vOakRujN5ri6"
      },
      "source": [
        "copy"
      ]
    },
    {
      "cell_type": "code",
      "execution_count": null,
      "metadata": {
        "colab": {
          "base_uri": "https://localhost:8080/"
        },
        "id": "PDiLVAWpv_Qf",
        "outputId": "8db7dab8-a7fe-4a1c-d3d4-55dd6fabf400"
      },
      "outputs": [
        {
          "name": "stdout",
          "output_type": "stream",
          "text": [
            "['apple', 'banana', 'cherry']\n"
          ]
        }
      ],
      "source": [
        "Fruits=[\"apple\",\"banana\",\"cherry\"]\n",
        "myfruits=Fruits.copy()\n",
        "print(myfruits)"
      ]
    },
    {
      "cell_type": "markdown",
      "metadata": {
        "id": "S9bm7pih4-nO"
      },
      "source": [
        "Tuple"
      ]
    },
    {
      "cell_type": "code",
      "execution_count": null,
      "metadata": {
        "colab": {
          "base_uri": "https://localhost:8080/"
        },
        "id": "vAx2pfav70Fx",
        "outputId": "408f41cc-41d8-4aa8-a0f9-c03f37ccfbd1"
      },
      "outputs": [
        {
          "name": "stdout",
          "output_type": "stream",
          "text": [
            "('apple', 'ornage', 'kiwi')\n"
          ]
        }
      ],
      "source": [
        "fruits=(\"apple\",\"ornage\",\"kiwi\")\n",
        "print(fruits)"
      ]
    },
    {
      "cell_type": "code",
      "execution_count": null,
      "metadata": {
        "colab": {
          "base_uri": "https://localhost:8080/"
        },
        "id": "9P_XAFkI8o6q",
        "outputId": "2a1e7477-4b40-4037-8b83-a994eb659203"
      },
      "outputs": [
        {
          "name": "stdout",
          "output_type": "stream",
          "text": [
            "('apple', 'orange', 'kiwi')\n",
            "3\n"
          ]
        }
      ],
      "source": [
        "fruits=(\"apple\",\"orange\",\"kiwi\")\n",
        "print(fruits)\n",
        "print(len(fruits))"
      ]
    },
    {
      "cell_type": "code",
      "execution_count": null,
      "metadata": {
        "id": "ThmwITQv8-jD"
      },
      "outputs": [],
      "source": [
        "Vareity=(\"abc\",34,True,40,\"male\")\n"
      ]
    },
    {
      "cell_type": "code",
      "execution_count": null,
      "metadata": {
        "colab": {
          "base_uri": "https://localhost:8080/"
        },
        "id": "S7APwxMf9YqL",
        "outputId": "5d8a11ee-7759-421b-b711-240186ac2489"
      },
      "outputs": [
        {
          "name": "stdout",
          "output_type": "stream",
          "text": [
            "<class 'tuple'>\n"
          ]
        }
      ],
      "source": [
        "fruits=(\"apple\",\"ornage\",\"kiwi\")\n",
        "print(type(fruits))"
      ]
    },
    {
      "cell_type": "code",
      "execution_count": null,
      "metadata": {
        "colab": {
          "base_uri": "https://localhost:8080/"
        },
        "id": "98-SKNQK9mSg",
        "outputId": "30ec9812-7154-485a-8fdb-54f33a5ec5c7"
      },
      "outputs": [
        {
          "name": "stdout",
          "output_type": "stream",
          "text": [
            "banana\n"
          ]
        }
      ],
      "source": [
        "Fruits=(\"apple\",\"banana\",\"cherry\")\n",
        "print(Fruits[1])"
      ]
    },
    {
      "cell_type": "code",
      "execution_count": null,
      "metadata": {
        "colab": {
          "base_uri": "https://localhost:8080/"
        },
        "id": "-uBawho792gQ",
        "outputId": "4d7d2683-cedc-4d33-edf9-b0a599c22490"
      },
      "outputs": [
        {
          "name": "stdout",
          "output_type": "stream",
          "text": [
            "orange\n"
          ]
        }
      ],
      "source": [
        "fruits=(\"apple\",\"bnana\",\"orange\")\n",
        "print(fruits[-1])"
      ]
    },
    {
      "cell_type": "code",
      "execution_count": null,
      "metadata": {
        "colab": {
          "base_uri": "https://localhost:8080/"
        },
        "id": "GrLdzDE9-dH-",
        "outputId": "b074214b-6ac8-4478-807e-e8a37d254e54"
      },
      "outputs": [
        {
          "name": "stdout",
          "output_type": "stream",
          "text": [
            "('cherry', 'orange', 'kiwi', 'melon')\n"
          ]
        }
      ],
      "source": [
        "fruits=(\"apple\",\"banana\",\"cherry\",\"orange\",\"kiwi\",\"melon\")\n",
        "print(fruits[2:])"
      ]
    },
    {
      "cell_type": "code",
      "execution_count": null,
      "metadata": {
        "colab": {
          "base_uri": "https://localhost:8080/",
          "height": 165
        },
        "id": "X2iByKeB_6hP",
        "outputId": "32ef5223-e1a5-4bdd-a271-76eed12768f3"
      },
      "outputs": [
        {
          "ename": "TypeError",
          "evalue": "'tuple' object does not support item assignment",
          "output_type": "error",
          "traceback": [
            "\u001b[0;31m---------------------------------------------------------------------------\u001b[0m",
            "\u001b[0;31mTypeError\u001b[0m                                 Traceback (most recent call last)",
            "\u001b[0;32m<ipython-input-88-c15902bc6b03>\u001b[0m in \u001b[0;36m<cell line: 0>\u001b[0;34m()\u001b[0m\n\u001b[1;32m      1\u001b[0m \u001b[0mx\u001b[0m\u001b[0;34m=\u001b[0m\u001b[0;34m(\u001b[0m\u001b[0;34m\"apple\"\u001b[0m\u001b[0;34m,\u001b[0m\u001b[0;34m\"banana\"\u001b[0m\u001b[0;34m,\u001b[0m\u001b[0;34m\"cherry\"\u001b[0m\u001b[0;34m)\u001b[0m\u001b[0;34m\u001b[0m\u001b[0;34m\u001b[0m\u001b[0m\n\u001b[0;32m----> 2\u001b[0;31m \u001b[0mx\u001b[0m\u001b[0;34m[\u001b[0m\u001b[0;36m0\u001b[0m\u001b[0;34m]\u001b[0m\u001b[0;34m=\u001b[0m\u001b[0;34m\"banana\"\u001b[0m\u001b[0;34m\u001b[0m\u001b[0;34m\u001b[0m\u001b[0m\n\u001b[0m",
            "\u001b[0;31mTypeError\u001b[0m: 'tuple' object does not support item assignment"
          ]
        }
      ],
      "source": [
        "x=(\"apple\",\"banana\",\"cherry\")\n",
        "x[0]=\"banana\""
      ]
    },
    {
      "cell_type": "code",
      "execution_count": null,
      "metadata": {
        "colab": {
          "base_uri": "https://localhost:8080/"
        },
        "id": "bzfdD8lB-62M",
        "outputId": "275c07bc-31de-488b-e165-5ddaa2bfa88c"
      },
      "outputs": [
        {
          "name": "stdout",
          "output_type": "stream",
          "text": [
            "('apple', 'watermelon', 'cherry')\n"
          ]
        }
      ],
      "source": [
        "x=(\"apple\",\"banana\",\"cherry\")\n",
        "y=list(x)\n",
        "y[1]=\"watermelon\"\n",
        "x=tuple(y)\n",
        "print(x)"
      ]
    },
    {
      "cell_type": "code",
      "execution_count": null,
      "metadata": {
        "colab": {
          "base_uri": "https://localhost:8080/"
        },
        "id": "nRm4ud7vEU14",
        "outputId": "f71e67fb-7c1f-41a7-8b45-3f848d22117b"
      },
      "outputs": [
        {
          "name": "stdout",
          "output_type": "stream",
          "text": [
            "apple\n",
            "banana\n",
            "cherry\n"
          ]
        }
      ],
      "source": [
        "fruits=(\"apple\",\"banana\",\"cherry\")\n",
        "(green,red,yellow)=fruits\n",
        "print(green)\n",
        "print(red)\n",
        "print(yellow)"
      ]
    },
    {
      "cell_type": "markdown",
      "metadata": {
        "id": "k_9PMXvQoVKM"
      },
      "source": [
        "SET"
      ]
    },
    {
      "cell_type": "code",
      "execution_count": null,
      "metadata": {
        "colab": {
          "base_uri": "https://localhost:8080/"
        },
        "id": "l3S0sILQmYlK",
        "outputId": "85034092-d548-452a-c1ea-707a8cee248b"
      },
      "outputs": [
        {
          "name": "stdout",
          "output_type": "stream",
          "text": [
            "{'banana', 'cherry', 'apple'}\n"
          ]
        }
      ],
      "source": [
        "fruits={\"apple\",\"banana\",\"cherry\"}\n",
        "print(fruits)"
      ]
    },
    {
      "cell_type": "markdown",
      "metadata": {
        "id": "HJt8ZIsXoTfV"
      },
      "source": [
        "For Loop"
      ]
    },
    {
      "cell_type": "code",
      "execution_count": null,
      "metadata": {
        "colab": {
          "base_uri": "https://localhost:8080/"
        },
        "id": "LK2iT4o5mu7O",
        "outputId": "97c6fe86-1e68-4023-df02-5a7aea6b5173"
      },
      "outputs": [
        {
          "name": "stdout",
          "output_type": "stream",
          "text": [
            "banana\n",
            "cherry\n",
            "apple\n"
          ]
        }
      ],
      "source": [
        "Fruits={\"apple\",\"banana\",\"cherry\"}\n",
        "for x in fruits:\n",
        "  print(x)"
      ]
    },
    {
      "cell_type": "markdown",
      "metadata": {
        "id": "4VEwK5pOoRCM"
      },
      "source": [
        "add function"
      ]
    },
    {
      "cell_type": "code",
      "execution_count": null,
      "metadata": {
        "colab": {
          "base_uri": "https://localhost:8080/"
        },
        "id": "2XoSrdwbnA1L",
        "outputId": "32bc77fd-229f-4c9e-be3c-f6c541a715a1"
      },
      "outputs": [
        {
          "name": "stdout",
          "output_type": "stream",
          "text": [
            "{'chery', 'banana', 'orange', 'apple'}\n"
          ]
        }
      ],
      "source": [
        "fruits={\"apple\",\"banana\",\"chery\"}\n",
        "fruits.add(\"orange\")\n",
        "print(fruits)"
      ]
    },
    {
      "cell_type": "markdown",
      "metadata": {
        "id": "BweS2XyMoM0r"
      },
      "source": [
        "Update function"
      ]
    },
    {
      "cell_type": "code",
      "execution_count": null,
      "metadata": {
        "colab": {
          "base_uri": "https://localhost:8080/"
        },
        "id": "c228GkIOnj2F",
        "outputId": "5289070c-6306-452c-823e-13391dfa8871"
      },
      "outputs": [
        {
          "name": "stdout",
          "output_type": "stream",
          "text": [
            "{'orange', 'banana', 'kiwi', 'apple', 'cherry'}\n"
          ]
        }
      ],
      "source": [
        "fruits={\"apple\",\"banana\",\"cherry\"}\n",
        "mylist=[\"kiwi\",\"orange\"]\n",
        "fruits.update(mylist)\n",
        "print(fruits)"
      ]
    },
    {
      "cell_type": "markdown",
      "metadata": {
        "id": "Yp5FVfYyoMPp"
      },
      "source": [
        "Remove f , Discard f"
      ]
    },
    {
      "cell_type": "code",
      "execution_count": null,
      "metadata": {
        "colab": {
          "base_uri": "https://localhost:8080/"
        },
        "id": "z9mIY_4XoKPi",
        "outputId": "d82e9e39-df45-4d4e-9eb4-a013b6bbfb63"
      },
      "outputs": [
        {
          "name": "stdout",
          "output_type": "stream",
          "text": [
            "{'cherry', 'apple'}\n"
          ]
        }
      ],
      "source": [
        "fruits={\"apple\",\"banana\",\"cherry\"}\n",
        "fruits.remove(\"banana\")\n",
        "print(fruits)"
      ]
    },
    {
      "cell_type": "code",
      "execution_count": null,
      "metadata": {
        "colab": {
          "base_uri": "https://localhost:8080/"
        },
        "id": "cO4Qb0Z1pAL8",
        "outputId": "2f8a767a-f450-4d60-9f3a-1189fe367c24"
      },
      "outputs": [
        {
          "name": "stdout",
          "output_type": "stream",
          "text": [
            "{'chery', 'apple'}\n"
          ]
        }
      ],
      "source": [
        "fruits={\"apple\",\"banana\",\"chery\"}\n",
        "fruits.discard(\"banana\")\n",
        "print(fruits)"
      ]
    },
    {
      "cell_type": "code",
      "execution_count": null,
      "metadata": {
        "colab": {
          "base_uri": "https://localhost:8080/"
        },
        "id": "qYWfXip5petC",
        "outputId": "f9590953-c24a-484f-b2b4-669bf41c1e3f"
      },
      "outputs": [
        {
          "name": "stdout",
          "output_type": "stream",
          "text": [
            "set()\n"
          ]
        }
      ],
      "source": [
        "fruits={\"apple\",\"banana\",\"cherry\"}\n",
        "fruits.clear()\n",
        "print(fruits)"
      ]
    },
    {
      "cell_type": "code",
      "execution_count": null,
      "metadata": {
        "colab": {
          "base_uri": "https://localhost:8080/",
          "height": 183
        },
        "id": "5YGYR2hTp5OS",
        "outputId": "26dd1a01-94d4-4ed6-d606-b509499b7367"
      },
      "outputs": [
        {
          "ename": "NameError",
          "evalue": "name 'fruits' is not defined",
          "output_type": "error",
          "traceback": [
            "\u001b[0;31m---------------------------------------------------------------------------\u001b[0m",
            "\u001b[0;31mNameError\u001b[0m                                 Traceback (most recent call last)",
            "\u001b[0;32m<ipython-input-20-a6bc86ea6119>\u001b[0m in \u001b[0;36m<cell line: 0>\u001b[0;34m()\u001b[0m\n\u001b[1;32m      1\u001b[0m \u001b[0mfruits\u001b[0m\u001b[0;34m=\u001b[0m\u001b[0;34m{\u001b[0m\u001b[0;34m\"apple\"\u001b[0m\u001b[0;34m,\u001b[0m\u001b[0;34m\"banana\"\u001b[0m\u001b[0;34m,\u001b[0m\u001b[0;34m\"cherry\"\u001b[0m\u001b[0;34m}\u001b[0m\u001b[0;34m\u001b[0m\u001b[0;34m\u001b[0m\u001b[0m\n\u001b[1;32m      2\u001b[0m \u001b[0;32mdel\u001b[0m \u001b[0mfruits\u001b[0m\u001b[0;34m\u001b[0m\u001b[0;34m\u001b[0m\u001b[0m\n\u001b[0;32m----> 3\u001b[0;31m \u001b[0mprint\u001b[0m\u001b[0;34m(\u001b[0m\u001b[0mfruits\u001b[0m\u001b[0;34m)\u001b[0m\u001b[0;34m\u001b[0m\u001b[0;34m\u001b[0m\u001b[0m\n\u001b[0m",
            "\u001b[0;31mNameError\u001b[0m: name 'fruits' is not defined"
          ]
        }
      ],
      "source": [
        "fruits={\"apple\",\"banana\",\"cherry\"}\n",
        "del fruits\n",
        "print(fruits)"
      ]
    },
    {
      "cell_type": "code",
      "execution_count": null,
      "metadata": {
        "colab": {
          "base_uri": "https://localhost:8080/"
        },
        "id": "oLcPqSCvqOj8",
        "outputId": "33d8fe37-e577-41b6-e4ba-f77eb42b82eb"
      },
      "outputs": [
        {
          "name": "stdout",
          "output_type": "stream",
          "text": [
            "banana\n",
            "{'cherry', 'apple'}\n"
          ]
        }
      ],
      "source": [
        "fruits={\"apple\",\"banana\",\"cherry\"}\n",
        "x=fruits.pop()\n",
        "print(x)\n",
        "print(fruits)"
      ]
    },
    {
      "cell_type": "code",
      "execution_count": null,
      "metadata": {
        "colab": {
          "base_uri": "https://localhost:8080/"
        },
        "id": "0Ea_2Ez6viXw",
        "outputId": "ff1bf191-9973-4b3d-8abc-c63465b7b947"
      },
      "outputs": [
        {
          "name": "stdout",
          "output_type": "stream",
          "text": [
            "{1, 2, 3}\n"
          ]
        }
      ],
      "source": [
        "set2={1,2,3,3} #remove duplicate values\n",
        "print(set2)"
      ]
    },
    {
      "cell_type": "code",
      "execution_count": null,
      "metadata": {
        "colab": {
          "base_uri": "https://localhost:8080/"
        },
        "id": "kx4M4NjUqmNP",
        "outputId": "d82a79a1-d8b4-4abe-d248-323392512bf9"
      },
      "outputs": [
        {
          "name": "stdout",
          "output_type": "stream",
          "text": [
            "{1, 2, 3, 6, 7, 8}\n"
          ]
        }
      ],
      "source": [
        "set1={6,7,8,3}\n",
        "set2={1,2,3,3}\n",
        "set3=set1.union(set2)\n",
        "print(set3)"
      ]
    },
    {
      "cell_type": "code",
      "execution_count": null,
      "metadata": {
        "colab": {
          "base_uri": "https://localhost:8080/"
        },
        "id": "nP4fRGw4rCLP",
        "outputId": "d84aa5ed-dcfd-45f0-bb74-48480df0179b"
      },
      "outputs": [
        {
          "name": "stdout",
          "output_type": "stream",
          "text": [
            "{'a', 'b', 1, 2, 3, 'c'}\n"
          ]
        }
      ],
      "source": [
        "set1={\"a\",\"b\",\"c\"}\n",
        "set2={1,2,3}\n",
        "set1.update(set2)\n",
        "print(set1)"
      ]
    },
    {
      "cell_type": "markdown",
      "metadata": {
        "id": "ffKLtdvUwZP0"
      },
      "source": [
        "intersection funct"
      ]
    },
    {
      "cell_type": "code",
      "execution_count": null,
      "metadata": {
        "colab": {
          "base_uri": "https://localhost:8080/"
        },
        "id": "hlCaOC6Gv0kA",
        "outputId": "37c832ad-f023-41e3-ddab-c6cf77ec09e2"
      },
      "outputs": [
        {
          "name": "stdout",
          "output_type": "stream",
          "text": [
            "{'apple'}\n"
          ]
        }
      ],
      "source": [
        "x={\"apple\",\"banana\",\"cherry\"}\n",
        "y={\"google\",\"microsoft\",\"apple\"}\n",
        "x.intersection_update(y)\n",
        "print(x)"
      ]
    },
    {
      "cell_type": "code",
      "execution_count": null,
      "metadata": {
        "colab": {
          "base_uri": "https://localhost:8080/"
        },
        "id": "uFBFLgQsxCpj",
        "outputId": "cdf27631-67f2-4d9e-82fa-dd54d306e1ec"
      },
      "outputs": [
        {
          "name": "stdout",
          "output_type": "stream",
          "text": [
            "{'apple'}\n"
          ]
        }
      ],
      "source": [
        "x={\"apple\",\"banana\",\"cherry\"}\n",
        "y={\"google\",\"microsoft\",\"apple\"}\n",
        "z=x.intersection(y)\n",
        "print(z)"
      ]
    },
    {
      "cell_type": "code",
      "execution_count": null,
      "metadata": {
        "colab": {
          "base_uri": "https://localhost:8080/"
        },
        "id": "IElyvQ1axwZo",
        "outputId": "5a0249ed-0ea2-492e-825a-99f6033ceb39"
      },
      "outputs": [
        {
          "name": "stdout",
          "output_type": "stream",
          "text": [
            "{'microsoft', 'banana', 'cherry', 'google'}\n"
          ]
        }
      ],
      "source": [
        "x={\"apple\",\"banana\",\"cherry\"}\n",
        "y={\"google\",\"microsoft\",\"apple\"}\n",
        "x.symmetric_difference_update(y)\n",
        "print(x)"
      ]
    },
    {
      "cell_type": "code",
      "execution_count": null,
      "metadata": {
        "colab": {
          "base_uri": "https://localhost:8080/"
        },
        "id": "j_Mvbrx1ySwx",
        "outputId": "adb15bb8-f62e-41a8-8bc1-63dafc499fc4"
      },
      "outputs": [
        {
          "name": "stdout",
          "output_type": "stream",
          "text": [
            "{'microsoft', 'banana', 'cherry', 'google'}\n"
          ]
        }
      ],
      "source": [
        "x={\"apple\",\"banana\",\"cherry\"}\n",
        "y={\"google\",\"microsoft\",\"apple\"}\n",
        "z=x.symmetric_difference(y)\n",
        "print(z)"
      ]
    },
    {
      "cell_type": "code",
      "execution_count": null,
      "metadata": {
        "colab": {
          "base_uri": "https://localhost:8080/"
        },
        "id": "xdLjfHTey4ZY",
        "outputId": "eebf100d-3ee3-4eb4-c5fd-7a2edbe85e79"
      },
      "outputs": [
        {
          "name": "stdout",
          "output_type": "stream",
          "text": [
            "frozenset object is :  frozenset({1, 2, 3, 4, 5, 6, 7, 8, 9})\n"
          ]
        }
      ],
      "source": [
        "nu=(1,2,3,4,5,6,7,8,9)\n",
        "fnum=frozenset(nu)\n",
        "print(\"frozenset object is : \",fnum)"
      ]
    },
    {
      "cell_type": "markdown",
      "metadata": {
        "id": "o6XwtQuY7lTD"
      },
      "source": [
        "Dictionary"
      ]
    },
    {
      "cell_type": "code",
      "execution_count": null,
      "metadata": {
        "colab": {
          "base_uri": "https://localhost:8080/"
        },
        "id": "nGQuq6k938UA",
        "outputId": "690add90-edbd-4c68-b5e1-40db0420e91f"
      },
      "outputs": [
        {
          "name": "stdout",
          "output_type": "stream",
          "text": [
            "{'brand': 'BMW', 'model': '2nd series', 'year': '2004'}\n"
          ]
        }
      ],
      "source": [
        "cars = {\n",
        "      \"brand\": \"BMW\",\n",
        "       \"model\":\"2nd series\",\n",
        "       \"year\" :2004\n",
        "       }\n",
        "\n",
        "print(cars)"
      ]
    },
    {
      "cell_type": "code",
      "execution_count": null,
      "metadata": {
        "colab": {
          "base_uri": "https://localhost:8080/"
        },
        "id": "kxc-Sa_Y6GMv",
        "outputId": "73f7e322-d427-4e90-ba28-a99a4e05bf04"
      },
      "outputs": [
        {
          "name": "stdout",
          "output_type": "stream",
          "text": [
            "2nd series\n"
          ]
        }
      ],
      "source": [
        "x=cars.get(\"model\")\n",
        "print(x)"
      ]
    },
    {
      "cell_type": "code",
      "execution_count": null,
      "metadata": {
        "colab": {
          "base_uri": "https://localhost:8080/"
        },
        "id": "9tlzymq17dU6",
        "outputId": "30409dcc-b446-44e5-80ae-59b25bda2f92"
      },
      "outputs": [
        {
          "name": "stdout",
          "output_type": "stream",
          "text": [
            "dict_keys(['brand', 'model', 'year'])\n"
          ]
        }
      ],
      "source": [
        "cars={\n",
        "    \"brand\":\"BMW\",\n",
        "    \"model\":\"2nd series\",\n",
        "    \"year\":\"2004\"\n",
        "}\n",
        "x= cars.keys()\n",
        "print(x)"
      ]
    },
    {
      "cell_type": "code",
      "execution_count": null,
      "metadata": {
        "colab": {
          "base_uri": "https://localhost:8080/"
        },
        "id": "hIFmBfB_8g95",
        "outputId": "45e034a8-70d9-4d60-cce1-d909b4026386"
      },
      "outputs": [
        {
          "name": "stdout",
          "output_type": "stream",
          "text": [
            "dict_values(['BMW', '2nd series', '2004'])\n"
          ]
        }
      ],
      "source": [
        "cars={\n",
        "    \"brand\":\"BMW\",\n",
        "    \"model\":\"2nd series\",\n",
        "    \"year\":\"2004\"\n",
        "}\n",
        "x=cars.values()\n",
        "print(x)"
      ]
    },
    {
      "cell_type": "code",
      "execution_count": null,
      "metadata": {
        "colab": {
          "base_uri": "https://localhost:8080/"
        },
        "id": "tgdVaqEO-IjT",
        "outputId": "a52cacaa-9a87-488f-f068-7db4f2f2415e"
      },
      "outputs": [
        {
          "name": "stdout",
          "output_type": "stream",
          "text": [
            "dict_values(['Ford', 'mustang', 1965])\n",
            "dict_values(['Ford', 'mustang', 2020])\n"
          ]
        }
      ],
      "source": [
        "car={\n",
        "    \"Brand\":\"Ford\",\n",
        "    \"model\":\"mustang\",\n",
        "    \"year\":1965\n",
        "}\n",
        "x=car.values()\n",
        "print(x)\n",
        "car[\"year\"]=2020\n",
        "print(x)\n"
      ]
    },
    {
      "cell_type": "code",
      "execution_count": null,
      "metadata": {
        "colab": {
          "base_uri": "https://localhost:8080/"
        },
        "id": "Z8rsXJex-y7f",
        "outputId": "1e876788-6a1b-4dea-f34c-d71ae5c94be5"
      },
      "outputs": [
        {
          "name": "stdout",
          "output_type": "stream",
          "text": [
            "dict_values(['ford', 'mustang', 1964])\n",
            "dict_values(['ford', 'mustang', 1964, 'red'])\n"
          ]
        }
      ],
      "source": [
        "car={\n",
        "    \"brand\":\"ford\",\n",
        "    \"model\":\"mustang\",\n",
        "    \"year\":1964\n",
        "}\n",
        "x=car.values()\n",
        "print(x)\n",
        "car[\"color\"]=\"red\"\n",
        "print(x)\n"
      ]
    },
    {
      "cell_type": "code",
      "execution_count": null,
      "metadata": {
        "colab": {
          "base_uri": "https://localhost:8080/"
        },
        "id": "XWWIBgrm_bxl",
        "outputId": "f41c1943-4c4c-4a32-ada3-5a02c3f0f206"
      },
      "outputs": [
        {
          "name": "stdout",
          "output_type": "stream",
          "text": [
            "dict_items([('brand', 'ford'), ('model', 'mustang'), ('year', 1964)])\n"
          ]
        }
      ],
      "source": [
        "car={\"brand\":\"ford\",\n",
        "     \"model\":\"mustang\",\n",
        "     \"year\":1964}\n",
        "\n",
        "x=car.items()\n",
        "print(x)"
      ]
    },
    {
      "cell_type": "code",
      "execution_count": null,
      "metadata": {
        "colab": {
          "base_uri": "https://localhost:8080/"
        },
        "id": "3liL_VDn_9us",
        "outputId": "5eab0393-8b2a-4ab5-a22e-5e5a7fa2470c"
      },
      "outputs": [
        {
          "name": "stdout",
          "output_type": "stream",
          "text": [
            "{'brand': 'ford', 'model': 'mustang', 'year': 2020}\n"
          ]
        }
      ],
      "source": [
        "car={\"brand\":\"ford\",\n",
        "     \"model\":\"mustang\",\n",
        "     \"year\":1964}\n",
        "car[\"year\"]=2020\n",
        "print(car)"
      ]
    },
    {
      "cell_type": "code",
      "execution_count": null,
      "metadata": {
        "colab": {
          "base_uri": "https://localhost:8080/"
        },
        "id": "GAP26NIqAlPD",
        "outputId": "f2c224a6-0889-4fab-93b5-7ac801b1cfab"
      },
      "outputs": [
        {
          "name": "stdout",
          "output_type": "stream",
          "text": [
            "{'brand': 'ford', 'model': 'mustang', 'year': 2020}\n"
          ]
        }
      ],
      "source": [
        "cars={\"brand\":\"ford\",\n",
        "      \"model\":\"mustang\",\n",
        "      \"year\":1964}\n",
        "cars.update({\"year\":2020})\n",
        "print(cars)"
      ]
    },
    {
      "cell_type": "code",
      "execution_count": null,
      "metadata": {
        "colab": {
          "base_uri": "https://localhost:8080/"
        },
        "id": "1cr2VCVXBQiV",
        "outputId": "9f1eaf40-badf-4eb4-ceee-123ade1b2197"
      },
      "outputs": [
        {
          "name": "stdout",
          "output_type": "stream",
          "text": [
            "{'brand': 'ford', 'model': 'mustang'}\n"
          ]
        }
      ],
      "source": [
        "car={\"brand\":\"ford\",\n",
        "     \"model\":\"mustang\",\n",
        "     \"year\":1964}\n",
        "car.pop('year')\n",
        "print(car)"
      ]
    },
    {
      "cell_type": "code",
      "execution_count": null,
      "metadata": {
        "colab": {
          "base_uri": "https://localhost:8080/"
        },
        "id": "in5iwiDBCgJB",
        "outputId": "5ef204c2-2971-4b1c-8d23-e6542df4593e"
      },
      "outputs": [
        {
          "name": "stdout",
          "output_type": "stream",
          "text": [
            "{'brand': 'ford', 'model': 'mustang'}\n"
          ]
        }
      ],
      "source": [
        "cars={\"brand\":\"ford\",\n",
        "     \"model\":\"mustang\",\n",
        "     \"year\":1964}\n",
        "cars.popitem()\n",
        "print(cars)"
      ]
    },
    {
      "cell_type": "code",
      "execution_count": null,
      "metadata": {
        "colab": {
          "base_uri": "https://localhost:8080/"
        },
        "id": "ErGRY5q_C9Ib",
        "outputId": "834c445c-fdab-4d6e-ec6c-179480cd1168"
      },
      "outputs": [
        {
          "name": "stdout",
          "output_type": "stream",
          "text": [
            "{'brand': 'ford', 'year': 1964}\n"
          ]
        }
      ],
      "source": [
        "cars={\"brand\":\"ford\",\n",
        "      \"model\":\"mustang\",\n",
        "      \"year\":1964}\n",
        "del cars[\"model\"]\n",
        "print(cars)"
      ]
    },
    {
      "cell_type": "code",
      "execution_count": null,
      "metadata": {
        "colab": {
          "base_uri": "https://localhost:8080/"
        },
        "id": "DiK3LnekDbyv",
        "outputId": "fb79279e-8e3e-4e98-9d34-61340431acfa"
      },
      "outputs": [
        {
          "name": "stdout",
          "output_type": "stream",
          "text": [
            "{}\n"
          ]
        }
      ],
      "source": [
        "cars={\"brand\":\"ford\",\n",
        "     \"model\":\"mustang\",\n",
        "     \"year\":1964}\n",
        "cars.clear()\n",
        "print(cars)"
      ]
    },
    {
      "cell_type": "code",
      "execution_count": null,
      "metadata": {
        "colab": {
          "base_uri": "https://localhost:8080/"
        },
        "id": "KbxdnZPTD7P8",
        "outputId": "067c2259-f439-4b74-cebc-eff757da033e"
      },
      "outputs": [
        {
          "name": "stdout",
          "output_type": "stream",
          "text": [
            "{'brand': 'ford', 'model': 'mustang', 'year': 1964}\n"
          ]
        }
      ],
      "source": [
        "thisdict={\"brand\":\"ford\",\n",
        "          \"model\":\"mustang\",\n",
        "          \"year\":1964}\n",
        "mydict=thisdict.copy()\n",
        "print(mydict)"
      ]
    },
    {
      "cell_type": "code",
      "execution_count": null,
      "metadata": {
        "colab": {
          "base_uri": "https://localhost:8080/"
        },
        "id": "lVQBTdLMEd1E",
        "outputId": "34e8a1b7-440a-491e-ffb5-7090a8f1cbd0"
      },
      "outputs": [
        {
          "name": "stdout",
          "output_type": "stream",
          "text": [
            "{'brand': 'ford', 'model': 'mustang', 'year': 1964}\n"
          ]
        }
      ],
      "source": [
        "thisdict={\"brand\":\"ford\",\n",
        "          \"model\":\"mustang\",\n",
        "          \"year\":1964}\n",
        "mydict=dict(thisdict)\n",
        "print(mydict)"
      ]
    },
    {
      "cell_type": "markdown",
      "metadata": {
        "id": "iLnxkQyQWIy8"
      },
      "source": [
        "Nested dictionary"
      ]
    },
    {
      "cell_type": "code",
      "execution_count": null,
      "metadata": {
        "colab": {
          "base_uri": "https://localhost:8080/"
        },
        "id": "QFA_y3ytFCSp",
        "outputId": "7c943315-701e-4ae1-d23a-cb903cd037b5"
      },
      "outputs": [
        {
          "name": "stdout",
          "output_type": "stream",
          "text": [
            "{'child1': {'name': 'arun', 'year': 2002}, 'child2': {'name': 'vignesh', 'year': '2001'}, 'child3': {'name': 'arya', 'year': '2018'}}\n"
          ]
        }
      ],
      "source": [
        "friends={\n",
        "    \"child1\":{\n",
        "        \"name\":\"arun\",\n",
        "        \"year\":2002\n",
        "         },\n",
        "    \"child2\":{\n",
        "        \"name\":\"vignesh\",\n",
        "        \"year\":\"2001\"\n",
        "        },\n",
        "    \"child3\":{\n",
        "        \"name\":\"arya\",\n",
        "        \"year\":\"2018\"\n",
        "        }\n",
        "    }\n",
        "print(friends)"
      ]
    },
    {
      "cell_type": "code",
      "execution_count": null,
      "metadata": {
        "colab": {
          "base_uri": "https://localhost:8080/"
        },
        "id": "qGS-GPDxJgGC",
        "outputId": "6558f896-c315-4410-cdeb-77b6c4132609"
      },
      "outputs": [
        {
          "name": "stdout",
          "output_type": "stream",
          "text": [
            "{'player1': {'name': 'C Ronaldo', 'club': 'al nassr'}, 'player2': {'name': 'kylian Mbappe', 'club': 'real madrid'}, 'player3': {'name': 'haaland', 'club': 'manchester city'}}\n"
          ]
        }
      ],
      "source": [
        "football={\n",
        "        \"player1\":{\n",
        "            \"name\":\"C Ronaldo\",\n",
        "            \"club\":\"al nassr\"\n",
        "        },\n",
        "        \"player2\":{\n",
        "            \"name\":\"kylian Mbappe\",\n",
        "            \"club\":\"real madrid\"\n",
        "        },\n",
        "        \"player3\":{\n",
        "            \"name\":\"haaland\",\n",
        "            \"club\":\"manchester city\"\n",
        "        }\n",
        "}\n",
        "print(football)"
      ]
    },
    {
      "cell_type": "code",
      "execution_count": null,
      "metadata": {
        "colab": {
          "base_uri": "https://localhost:8080/"
        },
        "id": "E2A1BQE7Rf7e",
        "outputId": "b379537e-6567-4826-f574-0419ae8cdefd"
      },
      "outputs": [
        {
          "name": "stdout",
          "output_type": "stream",
          "text": [
            "{'car1': {'name': 'toyota', 'country': 'japan'}, 'car2': {'name': 'hyundai', 'country': 'south korea'}, 'car3': {'name': 'ford', 'country': 'US'}}\n"
          ]
        }
      ],
      "source": [
        "cars={\n",
        "    \"car1\":{\n",
        "        \"name\":\"toyota\",\n",
        "        \"country\":\"japan\"\n",
        "    },\n",
        "    \"car2\":{\n",
        "        \"name\":\"hyundai\",\n",
        "        \"country\":\"south korea\"\n",
        "    },\n",
        "    \"car3\":{\n",
        "        \"name\":\"ford\",\n",
        "        \"country\":\"US\"\n",
        "    }\n",
        "}\n",
        "print(cars)"
      ]
    },
    {
      "cell_type": "markdown",
      "metadata": {
        "id": "U8RUvMFZeP6J"
      },
      "source": [
        "## questions"
      ]
    },
    {
      "cell_type": "markdown",
      "metadata": {
        "id": "SXHu6b3QeS_K"
      },
      "source": [
        "1.Write a program that removes whitespace from the following strings, then print out the strings with the\n",
        "whitespace removed:\n",
        "\n",
        "string1 = \" Filet Mignon\"\n",
        "\n",
        "string2 = \"Brisket \"\n",
        "\n",
        "string3 = \" Cheeseburger \"\n",
        "\n",
        "2. Write a program that takes input from the user and displays the input in uppercase.\n",
        "\n",
        "3. Write a program that takes input from the user and displays the number of characters in the input.\n",
        "\n",
        "4. Write a program that uses input() twice to get two numbers from the user, multiplies the numbers together,\n",
        "and displays the result. If the user enters 2 and 4, then your program should print the following text:\n",
        "\n",
        "Output: The product of 2 and 4 is 8.0\n",
        "\n",
        "5. Create a float object named weight with the value 0.2, and create a string object named animal with the value\n",
        "\"newt\". Then use these objects to print the following string using only string concatenation:\n",
        "\n",
        "Output: 0.2 kg is the weight of the newt.\n",
        "\n",
        "6. Display the same string by using .format() and empty {} placeholders.\n",
        "\n",
        "7. Display the same string using an f-string\n",
        "\n",
        "8. How to add values to a python list?\n",
        "\n",
        "9.What will the following code output?\n",
        "\n",
        "Word=’abcdefghij’\n",
        "\n",
        "Word[:3]+word[3:]\n",
        "\n",
        "10. How will you remove a duplicate element from a list?\n",
        "\n",
        "List=[1,2,1,3,4,2]\n",
        "\n",
        "11.Write a Python program to add member(s) in a set.\n",
        "\n",
        "12.Write a Python program to remove an item from a set if it is present in the set\n",
        "\n",
        "13.Write a Python program to create an intersection of sets\n",
        "\n",
        "setx = set([\"green\", \"blue\"])\n",
        "\n",
        "sety = set([\"blue\", \"yellow\"])\n",
        "\n",
        "14.Write a Python program to remove all elements from a given set.()\n",
        "\n",
        "15. Write a Python script to add a key to a dictionary\n",
        "\n",
        "Sample Dictionary : {0: 10, 1: 20}\n",
        "Expected Result : {0: 10, 1: 20, 2: 30}\n",
        "\n",
        "16.Write a Python program to concatenate following dictionaries to create a new one.\n",
        "\n",
        "dic1={1:10, 2:20}\n",
        "\n",
        "dic2={3:30, 4:40}\n",
        "\n",
        "dic3={5:50,6:60}\n",
        "\n",
        "17.Write a Python program to check whether a given key already exists in a dictionary.\n",
        "\n",
        "18.Write a Python program to remove a key from a dictionary\n",
        "\n",
        "19.Write a Python program to combine two dictionary adding values for common keys\n",
        "\n",
        "d1 = {'a': 100, 'b': 200, 'c':300}\n",
        "d2 = {'a': 300, 'b': 200, 'd':400}\n",
        "\n",
        "20.create list using following dictionary\n",
        "\n",
        "d1 = {'a': 100, 'b': 200, 'c':300}\n",
        "d2 = {'a': 600, 'b': 400, 'd':500}\n",
        "\n",
        "expected output:[100,200,300,400,500,600]\n",
        "\n",
        "21.Write a Python program to find no of pairs in dict\n",
        "\n",
        "{'a': 5, 'b': 14, 'c': 32, 'd': 35, 'e': 24, 'f': 100, 'g': 57, 'h': 8, 'i': 100}\n",
        "\n",
        "22.Write a Python program to unpack a tuple in several variables.\n",
        "\n",
        "23.Write a Python program to convert a tuple to a string.\n",
        "\n",
        "tup = ('p', 'y', 't', 'h', 'o', 'n')"
      ]
    },
    {
      "cell_type": "code",
      "execution_count": null,
      "metadata": {
        "colab": {
          "base_uri": "https://localhost:8080/"
        },
        "id": "dcOqGd71eUVq",
        "outputId": "b5d7f8bd-fb34-4033-fc77-15f25d525187"
      },
      "outputs": [
        {
          "name": "stdout",
          "output_type": "stream",
          "text": [
            "filet mignon\n",
            "Brisket\n",
            "cheeseburger\n"
          ]
        }
      ],
      "source": [
        "#1\n",
        "string1=\" filet mignon\"\n",
        "string2=\" Brisket\"\n",
        "string3=\" cheeseburger\"\n",
        "print(string1.strip())\n",
        "print(string2.strip())\n",
        "print(string3.strip())"
      ]
    },
    {
      "cell_type": "code",
      "execution_count": null,
      "metadata": {
        "colab": {
          "base_uri": "https://localhost:8080/"
        },
        "id": "cpReRQDQfkg_",
        "outputId": "e16beca1-5137-456e-9e2d-3c17fb43e4a5"
      },
      "outputs": [
        {
          "name": "stdout",
          "output_type": "stream",
          "text": [
            "FILET MIGNON\n",
            "BRISKET\n",
            "CHEESEBURGER\n"
          ]
        }
      ],
      "source": [
        "#2\n",
        "string1=\"filet mignon\"\n",
        "string2=\"Brisket\"\n",
        "string3=\"cheeseburger\"\n",
        "print(string1.upper())\n",
        "print(string2.upper())\n",
        "print(string3.upper())\n",
        "\n"
      ]
    },
    {
      "cell_type": "code",
      "execution_count": null,
      "metadata": {
        "colab": {
          "base_uri": "https://localhost:8080/"
        },
        "id": "jXF3efsNhPbV",
        "outputId": "1b49fc78-90e9-4b39-dd36-648c23a7282f"
      },
      "outputs": [
        {
          "name": "stdout",
          "output_type": "stream",
          "text": [
            "12\n",
            "7\n",
            "12\n"
          ]
        }
      ],
      "source": [
        "#3\n",
        "string=\"filet mignon\"\n",
        "string2=\"Brisket\"\n",
        "string3=\"cheeseburger\"\n",
        "print(len(string1))\n",
        "print(len(string2))\n",
        "print(len(string3))"
      ]
    },
    {
      "cell_type": "code",
      "execution_count": null,
      "metadata": {
        "colab": {
          "base_uri": "https://localhost:8080/"
        },
        "id": "S_uBDTMhoEb2",
        "outputId": "a405edc3-8df2-4ec5-c4f4-dba72ea32d8d"
      },
      "outputs": [
        {
          "name": "stdout",
          "output_type": "stream",
          "text": [
            "number1: 2\n",
            "number2:4\n",
            "8\n"
          ]
        }
      ],
      "source": [
        "#4\n",
        "a=int(input(\"number1: \"))\n",
        "b=int(input(\"number2:\"))\n",
        "c=a*b\n",
        "print(c)"
      ]
    },
    {
      "cell_type": "code",
      "execution_count": null,
      "metadata": {
        "colab": {
          "base_uri": "https://localhost:8080/"
        },
        "id": "txk4PdwXi4Mh",
        "outputId": "48984953-b737-4477-8b9f-0f3a79c1961f"
      },
      "outputs": [
        {
          "name": "stdout",
          "output_type": "stream",
          "text": [
            "0.2 kg is the weignt of newt\n"
          ]
        }
      ],
      "source": [
        "#5\n",
        "weight=0.2\n",
        "animal=\"newt\"\n",
        "print(weight,\"kg is the weignt of\",animal)"
      ]
    },
    {
      "cell_type": "code",
      "execution_count": null,
      "metadata": {
        "colab": {
          "base_uri": "https://localhost:8080/"
        },
        "id": "toWS6pmWpmNA",
        "outputId": "af3bbf79-5576-48b7-cd26-d1238588ca42"
      },
      "outputs": [
        {
          "name": "stdout",
          "output_type": "stream",
          "text": [
            "yadhu 25\n"
          ]
        }
      ],
      "source": [
        "#7\n",
        "age=25\n",
        "print(f\"yadhu {age}\")"
      ]
    },
    {
      "cell_type": "code",
      "execution_count": null,
      "metadata": {
        "colab": {
          "base_uri": "https://localhost:8080/"
        },
        "id": "p0RjWHNckQm9",
        "outputId": "e35b1531-fb3a-4bce-a7a8-0ef1e9eb91cc"
      },
      "outputs": [
        {
          "name": "stdout",
          "output_type": "stream",
          "text": [
            "whats your age 10\n"
          ]
        }
      ],
      "source": [
        "#6\n",
        "age=10\n",
        "string=\"whats your age {}\"\n",
        "print(string.format(age))\n",
        "\n"
      ]
    },
    {
      "cell_type": "code",
      "execution_count": null,
      "metadata": {
        "colab": {
          "base_uri": "https://localhost:8080/"
        },
        "id": "aa8jmkfqbNN_",
        "outputId": "0cf397b5-c77b-45f7-8949-fa2002f61aab"
      },
      "outputs": [
        {
          "name": "stdout",
          "output_type": "stream",
          "text": [
            "[1, 2, 3, 4, 5, 6]\n"
          ]
        }
      ],
      "source": [
        "#8\n",
        "a=[1,2,3,4,5]\n",
        "a.append(6)\n",
        "print(a)"
      ]
    },
    {
      "cell_type": "code",
      "execution_count": null,
      "metadata": {
        "colab": {
          "base_uri": "https://localhost:8080/",
          "height": 36
        },
        "id": "M11UhjHDsaex",
        "outputId": "df755ef8-34ec-40fb-958d-1a46a67413fc"
      },
      "outputs": [
        {
          "data": {
            "application/vnd.google.colaboratory.intrinsic+json": {
              "type": "string"
            },
            "text/plain": [
              "'abcdefghij'"
            ]
          },
          "execution_count": 63,
          "metadata": {},
          "output_type": "execute_result"
        }
      ],
      "source": [
        "#9\n",
        "word=\"abcdefghij\"\n",
        "word[:3]+word[3:]"
      ]
    },
    {
      "cell_type": "code",
      "execution_count": null,
      "metadata": {
        "colab": {
          "base_uri": "https://localhost:8080/"
        },
        "id": "SXiIe2vToKwg",
        "outputId": "f80aa659-7b91-4ad1-c3f1-e321544b8bb7"
      },
      "outputs": [
        {
          "name": "stdout",
          "output_type": "stream",
          "text": [
            "[1, 2, 3, 4]\n"
          ]
        }
      ],
      "source": [
        "#10\n",
        "a=[1,2,1,3,4,2]\n",
        "b=set(a)\n",
        "c=list(b)\n",
        "print(c)\n",
        "\n"
      ]
    },
    {
      "cell_type": "code",
      "execution_count": null,
      "metadata": {
        "colab": {
          "base_uri": "https://localhost:8080/"
        },
        "id": "NSOeOUmKtuYz",
        "outputId": "17436e55-2307-41d7-f775-5c4acfb89db8"
      },
      "outputs": [
        {
          "name": "stdout",
          "output_type": "stream",
          "text": [
            "{1, 2, 3, 4}\n"
          ]
        }
      ],
      "source": [
        "#11\n",
        "a={1,2,3}\n",
        "a.add(4)\n",
        "print(a)"
      ]
    },
    {
      "cell_type": "code",
      "execution_count": null,
      "metadata": {
        "colab": {
          "base_uri": "https://localhost:8080/"
        },
        "id": "yEqXUQCuv6K7",
        "outputId": "9b7a2591-bfef-42ca-894d-1d340171a33f"
      },
      "outputs": [
        {
          "name": "stdout",
          "output_type": "stream",
          "text": [
            "{'1', '2', '4'}\n"
          ]
        }
      ],
      "source": [
        "#12\n",
        "a={\"1\",\"2\",\"3\",\"4\"}\n",
        "a.remove(\"3\")\n",
        "print(a)"
      ]
    },
    {
      "cell_type": "code",
      "execution_count": null,
      "metadata": {
        "colab": {
          "base_uri": "https://localhost:8080/"
        },
        "id": "nNAOpkSwwN2t",
        "outputId": "ebfd7b72-d063-4ad3-a14b-0168612c1536"
      },
      "outputs": [
        {
          "name": "stdout",
          "output_type": "stream",
          "text": [
            "{'blue'}\n"
          ]
        }
      ],
      "source": [
        "#13\n",
        "a={\"green\",\"blue\"}\n",
        "b={\"blue\",\"yellow\",}\n",
        "x=a.intersection(b)\n",
        "print(x)"
      ]
    },
    {
      "cell_type": "code",
      "execution_count": null,
      "metadata": {
        "colab": {
          "base_uri": "https://localhost:8080/"
        },
        "id": "ZPYmW6k4w0aH",
        "outputId": "5e33cfb3-8804-4104-ae3f-900c4fb9ffc1"
      },
      "outputs": [
        {
          "name": "stdout",
          "output_type": "stream",
          "text": [
            "set()\n"
          ]
        }
      ],
      "source": [
        "#14\n",
        "a={\"a\",\"b\",\"c\"}\n",
        "a.clear()\n",
        "print(a)"
      ]
    },
    {
      "cell_type": "code",
      "execution_count": null,
      "metadata": {
        "colab": {
          "base_uri": "https://localhost:8080/"
        },
        "id": "BY6kLvWjy-UV",
        "outputId": "f2c8772e-30f9-49ed-f352-fc17b6a2ccfc"
      },
      "outputs": [
        {
          "name": "stdout",
          "output_type": "stream",
          "text": [
            "{0: 10, 1: 20, 2: 20}\n"
          ]
        }
      ],
      "source": [
        "#15\n",
        "dict1={0:10,1:20}\n",
        "dict1[2] = 20\n",
        "print(dict1)"
      ]
    },
    {
      "cell_type": "code",
      "execution_count": null,
      "metadata": {
        "colab": {
          "base_uri": "https://localhost:8080/"
        },
        "id": "jB_2wo99znEv",
        "outputId": "3ecfeba9-9437-4cfb-87e5-89c149c5b101"
      },
      "outputs": [
        {
          "name": "stdout",
          "output_type": "stream",
          "text": [
            "{1: 10, 2: 20, 3: 30, 4: 40, 5: 50, 6: 60}\n"
          ]
        }
      ],
      "source": [
        "#16\n",
        "dict1={1:10,2:20}\n",
        "dict1[3]=30\n",
        "dict1[4]=40\n",
        "dict1[5]=50\n",
        "dict1[6]=60\n",
        "print(dict1)"
      ]
    },
    {
      "cell_type": "code",
      "execution_count": null,
      "metadata": {
        "colab": {
          "base_uri": "https://localhost:8080/"
        },
        "id": "TdBstJ4H0rUq",
        "outputId": "79bd1492-82ef-4c48-d87c-00c6c7ac2f62"
      },
      "outputs": [
        {
          "name": "stdout",
          "output_type": "stream",
          "text": [
            "ford\n"
          ]
        }
      ],
      "source": [
        "#17\n",
        "d={\"name\":\"ford\",\n",
        "   \"model\":\"mustanf\",\n",
        "   \"year\":1965\n",
        "   }\n",
        "x=d.get(\"name\")\n",
        "print(x)"
      ]
    },
    {
      "cell_type": "code",
      "execution_count": null,
      "metadata": {
        "colab": {
          "base_uri": "https://localhost:8080/"
        },
        "id": "B_ytczO81T0X",
        "outputId": "e04c082d-d2ec-4461-ba09-6d665e52ecae"
      },
      "outputs": [
        {
          "name": "stdout",
          "output_type": "stream",
          "text": [
            "{'model': 'mustang', 'year': 1964}\n"
          ]
        }
      ],
      "source": [
        "#18\n",
        "n={\"name\":\"ford\",\n",
        "   \"model\":\"mustang\",\n",
        "   \"year\":1964\n",
        "   }\n",
        "n.pop(\"name\")\n",
        "print(n)"
      ]
    },
    {
      "cell_type": "code",
      "execution_count": null,
      "metadata": {
        "colab": {
          "base_uri": "https://localhost:8080/"
        },
        "id": "ivlNEnqY4NKm",
        "outputId": "10bb3ea7-0677-4225-ee3c-9ecfca7ab0da"
      },
      "outputs": [
        {
          "name": "stdout",
          "output_type": "stream",
          "text": [
            "{'a': 300, 'b': 200, 'c': 400}\n"
          ]
        }
      ],
      "source": [
        "\n",
        "#19\n",
        "d1={\"a\":100,\"b\":200,\"c\":300}\n",
        "d2={\"a\":300,\"b\":200,\"c\":400}\n",
        "d1.update(d2)\n",
        "print(d1)"
      ]
    },
    {
      "cell_type": "code",
      "execution_count": null,
      "metadata": {
        "colab": {
          "base_uri": "https://localhost:8080/"
        },
        "id": "vaH17HA068JH",
        "outputId": "f9efb38d-c4b4-4588-b025-b2ff37d194f5"
      },
      "outputs": [
        {
          "name": "stdout",
          "output_type": "stream",
          "text": [
            "[100, 200, 300, 600, 400, 500]\n"
          ]
        }
      ],
      "source": [
        "#20\n",
        "d1 = {'a': 100, 'b': 200, 'c':300}\n",
        "d2 = {'a': 600, 'b': 400, 'd':500}\n",
        "x=d1.values()\n",
        "y=d2.values()\n",
        "r=list(x)\n",
        "a=list(y)\n",
        "r.extend(a)\n",
        "print(r)"
      ]
    },
    {
      "cell_type": "code",
      "execution_count": null,
      "metadata": {
        "colab": {
          "base_uri": "https://localhost:8080/"
        },
        "id": "HPfnNkAI9sKJ",
        "outputId": "286a9767-91cd-42dd-ad8c-874f65c9afad"
      },
      "outputs": [
        {
          "name": "stdout",
          "output_type": "stream",
          "text": [
            "9\n"
          ]
        }
      ],
      "source": [
        "#21\n",
        "a={'a': 5, 'b': 14, 'c': 32, 'd': 35, 'e': 24, 'f': 100, 'g': 57, 'h': 8, 'i': 100}\n",
        "print(len(a))\n"
      ]
    },
    {
      "cell_type": "code",
      "execution_count": null,
      "metadata": {
        "colab": {
          "base_uri": "https://localhost:8080/"
        },
        "id": "L3LUcSRU-feQ",
        "outputId": "e4a2f1e6-da45-4d57-d54a-ba08677410cc"
      },
      "outputs": [
        {
          "name": "stdout",
          "output_type": "stream",
          "text": [
            "apple\n",
            "orange\n",
            "mango\n"
          ]
        }
      ],
      "source": [
        "#22\n",
        "n1=(\"apple\",\"orange\",\"mango\")\n",
        "(ag,bo,co)=n1\n",
        "print(ag)\n",
        "print(bo)\n",
        "print(co)\n"
      ]
    },
    {
      "cell_type": "code",
      "execution_count": null,
      "metadata": {
        "colab": {
          "base_uri": "https://localhost:8080/"
        },
        "id": "4MHKjBpohmWP",
        "outputId": "06a77ee3-10b1-490c-9d81-acdbb6e08d98"
      },
      "outputs": [
        {
          "name": "stdout",
          "output_type": "stream",
          "text": [
            "p\n",
            "y\n",
            "t\n",
            "h\n",
            "o\n",
            "n\n"
          ]
        }
      ],
      "source": [
        "#23\n",
        "t=('p','y','t','h','o','n')\n",
        "for x in t:\n",
        "  print(x)"
      ]
    },
    {
      "cell_type": "markdown",
      "metadata": {
        "id": "Q6ADqbKFKQ1u"
      },
      "source": [
        "Conditions"
      ]
    },
    {
      "cell_type": "code",
      "execution_count": null,
      "metadata": {
        "colab": {
          "base_uri": "https://localhost:8080/"
        },
        "id": "TH_1Fc8Hayji",
        "outputId": "1f1bfd1c-be21-41ff-e342-f4bbfcfb9612"
      },
      "outputs": [
        {
          "name": "stdout",
          "output_type": "stream",
          "text": [
            "At least one of the conditions is true\n"
          ]
        }
      ],
      "source": [
        "a=200\n",
        "b=33\n",
        "c=500\n",
        "if a>b or a<c:\n",
        "  print(\"At least one of the conditions is true\")"
      ]
    },
    {
      "cell_type": "code",
      "execution_count": null,
      "metadata": {
        "colab": {
          "base_uri": "https://localhost:8080/"
        },
        "id": "-FBe9M87Yfm7",
        "outputId": "a4e27e74-f07a-4a62-c950-fcad27d51426"
      },
      "outputs": [
        {
          "name": "stdout",
          "output_type": "stream",
          "text": [
            "B\n"
          ]
        }
      ],
      "source": [
        "a=2\n",
        "b=330\n",
        "print(\"A\") if a>b else print(\"B\")"
      ]
    },
    {
      "cell_type": "code",
      "execution_count": null,
      "metadata": {
        "colab": {
          "base_uri": "https://localhost:8080/"
        },
        "id": "_rK4bsHRZNUw",
        "outputId": "1a19913a-0150-436e-edd7-d1cb849c3f88"
      },
      "outputs": [
        {
          "name": "stdout",
          "output_type": "stream",
          "text": [
            "=\n"
          ]
        }
      ],
      "source": [
        "a=330\n",
        "b=330\n",
        "print(\"A\") if a>b else print(\"=\") if a==b else print(\"B\")"
      ]
    },
    {
      "cell_type": "code",
      "execution_count": null,
      "metadata": {
        "colab": {
          "base_uri": "https://localhost:8080/"
        },
        "id": "y3osA_FOaYEl",
        "outputId": "14549fb2-8398-447b-864f-e1c385e90afb"
      },
      "outputs": [
        {
          "name": "stdout",
          "output_type": "stream",
          "text": [
            "both conditions are true\n"
          ]
        }
      ],
      "source": [
        "a=200\n",
        "b=33\n",
        "c=500\n",
        "if a>b and c>a:\n",
        "  print(\"both conditions are true\")"
      ]
    },
    {
      "cell_type": "code",
      "execution_count": null,
      "metadata": {
        "colab": {
          "base_uri": "https://localhost:8080/"
        },
        "id": "ITCPKAsuWT7Q",
        "outputId": "c01da752-f371-4ad9-d016-899e032598a8"
      },
      "outputs": [
        {
          "name": "stdout",
          "output_type": "stream",
          "text": [
            "b greater tham a\n"
          ]
        }
      ],
      "source": [
        "a=33\n",
        "b=200\n",
        "if b>a:\n",
        "  print(\"b greater tham a\")"
      ]
    },
    {
      "cell_type": "code",
      "execution_count": null,
      "metadata": {
        "colab": {
          "base_uri": "https://localhost:8080/"
        },
        "id": "bDdt6uxWWw3n",
        "outputId": "a654253d-8c77-4afa-d2a1-76e90d9402db"
      },
      "outputs": [
        {
          "name": "stdout",
          "output_type": "stream",
          "text": [
            "b equal to a \n"
          ]
        }
      ],
      "source": [
        "a=33\n",
        "b=33\n",
        "if b>a:\n",
        "  print(\"b greater than a\")\n",
        "elif b==a:\n",
        "    print(\"b equal to a \")"
      ]
    },
    {
      "cell_type": "code",
      "execution_count": null,
      "metadata": {
        "colab": {
          "base_uri": "https://localhost:8080/"
        },
        "id": "ia8wAnwvX4wM",
        "outputId": "0a0c8c70-6bb3-4117-92a4-2efeb91f2cd3"
      },
      "outputs": [
        {
          "name": "stdout",
          "output_type": "stream",
          "text": [
            "a is greater than b\n"
          ]
        }
      ],
      "source": [
        "a=200\n",
        "b=33\n",
        "if b>a:\n",
        "  print(\"b greater than a\")\n",
        "elif b==a:\n",
        "  print(\"b equal to a\")\n",
        "else:\n",
        "  print(\"a is greater than b\")"
      ]
    },
    {
      "cell_type": "code",
      "execution_count": null,
      "metadata": {
        "colab": {
          "base_uri": "https://localhost:8080/"
        },
        "id": "_hGXWrl99HD-",
        "outputId": "8df94d09-bdd3-4d02-eed9-f1b119593821"
      },
      "outputs": [
        {
          "name": "stdout",
          "output_type": "stream",
          "text": [
            "samsung\n"
          ]
        }
      ],
      "source": [
        "a=80\n",
        "if a==100:\n",
        "  print(\"iphone\")\n",
        "elif a>=80:\n",
        "  print(\"samsung\")\n",
        "else:\n",
        "  print(\"nothing\")\n"
      ]
    },
    {
      "cell_type": "code",
      "execution_count": null,
      "metadata": {
        "colab": {
          "base_uri": "https://localhost:8080/"
        },
        "id": "wPg280MR9VOw",
        "outputId": "272e4132-e7c1-4911-bdac-0739f112f0b0"
      },
      "outputs": [
        {
          "name": "stdout",
          "output_type": "stream",
          "text": [
            "enter mark : 20\n",
            "faail\n"
          ]
        }
      ],
      "source": [
        "mark=int(input(\"enter mark : \"))\n",
        "if mark>=90:\n",
        "  print(\"A+\")\n",
        "elif mark>=80:\n",
        "  print(\"A\")\n",
        "elif mark>=70:\n",
        "  print(\"B+\")\n",
        "elif mark>=60:\n",
        "  print(\"B\")\n",
        "elif mark>=50:\n",
        "  print(\"C+\")\n",
        "elif mark>=40:\n",
        "  print(\"C\")\n",
        "else:\n",
        "  print(\"faail\")"
      ]
    },
    {
      "cell_type": "code",
      "execution_count": null,
      "metadata": {
        "colab": {
          "base_uri": "https://localhost:8080/"
        },
        "id": "6zkGuh9XiIt9",
        "outputId": "0b2cef8e-74ae-4b88-95f3-b2ebf7d4271f"
      },
      "outputs": [
        {
          "name": "stdout",
          "output_type": "stream",
          "text": [
            "B\n"
          ]
        }
      ],
      "source": [
        "a=2\n",
        "b=330\n",
        "print(\"A\") if a>b else print(\"B\")\n"
      ]
    },
    {
      "cell_type": "code",
      "execution_count": null,
      "metadata": {
        "colab": {
          "base_uri": "https://localhost:8080/"
        },
        "id": "lOsGzBrlink1",
        "outputId": "4ab9b41a-0ff2-4e2e-bf60-3603ee51a297"
      },
      "outputs": [
        {
          "name": "stdout",
          "output_type": "stream",
          "text": [
            "=\n"
          ]
        }
      ],
      "source": [
        "a=330\n",
        "b=330\n",
        "print(\"A\") if a>b else print(\"=\") if a==b else print(\"B\")"
      ]
    },
    {
      "cell_type": "markdown",
      "metadata": {
        "id": "qmgGSGW8jLZe"
      },
      "source": [
        "And"
      ]
    },
    {
      "cell_type": "code",
      "execution_count": null,
      "metadata": {
        "colab": {
          "base_uri": "https://localhost:8080/"
        },
        "id": "n5xw0y49jJBl",
        "outputId": "aa0334f0-fec6-4e38-b3e8-26a0e292120b"
      },
      "outputs": [
        {
          "name": "stdout",
          "output_type": "stream",
          "text": [
            "Answer is correct\n"
          ]
        }
      ],
      "source": [
        "x=100\n",
        "g=70\n",
        "k=180\n",
        "if x>g and k>x:\n",
        "  print(\"Answer is correct\")"
      ]
    },
    {
      "cell_type": "code",
      "execution_count": null,
      "metadata": {
        "colab": {
          "base_uri": "https://localhost:8080/"
        },
        "id": "-Pct5b6ijP8Y",
        "outputId": "71ecccbb-67cd-4f4e-f32e-35afb493a189"
      },
      "outputs": [
        {
          "name": "stdout",
          "output_type": "stream",
          "text": [
            "very good\n"
          ]
        }
      ],
      "source": [
        "t=1\n",
        "y=2\n",
        "i=0\n",
        "if t<y or i<t:\n",
        "  print(\"very good\")"
      ]
    },
    {
      "cell_type": "code",
      "execution_count": null,
      "metadata": {
        "colab": {
          "base_uri": "https://localhost:8080/"
        },
        "id": "0-JaaRoqlH1E",
        "outputId": "cf366c0a-fbdf-4573-a53c-02eeb47b8c63"
      },
      "outputs": [
        {
          "name": "stdout",
          "output_type": "stream",
          "text": [
            "cccccheap\n",
            "expseive\n"
          ]
        }
      ],
      "source": [
        "x=80\n",
        "y=50\n",
        "z=70\n",
        "apple=50\n",
        "orange=60\n",
        "carrot=40\n",
        "tomato=60\n",
        "onion=110\n",
        "if apple<x and orange<x:\n",
        "  print(\"cheap\")\n",
        "if onion>x or tomato>y:\n",
        "  print(\"expseive\")"
      ]
    },
    {
      "cell_type": "code",
      "execution_count": null,
      "metadata": {
        "colab": {
          "base_uri": "https://localhost:8080/"
        },
        "id": "yMz3_rZItML0",
        "outputId": "9b835bb9-ff59-4c2f-e374-34e0d96be5dc"
      },
      "outputs": [
        {
          "name": "stdout",
          "output_type": "stream",
          "text": [
            "above 10\n"
          ]
        }
      ],
      "source": [
        "x=11\n",
        "if  x>10:\n",
        "  print(\"above 10\")\n",
        "  if x>20:\n",
        "    print(\"above 20\")\n",
        "\n",
        "\n",
        "else :\n",
        "  print('but not above 20')"
      ]
    },
    {
      "cell_type": "code",
      "execution_count": null,
      "metadata": {
        "id": "B-D6xrKEtxeH"
      },
      "outputs": [],
      "source": [
        "a=33\n",
        "b=200\n",
        "if b>a:\n",
        "   pass"
      ]
    },
    {
      "cell_type": "markdown",
      "metadata": {
        "id": "9_f0g1mTnRs_"
      },
      "source": [
        "Loop"
      ]
    },
    {
      "cell_type": "code",
      "execution_count": null,
      "metadata": {
        "colab": {
          "base_uri": "https://localhost:8080/"
        },
        "collapsed": true,
        "id": "S4BsgM6wu3s6",
        "outputId": "a017f0f2-6e8f-4bcd-aaf9-e6522504f6c9"
      },
      "outputs": [
        {
          "name": "stdout",
          "output_type": "stream",
          "text": [
            "0\n",
            "1\n",
            "2\n",
            "3\n",
            "4\n",
            "5\n",
            "6\n",
            "7\n",
            "8\n",
            "9\n"
          ]
        }
      ],
      "source": [
        "\n",
        "for i in range(10):\n",
        "  print(i)"
      ]
    },
    {
      "cell_type": "code",
      "execution_count": null,
      "metadata": {
        "id": "Csu67zs8yU01"
      },
      "outputs": [],
      "source": [
        "\n",
        "a=[1,2,3,4]#while loop checks\n",
        "while a:\n",
        "  print(a)\n"
      ]
    },
    {
      "cell_type": "code",
      "execution_count": null,
      "metadata": {
        "colab": {
          "base_uri": "https://localhost:8080/"
        },
        "id": "FRPtb8HW0Aov",
        "outputId": "ed3cd78f-4dc0-4e47-d8f1-ee2f432a88a5"
      },
      "outputs": [
        {
          "name": "stdout",
          "output_type": "stream",
          "text": [
            "4\n",
            "3\n",
            "2\n",
            "1\n"
          ]
        }
      ],
      "source": [
        "\n",
        "a=[1,2,3,4] # while loop check\n",
        "while a:\n",
        "  print(a.pop())\n"
      ]
    },
    {
      "cell_type": "code",
      "execution_count": null,
      "metadata": {
        "colab": {
          "base_uri": "https://localhost:8080/"
        },
        "collapsed": true,
        "id": "2OQd4UMKvEUf",
        "outputId": "e331efad-462d-4dc3-aef0-30ca5fe12f2b"
      },
      "outputs": [
        {
          "name": "stdout",
          "output_type": "stream",
          "text": [
            "0\n",
            "1\n",
            "2\n",
            "4\n",
            "5\n",
            "6\n",
            "7\n",
            "8\n",
            "9\n"
          ]
        }
      ],
      "source": [
        "for i in range(10):\n",
        "  if i==3:\n",
        "    continue\n",
        "  else:\n",
        "    print(i)"
      ]
    },
    {
      "cell_type": "code",
      "execution_count": null,
      "metadata": {
        "colab": {
          "base_uri": "https://localhost:8080/"
        },
        "id": "W0ydc7sS0zgY",
        "outputId": "b800de11-773b-4a05-bfb3-ae194382a292"
      },
      "outputs": [
        {
          "name": "stdout",
          "output_type": "stream",
          "text": [
            "1\n",
            "2\n",
            "3\n",
            "4\n"
          ]
        }
      ],
      "source": [
        "#increment (i+=1) and decrement\n",
        "i=0\n",
        "while i<4:\n",
        "  i+=1\n",
        "  print(i)\n",
        "  continue"
      ]
    },
    {
      "cell_type": "code",
      "execution_count": null,
      "metadata": {
        "colab": {
          "base_uri": "https://localhost:8080/"
        },
        "id": "8h2pLDtC2aH_",
        "outputId": "5008de2b-22ba-446f-ab2c-7eba4e078c34"
      },
      "outputs": [
        {
          "name": "stdout",
          "output_type": "stream",
          "text": [
            "1\n"
          ]
        }
      ],
      "source": [
        "i=0\n",
        "while i<4:\n",
        "  i+=1\n",
        "  print(i)\n",
        "  break"
      ]
    },
    {
      "cell_type": "code",
      "execution_count": null,
      "metadata": {
        "id": "vDzmedOw2vnA"
      },
      "outputs": [],
      "source": [
        "a='loop in pyhton'\n",
        "i=0\n",
        "\n",
        "while i<len(a):\n",
        "  i+=1\n",
        "  pass\n",
        "  print('value of i:',i)"
      ]
    },
    {
      "cell_type": "code",
      "execution_count": null,
      "metadata": {
        "id": "0Arn_nvM7K2R"
      },
      "outputs": [],
      "source": [
        "i=0\n",
        "a='loops in python'\n",
        "while i<len(a):\n",
        "  if a[i]=='e'or a[i]=='s':\n",
        "    i+=1\n",
        "    continue\n",
        "  print('current letter:',a[i])\n",
        "  i+=1"
      ]
    },
    {
      "cell_type": "code",
      "execution_count": null,
      "metadata": {
        "colab": {
          "base_uri": "https://localhost:8080/"
        },
        "id": "vHTSvtJU7_IJ",
        "outputId": "5203eea7-384c-4a5a-e59a-14993bd22177"
      },
      "outputs": [
        {
          "name": "stdout",
          "output_type": "stream",
          "text": [
            "current letter: l\n",
            "current letter: o\n",
            "current letter: o\n"
          ]
        }
      ],
      "source": [
        "i=0\n",
        "a='loops in python'\n",
        "while i<len(a):\n",
        "  if a[i]=='p' or a[i]=='h':\n",
        "    i+=1\n",
        "    break\n",
        "  print(\"current letter:\",a[i])\n",
        "  i+=1"
      ]
    },
    {
      "cell_type": "code",
      "execution_count": null,
      "metadata": {
        "colab": {
          "base_uri": "https://localhost:8080/"
        },
        "collapsed": true,
        "id": "CQAc5SD297Rw",
        "outputId": "beb52203-b470-4c52-e580-203ec53ab363"
      },
      "outputs": [
        {
          "name": "stdout",
          "output_type": "stream",
          "text": [
            "1\n",
            "2\n",
            "3\n",
            "4\n",
            "no break\n",
            "\n"
          ]
        }
      ],
      "source": [
        "i=0\n",
        "while i<4:\n",
        "  i+=1\n",
        "  print(i)\n",
        "else:\n",
        "  print('no break\\n')"
      ]
    },
    {
      "cell_type": "code",
      "execution_count": null,
      "metadata": {
        "colab": {
          "base_uri": "https://localhost:8080/"
        },
        "id": "ZTh770si-e8T",
        "outputId": "7efeeab3-a4e8-4d88-a91f-8bbff92f3771"
      },
      "outputs": [
        {
          "name": "stdout",
          "output_type": "stream",
          "text": [
            "1\n"
          ]
        }
      ],
      "source": [
        "i=0\n",
        "while i<4:\n",
        "  i+=1\n",
        "  print(i)\n",
        "  break\n",
        "else:#not executed no break\n",
        "  print('No break')"
      ]
    },
    {
      "cell_type": "code",
      "execution_count": null,
      "metadata": {
        "colab": {
          "base_uri": "https://localhost:8080/"
        },
        "collapsed": true,
        "id": "3c0O1DXB_Cwt",
        "outputId": "1a89d594-c947-41dc-aafa-8484803e8c66"
      },
      "outputs": [
        {
          "name": "stdout",
          "output_type": "stream",
          "text": [
            " list iteration\n",
            "for\n",
            "hello\n",
            "pyhton\n"
          ]
        }
      ],
      "source": [
        "#iterating over a list\n",
        "print(\" list iteration\")\n",
        "l={\"hello\",\"for\",\"pyhton\"}\n",
        "for i in l:\n",
        "  print(i)"
      ]
    },
    {
      "cell_type": "code",
      "execution_count": null,
      "metadata": {
        "colab": {
          "base_uri": "https://localhost:8080/"
        },
        "collapsed": true,
        "id": "D7GK9cDyJf3F",
        "outputId": "a89ab086-43a9-4348-d50e-75f7c10f180e"
      },
      "outputs": [
        {
          "name": "stdout",
          "output_type": "stream",
          "text": [
            "\n",
            "Tuple itleration\n",
            "Helo\n",
            "for\n",
            "python\n"
          ]
        }
      ],
      "source": [
        "#iteraing over a tup[le--imutable\n",
        "print(\"\\nTuple itleration\")\n",
        "t=(\"Helo\",\"for\",\"python\")\n",
        "for i in t:\n",
        " print(i)"
      ]
    },
    {
      "cell_type": "markdown",
      "metadata": {
        "id": "ENhn9Bb8PNCc"
      },
      "source": [
        "loop control statements"
      ]
    },
    {
      "cell_type": "markdown",
      "metadata": {
        "id": "StUysRj_PVSg"
      },
      "source": [
        "continue"
      ]
    },
    {
      "cell_type": "code",
      "execution_count": null,
      "metadata": {
        "colab": {
          "base_uri": "https://localhost:8080/"
        },
        "id": "6tTxheqJLXDI",
        "outputId": "0e3454f7-2cff-4ce2-ee54-dda38d3072aa"
      },
      "outputs": [
        {
          "name": "stdout",
          "output_type": "stream",
          "text": [
            "Current letter: r\n"
          ]
        }
      ],
      "source": [
        "for x in 'python develeper':\n",
        "  if x=='e' or x=='o':\n",
        "    continue\n",
        "print('Current letter:',x)"
      ]
    },
    {
      "cell_type": "markdown",
      "metadata": {
        "id": "V8pZDGgOQJmk"
      },
      "source": [
        "break"
      ]
    },
    {
      "cell_type": "code",
      "execution_count": null,
      "metadata": {
        "colab": {
          "base_uri": "https://localhost:8080/"
        },
        "id": "mGNaDlgiQHm8",
        "outputId": "faca8ade-be88-4fdf-bfc4-6a053edf1885"
      },
      "outputs": [
        {
          "name": "stdout",
          "output_type": "stream",
          "text": [
            "current letter: o\n"
          ]
        }
      ],
      "source": [
        "for x in 'python developer':\n",
        "  if x=='o' or x=='e':\n",
        "    break\n",
        "print('current letter:',x)"
      ]
    },
    {
      "cell_type": "markdown",
      "metadata": {
        "id": "hcU8UL7w3Dk3"
      },
      "source": [
        "pass"
      ]
    },
    {
      "cell_type": "code",
      "execution_count": null,
      "metadata": {
        "colab": {
          "base_uri": "https://localhost:8080/"
        },
        "id": "03JkUQE_RH7o",
        "outputId": "bed8a3d8-b035-4fcd-ffe6-19bc03443c0b"
      },
      "outputs": [
        {
          "name": "stdout",
          "output_type": "stream",
          "text": [
            "laste letter: r\n"
          ]
        }
      ],
      "source": [
        "for x in 'pyhton developer':\n",
        "      pass\n",
        "print('last letter:',x)"
      ]
    },
    {
      "cell_type": "markdown",
      "metadata": {
        "id": "v15JxYxR3bup"
      },
      "source": [
        "Range()"
      ]
    },
    {
      "cell_type": "code",
      "execution_count": null,
      "metadata": {
        "colab": {
          "base_uri": "https://localhost:8080/"
        },
        "id": "0AYAcVGh3eJ8",
        "outputId": "dee2b4f3-8376-4f73-cde5-37719a58ee38"
      },
      "outputs": [
        {
          "name": "stdout",
          "output_type": "stream",
          "text": [
            "0123456789"
          ]
        }
      ],
      "source": [
        "#show range basics\n",
        "#print the number\n",
        "for i in range(10):\n",
        "  print(i,end=\"\")\n"
      ]
    },
    {
      "cell_type": "code",
      "execution_count": null,
      "metadata": {
        "colab": {
          "base_uri": "https://localhost:8080/"
        },
        "id": "18AJESdF4ktp",
        "outputId": "a3aa273e-2270-4f03-b2e3-ca3e5761be68"
      },
      "outputs": [
        {
          "name": "stdout",
          "output_type": "stream",
          "text": [
            "1 - 2 - 3 - 4 - 5 - 6 - 7 - 8 - 9 - "
          ]
        }
      ],
      "source": [
        "for i in range(1,10):\n",
        "  print(i,end=\" - \")\n"
      ]
    },
    {
      "cell_type": "code",
      "execution_count": null,
      "metadata": {
        "id": "NAHM5Q1vEy-8"
      },
      "outputs": [],
      "source": [
        "for i in range(1,101,2):\n",
        "  print(i)"
      ]
    },
    {
      "cell_type": "code",
      "execution_count": null,
      "metadata": {
        "colab": {
          "base_uri": "https://localhost:8080/"
        },
        "id": "Hu844_PHFP0c",
        "outputId": "3d017aa3-f17d-4e11-f7ad-54a4402905dc"
      },
      "outputs": [
        {
          "name": "stdout",
          "output_type": "stream",
          "text": [
            "0,2,4,6,8,10,12,14,16,18,20,22,24,26,28,30,32,34,36,38,40,42,44,46,48,50,52,54,56,58,60,62,64,66,68,70,72,74,76,78,80,82,84,86,88,90,92,94,96,98,100,"
          ]
        }
      ],
      "source": [
        "for i in range(0,101,2):\n",
        "  print(i,end=\",\")"
      ]
    },
    {
      "cell_type": "markdown",
      "metadata": {
        "id": "7JJ9FN9u7Jrx"
      },
      "source": [
        "Range() with len()"
      ]
    },
    {
      "cell_type": "code",
      "execution_count": null,
      "metadata": {
        "colab": {
          "base_uri": "https://localhost:8080/"
        },
        "id": "yvsBduCt5p6l",
        "outputId": "6711e112-48e7-4990-bfee-f92504ee24ef"
      },
      "outputs": [
        {
          "name": "stdout",
          "output_type": "stream",
          "text": [
            "10 20 30 40 "
          ]
        }
      ],
      "source": [
        "#using range for iteration\n",
        "l=[10,20,30,40]\n",
        "for i in range(len(l)):\n",
        "  print(l[i],end=\" \")\n",
        "\n"
      ]
    },
    {
      "cell_type": "markdown",
      "metadata": {
        "id": "0Y9G27I77DlY"
      },
      "source": [
        "Sum with range()"
      ]
    },
    {
      "cell_type": "code",
      "execution_count": null,
      "metadata": {
        "colab": {
          "base_uri": "https://localhost:8080/"
        },
        "id": "ymri6FRb6jqh",
        "outputId": "3f04bfdd-49d0-4e03-b7b6-955c90f303c2"
      },
      "outputs": [
        {
          "name": "stdout",
          "output_type": "stream",
          "text": [
            "Sum of 1st 10 natural number : 55\n"
          ]
        }
      ],
      "source": [
        "#performing the sum of natural numbers\n",
        "sum=0\n",
        "for i in range(1,11):\n",
        "  sum=sum+i\n",
        "print(\"Sum of 1st 10 natural number :\",sum)\n"
      ]
    },
    {
      "cell_type": "markdown",
      "metadata": {
        "id": "49wfwyh7rFnU"
      },
      "source": [
        "https://docs.google.com/spreadsheets/d/1s_X8CpltlYaUubh2gtpqRtbk5KFwneDTTTlWczXq_JQ/edit?gid=0#gid=0"
      ]
    },
    {
      "cell_type": "markdown",
      "metadata": {
        "id": "CHVO-5f3GI26"
      },
      "source": [
        "QUESTIONS\n",
        "\n",
        "1-Print numbers from 1 to 10 using a for loop.\n",
        "\n",
        "2-Print all even numbers between 1 and 20.\n",
        "\n",
        "3-Print the square of numbers from 1 to 5.\n",
        "\n",
        "4-Use a for loop to iterate over a list of fruits and print each fruit.\n",
        "\n",
        "5-Count how many numbers between 1 and 50 are divisible by 5.\n",
        "\n",
        "6-Use an if statement to check if a number is positive, negative, or zero.\n",
        "\n",
        "7-Print only the vowels from a given string.\n",
        "\n",
        "8-Use a for loop to find the sum of numbers from 1 to 100.\n",
        "\n",
        "9-Check whether numbers from 1 to 20 are odd or even.\n",
        "\n",
        "10-Print \"Fizz\" for numbers divisible by 3, \"Buzz\" for 5, and \"FizzBuzz\" for both (1 to 30)."
      ]
    },
    {
      "cell_type": "code",
      "execution_count": null,
      "metadata": {
        "id": "ilVjfAa_RHNg"
      },
      "outputs": [],
      "source": [
        "for i in"
      ]
    },
    {
      "cell_type": "code",
      "execution_count": null,
      "metadata": {
        "colab": {
          "base_uri": "https://localhost:8080/"
        },
        "id": "Kux8ME5GEiku",
        "outputId": "97370c9a-7a91-4e21-d61f-88f459937014"
      },
      "outputs": [
        {
          "name": "stdout",
          "output_type": "stream",
          "text": [
            "1;4;9;16;25;36;49;64;81;100;121;144;169;196;225;256;289;324;361;400;"
          ]
        }
      ],
      "source": [
        "#2\n",
        "for i in range(1,21):\n",
        "  print(i*i,end=\";\")"
      ]
    },
    {
      "cell_type": "code",
      "execution_count": null,
      "metadata": {
        "colab": {
          "base_uri": "https://localhost:8080/"
        },
        "id": "A_JKNIRiG-Cc",
        "outputId": "e3f4c111-9a0e-4ac4-f8af-c82372265e42"
      },
      "outputs": [
        {
          "name": "stdout",
          "output_type": "stream",
          "text": [
            "apple\n",
            "orange\n",
            "pineaplle\n",
            "strwberry\n",
            "watermelon\n"
          ]
        }
      ],
      "source": [
        "#4\n",
        "a=[\"apple\",\"orange\",\"pineaplle\",\"strwberry\",\"watermelon\"]\n",
        "for i in a:\n",
        "  print(i)"
      ]
    },
    {
      "cell_type": "code",
      "execution_count": null,
      "metadata": {
        "colab": {
          "base_uri": "https://localhost:8080/"
        },
        "id": "EvT3eUJGITo2",
        "outputId": "fffba227-98a8-42bd-fc5d-1588e624254c"
      },
      "outputs": [
        {
          "name": "stdout",
          "output_type": "stream",
          "text": [
            "5,10,15,20,25,30,35,40,45,"
          ]
        }
      ],
      "source": [
        "#5\n",
        "for i in range(1,50):\n",
        "  if i%5==0:\n",
        "    print(i,end=\",\")"
      ]
    },
    {
      "cell_type": "code",
      "execution_count": null,
      "metadata": {
        "colab": {
          "base_uri": "https://localhost:8080/"
        },
        "id": "WAKjDAWDJpsq",
        "outputId": "8db1bdc9-2e18-4c80-bf29-af831889d659"
      },
      "outputs": [
        {
          "name": "stdout",
          "output_type": "stream",
          "text": [
            "Number=-1\n",
            "negative\n"
          ]
        }
      ],
      "source": [
        "#6\n",
        "n=int(input(\"Number=\"))\n",
        "if n<0:\n",
        "  print(\"negative\")\n",
        "elif n>0:\n",
        "  print(\"positive\")\n"
      ]
    },
    {
      "cell_type": "code",
      "execution_count": null,
      "metadata": {
        "id": "OdnCgFeFJ4uc"
      },
      "outputs": [],
      "source": [
        "#7\n",
        "a=\"apple is a fruit\"\n",
        "i=0\n",
        "while i<len(a):\n",
        "  if a[i]=='a' or a[i]=='e' or a[i]=='i' or a[i]=='o' or a[i]=='u' :\n",
        "    print(a[i])\n",
        "  i+=1\n"
      ]
    },
    {
      "cell_type": "code",
      "execution_count": null,
      "metadata": {
        "colab": {
          "base_uri": "https://localhost:8080/"
        },
        "id": "yGqI8e1GMZGA",
        "outputId": "70b12f97-adc9-41e6-e994-81979599d760"
      },
      "outputs": [
        {
          "name": "stdout",
          "output_type": "stream",
          "text": [
            "198\n"
          ]
        }
      ],
      "source": [
        "#8\n",
        "for i in range(1,100):\n",
        "  i=i+i\n",
        "print(i)\n"
      ]
    },
    {
      "cell_type": "code",
      "execution_count": null,
      "metadata": {
        "id": "E2BNXYPRQVvP"
      },
      "outputs": [],
      "source": [
        "#9\n",
        "for i in range(1,20):\n",
        "  if i%2==0:\n",
        "    print(\"even\")\n",
        "  elif i%2==1:\n",
        "    print(\"odd\")"
      ]
    },
    {
      "cell_type": "code",
      "execution_count": null,
      "metadata": {
        "id": "dvfb6r9QNneU"
      },
      "outputs": [],
      "source": [
        "#10\n",
        "for i in range(1,30):\n",
        "  if i%3==0:\n",
        "    print(\"fizz\")\n",
        "  elif i%5==0:\n",
        "    print(\"buzz\")\n",
        "  elif i%3==0 and i%5==0:\n",
        "    print(\"fixxbuzz\")"
      ]
    },
    {
      "cell_type": "code",
      "execution_count": null,
      "metadata": {
        "colab": {
          "base_uri": "https://localhost:8080/"
        },
        "id": "1zGE1Ai8VG3H",
        "outputId": "908d0fb1-2b52-47a4-9b44-ceb031c99adc"
      },
      "outputs": [
        {
          "name": "stdout",
          "output_type": "stream",
          "text": [
            "[1, 2, 3, 4, 5, 6, 7, 8, 9, 10]\n"
          ]
        }
      ],
      "source": [
        "#Q))Remove duplicates from a list using only loops and conditionals (no sets).\n",
        "a=[1,2,3,4,5,5,5,6,6,7,8,9,9,10]\n",
        "b=[]\n",
        "for i in a:\n",
        "  if i not in b:\n",
        "    b.append(i)\n",
        "\n",
        "print(b)"
      ]
    },
    {
      "cell_type": "markdown",
      "metadata": {
        "id": "m9plOGJqjasc"
      },
      "source": [
        "_______________________________________"
      ]
    },
    {
      "cell_type": "code",
      "execution_count": null,
      "metadata": {
        "colab": {
          "base_uri": "https://localhost:8080/"
        },
        "id": "_tFTjmo2W0qW",
        "outputId": "c8ad7f50-0a3c-4a84-b47e-d34849184368"
      },
      "outputs": [
        {
          "name": "stdout",
          "output_type": "stream",
          "text": [
            "1\n",
            "2\n",
            "3\n",
            "3\n",
            "4\n",
            "5\n",
            "6\n",
            "[1, 2, 3, 4, 5, 6]\n"
          ]
        }
      ],
      "source": [
        "\n",
        "a=7\n",
        "b=[]\n",
        "for i in range(a):\n",
        "  m1=int(input())\n",
        "  if m1 not in b:\n",
        "    b.append(m1)\n",
        "\n",
        "print(b)"
      ]
    },
    {
      "cell_type": "markdown",
      "metadata": {
        "id": "rrAKH0ctDL3a"
      },
      "source": [
        "For else loop"
      ]
    },
    {
      "cell_type": "code",
      "execution_count": null,
      "metadata": {
        "colab": {
          "base_uri": "https://localhost:8080/"
        },
        "id": "rcdWODdzC0pa",
        "outputId": "8459bf80-1f1f-4902-9531-902c3a4ad106"
      },
      "outputs": [
        {
          "name": "stdout",
          "output_type": "stream",
          "text": [
            "1\n",
            "2\n",
            "3\n",
            "No Break\n",
            "\n"
          ]
        }
      ],
      "source": [
        "for i in range(1,4):\n",
        "  print(i)\n",
        "else:\n",
        "  print(\"No Break\\n\")"
      ]
    },
    {
      "cell_type": "code",
      "execution_count": null,
      "metadata": {
        "colab": {
          "base_uri": "https://localhost:8080/"
        },
        "id": "bTzICV_pDx5Z",
        "outputId": "504cbb9b-6a25-4b92-d376-6839b5eb1899"
      },
      "outputs": [
        {
          "name": "stdout",
          "output_type": "stream",
          "text": [
            "1\n"
          ]
        }
      ],
      "source": [
        "for i in range(1,4):\n",
        "  print(i)\n",
        "  break\n",
        "else:\n",
        "  print(\"No Break\\n\")"
      ]
    },
    {
      "cell_type": "code",
      "execution_count": null,
      "metadata": {
        "colab": {
          "base_uri": "https://localhost:8080/"
        },
        "id": "mRka426pEPCu",
        "outputId": "dde207a5-1c68-4af6-9187-08a3329ed3d6"
      },
      "outputs": [
        {
          "name": "stdout",
          "output_type": "stream",
          "text": [
            "red apple\n",
            "red banaana\n",
            "red cherry\n",
            "big apple\n",
            "big banaana\n",
            "big cherry\n",
            "tasty apple\n",
            "tasty banaana\n",
            "tasty cherry\n"
          ]
        }
      ],
      "source": [
        "#1 for loop inside another for loop.inside for loop go full cycle 1st then outer loop go 2nd\n",
        "adj=['red',\"big\",\"tasty\"].\n",
        "fruits=[\"apple\",\"banaana\",\"cherry\"]\n",
        "for x in adj:\n",
        "  for y in fruits:  #\n",
        "    print(x,y)"
      ]
    },
    {
      "cell_type": "code",
      "execution_count": null,
      "metadata": {
        "colab": {
          "base_uri": "https://localhost:8080/"
        },
        "id": "1OdNn-zVLeKA",
        "outputId": "787b138d-72cf-405b-dd57-e7ec1eafd98b"
      },
      "outputs": [
        {
          "name": "stdout",
          "output_type": "stream",
          "text": [
            "welcome to IPCS\n"
          ]
        }
      ],
      "source": [
        "#A simple python function\n",
        "def hello():\n",
        "  print(\"welcome to IPCS\")\n",
        "#Driver code to call a function\n",
        "hello()"
      ]
    },
    {
      "cell_type": "code",
      "execution_count": null,
      "metadata": {
        "colab": {
          "base_uri": "https://localhost:8080/"
        },
        "id": "g2Go7q6PQVVz",
        "outputId": "81ba8134-7632-495e-f312-37b0b30cf1ef"
      },
      "outputs": [
        {
          "name": "stdout",
          "output_type": "stream",
          "text": [
            "even\n",
            "odd\n"
          ]
        }
      ],
      "source": [
        "def evenorodd(x):\n",
        "  if x%2==0:\n",
        "    print(\"even\")\n",
        "  else:\n",
        "    print(\"odd\")\n",
        "\n",
        "\n",
        "evenorodd(6)\n",
        "evenorodd(7)"
      ]
    },
    {
      "cell_type": "code",
      "execution_count": null,
      "metadata": {
        "colab": {
          "base_uri": "https://localhost:8080/"
        },
        "id": "vVhiHm3iUw9q",
        "outputId": "47e1cd50-e2c7-451f-a051-6b4e4383766a"
      },
      "outputs": [
        {
          "name": "stdout",
          "output_type": "stream",
          "text": [
            "x: 10\n",
            "y: 50\n"
          ]
        }
      ],
      "source": [
        "def myfun(x,y=50):\n",
        "  print(\"x:\",x)\n",
        "  print(\"y:\",y)\n",
        "myfun(10)"
      ]
    },
    {
      "cell_type": "code",
      "execution_count": null,
      "metadata": {
        "colab": {
          "base_uri": "https://localhost:8080/"
        },
        "id": "GQ5o4-ctaXdT",
        "outputId": "91066aaf-3bcb-4a86-a41e-87c89b362b96"
      },
      "outputs": [
        {
          "name": "stdout",
          "output_type": "stream",
          "text": [
            "10\n"
          ]
        }
      ],
      "source": [
        "def fn(x,y):\n",
        "  print(x+y)\n",
        "\n",
        "fn(4,6)"
      ]
    },
    {
      "cell_type": "code",
      "execution_count": null,
      "metadata": {
        "colab": {
          "base_uri": "https://localhost:8080/"
        },
        "id": "7KFlREfEVaco",
        "outputId": "17d99bbe-ab7e-4b31-fde9-ccee81c69042"
      },
      "outputs": [
        {
          "name": "stdout",
          "output_type": "stream",
          "text": [
            "python function\n",
            "programmers hello\n"
          ]
        }
      ],
      "source": [
        "def student(firstname,lastname):\n",
        "  print(firstname,lastname)\n",
        "\n",
        "student(firstname='python',lastname='function')\n",
        "student(lastname='hello',firstname=\"programmers\")"
      ]
    },
    {
      "cell_type": "code",
      "execution_count": null,
      "metadata": {
        "colab": {
          "base_uri": "https://localhost:8080/"
        },
        "id": "oGt3tS_OWOlS",
        "outputId": "6bfa2d1a-c774-4f1d-99cc-bec7dd57f4c2"
      },
      "outputs": [
        {
          "name": "stdout",
          "output_type": "stream",
          "text": [
            "the youngest child is linux\n"
          ]
        }
      ],
      "source": [
        "def my_function(*kids):\n",
        "  print(\"the youngest child is \"+kids[2])\n",
        "\n",
        "my_function(\"Emil\",\"Tobias\",\"linux\")"
      ]
    },
    {
      "cell_type": "code",
      "execution_count": null,
      "metadata": {
        "colab": {
          "base_uri": "https://localhost:8080/"
        },
        "id": "IwDZMz9bW-oo",
        "outputId": "3dd8d995-c201-47e4-89fe-1815990b171e"
      },
      "outputs": [
        {
          "name": "stdout",
          "output_type": "stream",
          "text": [
            "Hello\n",
            "Welcom\n",
            "to\n",
            "ipcs\n"
          ]
        }
      ],
      "source": [
        "def myfunction(*argv):\n",
        "  for x in argv:\n",
        "    print(x)\n",
        "\n",
        "myfunction(\"Hello\",'Welcom','to','ipcs')"
      ]
    },
    {
      "cell_type": "code",
      "execution_count": null,
      "metadata": {
        "colab": {
          "base_uri": "https://localhost:8080/"
        },
        "id": "e6yGun21azf3",
        "outputId": "71a28131-24ac-4188-c32b-cbec1e25ec2e"
      },
      "outputs": [
        {
          "name": "stdout",
          "output_type": "stream",
          "text": [
            "His first name is vigneshh\n"
          ]
        }
      ],
      "source": [
        "def my_function(**student):\n",
        "  print(\"His first name is \"+student[\"fname\"])\n",
        "\n",
        "my_function(fname=\"vigneshh\",lname=\"S\")\n"
      ]
    },
    {
      "cell_type": "code",
      "execution_count": null,
      "metadata": {
        "colab": {
          "base_uri": "https://localhost:8080/"
        },
        "id": "8T1CRhCodX_I",
        "outputId": "80aa2ba5-060e-480a-a430-69a4e76d0d9c"
      },
      "outputs": [
        {
          "name": "stdout",
          "output_type": "stream",
          "text": [
            "Iam from Sweden\n",
            "Iam from India\n",
            "Iam from Norway\n",
            "Iam from Brazil\n"
          ]
        }
      ],
      "source": [
        "def my_function(country=\"Norway\"):\n",
        "  print(\"Iam from \"+country)\n",
        "my_function(\"Sweden\")\n",
        "my_function(\"India\")\n",
        "my_function()\n",
        "my_function(\"Brazil\")"
      ]
    },
    {
      "cell_type": "code",
      "execution_count": null,
      "metadata": {
        "colab": {
          "base_uri": "https://localhost:8080/"
        },
        "id": "cm6d4ePEeZoL",
        "outputId": "d3a4902e-60b2-4289-e340-ca854a42bd83"
      },
      "outputs": [
        {
          "name": "stdout",
          "output_type": "stream",
          "text": [
            "apple\n",
            "banana\n",
            "cherry\n"
          ]
        }
      ],
      "source": [
        "def my_function(xyz):\n",
        "  for x in xyz:\n",
        "    print(x)\n",
        "fruits=[\"apple\",\"banana\",\"cherry\"]\n",
        "my_function(fruits)"
      ]
    },
    {
      "cell_type": "code",
      "execution_count": null,
      "metadata": {
        "colab": {
          "base_uri": "https://localhost:8080/"
        },
        "id": "aS8YDNMUijjx",
        "outputId": "41c26be4-e254-44d8-8d1d-4752f299e8d6"
      },
      "outputs": [
        {
          "name": "stdout",
          "output_type": "stream",
          "text": [
            "4\n",
            "16\n"
          ]
        }
      ],
      "source": [
        "def square_value(num):\n",
        "  return num**2\n",
        "print(square_value(2))\n",
        "print(square_value(-4))"
      ]
    },
    {
      "cell_type": "code",
      "execution_count": null,
      "metadata": {
        "colab": {
          "base_uri": "https://localhost:8080/"
        },
        "id": "YPwF5_wRjDOf",
        "outputId": "e936d3bf-b011-4b9c-9917-922af64b9c20"
      },
      "outputs": [
        {
          "name": "stdout",
          "output_type": "stream",
          "text": [
            "[30, 11, 13, 14, 15]\n"
          ]
        }
      ],
      "source": [
        "def myfunction(x):\n",
        "   x[0]=30\n",
        "\n",
        "lst=[9,11,13,14,15]\n",
        "myfunction(lst)\n",
        "print(lst)"
      ]
    },
    {
      "cell_type": "code",
      "execution_count": null,
      "metadata": {
        "colab": {
          "base_uri": "https://localhost:8080/"
        },
        "id": "PG_eJ_M2kJ4L",
        "outputId": "1ae2ec05-cb7c-4a2a-d4a1-cc2ab6508a23"
      },
      "outputs": [
        {
          "name": "stdout",
          "output_type": "stream",
          "text": [
            "i love python\n"
          ]
        }
      ],
      "source": [
        "def f1():\n",
        "  s='i love python'\n",
        "  def f2():\n",
        "    print(s)\n",
        "  f2()\n",
        "f1()"
      ]
    },
    {
      "cell_type": "markdown",
      "metadata": {
        "id": "_Rk8wMoVwQQu"
      },
      "source": [
        "LAmbda in python"
      ]
    },
    {
      "cell_type": "code",
      "execution_count": null,
      "metadata": {
        "colab": {
          "base_uri": "https://localhost:8080/"
        },
        "id": "XZxJN9tVYaGA",
        "outputId": "4725fea0-692e-434c-b983-efcf4765cd52"
      },
      "outputs": [
        {
          "name": "stdout",
          "output_type": "stream",
          "text": [
            "343\n",
            "125\n"
          ]
        }
      ],
      "source": [
        "def cube(y):\n",
        "  return y*y*y;\n",
        "g=lambda x:x*x*x\n",
        "print(g(7))\n",
        "print(cube(5))"
      ]
    },
    {
      "cell_type": "code",
      "execution_count": null,
      "metadata": {
        "colab": {
          "base_uri": "https://localhost:8080/"
        },
        "id": "HUVosXgNc9x7",
        "outputId": "5b7f769a-affb-4479-d2d7-e87bf2d56e68"
      },
      "outputs": [
        {
          "name": "stdout",
          "output_type": "stream",
          "text": [
            "now power is set to 2\n",
            "6 to power of 2 =  36\n",
            "Now power is set to 5\n",
            "8 power of 5= 32768\n"
          ]
        }
      ],
      "source": [
        "def power(n):\n",
        "  return lambda a : a**n\n",
        "base = power(2)  #base=lambda a**2 get returned to base\n",
        "print(\"now power is set to 2\")  #when calling base it get executed with already set with 2\n",
        "print(\"6 to power of 2 = \",base(6))\n",
        "#retuned to base\n",
        "base=power(5) #base = lambda a : a**5\n",
        "print(\"Now power is set to 5\")#when calling base it gets executed with already set with newly 2\n",
        "print(\"8 power of 5=\",base(8))"
      ]
    },
    {
      "cell_type": "markdown",
      "metadata": {
        "id": "CwhVtUQRwWVJ"
      },
      "source": [
        "filter funt and lambda"
      ]
    },
    {
      "cell_type": "code",
      "execution_count": null,
      "metadata": {
        "colab": {
          "base_uri": "https://localhost:8080/"
        },
        "id": "WMXF0qRxfoQq",
        "outputId": "48720404-5dc8-4cb1-98f4-bd200ab9f727"
      },
      "outputs": [
        {
          "name": "stdout",
          "output_type": "stream",
          "text": [
            "[100, 2, 8, 60, 4, 10]\n"
          ]
        }
      ],
      "source": [
        "a=[100,2,8,60,5,4,3,31,10,11]\n",
        "filtered=filter(lambda x:x%2==0,a)\n",
        "print(list(filtered))"
      ]
    },
    {
      "cell_type": "code",
      "execution_count": null,
      "metadata": {
        "colab": {
          "base_uri": "https://localhost:8080/"
        },
        "id": "JaD5TZPjvEW1",
        "outputId": "a933b4a7-832d-4ab1-8b89-fd3f7aaa0876"
      },
      "outputs": [
        {
          "name": "stdout",
          "output_type": "stream",
          "text": [
            "[True, True, True, True, False, True, False, False, True, False]\n"
          ]
        }
      ],
      "source": [
        "a=[100,2,8,60,5,4,3,31,10,11]\n",
        "maped=map(lambda x:x%2==0,a)\n",
        "print(list(maped))"
      ]
    },
    {
      "cell_type": "markdown",
      "metadata": {
        "id": "ZrGYRGUJlkKE"
      },
      "source": [
        "Global and Local Variabele"
      ]
    },
    {
      "cell_type": "code",
      "execution_count": null,
      "metadata": {
        "colab": {
          "base_uri": "https://localhost:8080/"
        },
        "id": "ao3LVEEZwiHd",
        "outputId": "4abc05d7-c1da-494f-eb2e-9c885e7c5a12"
      },
      "outputs": [
        {
          "name": "stdout",
          "output_type": "stream",
          "text": [
            "i love python\n"
          ]
        }
      ],
      "source": [
        "def myfunction():\n",
        "  print(s)\n",
        "s=\"i love python\" #Global Variable\n",
        "myfunction()\n"
      ]
    },
    {
      "cell_type": "code",
      "execution_count": null,
      "metadata": {
        "colab": {
          "base_uri": "https://localhost:8080/"
        },
        "id": "54rTqOR-1BpF",
        "outputId": "67c57159-f192-4890-b9ca-50bb0924cc59"
      },
      "outputs": [
        {
          "name": "stdout",
          "output_type": "stream",
          "text": [
            "Me too\n",
            "i love python\n"
          ]
        }
      ],
      "source": [
        "def myfunction():\n",
        "  s=\"Me too\" #LOcal variable\n",
        "  print(s)\n",
        "\n",
        "s=\"i love python\" #Global Variable\n",
        "myfunction()\n",
        "print(s)"
      ]
    },
    {
      "cell_type": "code",
      "execution_count": null,
      "metadata": {
        "colab": {
          "base_uri": "https://localhost:8080/"
        },
        "id": "1uW_IAjw2XG8",
        "outputId": "b9444f12-d7ee-4d87-cd26-bece9cb7a9ae"
      },
      "outputs": [
        {
          "name": "stdout",
          "output_type": "stream",
          "text": [
            "global :  1\n",
            "Inside f(): 1\n",
            "global :  1\n",
            "Inside g():  2\n",
            "global : 1\n",
            "inside h():  3\n",
            "global : 3\n"
          ]
        }
      ],
      "source": [
        "a=1\n",
        "def f():\n",
        "  print('Inside f():',a)   #Uses global because there is no local 'a'\n",
        "def g():\n",
        "  a=2                         #variable 'a' is redefined as local\n",
        "  print('Inside g(): ',a)\n",
        "def h():\n",
        "  global a                         #uses global keyword to modify global 'a'\n",
        "  a=3\n",
        "  print('inside h(): ',a)\n",
        "\n",
        "print('global : ',a)                 #Global Scope\n",
        "f()\n",
        "print('global : ',a)\n",
        "g()\n",
        "print('global :',a)\n",
        "h()\n",
        "print('global :',a)"
      ]
    },
    {
      "cell_type": "markdown",
      "metadata": {
        "id": "81tS_Gftonxi"
      },
      "source": [
        "1_function as objects"
      ]
    },
    {
      "cell_type": "code",
      "execution_count": null,
      "metadata": {
        "colab": {
          "base_uri": "https://localhost:8080/"
        },
        "id": "MAxSlpWA5Mu8",
        "outputId": "408e7391-50d9-4782-9f06-b943a8e715f8"
      },
      "outputs": [
        {
          "name": "stdout",
          "output_type": "stream",
          "text": [
            "HELLO\n",
            "HELLO\n"
          ]
        }
      ],
      "source": [
        "def shout(text):\n",
        "  return text.upper()\n",
        "\n",
        "print(shout('Hello'))\n",
        "yell=shout\n",
        "print(yell('Hello'))"
      ]
    },
    {
      "cell_type": "markdown",
      "metadata": {
        "id": "gzt3nOVkwXoD"
      },
      "source": [
        "2. function as argument"
      ]
    },
    {
      "cell_type": "code",
      "execution_count": null,
      "metadata": {
        "colab": {
          "base_uri": "https://localhost:8080/"
        },
        "id": "FX89Kqq2pJvC",
        "outputId": "256c8fef-8a19-4438-a02a-ea14e113174f"
      },
      "outputs": [
        {
          "name": "stdout",
          "output_type": "stream",
          "text": [
            "HI I AM CREATED BY A FUNCTION PASSED AS AN ARGUMENT.\n",
            "hi i am created by a function passed as an argument.\n"
          ]
        }
      ],
      "source": [
        "def shout(text):\n",
        "  return text.upper()\n",
        "def whisper(text):\n",
        "  return text.lower()\n",
        "def greet(func):\n",
        "  greeting=func(\"\"\"hi i am created by a function passed as an argument.\"\"\")  #storing the function in a variable\n",
        "  print(greeting)\n",
        "\n",
        "greet(shout)\n",
        "greet(whisper)"
      ]
    },
    {
      "cell_type": "markdown",
      "metadata": {
        "id": "_K7dI4kKwfsX"
      },
      "source": []
    },
    {
      "cell_type": "code",
      "execution_count": null,
      "metadata": {
        "colab": {
          "base_uri": "https://localhost:8080/"
        },
        "id": "9th4MWERqMSr",
        "outputId": "0ee6da69-8612-487f-e207-7e02b4714177"
      },
      "outputs": [
        {
          "name": "stdout",
          "output_type": "stream",
          "text": [
            "25\n"
          ]
        }
      ],
      "source": [
        "def create_adder(x):\n",
        "  def adder(y):\n",
        "    return x+y\n",
        "  return adder\n",
        "\n",
        "add_15=create_adder(15)\n",
        "print(add_15(10))"
      ]
    },
    {
      "cell_type": "code",
      "execution_count": null,
      "metadata": {
        "colab": {
          "base_uri": "https://localhost:8080/"
        },
        "id": "sJYwVQdU1poy",
        "outputId": "cddf0e6b-0739-4892-e9de-23ef31857528"
      },
      "outputs": [
        {
          "name": "stdout",
          "output_type": "stream",
          "text": [
            "The factorial of 5 is 120\n"
          ]
        }
      ],
      "source": [
        "def calc_factorial(x):\n",
        "  if x==1:\n",
        "    return 1\n",
        "  else:\n",
        "    return(x*calc_factorial(x-1))\n",
        "\n",
        "num=5\n",
        "print(\"The factorial of\",num,\"is\",calc_factorial(num))\n"
      ]
    },
    {
      "cell_type": "markdown",
      "metadata": {
        "id": "gJk5D0iLHdrS"
      },
      "source": [
        "QQ3"
      ]
    },
    {
      "cell_type": "markdown",
      "metadata": {
        "id": "Lx-4tmqkH6Id"
      },
      "source": [
        "Write a function that returns the square of a number.\n",
        "\n",
        "Create a function that takes two numbers and returns their sum.\n",
        "\n",
        "Write a function that checks if a number is even.\n",
        "\n",
        "Write a function that takes a string and returns it in uppercase.\n",
        "\n",
        "Write a function that returns the length of a list.\n",
        "\n",
        "Write a function that takes a number and returns True if it is positive, otherwise False.\n",
        "\n",
        "Write a function that accepts a name and returns a greeting like “Hello, John!”\n",
        "\n",
        "Write a function that takes a list of numbers and returns the maximum number.\n",
        "\n",
        "Create a function that takes a string and returns the number of vowels in it.\n",
        "\n",
        "Write a function that takes two parameters (price, tax rate) and returns the total price."
      ]
    },
    {
      "cell_type": "code",
      "execution_count": null,
      "metadata": {
        "colab": {
          "base_uri": "https://localhost:8080/"
        },
        "id": "PiR5P7QnH1dI",
        "outputId": "be5bc22f-35f3-4a01-917c-7b41902478de"
      },
      "outputs": [
        {
          "name": "stdout",
          "output_type": "stream",
          "text": [
            "4\n"
          ]
        }
      ],
      "source": [
        "1\n",
        "def f(x):\n",
        "  print(x**2)\n",
        "f(2)"
      ]
    },
    {
      "cell_type": "code",
      "execution_count": null,
      "metadata": {
        "id": "Pt5wj-WTIY0R"
      },
      "outputs": [],
      "source": [
        "2\n",
        "def f(x,y):\n",
        "  print(x+y)"
      ]
    },
    {
      "cell_type": "code",
      "execution_count": null,
      "metadata": {
        "colab": {
          "base_uri": "https://localhost:8080/"
        },
        "id": "47XfvMyyIpjF",
        "outputId": "249b2cb2-cbbf-4395-f9ca-cde25ec67817"
      },
      "outputs": [
        {
          "name": "stdout",
          "output_type": "stream",
          "text": [
            "even\n"
          ]
        }
      ],
      "source": [
        "def f(x):\n",
        "  if x%2==0:\n",
        "    print(\"even\")\n",
        "  elif x%2==1:\n",
        "    print(\"odd\")\n",
        "\n",
        "f(12)"
      ]
    },
    {
      "cell_type": "code",
      "execution_count": null,
      "metadata": {
        "colab": {
          "base_uri": "https://localhost:8080/"
        },
        "id": "WuljrzGFJRVg",
        "outputId": "0f870135-47af-42b4-98c3-1dfebb4b4e1a"
      },
      "outputs": [
        {
          "name": "stdout",
          "output_type": "stream",
          "text": [
            "APPLE\n"
          ]
        }
      ],
      "source": [
        "def f(x):\n",
        "  print(x.upper())\n",
        "f(\"apple\")"
      ]
    },
    {
      "cell_type": "code",
      "execution_count": null,
      "metadata": {
        "colab": {
          "base_uri": "https://localhost:8080/"
        },
        "id": "v9BowlXcJqGa",
        "outputId": "7c7f41dc-f377-4145-a4d3-76a968eccad4"
      },
      "outputs": [
        {
          "name": "stdout",
          "output_type": "stream",
          "text": [
            "3\n"
          ]
        }
      ],
      "source": [
        "def f(X):\n",
        "  print(len(X))\n",
        "a=['apple','orange','watermelon']\n",
        "f(a)"
      ]
    },
    {
      "cell_type": "code",
      "execution_count": null,
      "metadata": {
        "colab": {
          "base_uri": "https://localhost:8080/"
        },
        "id": "tvR0niAnKEPs",
        "outputId": "d97cf3e6-6502-426f-f748-166bef83fc11"
      },
      "outputs": [
        {
          "name": "stdout",
          "output_type": "stream",
          "text": [
            "false\n"
          ]
        }
      ],
      "source": [
        "def f(x):\n",
        "  if x>0:\n",
        "    print(\"true\")\n",
        "  elif x<0:\n",
        "    print(\"false\")\n",
        "f(-1)"
      ]
    },
    {
      "cell_type": "code",
      "execution_count": null,
      "metadata": {
        "colab": {
          "base_uri": "https://localhost:8080/"
        },
        "id": "fESF9TQjKi_C",
        "outputId": "f601e481-9b18-46d6-ce6d-72e58c1cc033"
      },
      "outputs": [
        {
          "name": "stdout",
          "output_type": "stream",
          "text": [
            "hello kfjid\n"
          ]
        }
      ],
      "source": [
        "def h(nam):\n",
        "  print('hello',nam)\n",
        "jdke=\"kfjid\"\n",
        "h(jdke)\n"
      ]
    },
    {
      "cell_type": "code",
      "execution_count": null,
      "metadata": {
        "colab": {
          "base_uri": "https://localhost:8080/"
        },
        "id": "GKy68bLAU631",
        "outputId": "d0fd430b-6eb6-4d93-8ea2-8250845f0084"
      },
      "outputs": [
        {
          "name": "stdout",
          "output_type": "stream",
          "text": [
            "76\n"
          ]
        }
      ],
      "source": [
        "def g(y):\n",
        "  for i in range(len(y)):\n",
        "    for v in range(len(y)):\n",
        "       if y[i]<y[v]:\n",
        "        x=y[v]\n",
        "\n",
        "  print(x)\n",
        "\n",
        "ui=[1,2,3,4,5,76,76,49]\n",
        "g(ui)\n"
      ]
    },
    {
      "cell_type": "code",
      "execution_count": null,
      "metadata": {
        "colab": {
          "base_uri": "https://localhost:8080/"
        },
        "id": "nibhXg7PM-95",
        "outputId": "89b40812-7463-409d-b0d5-ea700896dc4b"
      },
      "outputs": [
        {
          "name": "stdout",
          "output_type": "stream",
          "text": [
            "3\n"
          ]
        }
      ],
      "source": [
        "\n",
        "def h(s):\n",
        "   x=0\n",
        "   for i in range(len(s)):\n",
        "      if s[i]=='a':\n",
        "         x+=1\n",
        "      elif s[i]=='e':\n",
        "         x+=1\n",
        "      elif s[i]=='i':\n",
        "         x+=1\n",
        "      elif s[i]=='o':\n",
        "         x+=1\n",
        "      elif s[i]=='u':\n",
        "         x+=1\n",
        "   print(x)\n",
        "a=\"what is this\"\n",
        "h(a)"
      ]
    },
    {
      "cell_type": "code",
      "execution_count": null,
      "metadata": {
        "colab": {
          "base_uri": "https://localhost:8080/"
        },
        "id": "U8nO6v5x8fxR",
        "outputId": "2c122bf6-099c-413f-d6c1-ac11d5715934"
      },
      "outputs": [
        {
          "name": "stdout",
          "output_type": "stream",
          "text": [
            "3\n"
          ]
        }
      ],
      "source": [
        "def h(s):\n",
        "  x=0\n",
        "  a=\"aeiou\"\n",
        "  for i in range(len(s)):\n",
        "    for v in range(len(a)):\n",
        "      if a[v]==s[i]:\n",
        "        x+=1\n",
        "  print(x)\n",
        "\n",
        "b=\"iam happy\"\n",
        "h(b)"
      ]
    },
    {
      "cell_type": "code",
      "execution_count": null,
      "metadata": {
        "colab": {
          "base_uri": "https://localhost:8080/"
        },
        "id": "PlV3b1Q0HTEB",
        "outputId": "dbf2ae4e-2619-445c-91e4-bd8d636f7744"
      },
      "outputs": [
        {
          "name": "stdout",
          "output_type": "stream",
          "text": [
            "3\n"
          ]
        }
      ],
      "source": [
        "a=\"iam happy\"\n",
        "vowels=\"aeiou\"\n",
        "c=0\n",
        "for i in a:\n",
        "  if i in vowels:\n",
        "    c+=1\n",
        "\n",
        "print(c)"
      ]
    },
    {
      "cell_type": "code",
      "execution_count": null,
      "metadata": {
        "colab": {
          "base_uri": "https://localhost:8080/"
        },
        "id": "IC5sI9lt3Qzs",
        "outputId": "61915300-3e2b-46bc-c46f-5e68aaed0618"
      },
      "outputs": [
        {
          "name": "stdout",
          "output_type": "stream",
          "text": [
            "10222.0\n"
          ]
        }
      ],
      "source": [
        "def price(p,t):\n",
        "  print(p-(p*t/100))\n",
        "\n",
        "price(10760,5)"
      ]
    },
    {
      "cell_type": "markdown",
      "metadata": {
        "id": "OhCz0uTFKTPa"
      },
      "source": [
        "\n",
        "For Loop\n",
        "\n",
        "1-Print numbers from 1 to 10 using a for loop.\n",
        "\n",
        "2-Iterate through a list of fruits and print each fruit.\n",
        "\n",
        "3-Print the square of numbers from 1 to 5.\n",
        "\n",
        "4-Loop through a string and print each character.\n",
        "\n",
        "5-Use a for loop to sum all elements in a list.\n",
        "\n",
        "If Statement\n",
        "\n",
        "6-Check if a number is positive or negative.\n",
        "\n",
        "7-Check if a number is even or odd.\n",
        "\n",
        "8-Compare two numbers and print which one is greater.\n",
        "\n",
        "9-Check if a variable is equal to a specific value.\n",
        "\n",
        "10-Determine if a person is eligible to vote (age >= 18).\n",
        "\n",
        "Function\n",
        "\n",
        "11-Write a function to add two numbers.\n",
        "\n",
        "12-Write a function to return the square of a number.\n",
        "\n",
        "13-Write a function that takes a name and prints a greeting.\n",
        "\n",
        "14-Write a function to find the maximum of two numbers.\n",
        "\n",
        "15-Write a function to return True if a number is even."
      ]
    },
    {
      "cell_type": "code",
      "execution_count": null,
      "metadata": {
        "id": "Pz79mgiyK341"
      },
      "outputs": [],
      "source": [
        "#1\n",
        "for i in range(1,11):\n",
        "  print(i)"
      ]
    },
    {
      "cell_type": "code",
      "execution_count": null,
      "metadata": {
        "colab": {
          "base_uri": "https://localhost:8080/"
        },
        "id": "QboLeBVdLrt4",
        "outputId": "9c222e69-bc21-49e2-d3a5-f9c40dda7f13"
      },
      "outputs": [
        {
          "name": "stdout",
          "output_type": "stream",
          "text": [
            "apple\n",
            "orange\n",
            "mange\n",
            "watermelon\n"
          ]
        }
      ],
      "source": [
        "#2\n",
        "a=[\"apple\",\"orange\",\"mange\",\"watermelon\"]\n",
        "for i in a:\n",
        "  print(i)\n",
        "\n"
      ]
    },
    {
      "cell_type": "code",
      "execution_count": null,
      "metadata": {
        "colab": {
          "base_uri": "https://localhost:8080/"
        },
        "id": "2Ra4z6DSMIVb",
        "outputId": "d4b2ef07-c0ed-45d7-f58e-f96709615699"
      },
      "outputs": [
        {
          "name": "stdout",
          "output_type": "stream",
          "text": [
            "1\n",
            "4\n",
            "9\n",
            "16\n",
            "25\n"
          ]
        }
      ],
      "source": [
        "#3\n",
        "for i in range(1,6):\n",
        "  print(i**2)"
      ]
    },
    {
      "cell_type": "code",
      "execution_count": null,
      "metadata": {
        "colab": {
          "base_uri": "https://localhost:8080/"
        },
        "id": "xWKIZ3N9MYpH",
        "outputId": "66c962d1-e77d-4ed6-9462-ba6bdb9ac8dc"
      },
      "outputs": [
        {
          "name": "stdout",
          "output_type": "stream",
          "text": [
            "a\n",
            "p\n",
            "p\n",
            "l\n",
            "e\n"
          ]
        }
      ],
      "source": [
        "#4\n",
        "a=\"apple\"\n",
        "for i in a:\n",
        "  print(i)"
      ]
    },
    {
      "cell_type": "code",
      "execution_count": null,
      "metadata": {
        "colab": {
          "base_uri": "https://localhost:8080/"
        },
        "id": "yGB4hjaMMkfz",
        "outputId": "b4091836-82e6-4b25-a4a1-06ea7aa567e6"
      },
      "outputs": [
        {
          "name": "stdout",
          "output_type": "stream",
          "text": [
            "15\n"
          ]
        }
      ],
      "source": [
        "#5\n",
        "b=[1,2,3,4,5]\n",
        "x=0\n",
        "for i in b:\n",
        "  x+=i\n",
        "print(x)"
      ]
    },
    {
      "cell_type": "code",
      "execution_count": null,
      "metadata": {
        "colab": {
          "base_uri": "https://localhost:8080/"
        },
        "id": "QLz2V-WOM7a-",
        "outputId": "d7f4aca6-a21f-4f87-de34-107312fefaa7"
      },
      "outputs": [
        {
          "name": "stdout",
          "output_type": "stream",
          "text": [
            "positive\n"
          ]
        }
      ],
      "source": [
        "#6\n",
        "a=5\n",
        "if a>0:\n",
        "  print(\"positive\")\n",
        "else:\n",
        "  print(\"negative\")"
      ]
    },
    {
      "cell_type": "code",
      "execution_count": null,
      "metadata": {
        "colab": {
          "base_uri": "https://localhost:8080/"
        },
        "id": "ifKo6ESUNcfw",
        "outputId": "40108951-2beb-40d8-b600-d3d8b68157a4"
      },
      "outputs": [
        {
          "name": "stdout",
          "output_type": "stream",
          "text": [
            "odd\n"
          ]
        }
      ],
      "source": [
        "#7\n",
        "a=7\n",
        "if a%2==0:\n",
        "  print(\"even\")\n",
        "else:\n",
        "  print(\"odd\")"
      ]
    },
    {
      "cell_type": "code",
      "execution_count": null,
      "metadata": {
        "colab": {
          "base_uri": "https://localhost:8080/"
        },
        "id": "AYfI5p2_N7Xo",
        "outputId": "c30548b3-07f7-41cd-c790-075b85399653"
      },
      "outputs": [
        {
          "name": "stdout",
          "output_type": "stream",
          "text": [
            "b greater than a\n"
          ]
        }
      ],
      "source": [
        "#8\n",
        "a=12\n",
        "b=15\n",
        "if a>b:\n",
        "  print(\"a greater than b\")\n",
        "elif b>a:\n",
        "  print(\"b greater than a\")"
      ]
    },
    {
      "cell_type": "code",
      "execution_count": null,
      "metadata": {
        "colab": {
          "base_uri": "https://localhost:8080/"
        },
        "id": "bUTnbkMMO0d7",
        "outputId": "0fb05b5f-8aec-4e98-888d-875d8005d445"
      },
      "outputs": [
        {
          "name": "stdout",
          "output_type": "stream",
          "text": [
            "yes\n"
          ]
        }
      ],
      "source": [
        "#9\n",
        "a=0\n",
        "if a==0:\n",
        "  print(\"yes\")"
      ]
    },
    {
      "cell_type": "code",
      "execution_count": null,
      "metadata": {
        "colab": {
          "base_uri": "https://localhost:8080/"
        },
        "id": "4VAeSTGjPCZR",
        "outputId": "9673364f-296a-4ae9-b83e-51de1461ff08"
      },
      "outputs": [
        {
          "name": "stdout",
          "output_type": "stream",
          "text": [
            "cant vote\n"
          ]
        }
      ],
      "source": [
        "#10\n",
        "age=12\n",
        "if age>=20:\n",
        "  print(\"can vote\")\n",
        "elif age<20:\n",
        "  print(\"cant vote\")\n"
      ]
    },
    {
      "cell_type": "code",
      "execution_count": null,
      "metadata": {
        "id": "PEtky6_uPeMb"
      },
      "outputs": [],
      "source": [
        "#11\n",
        "def f(a,b):\n",
        "  print(a+b)"
      ]
    },
    {
      "cell_type": "code",
      "execution_count": null,
      "metadata": {
        "id": "ZeOoh9-iP6wv"
      },
      "outputs": [],
      "source": [
        "#12\n",
        "def g(a):\n",
        "  print(a**2)"
      ]
    },
    {
      "cell_type": "markdown",
      "metadata": {
        "id": "Cg0ykEVoQZiG"
      },
      "source": [
        "Intermediate Level\n",
        "\n",
        "For Loop\n",
        "\n",
        "1-Print all prime numbers between 1 and 100.\n",
        "\n",
        "2-Loop through a list of numbers and print only the even numbers.\n",
        "\n",
        "3-Loop through a list and create a new list with each element doubled.\n",
        "\n",
        "4-Iterate through a dictionary and print key-value pairs.\n",
        "\n",
        "5-Use nested for loops to print a multiplication table (1–10).\n",
        "\n",
        "If Statement\n",
        "\n",
        "6-Check if a number is divisible by both 3 and 5.\n",
        "\n",
        "7-Grade a student based on marks: A, B, C, D, F.\n",
        "\n",
        "8-Check if a string is a palindrome using an if block.\n",
        "\n",
        "9-Validate a password length and content.\n",
        "\n",
        "Function\n",
        "\n",
        "10-Write a function to calculate the factorial of a number.\n",
        "\n",
        "11-Write a function that reverses a string.\n",
        "\n",
        "12-Write a function that returns the sum of all elements in a list.\n",
        "\n",
        "13-Write a function that checks if a number is prime.\n",
        "\n",
        "14-Write a function that returns the Fibonacci sequence up to n.\n",
        "\n",
        "15-Write a function that receives a list of integers and returns the count of even and odd numbers using a for loop and if statement.\n",
        "\n",
        "16-Write a function that takes a list of numbers and returns a new list containing only elements greater than the average of the list.\n",
        "\n",
        "17-Write a function that takes two integers x and y, and prints numbers from 1 to 100. For multiples of x print \"Foo\" and for y print \"Bar\". For numbers which are multiples of both, print \"FooBar\".\n",
        "\n",
        "18-Write a function that takes a list of words and returns the longest one using a for loop and if condition.\n",
        "\n",
        "19-Write a function that takes two integers x and y, and prints numbers from 1 to 100. For multiples of x print \"Foo\" and for y print \"Bar\". For numbers which are multiples of both, print \"FooBar\"."
      ]
    },
    {
      "cell_type": "code",
      "execution_count": null,
      "metadata": {
        "collapsed": true,
        "id": "0Vyg6XaJQ90J"
      },
      "outputs": [],
      "source": [
        "#1\n",
        "for i in range(1,101):\n",
        "   for n in range(1,i):\n",
        "     if i%n==0:\n",
        "        pass\n",
        "     else:\n",
        "       x+=i\n",
        "   print(x)"
      ]
    },
    {
      "cell_type": "code",
      "execution_count": null,
      "metadata": {
        "colab": {
          "base_uri": "https://localhost:8080/"
        },
        "collapsed": true,
        "id": "_01wYWy8Tw5e",
        "outputId": "826047ab-8bd2-447f-c0ca-fefdc892bbf7"
      },
      "outputs": [
        {
          "name": "stdout",
          "output_type": "stream",
          "text": [
            "2\n",
            "4\n",
            "6\n",
            "8\n",
            "10\n"
          ]
        }
      ],
      "source": [
        "#2\n",
        "z=[1,2,3,4,5,6,7,8,9,10]\n",
        "for i in range(len(z)):\n",
        "  if z[i]%2==0:\n",
        "    print(z[i])"
      ]
    },
    {
      "cell_type": "code",
      "execution_count": null,
      "metadata": {
        "colab": {
          "base_uri": "https://localhost:8080/"
        },
        "id": "BZCv2I9gYW-_",
        "outputId": "67355ce6-dfe0-478b-d0ea-eb9452919643"
      },
      "outputs": [
        {
          "name": "stdout",
          "output_type": "stream",
          "text": [
            "[2, 4, 6, 8, 10, 12, 14, 16, 18, 20]\n"
          ]
        }
      ],
      "source": [
        "#3\n",
        "z=[1,2,3,4,5,6,7,8,9,10]\n",
        "u=[]\n",
        "for i in range(len(z)):\n",
        "  u.append(2*z[i])\n",
        "\n",
        "print(u)"
      ]
    },
    {
      "cell_type": "code",
      "execution_count": null,
      "metadata": {
        "colab": {
          "base_uri": "https://localhost:8080/"
        },
        "id": "43emf1tpY_p3",
        "outputId": "36d4ec02-8eec-4cf4-cc3b-c6593db03b69"
      },
      "outputs": [
        {
          "name": "stdout",
          "output_type": "stream",
          "text": [
            "car1 ford\n",
            "car2 toyota\n",
            "car3 bmw\n",
            "car4 mercedes benz\n",
            "car5 hyundai\n",
            "car6 honda\n"
          ]
        }
      ],
      "source": [
        "#4\n",
        "a={\n",
        "    \"car1\":\"ford\",\n",
        "    \"car2\":\"toyota\",\n",
        "    \"car3\":\"bmw\",\n",
        "    \"car4\":\"mercedes benz\",\n",
        "    \"car5\":\"hyundai\",\n",
        "    \"car6\":\"honda\"\n",
        "   }\n",
        "for i in a:\n",
        "  print(i,a[i])"
      ]
    },
    {
      "cell_type": "code",
      "execution_count": null,
      "metadata": {
        "id": "ZLiAVJc2aUnA"
      },
      "outputs": [],
      "source": [
        "#5\n",
        "for i in range(1,11):\n",
        "  for n in range(1,11):\n",
        "    print(i,'x',n,'=',i*n)\n",
        "\n"
      ]
    },
    {
      "cell_type": "code",
      "execution_count": null,
      "metadata": {
        "id": "gLLzwyDfbfOk"
      },
      "outputs": [],
      "source": [
        "#6\n",
        "a=15\n",
        "if a%3==0 and a%5==0:\n",
        "  print(\"divisible\")"
      ]
    },
    {
      "cell_type": "code",
      "execution_count": null,
      "metadata": {
        "id": "ejuADcPPbux2"
      },
      "outputs": [],
      "source": [
        "#7\n",
        "mark=29\n",
        "if mark>=10:\n",
        "  print(\"D\")\n",
        "elif mark>=20:\n",
        "  print(\"C\")\n",
        "elif mark>=30:\n",
        "  print(\"B\")\n",
        "elif mark>=40:\n",
        "  print(\"A\")"
      ]
    },
    {
      "cell_type": "code",
      "execution_count": null,
      "metadata": {
        "colab": {
          "base_uri": "https://localhost:8080/"
        },
        "id": "KGVX02Zbcya-",
        "outputId": "6d0ed9eb-af6e-40ed-8361-d967ab84ab28"
      },
      "outputs": [
        {
          "name": "stdout",
          "output_type": "stream",
          "text": [
            "True\n"
          ]
        }
      ],
      "source": [
        "#8\n",
        "w=\"level\"\n",
        "p=w[::-1]\n",
        "if w==p:\n",
        "  print(\"True\")\n",
        "else:\n",
        "  print(\"False\")"
      ]
    },
    {
      "cell_type": "code",
      "execution_count": null,
      "metadata": {
        "colab": {
          "base_uri": "https://localhost:8080/"
        },
        "id": "TAixvMMlc64a",
        "outputId": "44ce9d3d-24bc-4be9-b0c2-7fdc4f5f9756"
      },
      "outputs": [
        {
          "name": "stdout",
          "output_type": "stream",
          "text": [
            "car1234\n",
            "true\n"
          ]
        }
      ],
      "source": [
        "#9\n",
        "w=0\n",
        "p=\"car1234\"\n",
        "c=str(input())\n",
        "if p==c:\n",
        "  print(\"true\")\n",
        "else:\n",
        "  print(\"false\")"
      ]
    },
    {
      "cell_type": "code",
      "execution_count": null,
      "metadata": {
        "colab": {
          "base_uri": "https://localhost:8080/"
        },
        "id": "rTuqxZTheETm",
        "outputId": "b6a43f12-21e6-4617-ae1f-28a4704decfa"
      },
      "outputs": [
        {
          "name": "stdout",
          "output_type": "stream",
          "text": [
            "24\n"
          ]
        }
      ],
      "source": [
        "#10\n",
        "def f(x):\n",
        "  v=1\n",
        "  n=x+1\n",
        "  for i in range(1,n):\n",
        "      v*=i\n",
        "  print(v)\n",
        "f(4)"
      ]
    },
    {
      "cell_type": "code",
      "execution_count": null,
      "metadata": {
        "colab": {
          "base_uri": "https://localhost:8080/"
        },
        "id": "35EMClz7fkoy",
        "outputId": "1d9e0a11-67ca-41d0-bee6-35aad759520c"
      },
      "outputs": [
        {
          "name": "stdout",
          "output_type": "stream",
          "text": [
            "elppa\n"
          ]
        }
      ],
      "source": [
        "#11\n",
        "def g(z):\n",
        "  print(z[::-1])\n",
        "\n",
        "j=\"apple\"\n",
        "g(j)\n"
      ]
    },
    {
      "cell_type": "code",
      "execution_count": null,
      "metadata": {
        "colab": {
          "base_uri": "https://localhost:8080/"
        },
        "id": "SRqiZeCOf58-",
        "outputId": "44cb459a-493c-4e9e-b735-6b7c25935087"
      },
      "outputs": [
        {
          "name": "stdout",
          "output_type": "stream",
          "text": [
            "55\n"
          ]
        }
      ],
      "source": [
        "#12\n",
        "def h(x):\n",
        "    u=0\n",
        "    for i in range(len(x)):\n",
        "      u+=x[i]\n",
        "    print(u)\n",
        "fo=[1,2,3,4,5,6,7,8,9,10]\n",
        "h(fo)"
      ]
    },
    {
      "cell_type": "code",
      "execution_count": null,
      "metadata": {
        "colab": {
          "base_uri": "https://localhost:8080/"
        },
        "id": "uHO5yTt7g-3T",
        "outputId": "0a92faa7-778d-4132-c023-fcc549633dfc"
      },
      "outputs": [
        {
          "name": "stdout",
          "output_type": "stream",
          "text": [
            "not prime number\n"
          ]
        }
      ],
      "source": [
        "#13\n",
        "def k(n):\n",
        "  z=0\n",
        "  for i in range(2,(n-1)):\n",
        "    if n%i==0:\n",
        "      z=1\n",
        "      break\n",
        "    else:\n",
        "      z=0\n",
        "  if z==1:\n",
        "    print(\"not prime number\")\n",
        "  elif z==0:\n",
        "    print (\"prime number\")\n",
        "k(15)"
      ]
    },
    {
      "cell_type": "code",
      "execution_count": null,
      "metadata": {
        "colab": {
          "base_uri": "https://localhost:8080/"
        },
        "id": "wjfnxAF7E_bB",
        "outputId": "2b6f2d36-44ec-4c78-d0f5-5218319f1e05"
      },
      "outputs": [
        {
          "name": "stdout",
          "output_type": "stream",
          "text": [
            "[0, 1, 1, 2, 3, 5, 8, 13, 21, 34]\n"
          ]
        }
      ],
      "source": [
        "#14\n",
        "def g(n):\n",
        "  b=[0,1]\n",
        "  c=0\n",
        "  for i in range(n-2):\n",
        "    c=i+1\n",
        "    b.append(b[i]+b[c])\n",
        "  print(b)\n",
        "g(10)\n"
      ]
    },
    {
      "cell_type": "code",
      "execution_count": null,
      "metadata": {
        "colab": {
          "base_uri": "https://localhost:8080/"
        },
        "id": "uaNfb0UiiFWQ",
        "outputId": "922eb889-0d98-45ff-99b3-9fd225e6ba14"
      },
      "outputs": [
        {
          "name": "stdout",
          "output_type": "stream",
          "text": [
            "even nos = 4\n",
            "odd nos = 5\n"
          ]
        }
      ],
      "source": [
        "#16\n",
        "a=[1,2,3,4,5,6,7,8,9]\n",
        "def g(u):\n",
        "  x=0\n",
        "  y=0\n",
        "  for i in range(len(u)):\n",
        "    if u[i]%2==0:\n",
        "      x+=1\n",
        "    else:\n",
        "      y+=1\n",
        "  print(\"even nos =\",x)\n",
        "  print(\"odd nos =\",y)\n",
        "g(a)"
      ]
    },
    {
      "cell_type": "code",
      "execution_count": null,
      "metadata": {
        "colab": {
          "base_uri": "https://localhost:8080/"
        },
        "id": "SkAI9XYljN8Q",
        "outputId": "381aa8ca-3602-469f-b3b0-6f9ffcc80712"
      },
      "outputs": [
        {
          "name": "stdout",
          "output_type": "stream",
          "text": [
            "[20, 11, 13, 17]\n"
          ]
        }
      ],
      "source": [
        "#16\n",
        "a=[1,3,5,8,20,4,11,13,17]\n",
        "def n(y):\n",
        "  op=[]\n",
        "  j=len(y)\n",
        "  b=0\n",
        "  for i in range(j):\n",
        "    b+=y[i]\n",
        "  q=b/j\n",
        "\n",
        "  for v in range(j):\n",
        "    if y[v]>=q:\n",
        "      op.append(y[v])\n",
        "  print(op)\n",
        "\n",
        "n(a)"
      ]
    },
    {
      "cell_type": "code",
      "execution_count": null,
      "metadata": {
        "colab": {
          "base_uri": "https://localhost:8080/"
        },
        "collapsed": true,
        "id": "k21M9ReULWzQ",
        "outputId": "927a4ca3-3eff-4bf6-8d10-47317d17a617"
      },
      "outputs": [
        {
          "name": "stdout",
          "output_type": "stream",
          "text": [
            "3 foobar\n",
            "4 bar\n",
            "6 foobar\n",
            "8 bar\n",
            "9 foobar\n",
            "12 foobar\n",
            "15 foobar\n",
            "16 bar\n",
            "18 foobar\n",
            "20 bar\n",
            "21 foobar\n",
            "24 foobar\n",
            "27 foobar\n",
            "28 bar\n",
            "30 foobar\n",
            "32 bar\n",
            "33 foobar\n",
            "36 foobar\n",
            "39 foobar\n",
            "40 bar\n",
            "42 foobar\n",
            "44 bar\n",
            "45 foobar\n",
            "48 foobar\n",
            "51 foobar\n",
            "52 bar\n",
            "54 foobar\n",
            "56 bar\n",
            "57 foobar\n",
            "60 foobar\n",
            "63 foobar\n",
            "64 bar\n",
            "66 foobar\n",
            "68 bar\n",
            "69 foobar\n",
            "72 foobar\n",
            "75 foobar\n",
            "76 bar\n",
            "78 foobar\n",
            "80 bar\n",
            "81 foobar\n",
            "84 foobar\n",
            "87 foobar\n",
            "88 bar\n",
            "90 foobar\n",
            "92 bar\n",
            "93 foobar\n",
            "96 foobar\n",
            "99 foobar\n",
            "100 bar\n"
          ]
        }
      ],
      "source": [
        "#17\n",
        "def f(x,y):\n",
        "  for i in range(1,101):\n",
        "    if i%y==0 and i%x==0:\n",
        "      print(i,\"foobar\")\n",
        "    elif  i%y==0:\n",
        "      print(i,\"bar\")\n",
        "    elif i%x==0:\n",
        "      print(i,\"foobar\")\n",
        "\n",
        "f(3,4)"
      ]
    },
    {
      "cell_type": "code",
      "execution_count": null,
      "metadata": {
        "colab": {
          "base_uri": "https://localhost:8080/"
        },
        "id": "P8dq2qBINX96",
        "outputId": "924b7bc2-d072-4d3d-f33e-e7a09dda103d"
      },
      "outputs": [
        {
          "name": "stdout",
          "output_type": "stream",
          "text": [
            "watermelon\n"
          ]
        }
      ],
      "source": [
        "#18\n",
        "def g(x):\n",
        "  b=\"\"\n",
        "  for i in range(len(x)):\n",
        "    if len(x[i])>len(x[i-1]):\n",
        "      b=x[i]\n",
        "  print(b)\n",
        "\n",
        "h=[\"apple\",\"orange\",\"watermelon\"]\n",
        "g(h)\n"
      ]
    },
    {
      "cell_type": "markdown",
      "metadata": {
        "id": "djSVsKpZvqzV"
      },
      "source": [
        "26-Generate a Multiplication Table\n",
        "\n",
        "27-Write a function that prints a full multiplication table up to n × n using nested loops.\n",
        "\n",
        "28-Character Frequency Counter (Without Collections)\n",
        "Write a function that returns a dictionary showing how often each character appears in a string using for loops and if.\n",
        "\n",
        "29-Sort Numbers Based on Number of Factors\n",
        "Given a list of numbers, sort them by how many factors each number has (in ascending order).\n",
        "\n",
        "30-Simulate a Simple Calculator with Instructions\n",
        "Design a function that processes a list of strings like \"add 2\", \"multiply 3\", and updates a result accordingly, starting from zero."
      ]
    },
    {
      "cell_type": "code",
      "execution_count": null,
      "metadata": {
        "id": "rYfygad_UDjL"
      },
      "outputs": [],
      "source": [
        "#26\n",
        "for i in range(1,11):\n",
        "  for v in range(1,11):\n",
        "    print(i,'x',v,'=',i*v)"
      ]
    },
    {
      "cell_type": "code",
      "execution_count": null,
      "metadata": {
        "colab": {
          "base_uri": "https://localhost:8080/"
        },
        "id": "ewHtnQxsVAMx",
        "outputId": "483c396e-c8b3-4d47-8b1f-8c28b8cf882f"
      },
      "outputs": [
        {
          "name": "stdout",
          "output_type": "stream",
          "text": [
            "{'g': 15, 'n': 11}\n"
          ]
        }
      ],
      "source": [
        "#27\n",
        "ab=\"NNNNNNNNNNnnnnnnnnnnnGGGGGGGGGGGGGGGGGGGggggggggggHHHHHHHHHHggggg\"\n",
        "dict1={}\n",
        "di=['a','b','c','d','e','f','g','h','i','j','k','l','m','n','o','p','q','r','s','t','u','v','w','x','y','z']\n",
        "def f(jo):\n",
        "  xp=jo.lower()\n",
        "  a=0\n",
        "  b=0\n",
        "  c=0\n",
        "  d=0\n",
        "  e=0\n",
        "  f=0\n",
        "  g=0\n",
        "  h=0\n",
        "  i=0\n",
        "  j=0\n",
        "  k=0\n",
        "  l=0\n",
        "  m=0\n",
        "  n=0\n",
        "  o=0\n",
        "  p=0\n",
        "  q=0\n",
        "  r=0\n",
        "  s=0\n",
        "  t=0\n",
        "  u=0\n",
        "  v=0\n",
        "  w=0\n",
        "  x=0\n",
        "  y=0\n",
        "  z=0\n",
        "  for im in range(len(xp)):\n",
        "    if xp[im]=='a':\n",
        "      a+=1\n",
        "    elif xp[im]=='b':\n",
        "      b+=1\n",
        "    elif xp[im]=='c':\n",
        "      c+=1\n",
        "    elif xp[im]=='d':\n",
        "      d+=1\n",
        "    elif xp[im]=='e':\n",
        "      e+=1\n",
        "    elif xp[im]=='f':\n",
        "      f+=1\n",
        "    elif xp[im]=='g':\n",
        "      g+=1\n",
        "    elif xp[im]=='h':\n",
        "      h+=1\n",
        "    elif xp[im]=='i':\n",
        "      i+=1\n",
        "    elif xp[im]=='j':\n",
        "      j+=1\n",
        "    elif xp[im]=='k':\n",
        "      k+=1\n",
        "    elif xp[im]=='l':\n",
        "      l+=1\n",
        "    elif xp[im]=='m':\n",
        "      m+=1\n",
        "    elif xp[im]=='n':\n",
        "      n+=1\n",
        "    elif xp[im]=='o':\n",
        "      o+=1\n",
        "    elif xp[im]=='p':\n",
        "      p+=1\n",
        "    elif xp[im]=='q':\n",
        "      q+=1\n",
        "    elif xp[im]=='r':\n",
        "      r+=1\n",
        "    elif xp[im]=='s':\n",
        "      s+=1\n",
        "    elif xp[im]=='t':\n",
        "      t+=1\n",
        "    elif xp[im]=='u':\n",
        "      u+=1\n",
        "    elif xp[im]=='v':\n",
        "      v+=1\n",
        "    elif xp[im]=='w':\n",
        "      w+=1\n",
        "    elif xp[im]=='x':\n",
        "      x+=1\n",
        "    elif xp[im]=='y':\n",
        "      y+=1\n",
        "    elif xp[im]=='z':\n",
        "      z+=1\n",
        "\n",
        "  if \"a\" in xp:\n",
        "    dict1[\"a\"]=a\n",
        "  if \"b\" in xp:\n",
        "    dict1[\"b\"]=b\n",
        "  if \"c\" in xp:\n",
        "    dict1[\"c\"]=c\n",
        "  if \"d\" in xp:\n",
        "    dict1[\"d\"]=d\n",
        "  if \"e\" in xp:\n",
        "    dict1[\"e\"]=e\n",
        "  if \"f\" in xp:\n",
        "    dict1[\"f\"]=f\n",
        "  if \"g\" in xp:\n",
        "    dict1[\"g\"]=g\n",
        "  if \"h\" in xp:\n",
        "    dict1[\"h\"]=h\n",
        "  if \"i\" in xp:\n",
        "    dict1[\"i\"]=i\n",
        "  if \"j\" in xp:\n",
        "    dict1[\"j\"]=j\n",
        "  if \"k\" in xp:\n",
        "    dict1[\"k\"]=k\n",
        "  if \"l\" in xp:\n",
        "    dict1[\"l\"]=l\n",
        "  if \"m\" in xp:\n",
        "    dict1[\"m\"]=m\n",
        "  if \"n\" in xp:\n",
        "    dict1[\"n\"]=n\n",
        "  if \"o\" in xp:\n",
        "    dict1[\"o\"]=o\n",
        "  if \"p\" in xp:\n",
        "    dict1[\"p\"]=p\n",
        "  if \"q\" in xp:\n",
        "    dict1[\"q\"]=q\n",
        "  if \"r\" in xp:\n",
        "    dict1[\"r\"]=r\n",
        "  if \"s\" in xp:\n",
        "    dict1[\"s\"]=s\n",
        "  elif \"t\" in xp:\n",
        "    dict1[\"t\"]=t\n",
        "  if \"u\" in xp:\n",
        "    dict1[\"u\"]=u\n",
        "  if \"v\" in xp:\n",
        "    dict1[\"v\"]=v\n",
        "  if \"w\" in xp:\n",
        "    dict1[\"w\"]=w\n",
        "  if \"x\" in xp:\n",
        "    dict1[\"x\"]=x\n",
        "  if \"y\" in xp:\n",
        "    dict1[\"y\"]=y\n",
        "  if \"z\" in xp:\n",
        "    dict1[\"z\"]=z\n",
        "\n",
        "  print(dict1)\n",
        "f(ab)"
      ]
    },
    {
      "cell_type": "code",
      "execution_count": null,
      "metadata": {
        "colab": {
          "base_uri": "https://localhost:8080/"
        },
        "id": "_6yHn9flcPNj",
        "outputId": "2b4ed5fd-6667-4fff-bc5d-235c014a6444"
      },
      "outputs": [
        {
          "name": "stdout",
          "output_type": "stream",
          "text": [
            "[32, 36, 42, 48, 54, 68, 75, 99]\n"
          ]
        }
      ],
      "source": [
        "ag=[32,54,68,99,36,42,48,75]\n",
        "for i in range(1,len(ag)):\n",
        "  for v in range(1,len(ag)):\n",
        "    j=0\n",
        "    b=0\n",
        "    if ag[v]<ag[v-1]:\n",
        "       j=ag[v]\n",
        "       b=ag[v-1]\n",
        "       ag[v-1]=j\n",
        "       ag[v]=b\n",
        "\n",
        "print(ag)\n"
      ]
    },
    {
      "cell_type": "code",
      "execution_count": null,
      "metadata": {
        "colab": {
          "base_uri": "https://localhost:8080/"
        },
        "id": "TFVw-5kfuimV",
        "outputId": "eec84912-421a-4f8b-9005-5f9ae1c1776e"
      },
      "outputs": [
        {
          "name": "stdout",
          "output_type": "stream",
          "text": [
            "add 9\n"
          ]
        }
      ],
      "source": [
        "x=7\n",
        "y=2\n",
        "def f(a,b,c):\n",
        "  if c=='+':\n",
        "    print(\"add\",a+b)\n",
        "  if c=='-':\n",
        "    print(\"subtrat\",a-b)\n",
        "  if c=='*':\n",
        "    print(\"multiply\",a*b)\n",
        "  if c=='/':\n",
        "    print(\"divde\",a/b)\n",
        "  if c=='//':\n",
        "    print(\"int\",a//b)\n",
        "  if c=='%':\n",
        "    print(\"int\",a%b)\n",
        "\n",
        "f(x,y,'+')"
      ]
    },
    {
      "cell_type": "code",
      "execution_count": null,
      "metadata": {
        "colab": {
          "base_uri": "https://localhost:8080/"
        },
        "id": "LG4j0S1pjs6B",
        "outputId": "dfa535d4-010c-4b4a-d3a6-de46b5452b41"
      },
      "outputs": [
        {
          "name": "stdout",
          "output_type": "stream",
          "text": [
            "[2, 3, 4, 5, 6, 8, 14, 15, 17, 19, 20, 80]\n"
          ]
        }
      ],
      "source": [
        "\n",
        "def f(z):\n",
        "  h=0\n",
        "  y=0\n",
        "  for i in range(1,len(z)):\n",
        "    for t in range(1,len(z)):\n",
        "      if z[t]<z[t-1]:\n",
        "         h=z[t]\n",
        "         y=z[t-1]\n",
        "         z[t]=y\n",
        "         z[t-1]=h\n",
        "  print(z)\n",
        "\n",
        "u=[2,8,5,3,80,4,6,20,14,15,17,19]\n",
        "f(u)"
      ]
    },
    {
      "cell_type": "markdown",
      "metadata": {
        "id": "1hg4aLV0o5zQ"
      },
      "source": []
    },
    {
      "cell_type": "code",
      "execution_count": null,
      "metadata": {
        "colab": {
          "base_uri": "https://localhost:8080/"
        },
        "id": "G2cKENSQpDqE",
        "outputId": "12023991-b9e9-42b4-a572-b0fa971544aa"
      },
      "outputs": [
        {
          "name": "stdout",
          "output_type": "stream",
          "text": [
            "[13, 12, 11, 10, 9, 8, 7, 6, 5, 4, 3, 2, 1]\n"
          ]
        }
      ],
      "source": [
        "# create a list and reverse it without using slicing\n",
        "a=[1,2,3,4,5,6,7,8,9,10,11,12,13]\n",
        "b=[]\n",
        "x=0\n",
        "y=0\n",
        "z=len(a)\n",
        "for i in range(0,z):\n",
        "   y=a[z-1]\n",
        "   b.append(y)\n",
        "   z-=1\n",
        "\n",
        "print(b)"
      ]
    },
    {
      "cell_type": "code",
      "execution_count": null,
      "metadata": {
        "colab": {
          "base_uri": "https://localhost:8080/"
        },
        "id": "OtmCABCEuDxn",
        "outputId": "6b9ef1fb-d879-4d72-e166-46f026d7b855"
      },
      "outputs": [
        {
          "name": "stdout",
          "output_type": "stream",
          "text": [
            "[13, 12, 11, 10, 9, 8, 7, 6, 5, 4, 3, 2, 1]\n"
          ]
        }
      ],
      "source": [
        "a=[1,2,3,4,5,6,7,8,9,10,11,12,13]\n",
        "print(a[::-1])"
      ]
    },
    {
      "cell_type": "markdown",
      "metadata": {
        "id": "TTMMjg2M8Vvy"
      },
      "source": [
        "# Classs and Object"
      ]
    },
    {
      "cell_type": "markdown",
      "metadata": {
        "id": "aBuwXxGRsiS7"
      },
      "source": [
        "Class:\n",
        "A class is a user-definded blueprint or prototype in object-oriented programming\n",
        "It defines the structure (attributes) and begavior (methods) of objects.\n",
        "It serves as a template for creating multiple instances with shared behavior\n",
        "\n",
        "Object:\n",
        "An object is a specific instance of a class .\n",
        "It contains real values for the attributes defined by the class .\n",
        "It represents a tangible entity with both state (attributes) and behavior (method)\n",
        "\n",
        "Methods :\n",
        "In python's object - oriented programming (oop) methods are functions, defined inside a class that operate on it;s attributes and object\n",
        "Require the self parameter to accessor modify object data\n",
        "- Constructor:\n",
        "In python the consstructor is a special method used to intialize newly created objects. the keyword used for the constructor is init\n",
        "purpose of the constructor( _ init _ ):\n",
        "\n",
        "Initialize object attributes: Sets the initial state pf an object by assigning vlaues of it's attributes\n",
        "\n",
        "Automatically invoked: It is called automatically when a new object of the class is created\n",
        "\n",
        " def __init__ (self, parameters):\n",
        "    # Initialization code\n",
        "- Self Paramter :\n",
        "The self paramete is used in instance methods to refer to the specific object that is calling the method, It allowed acces to the instances attributes and other method\n",
        "Key Points about self:\n",
        "1) refer to the current insance: self represent the instances of the class. It used to access varriables and methods that belong to the object\n",
        "2) Passed automatically : when calling a method on aan object, python automatically passes the object as the first argurment ( self )\n",
        "3) Not a keyword : Self is a convention , not a reserved keyword, you can use other names, but using self is best practice\n",
        "Class attributes\n",
        "In python;s object-oriented programming (oop) , attributes are variables associated with a class and its objects\n",
        "\n",
        "1) Instance attributes:\n",
        "\n",
        "Belong to specific instances ( objects ) of a class\n",
        "Definedusing self inside methods ( typically in the constructor )\n",
        "Each object has it's own copy of these attributes"
      ]
    },
    {
      "cell_type": "code",
      "execution_count": null,
      "metadata": {
        "colab": {
          "base_uri": "https://localhost:8080/"
        },
        "id": "VL2FAMmRy4ss",
        "outputId": "aae7e001-2d8f-42fb-ea2c-1767a3f6b1c5"
      },
      "outputs": [
        {
          "name": "stdout",
          "output_type": "stream",
          "text": [
            "let's make a phone call\n",
            "Lets's play a game\n"
          ]
        }
      ],
      "source": [
        "class phone:                # making phone class             @\n",
        "  def make_call(self):      # fuction making  always use self as parameter\n",
        "     print(\"let's make a phone call\")\n",
        "\n",
        "  def play_game(self):    # method\n",
        "      print(\"Lets's play a game\")\n",
        "\n",
        "p1=phone()   #making an object\n",
        "p1.make_call()\n",
        "p1.play_game()"
      ]
    },
    {
      "cell_type": "markdown",
      "metadata": {
        "id": "IH9QI5P_duCc"
      },
      "source": [
        "Adding parameter to the class"
      ]
    },
    {
      "cell_type": "code",
      "execution_count": null,
      "metadata": {
        "colab": {
          "base_uri": "https://localhost:8080/"
        },
        "id": "DsmbGBcG9nPA",
        "outputId": "5cfa6882-54d3-478e-8d1b-52c52ea3bcbd"
      },
      "outputs": [
        {
          "data": {
            "text/plain": [
              "5000"
            ]
          },
          "execution_count": 2,
          "metadata": {},
          "output_type": "execute_result"
        }
      ],
      "source": [
        "class Phone:                              # making phone clas\n",
        "  def make_call(self):\n",
        "    print(\"lets make a phome call\")       # fuction making  always use selff as parameter\n",
        "\n",
        "  def play_game(self):\n",
        "    print(\"Lets play a game\")\n",
        "\n",
        "  def set_color(self,color):              #adding new paramters and  creating new function\n",
        "    self.color= color\n",
        "\n",
        "  def set_cost(self,cost):\n",
        "    self.cost= cost\n",
        "\n",
        "  def show_color(self):\n",
        "    return self.color\n",
        "\n",
        "  def show_cost(self):\n",
        "    return self.cost"
      ]
    },
    {
      "cell_type": "code",
      "execution_count": null,
      "metadata": {
        "id": "ed-CebnGr8-B"
      },
      "outputs": [],
      "source": [
        "p2=Phone()"
      ]
    },
    {
      "cell_type": "code",
      "execution_count": null,
      "metadata": {
        "id": "rfm8S_SKsAds"
      },
      "outputs": [],
      "source": [
        "p2.set_color('blue')"
      ]
    },
    {
      "cell_type": "code",
      "execution_count": null,
      "metadata": {
        "id": "p42RGy6qsC6B"
      },
      "outputs": [],
      "source": [
        "p2.set_cost(5000)"
      ]
    },
    {
      "cell_type": "code",
      "execution_count": null,
      "metadata": {
        "colab": {
          "base_uri": "https://localhost:8080/",
          "height": 36
        },
        "id": "ejlehZNOsE_z",
        "outputId": "5df32bb2-5c92-4b47-ecdd-2986b5c73590"
      },
      "outputs": [
        {
          "data": {
            "application/vnd.google.colaboratory.intrinsic+json": {
              "type": "string"
            },
            "text/plain": [
              "'blue'"
            ]
          },
          "execution_count": 50,
          "metadata": {},
          "output_type": "execute_result"
        }
      ],
      "source": [
        "p2.show_color()"
      ]
    },
    {
      "cell_type": "code",
      "execution_count": null,
      "metadata": {
        "colab": {
          "base_uri": "https://localhost:8080/"
        },
        "id": "Y8Gn_6TQsG-z",
        "outputId": "264ccbac-f1da-4fdf-8996-02432acaf9fa"
      },
      "outputs": [
        {
          "data": {
            "text/plain": [
              "5000"
            ]
          },
          "execution_count": 11,
          "metadata": {},
          "output_type": "execute_result"
        }
      ],
      "source": [
        "p2.show_cost()"
      ]
    },
    {
      "cell_type": "markdown",
      "metadata": {
        "id": "REda3XfRd1za"
      },
      "source": [
        "Creating a class with costructor"
      ]
    },
    {
      "cell_type": "code",
      "execution_count": null,
      "metadata": {
        "id": "S5ys87JQ9rcS"
      },
      "outputs": [],
      "source": [
        "class Employee:\n",
        "    def __init__(self, name,age,salary,gender):  #init method is constructor\n",
        "      self.name=name\n",
        "      self.age=age\n",
        "      self.salary=salary\n",
        "      self.gender=gender\n",
        "\n",
        "    def employee_details(self):\n",
        "      print(\"Name of the employee is\",self.name)\n",
        "      print(\"age of the employee is\",self.age)\n",
        "      print(\"salary of the emploeyee is\",self.salary)\n",
        "      print(\"gender of the employee is\",self.gender)"
      ]
    },
    {
      "cell_type": "code",
      "execution_count": null,
      "metadata": {
        "id": "NsPjvtNmKqtn"
      },
      "outputs": [],
      "source": [
        "e1=Employee(\"Sam\",32,85000,\"Male\")"
      ]
    },
    {
      "cell_type": "code",
      "execution_count": null,
      "metadata": {
        "colab": {
          "base_uri": "https://localhost:8080/"
        },
        "id": "cnVFdYBDLAJe",
        "outputId": "5858aaa7-a052-4b0b-853d-ad54d9fa013f"
      },
      "outputs": [
        {
          "name": "stdout",
          "output_type": "stream",
          "text": [
            "Name of the employee is Sam\n",
            "age of the employee is 32\n",
            "salary of the emploeyee is 85000\n",
            "gender of the employee is Male\n"
          ]
        }
      ],
      "source": [
        "e1.employee_details()"
      ]
    },
    {
      "cell_type": "code",
      "execution_count": null,
      "metadata": {
        "id": "XEdNCHAHtJKM"
      },
      "outputs": [],
      "source": [
        "class car:\n",
        "  def __init__(self,name,model,year,color):\n",
        "    self.name=name\n",
        "    self.model=model\n",
        "    self.year=year\n",
        "    self.color=color\n",
        "\n",
        "  def car_detail(self):\n",
        "    print(\"Name=\",self.name)\n",
        "    print(\"Model=\",self.model)\n",
        "    print(\"Year=\",self.year)\n",
        "    print(\"color=\",self.color)"
      ]
    },
    {
      "cell_type": "code",
      "execution_count": null,
      "metadata": {
        "id": "K3R6VuYsymsk"
      },
      "outputs": [],
      "source": [
        "c1= car(\"Toyota\",\"Vellfire\",2024,\"white\")"
      ]
    },
    {
      "cell_type": "code",
      "execution_count": null,
      "metadata": {
        "colab": {
          "base_uri": "https://localhost:8080/"
        },
        "id": "OAxLNa5szYL4",
        "outputId": "42261e5f-cab1-438c-bf66-4ab01845dda1"
      },
      "outputs": [
        {
          "name": "stdout",
          "output_type": "stream",
          "text": [
            "Name= Toyota\n",
            "Model= Vellfire\n",
            "Year= 2024\n",
            "color= white\n"
          ]
        }
      ],
      "source": [
        "c1.car_detail()"
      ]
    },
    {
      "cell_type": "markdown",
      "metadata": {
        "id": "YvYgn1bQeIM8"
      },
      "source": [
        "## Methods and construcrtor"
      ]
    },
    {
      "cell_type": "markdown",
      "metadata": {
        "id": "O058do9Qsxmj"
      },
      "source": [
        "-Methods :\n",
        "In python's object - oriented programming (oop) methods are functions, defined inside a class that operate on its attributes and object\n",
        "Require the self parameter to accessor modify object data\n",
        "\n",
        "- Constructor:\n",
        "In python the consstructor is a special method used to intialize newly created objects. the keyword used for the constructor is init\n",
        "purpose of the constructor( __init__ ):\n",
        "\n",
        "Initialize object attributes: Sets the initial state of an object by assigning values of it's attributes\n",
        "\n",
        "Automatically invoked: It is called automatically when a new object of the class is created"
      ]
    },
    {
      "cell_type": "code",
      "execution_count": null,
      "metadata": {
        "colab": {
          "base_uri": "https://localhost:8080/"
        },
        "id": "abfHnpOSDfdl",
        "outputId": "29c25baa-f5ef-42df-8849-d9b86ce1b20d"
      },
      "outputs": [
        {
          "name": "stdout",
          "output_type": "stream",
          "text": [
            "hello NEXON\n",
            "and color is brown\n"
          ]
        }
      ],
      "source": [
        "class Cars:\n",
        "  #class variable\n",
        "  fourwheeler='cars'\n",
        "  #The int method or constructor\n",
        "  def __init__(self,brand,color):\n",
        "    #instance variable\n",
        "    self.brand=brand\n",
        "    self.color=color\n",
        "\n",
        "  def fun(self):\n",
        "    print(\"hello\",self.brand)\n",
        "    print(\"and color is\",self.color)\n",
        "    #objects of cars class\n",
        "TATA=Cars(\"NEXON\",\"brown\")\n",
        "mustang=Cars(\"ford\",\"orange\")\n",
        "TATA.fun()"
      ]
    },
    {
      "cell_type": "code",
      "execution_count": null,
      "metadata": {
        "colab": {
          "base_uri": "https://localhost:8080/"
        },
        "id": "OQK4qAUeFpbS",
        "outputId": "33e5537d-900e-4849-e092-93d4d78f3e60"
      },
      "outputs": [
        {
          "name": "stdout",
          "output_type": "stream",
          "text": [
            "hello\n"
          ]
        }
      ],
      "source": [
        "class Myclass:\n",
        "  #default constructor\n",
        "  def __init__(self):\n",
        "    self.hello=\"hello\"\n",
        "  #a method for printing data members\n",
        "  def print_hello(self):\n",
        "    print(self.hello)\n",
        "#creating object of class\n",
        "obj=Myclass()\n",
        "#calling the instance method using  object obj\n",
        "obj.print_hello()"
      ]
    },
    {
      "cell_type": "code",
      "execution_count": null,
      "metadata": {
        "colab": {
          "base_uri": "https://localhost:8080/"
        },
        "id": "IIbL6qs8G3rN",
        "outputId": "e5677ba0-4bcd-47c6-c4c7-e25ed966da4e"
      },
      "outputs": [
        {
          "name": "stdout",
          "output_type": "stream",
          "text": [
            "Frst number=2000\n",
            "SEcond number2000\n",
            "addition of 2 numbers=4000\n"
          ]
        }
      ],
      "source": [
        "#eg of parameterised constructors\n",
        "class Myclass:\n",
        "  first=0\n",
        "  second=0\n",
        "  answer=0\n",
        "  #parameterised constructor\n",
        "  def __init__(self,f,s):\n",
        "    self.first=f\n",
        "    self.second=s\n",
        "  def display(self):\n",
        "    print(\"Frst number=\"+str(self.first))\n",
        "    print(\"SEcond number\"+str(self.second))\n",
        "    print(\"addition of 2 numbers=\"+str(self.answer))\n",
        "\n",
        "  def calculate(self):\n",
        "    self.answer=self.first+self.second\n",
        "\n",
        "#Creating object of the class, this willinvoke parameterized constructor\n",
        "obj=Myclass(2000,2000)\n",
        "#perforem alddition\n",
        "obj.calculate()\n",
        "#display result\n",
        "obj.display()\n"
      ]
    },
    {
      "cell_type": "code",
      "execution_count": null,
      "metadata": {
        "colab": {
          "base_uri": "https://localhost:8080/"
        },
        "id": "QP8VOMLRQlRH",
        "outputId": "7274dd36-c005-40ce-aef2-2d2018234146"
      },
      "outputs": [
        {
          "name": "stdout",
          "output_type": "stream",
          "text": [
            "power of ninja= 90\n",
            "power of ninja= 100\n",
            "after doubling the power\n",
            "power of ninja 180\n",
            "damage of ninja 90\n"
          ]
        }
      ],
      "source": [
        "class charecter:\n",
        "\n",
        "  def __init__(self,health,damage,power):\n",
        "    self.health=health\n",
        "    self.damage=damage\n",
        "    self.power=power\n",
        "\n",
        "  def double(self):\n",
        "    self.power=self.power*2\n",
        "    self.damage=self.damage*3\n",
        "ninja=charecter(100,30,90)\n",
        "warrior=charecter(200,40,95)\n",
        "print(\"power of ninja=\",ninja.power)\n",
        "print(\"power of ninja=\",ninja.health)\n",
        "ninja.double()\n",
        "print(\"after doubling the power\")\n",
        "print(\"power of ninja\",ninja.power)\n",
        "print(\"damage of ninja\",ninja.damage)"
      ]
    },
    {
      "cell_type": "code",
      "execution_count": null,
      "metadata": {
        "colab": {
          "base_uri": "https://localhost:8080/"
        },
        "id": "lssi7ZXwSrWM",
        "outputId": "4612c84f-7158-48b7-ee22-2cb8304d54a2"
      },
      "outputs": [
        {
          "name": "stdout",
          "output_type": "stream",
          "text": [
            "hello i am ninja\n",
            "Health of ninja: 0\n",
            "ninja is dead\n",
            "warrior is alive\n",
            ".........................\n",
            "name of player is warrior\n",
            "health of the player is 200\n",
            "damage of player is 40\n",
            "power of player is 95\n",
            "\n",
            ".........................\n",
            "name of player is ninja\n",
            "health of the player is 0\n",
            "damage of player is 30\n",
            "power of player is 90\n",
            "\n"
          ]
        }
      ],
      "source": [
        "class charecter:\n",
        "  def __init__(self,name,health,damage,power):\n",
        "    self.name=name\n",
        "    self.health=health\n",
        "    self.damage=damage\n",
        "    self.power=power\n",
        "\n",
        "  def hai(self):\n",
        "    print(\"hello i am\",self.name)\n",
        "\n",
        "  def is_alive(self):\n",
        "    if self.health<=0:\n",
        "      print(self.name,\"is dead\")\n",
        "    else:\n",
        "      print(self.name,\"is alive\")\n",
        "\n",
        "  def player_details(self):\n",
        "    print(\".....\"*5)\n",
        "    print(\"name of player is\",self.name)\n",
        "    print(\"health of the player is\",self.health)\n",
        "    print(\"damage of player is\",self.damage)\n",
        "    print(\"power of player is\",self.power)\n",
        "    print()\n",
        "\n",
        "ninja=charecter(\"ninja\",100,30,90)\n",
        "warrior=charecter(\"warrior\",200,40,95)\n",
        "\n",
        "ninja.hai()\n",
        "ninja.health=0\n",
        "print(\"Health of ninja:\",ninja.health)\n",
        "ninja.is_alive()\n",
        "warrior.is_alive()\n",
        "\n",
        "warrior.player_details()\n",
        "ninja.player_details()\n"
      ]
    },
    {
      "cell_type": "markdown",
      "metadata": {
        "id": "ruVc2DYkKhh6"
      },
      "source": [
        "##OOP's Inheritence\n",
        "\n",
        "Inheritance is a fundemental concept of object-oriented programming(oop) that allows a class (child or derived class) to acquire the attributes and methods of another class (parent or base class), it facilitates code reusability, modularity, and the creation hierarchical relationships b/w classes. Promoting efficient code management and reducing redundancy.\n",
        "\n",
        "Types of inheritance\n",
        "\n",
        "1) Single inheritance:\n",
        "A derived class inherits form a single parent class, gaining access to its properites and methods\n",
        "\n",
        "2) Multilevel inhertance:\n",
        "A class inherits from another derived class, froming a chain of inheritance.\n",
        "\n",
        "3) Hierarchial inheritance:\n",
        "Multiple derived classes inherit from a single parent class, allowing shared behavior across different subcalsses\n",
        "\n",
        "4) Multiple Inheritance:\n",
        "A single derived class inhert from multiple parent classes, combining function from different sources.\n",
        "\n",
        "Hybrid inheritance\n",
        "Hybrid inheritance is a combination of two or more types of inheritance (such as single, multiple, multilevel, or hierarchial inheritance) in a single program. It allows a more complex class hierarchy to be created, leveraging the benefits of different inheritance types."
      ]
    },
    {
      "cell_type": "markdown",
      "metadata": {
        "id": "FF1Mq_NHdWTO"
      },
      "source": [
        "### Single Inheritance"
      ]
    },
    {
      "cell_type": "code",
      "execution_count": null,
      "metadata": {
        "colab": {
          "base_uri": "https://localhost:8080/",
          "height": 238
        },
        "id": "WJ3vQfz5KrCW",
        "outputId": "515bcfc8-8a1b-4acf-f04f-5ac5ee0532ce"
      },
      "outputs": [
        {
          "name": "stdout",
          "output_type": "stream",
          "text": [
            "dog barking\n",
            "animal speaking\n",
            "animal speaking\n"
          ]
        },
        {
          "ename": "AttributeError",
          "evalue": "'animal' object has no attribute 'bark'",
          "output_type": "error",
          "traceback": [
            "\u001b[0;31m---------------------------------------------------------------------------\u001b[0m",
            "\u001b[0;31mAttributeError\u001b[0m                            Traceback (most recent call last)",
            "\u001b[0;32m<ipython-input-1-9fccc99a806d>\u001b[0m in \u001b[0;36m<cell line: 0>\u001b[0;34m()\u001b[0m\n\u001b[1;32m     13\u001b[0m \u001b[0ma\u001b[0m\u001b[0;34m=\u001b[0m\u001b[0manimal\u001b[0m\u001b[0;34m(\u001b[0m\u001b[0;34m)\u001b[0m\u001b[0;34m\u001b[0m\u001b[0;34m\u001b[0m\u001b[0m\n\u001b[1;32m     14\u001b[0m \u001b[0ma\u001b[0m\u001b[0;34m.\u001b[0m\u001b[0mspeak\u001b[0m\u001b[0;34m(\u001b[0m\u001b[0;34m)\u001b[0m\u001b[0;34m\u001b[0m\u001b[0;34m\u001b[0m\u001b[0m\n\u001b[0;32m---> 15\u001b[0;31m \u001b[0ma\u001b[0m\u001b[0;34m.\u001b[0m\u001b[0mbark\u001b[0m\u001b[0;34m(\u001b[0m\u001b[0;34m)\u001b[0m\u001b[0;34m\u001b[0m\u001b[0;34m\u001b[0m\u001b[0m\n\u001b[0m",
            "\u001b[0;31mAttributeError\u001b[0m: 'animal' object has no attribute 'bark'"
          ]
        }
      ],
      "source": [
        "class animal:  #parent class\n",
        "  def speak(self):\n",
        "    print(\"animal speaking\")\n",
        "\n",
        "class dog(animal):  #child class (inheritance)\n",
        "  def bark(self):\n",
        "    print(\"dog barking\")\n",
        "\n",
        "d=dog()\n",
        "d.bark()\n",
        "d.speak()  #we call class method thorough chile class(inheritance)\n",
        "\n",
        "a=animal()\n",
        "a.speak()\n",
        "a.bark()  #attribute error: 'Animal' obj has no attribute 'bark' (because the original class have no connection with chilld behavior/child method)"
      ]
    },
    {
      "cell_type": "code",
      "execution_count": null,
      "metadata": {
        "colab": {
          "base_uri": "https://localhost:8080/"
        },
        "id": "7qiapm8oMsKo",
        "outputId": "7fa9ddd1-d20e-47b5-f2fe-417855564a62"
      },
      "outputs": [
        {
          "name": "stdout",
          "output_type": "stream",
          "text": [
            "there is green flower\n",
            "leaf has green color\n"
          ]
        }
      ],
      "source": [
        "class plant:\n",
        "  def flower(self):\n",
        "    print(\"there is green flower\")\n",
        "\n",
        "class leaf(plant):\n",
        "  def color(self):\n",
        "    print(\"leaf has green color\")\n",
        "\n",
        "po=leaf()\n",
        "po.flower()\n",
        "po.color()"
      ]
    },
    {
      "cell_type": "code",
      "execution_count": null,
      "metadata": {
        "colab": {
          "base_uri": "https://localhost:8080/"
        },
        "id": "Ch8tXrbPOtyG",
        "outputId": "c5c723c3-bb82-408d-f728-1ea29f8e03f0"
      },
      "outputs": [
        {
          "name": "stdout",
          "output_type": "stream",
          "text": [
            "vehicle is starting..\n",
            "car is being drive\n",
            "vehicle is stopping..\n"
          ]
        }
      ],
      "source": [
        "class vehicle:\n",
        "  def start(self):\n",
        "    print(\"vehicle is starting..\")\n",
        "  def stop(self):\n",
        "    print(\"vehicle is stopping..\")\n",
        "\n",
        "class car(vehicle):\n",
        "  def drive(self):\n",
        "    print(\"car is being drive\")\n",
        "\n",
        "my_car=car()\n",
        "my_car.start()\n",
        "my_car.drive()\n",
        "my_car.stop()\n"
      ]
    },
    {
      "cell_type": "markdown",
      "metadata": {
        "id": "NRxMcSp1db0J"
      },
      "source": [
        "### 2-Multilevel inheritance"
      ]
    },
    {
      "cell_type": "code",
      "execution_count": null,
      "metadata": {
        "colab": {
          "base_uri": "https://localhost:8080/"
        },
        "id": "PjuXN3qdTmGq",
        "outputId": "802a23f0-32bc-4ac0-829e-bda9fb2ecd49"
      },
      "outputs": [
        {
          "name": "stdout",
          "output_type": "stream",
          "text": [
            "dog barking.,\n",
            "animal speaking\n",
            "\n",
            "dog barking.,\n",
            "animal speaking\n",
            "Eating bread..\n"
          ]
        }
      ],
      "source": [
        "class Animal:\n",
        "  def speak(self):\n",
        "    print(\"animal speaking...\")\n",
        "\n",
        "class dog(animal):          #child class (inheritance)\n",
        "  def bark(self):\n",
        "    print(\"dog barking.,\")\n",
        "\n",
        "class dogchild(dog):    #multilevel inheritance\n",
        "  def eat(self):\n",
        "    print(\"Eating bread..\")\n",
        "\n",
        "d=dog()\n",
        "d.bark()\n",
        "d.speak()\n",
        "#d.eat()   #AttributeError: 'Dog' object has no attribute 'eat'\n",
        "\n",
        "print()\n",
        "\n",
        "d1=dogchild()  #multilevel child has all attribute\n",
        "d1.bark()\n",
        "d1.speak()\n",
        "d1.eat()"
      ]
    },
    {
      "cell_type": "code",
      "execution_count": null,
      "metadata": {
        "colab": {
          "base_uri": "https://localhost:8080/"
        },
        "id": "QVNCz0biVl1o",
        "outputId": "77695a91-3277-4849-d917-c07106ec868c"
      },
      "outputs": [
        {
          "name": "stdout",
          "output_type": "stream",
          "text": [
            "delhi is capital of india\n",
            "asia 48 countries\n",
            "delhi is capital of india\n",
            "Thiruvanthapuram is the capital\n",
            "asia 48 countries\n"
          ]
        }
      ],
      "source": [
        "class world:\n",
        "  def asia(self):\n",
        "    print(\"asia 48 countries\")\n",
        "\n",
        "class india(world):\n",
        "  def capital(self):\n",
        "    print(\"delhi is capital of india\")\n",
        "\n",
        "class kerala(india):\n",
        "  def capital1(self):\n",
        "    print(\"Thiruvanthapuram is the capital\")\n",
        "\n",
        "o=india()\n",
        "o.capital()\n",
        "o.asia()\n",
        "\n",
        "o1=kerala()\n",
        "o1.capital()\n",
        "o1.capital1()\n",
        "o1.asia()"
      ]
    },
    {
      "cell_type": "markdown",
      "metadata": {
        "id": "EKRdGtqWdEEB"
      },
      "source": [
        "### Heirarchial inheritance"
      ]
    },
    {
      "cell_type": "code",
      "execution_count": null,
      "metadata": {
        "colab": {
          "base_uri": "https://localhost:8080/"
        },
        "id": "-sOIIWT8YYad",
        "outputId": "f3129c6f-38db-4850-b9d2-302a35f177da"
      },
      "outputs": [
        {
          "name": "stdout",
          "output_type": "stream",
          "text": [
            "shapes have diamentions\n",
            "drawing a circle..\n",
            "shapes have diamentions\n",
            "drawing a rectangle..\n"
          ]
        }
      ],
      "source": [
        "class shape:       #This is parent class\n",
        "  def info(self):\n",
        "    print(\"shapes have diamentions\")\n",
        "\n",
        "class circle(shape):     #this child of shape\n",
        "  def draw(self):\n",
        "    print(\"drawing a circle..\")\n",
        "\n",
        "class rectangle(shape):  #this also child of shape\n",
        "  def draw(self):\n",
        "    print(\"drawing a rectangle..\")\n",
        "\n",
        "c=circle()\n",
        "c.info()\n",
        "c.draw()\n",
        "r=rectangle()\n",
        "r.info()\n",
        "r.draw()\n",
        "\n"
      ]
    },
    {
      "cell_type": "code",
      "execution_count": null,
      "metadata": {
        "colab": {
          "base_uri": "https://localhost:8080/"
        },
        "id": "RJb4I5Igaju_",
        "outputId": "e1f24d1c-40db-4115-de29-b56a223e6e12"
      },
      "outputs": [
        {
          "name": "stdout",
          "output_type": "stream",
          "text": [
            "apple is red\n",
            "there are types of fruits\n",
            "mango is yellow\n",
            "there are types of fruits\n"
          ]
        }
      ],
      "source": [
        "class fruits:\n",
        "  def group(self):\n",
        "    print(\"there are types of fruits\")\n",
        "\n",
        "class apple(fruits):\n",
        "  def color(self):\n",
        "    print(\"apple is red\")\n",
        "\n",
        "class mango(fruits):\n",
        "  def color(self):\n",
        "    print(\"mango is yellow\")\n",
        "\n",
        "b=apple()\n",
        "g=mango()\n",
        "b.color()\n",
        "b.group()\n",
        "g.color()\n",
        "g.group()"
      ]
    },
    {
      "cell_type": "markdown",
      "metadata": {
        "id": "78zBpg_1fWI9"
      },
      "source": [
        "### MUltiple Inheritance"
      ]
    },
    {
      "cell_type": "code",
      "execution_count": null,
      "metadata": {
        "colab": {
          "base_uri": "https://localhost:8080/"
        },
        "id": "ooa6DndWeZEK",
        "outputId": "77e8c9db-047a-4e21-fca8-81dceaa4ad76"
      },
      "outputs": [
        {
          "name": "stdout",
          "output_type": "stream",
          "text": [
            "30\n",
            "200\n",
            "0.5\n"
          ]
        }
      ],
      "source": [
        "class calculation1:    # parent class\n",
        "  def summation(self,a,b):\n",
        "    print(a+b)\n",
        "\n",
        "class calculation2:  # another parent class\n",
        "  def multiplication(self,a,b):\n",
        "    print(a*b)\n",
        "\n",
        "class derived(calculation1,calculation2):    # child from that both parent classes\n",
        "  def divide(self,a,b):\n",
        "    print(a/b)\n",
        "\n",
        "d=derived()\n",
        "d.summation(10,20)\n",
        "d.multiplication(10,20)\n",
        "d.divide(10,20)"
      ]
    },
    {
      "cell_type": "code",
      "execution_count": null,
      "metadata": {
        "colab": {
          "base_uri": "https://localhost:8080/"
        },
        "id": "Z9kA1SGLhBlP",
        "outputId": "3ae9bb22-ad15-48ac-bc7d-20476f51d88f"
      },
      "outputs": [
        {
          "name": "stdout",
          "output_type": "stream",
          "text": [
            "students are good in study\n",
            "students are not good in studies\n",
            "comppare classes\n"
          ]
        }
      ],
      "source": [
        "class A:\n",
        "  def c1(self):\n",
        "    print(\"students are good in study\")\n",
        "\n",
        "class B:\n",
        "  def c2(self):\n",
        "    print(\"students are not good in studies\")\n",
        "\n",
        "class class_11(A,B):\n",
        "  def c3(self):\n",
        "    print(\"comppare classes\")\n",
        "\n",
        "s=class_11()\n",
        "s.c1()\n",
        "s.c2()\n",
        "s.c3()"
      ]
    },
    {
      "cell_type": "markdown",
      "metadata": {
        "id": "HkqRC6azoumu"
      },
      "source": [
        "## 4-Hybrid inheritaance"
      ]
    },
    {
      "cell_type": "code",
      "execution_count": null,
      "metadata": {
        "colab": {
          "base_uri": "https://localhost:8080/"
        },
        "id": "4qOhZ0GCkS_0",
        "outputId": "b6a66a59-9d53-46ce-9b15-6ac97ed27ca3"
      },
      "outputs": [
        {
          "name": "stdout",
          "output_type": "stream",
          "text": [
            "I am a person\n",
            "i teach students\n",
            "I manage school activities\n",
            "i oversee the entire staff\n"
          ]
        }
      ],
      "source": [
        "class person:\n",
        "  def show(self):\n",
        "    print(\"I am a person\")\n",
        "class teacher(person):\n",
        "  def teach(self):\n",
        "    print(\"i teach students\")\n",
        "\n",
        "class staff:\n",
        "  def manage(self):\n",
        "    print(\"I manage school activities\")\n",
        "\n",
        "#Hybrid inheritance principal inheritance from both teacher and staff(single+multiple)\n",
        "class principal(teacher,staff):\n",
        "  def oversea(self):\n",
        "    print(\"i oversee the entire staff\")\n",
        "\n",
        "principal=principal()\n",
        "principal.show()\n",
        "principal.teach()\n",
        "principal.manage()\n",
        "principal.oversea()"
      ]
    },
    {
      "cell_type": "code",
      "execution_count": null,
      "metadata": {
        "colab": {
          "base_uri": "https://localhost:8080/"
        },
        "id": "fNfgB4GUkT3U",
        "outputId": "2071f81a-47c6-4ad6-ea79-a83df32e354d"
      },
      "outputs": [
        {
          "name": "stdout",
          "output_type": "stream",
          "text": [
            "hello from parent...\n",
            "Hello from child...\n"
          ]
        }
      ],
      "source": [
        "class parent:\n",
        "  def greet1(self):\n",
        "    print(\"hello from parent...\")\n",
        "\n",
        "class child(parent):\n",
        "  def greet2(self):\n",
        "    super().greet1()   #Calling parent method\n",
        "    print(\"Hello from child...\")\n",
        "\n",
        "child=child()\n",
        "child.greet2()"
      ]
    },
    {
      "cell_type": "code",
      "execution_count": null,
      "metadata": {
        "colab": {
          "base_uri": "https://localhost:8080/"
        },
        "id": "Q8PFrIBvlxyT",
        "outputId": "d02770a1-5f0f-42f7-c407-b2793eaa773a"
      },
      "outputs": [
        {
          "name": "stdout",
          "output_type": "stream",
          "text": [
            "Parent constructor called...\n",
            "child constructor called...\n"
          ]
        }
      ],
      "source": [
        "class parent:\n",
        "  def __init__(self,name):\n",
        "    self.name=name\n",
        "    print(\"Parent constructor called...\")\n",
        "\n",
        "class child(parent):\n",
        "  def __init__(self,name,age):\n",
        "    super().__init__(name)\n",
        "    self.age=age\n",
        "    print(\"child constructor called...\")\n",
        "\n",
        "child=child(\"Yadu\",21)\n"
      ]
    },
    {
      "cell_type": "markdown",
      "metadata": {
        "id": "Cu-6HkhssV7R"
      },
      "source": [
        "## polymorphism\n",
        "\n",
        "1.method overriding\n",
        "In object oriented programming, polymorphism allows same method name to behave differently based on the object that call it\n",
        "Types of"
      ]
    },
    {
      "cell_type": "code",
      "execution_count": null,
      "metadata": {
        "colab": {
          "base_uri": "https://localhost:8080/"
        },
        "id": "m07cTPa4slPY",
        "outputId": "35a06917-b9ee-46f4-bb93-7b7f31404799"
      },
      "outputs": [
        {
          "name": "stdout",
          "output_type": "stream",
          "text": [
            "class C\n"
          ]
        }
      ],
      "source": [
        "class A:\n",
        "    def show(self):\n",
        "      print(\"class A\")\n",
        "class B(A):\n",
        "  def show(self):\n",
        "    print(\"class B\")\n",
        "class C(B):\n",
        "  def show(self):\n",
        "    print(\"class C\")\n",
        "\n",
        "obj=C()\n",
        "obj.show() #method overriding"
      ]
    },
    {
      "cell_type": "code",
      "execution_count": null,
      "metadata": {
        "colab": {
          "base_uri": "https://localhost:8080/"
        },
        "id": "J-3UEL3Lt3Zm",
        "outputId": "4f553468-1c7f-45f3-fa18-cdcf27e8b964"
      },
      "outputs": [
        {
          "name": "stdout",
          "output_type": "stream",
          "text": [
            "Class A\n",
            "class B\n",
            "Class C\n"
          ]
        }
      ],
      "source": [
        "class A:\n",
        "  def show(self):\n",
        "    print(\"Class A\")\n",
        "class B(A):\n",
        "  def show(self):\n",
        "    super().show()\n",
        "    print(\"class B\")\n",
        "class C(B):\n",
        "  def show(self):\n",
        "    super().show()\n",
        "    print(\"Class C\")\n",
        "\n",
        "obj=C()\n",
        "obj.show()"
      ]
    },
    {
      "cell_type": "code",
      "execution_count": null,
      "metadata": {
        "colab": {
          "base_uri": "https://localhost:8080/"
        },
        "id": "cE-o_-a3vENO",
        "outputId": "061fbbf1-9486-458d-aa58-d21b286b3a19"
      },
      "outputs": [
        {
          "name": "stdout",
          "output_type": "stream",
          "text": [
            "Dog bark\n",
            "cat meow\n"
          ]
        }
      ],
      "source": [
        "class animal:\n",
        "  def speak(self):\n",
        "    print(\"Animal is making sound\")\n",
        "class dog(animal):\n",
        "  def speak(self):\n",
        "    print(\"Dog bark\")\n",
        "class cat(animal):\n",
        "  def speak(self):\n",
        "    print(\"cat meow\")\n",
        "\n",
        "dog=dog()\n",
        "cat=cat()\n",
        "\n",
        "dog.speak()\n",
        "cat.speak()"
      ]
    },
    {
      "cell_type": "code",
      "execution_count": null,
      "metadata": {
        "colab": {
          "base_uri": "https://localhost:8080/"
        },
        "id": "WYXvmsc0f8Nt",
        "outputId": "f0cc6223-4f90-48f4-8b45-0905569f3d3c"
      },
      "outputs": [
        {
          "name": "stdout",
          "output_type": "stream",
          "text": [
            "4\n"
          ]
        }
      ],
      "source": [
        "def fn(x):\n",
        "  print(x)\n",
        "\n",
        "fn(4)"
      ]
    },
    {
      "cell_type": "markdown",
      "metadata": {
        "id": "lXIMKnqpjujz"
      },
      "source": [
        "Default Arguments-Providing default values to parameter"
      ]
    },
    {
      "cell_type": "code",
      "execution_count": null,
      "metadata": {
        "colab": {
          "base_uri": "https://localhost:8080/"
        },
        "id": "Ukk15q1EjnPA",
        "outputId": "a908c775-496c-4ae5-e5ac-4a9bbcce0898"
      },
      "outputs": [
        {
          "name": "stdout",
          "output_type": "stream",
          "text": [
            "5\n",
            "15\n",
            "35\n"
          ]
        }
      ],
      "source": [
        "class calculator:\n",
        "  def add(self,a=0,b=0,c=0):\n",
        "    print(a+b+c)\n",
        "calc=calculator()\n",
        "# Call the mthod with differnt numbers of arguments\n",
        "calc.add(5)\n",
        "calc.add(5,10)\n",
        "calc.add(5,10,20)"
      ]
    },
    {
      "cell_type": "markdown",
      "metadata": {
        "id": "zmkdfYCUk0sh"
      },
      "source": [
        "Variable=Length arguments(*args,**kwargs)"
      ]
    },
    {
      "cell_type": "markdown",
      "metadata": {
        "id": "zV-07A4ZlHIU"
      },
      "source": [
        "Positional arguments(*args)"
      ]
    },
    {
      "cell_type": "code",
      "execution_count": null,
      "metadata": {
        "colab": {
          "base_uri": "https://localhost:8080/"
        },
        "id": "JhAPKpVilXUR",
        "outputId": "e279d3c9-3692-48e8-8e97-38b053b27f13"
      },
      "outputs": [
        {
          "name": "stdout",
          "output_type": "stream",
          "text": [
            "sum: 5\n",
            "sum: 15\n",
            "sum: 10\n"
          ]
        }
      ],
      "source": [
        "class mathoperations:\n",
        "  def add(add,*numbers):\n",
        "    total=sum(numbers)\n",
        "    print(f\"sum: {total}\")\n",
        "\n",
        "math=mathoperations()\n",
        "\n",
        "# call the method with n number of argumetns using (*args)\n",
        "math.add(5)\n",
        "math.add(5,10)\n",
        "math.add(1,2,3,4)\n",
        "\n"
      ]
    },
    {
      "cell_type": "markdown",
      "metadata": {
        "id": "k769TaxSmdrb"
      },
      "source": [
        "keyword arguments (**keywords)"
      ]
    },
    {
      "cell_type": "code",
      "execution_count": null,
      "metadata": {
        "colab": {
          "base_uri": "https://localhost:8080/"
        },
        "id": "Y_ngjyVIkwey",
        "outputId": "d4fa8a88-584f-4414-8251-955545a6d601"
      },
      "outputs": [
        {
          "name": "stdout",
          "output_type": "stream",
          "text": [
            "Hello yadu!\n"
          ]
        }
      ],
      "source": [
        "class greeting:\n",
        "  def say_hello(self,**kwargs):\n",
        "    print(f\"Hello {kwargs['name']}!\")\n",
        "    print(f\"you are {kwargs['age']} years ols\")\n",
        "    print(f\"you are from{kwargs['city']}!\")\n",
        "\n",
        "g=greeting()\n",
        "#g.say_hello()\n",
        "g.say_hello(name='yadu',age=20,city='Thrissur')\n"
      ]
    },
    {
      "cell_type": "code",
      "execution_count": null,
      "metadata": {
        "colab": {
          "base_uri": "https://localhost:8080/"
        },
        "id": "9zdC8FPenY4Q",
        "outputId": "22e25cb1-6216-4b03-f7d9-de99671f85e4"
      },
      "outputs": [
        {
          "name": "stdout",
          "output_type": "stream",
          "text": [
            "Hello yadu!\n",
            "u are buying brand=marutisuzuki\n",
            "model is dzire\n"
          ]
        }
      ],
      "source": [
        "class car:\n",
        "  def whatcar(self,**kwargs):\n",
        "    print(f\"Hello {kwargs['name']}!\")\n",
        "    print(f\"u are buying brand={kwargs['car']}\")\n",
        "    print(f\"model is {kwargs['model']}\")\n",
        "g=car()\n",
        "g.whatcar(name='yadu',car='marutisuzuki',model='dzire')"
      ]
    },
    {
      "cell_type": "markdown",
      "metadata": {
        "id": "-u90cS-Y3oXP"
      },
      "source": [
        "## encapsulation"
      ]
    },
    {
      "cell_type": "code",
      "execution_count": null,
      "metadata": {
        "id": "ozfjQyNE2Zze"
      },
      "outputs": [],
      "source": [
        "class company:\n",
        "  def __init__(self,company_name,company_id):\n",
        "    self.__company_name=company_name\n",
        "    self._company_id=company_id\n",
        "c1=company(\"Tcs\",91)\n",
        "print(c1._company_id) # we can print one underscore variable\n",
        "#print(c1._company_name)  #we can't print two underscore variable\n"
      ]
    },
    {
      "cell_type": "markdown",
      "metadata": {
        "id": "6yi-rxfb4Lbr"
      },
      "source": [
        "double underscored variable we can't acces outside of class, but we can access on the class"
      ]
    },
    {
      "cell_type": "code",
      "execution_count": null,
      "metadata": {
        "id": "B1kLNvWc4VGs"
      },
      "outputs": [],
      "source": [
        "class company:\n",
        "  def __init__(self,company_name,company_id):\n",
        "    self.__company_name = company_name\n",
        "    self._company_name = company_id\n",
        "\n",
        "  def get_company_name(self):\n",
        "    print(self.__company_name)\n",
        "\n",
        "c1=company(\"TCS\",91)\n",
        "c1.get_company_name()  #wwe can simple access now"
      ]
    },
    {
      "cell_type": "code",
      "execution_count": null,
      "metadata": {
        "colab": {
          "base_uri": "https://localhost:8080/"
        },
        "id": "n5R3tkg45oCH",
        "outputId": "9894ab66-d699-4b13-8040-ea9dfe86b134"
      },
      "outputs": [
        {
          "name": "stdout",
          "output_type": "stream",
          "text": [
            "Deposited 500, New Balance:1500\n",
            "1500\n"
          ]
        }
      ],
      "source": [
        "class bankaccount:\n",
        "  def __init__(self,account_number,balance):\n",
        "    self.__account_number = account_number\n",
        "    self.__balance=balance\n",
        "\n",
        "  def deposit(self,amount):\n",
        "    if amount >0:\n",
        "      self.__balance+=amount\n",
        "      print(f\"Deposited {amount}, New Balance:{self.__balance}\")\n",
        "    else:\n",
        "      print(\"Invalid deposit error\")\n",
        "\n",
        "  def get_balance(self):\n",
        "      return self.__balance\n",
        "\n",
        "account=bankaccount(\"12345\",1000)\n",
        "account.deposit(500)\n",
        "# print(account.__balance) Attributeerror = 'bankaccount' bas no attribute '_bankaccount__balance\n",
        "print(account.get_balance())"
      ]
    },
    {
      "cell_type": "code",
      "execution_count": null,
      "metadata": {
        "colab": {
          "base_uri": "https://localhost:8080/"
        },
        "id": "whz-LXeJ-pb3",
        "outputId": "83f99408-092e-4e87-9100-18d7d0dc3939"
      },
      "outputs": [
        {
          "name": "stdout",
          "output_type": "stream",
          "text": [
            "withdraw 500, New Balance=2500\n",
            "deposit 500, Balance=3000\n"
          ]
        }
      ],
      "source": [
        "class bankaccount:\n",
        "  def __init__(self,accountnumber,balance):\n",
        "    self.__accountnumber=accountnumber\n",
        "    self.__balance=balance\n",
        "\n",
        "  def deposit(self,amount):\n",
        "    if amount>0:\n",
        "      self.__balance+=amount\n",
        "      print(f\"deposit {amount}, Balance={self.__balance}\")\n",
        "    else:\n",
        "      print(\"wrong invalid\")\n",
        "\n",
        "  def withdraw(self,amount):\n",
        "    if amount>0:\n",
        "      self.__balance-=amount\n",
        "      print(f\"withdraw {amount}, New Balance={self.__balance}\")\n",
        "    else:\n",
        "      print(\"wrong invalid\")\n",
        "\n",
        "\n",
        "account=bankaccount(\"123456\",3000)\n",
        "account.withdraw(500)\n",
        "account.deposit(500)\n",
        "\n",
        "\n"
      ]
    },
    {
      "cell_type": "code",
      "execution_count": null,
      "metadata": {
        "colab": {
          "base_uri": "https://localhost:8080/"
        },
        "id": "hbuzcH1rG2Ht",
        "outputId": "1672ee55-5436-428f-8d58-892487eab80a"
      },
      "outputs": [
        {
          "name": "stdout",
          "output_type": "stream",
          "text": [
            "withdraw 543, New Balance=3457\n",
            "deposit 565, Balance=4022\n"
          ]
        }
      ],
      "source": [
        "apple=bankaccount(\"1235648\",4000)\n",
        "apple.withdraw(543)\n",
        "apple.deposit(565)"
      ]
    },
    {
      "cell_type": "markdown",
      "metadata": {
        "id": "RDeIEjsW5sBI"
      },
      "source": [
        "##Abstraction\n",
        "Abstraction is a concept of object oriented programming that focus on hiding the implementation\n",
        " details and showing only the necessary features\n",
        " of an object\n",
        " - it allows users to focus on what an object does rather than how it does it\n",
        "\n",
        "Example:When u use a smartphone you only see the interface (buttons,icons) but you don't need to know\n",
        "how the internal circuits work\n",
        "\n",
        "Why is abstraction important?\n",
        " - Simplifies complex systems by focusng only on essential aspects.\n",
        " - Reduces code complexity and increas reusability\n",
        " - Enhance security by restricting direct access to implementation details\n",
        "\n",
        "Abstraction in python using abstract classes\n",
        " - python provides abstraction using abstract classes and abstract methods which are defined in abc module\n",
        " - abstract class: a class that contain one or more abstract method,it cannot be instantised directly.\n",
        " - abstract method: A method that is declared but contains no implementation(must be implemented by child classes\n",
        "\n",
        " From abc import ABC,abstract method\n"
      ]
    },
    {
      "cell_type": "code",
      "execution_count": null,
      "metadata": {
        "id": "KBpQM7WyEpVN"
      },
      "outputs": [],
      "source": [
        "from abc import ABC, abstractmethod\n",
        "\n",
        "class Vehicle(ABC): #abstract class\n",
        " @abstractmethod\n",
        " def start_engine(self):\n",
        "   pass #abstract method with no implement\n",
        "\n",
        " @abstractmethod\n",
        " def stop_engine(self):\n",
        "   pass #abstract method with no implementation\n",
        "\n",
        "#An abstract class cannot be instanttiated directly\n",
        "v=Vehicle() #Type error:Cant instantate abstract claas vehicle with abstract methods start_engine,stop_engine"
      ]
    },
    {
      "cell_type": "code",
      "execution_count": null,
      "metadata": {
        "id": "c_YbpH7Mvv2D"
      },
      "outputs": [],
      "source": [
        "from abc import ABC, abstractmethod\n",
        "\n",
        "class Vehicle(ABC): #abstract class\n",
        " @abstractmethod\n",
        " def start_engine(self):\n",
        "   pass #abstract method with no implement\n",
        "\n",
        " @abstractmethod\n",
        " def stop_engine(self):\n",
        "   pass #abstract method with no implementation\n",
        "\n",
        "#making child class for abstract class instantiating\n",
        "\n",
        "class car(vehicle):  #child class of vehicle\n",
        "  def start_engine(self):  #also we need to create same function (method) in child class other wise\n",
        "    print(\"Car engine started\")\n",
        "\n",
        "  def start_engine(self): # also we need to create same function (method) in child class  other wise it will shows error!\n",
        "    print(\"Car engine stopped\")\n",
        "\n",
        "car= car()\n",
        "car.start_engine()\n",
        "car.stop_engine()\n"
      ]
    },
    {
      "cell_type": "markdown",
      "metadata": {
        "id": "JhiVEazlHOyM"
      },
      "source": [
        "- If we want to make an object from abstrct class we cant directly make object from the abstract class\n",
        "- So we need to make child class for abstract class object making\n",
        "- And also need to make same method [function] on child class also\n",
        "- all child classes must implement the abstract method  of parent abstract class\n",
        "- Abstract class can have both abstract method and concrete(regular) method."
      ]
    },
    {
      "cell_type": "code",
      "execution_count": null,
      "metadata": {
        "colab": {
          "base_uri": "https://localhost:8080/"
        },
        "id": "bThrGhRw_E6I",
        "outputId": "58b76c9d-dc30-4964-c7da-8251ac38a36b"
      },
      "outputs": [
        {
          "name": "stdout",
          "output_type": "stream",
          "text": [
            "circle area is : 314.0\n",
            "\n",
            "rectangle area is : 50\n"
          ]
        }
      ],
      "source": [
        "from abc import ABC, abstractmethod\n",
        "\n",
        "class shape(ABC):\n",
        "  @abstractmethod\n",
        "  def calculate_area(self):\n",
        "      pass\n",
        "\n",
        "class circle(shape):\n",
        "\n",
        "  def __init__(self,radius):\n",
        "    self.radius=radius\n",
        "\n",
        "  def calculate_area(self):\n",
        "    print(f\"circle area is : {3.14* (self.radius)**2}\")\n",
        "\n",
        "class rectangle(shape):\n",
        "\n",
        "  def __init__(self,width,height):\n",
        "    self.width=width\n",
        "    self.height=height\n",
        "\n",
        "  def calculate_area(self):\n",
        "    print(f\"rectangle area is : {self.width*self.height}\")\n",
        "\n",
        "cir=circle(10)\n",
        "rect=rectangle(5,10)\n",
        "\n",
        "cir.calculate_area()\n",
        "print()\n",
        "rect.calculate_area()"
      ]
    },
    {
      "cell_type": "code",
      "execution_count": null,
      "metadata": {
        "colab": {
          "base_uri": "https://localhost:8080/"
        },
        "id": "0lzazgfRNT_L",
        "outputId": "d767962b-f343-451e-bee0-0c616eabe71b"
      },
      "outputs": [
        {
          "name": "stdout",
          "output_type": "stream",
          "text": [
            "speed=30000\n"
          ]
        }
      ],
      "source": [
        "distance=500\n",
        "from abc import ABC,abstractmethod\n",
        "\n",
        "class bike(ABC):\n",
        "  @abstractmethod\n",
        "  def speed(self):\n",
        "    pass\n",
        "\n",
        "class ninja(bike):\n",
        "  def __init__(self,time):\n",
        "    self.time=time\n",
        "  def speed(self):\n",
        "    print(\"speed=\",{(self.time)*distance})\n",
        "\n",
        "class ducati(bike):\n",
        "  def __init__(self,time):\n",
        "    self.time=time\n",
        "  def speed(self):\n",
        "    print(f\"speed={(self.time)*distance}\")\n",
        "\n",
        "wer=ducati(60)\n",
        "wer.speed()\n"
      ]
    },
    {
      "cell_type": "code",
      "execution_count": null,
      "metadata": {
        "colab": {
          "base_uri": "https://localhost:8080/"
        },
        "id": "gaJAKwjLVGQM",
        "outputId": "a0308189-5635-4f88-b577-cefbab12641c"
      },
      "outputs": [
        {
          "name": "stdout",
          "output_type": "stream",
          "text": [
            "The number of wheels has been updated to 6\n",
            "\n",
            "car variable is updated to : 6\n"
          ]
        }
      ],
      "source": [
        "class car:\n",
        "  wheel=4\n",
        "\n",
        "  def __init__(self,brand,model):\n",
        "    self.brand=brand\n",
        "    self.model=model\n",
        "\n",
        "  @classmethod\n",
        "  def change_wheels(cls,new_wheels):\n",
        "    cls.wheels = new_wheels\n",
        "    print(f\"The number of wheels has been updated to {cls.wheels}\")\n",
        "\n",
        "#create an instance of car\n",
        "car1=car(\"toyota\",\"innova\")\n",
        "\n",
        "#call the class method to modify class variable\n",
        "car.change_wheels(6)\n",
        "\n",
        "print()\n",
        "\n",
        "#class variable \" wheels \" is changed for all instances\n",
        "print(f\"car variable is updated to : {car1.wheels}\")"
      ]
    },
    {
      "cell_type": "markdown",
      "metadata": {
        "id": "gWb4bdJuJFvb"
      },
      "source": [
        "QUestion\n",
        "1. Inheritance\n",
        "Q1: Create a base class Person with attributes name and age. Inherit it to a class Student with additional attribute student_id. Write a method to display all details.\n",
        "\n",
        "2. Encapsulation\n",
        "Q2: Create a class BankAccount with private attributes balance and public methods deposit() and withdraw(). Add a method to display balance safely.\n",
        "\n",
        "3. Abstraction\n",
        "Q3: Create an abstract class Shape with an abstract method area(). Create two derived classes Circle and Square and implement the area() method for both.\n",
        "\n",
        "4. Polymorphism\n",
        "Q4: Create a function describe(animal) that accepts objects from different classes like Dog and Cat, both having a method speak(). The function should call speak() method and print the result."
      ]
    },
    {
      "cell_type": "code",
      "execution_count": null,
      "metadata": {
        "colab": {
          "base_uri": "https://localhost:8080/"
        },
        "id": "puMphUQtJGRF",
        "outputId": "3fcd6c02-3a72-4800-d66f-2a0d5321e585"
      },
      "outputs": [
        {
          "name": "stdout",
          "output_type": "stream",
          "text": [
            "name= Alice\n",
            "age= 20\n",
            "Student ID: S12345\n"
          ]
        }
      ],
      "source": [
        "class person:\n",
        "  def __init__(self,name,age):\n",
        "    self.name =name\n",
        "    self.age =age\n",
        "\n",
        "  def display_person_info(self):\n",
        "    print(\"name=\",self.name)\n",
        "    print(\"age=\",self.age)\n",
        "\n",
        "\n",
        "class student(person):\n",
        "  def __init__(self,name,age,student_id):\n",
        "    self.student_id =student_id\n",
        "    super().__init__(name, age)\n",
        "\n",
        "  def display_student_info(self):\n",
        "      self.display_person_info()\n",
        "      print(f\"Student ID: {self.student_id}\")\n",
        "\n",
        "student1 = student(\"Alice\", 20, \"S12345\")\n",
        "student1.display_student_info()\n",
        "\n"
      ]
    },
    {
      "cell_type": "code",
      "execution_count": null,
      "metadata": {
        "colab": {
          "base_uri": "https://localhost:8080/"
        },
        "collapsed": true,
        "id": "XZjVc4eYOe3N",
        "outputId": "d5661471-0d1b-4e1b-b73b-0f3cd6b24077"
      },
      "outputs": [
        {
          "name": "stdout",
          "output_type": "stream",
          "text": [
            "160\n"
          ]
        }
      ],
      "source": [
        "\n",
        "class bankaccount:\n",
        "\n",
        "  def __init__(self,balance):\n",
        "\n",
        "    self._balance=balance\n",
        "\n",
        "  def deposit(self,amount):\n",
        "    self.__amount=amount\n",
        "    if self.__amount<=0:\n",
        "       print(\"invalid Error\")\n",
        "    else:\n",
        "      self._balance+=self.__amount\n",
        "\n",
        "  def withdraw(self,amount):\n",
        "    self.__amount=amount\n",
        "    if self.__amount<=0:\n",
        "       print(\"invalid Error\")\n",
        "    else:\n",
        "       self._balance-=self.__amount\n",
        "\n",
        "  def show(self):\n",
        "     print(self._balance)\n",
        "\n",
        "e1=bankaccount(60)\n",
        "e1.deposit(100)\n",
        "e1.show()"
      ]
    },
    {
      "cell_type": "code",
      "execution_count": null,
      "metadata": {
        "colab": {
          "base_uri": "https://localhost:8080/"
        },
        "id": "plwg2CvJZEkS",
        "outputId": "8966045e-3bbb-487f-b114-a77f46f8bf0f"
      },
      "outputs": [
        {
          "name": "stdout",
          "output_type": "stream",
          "text": [
            "Area= 144\n",
            "Area= 530.66\n"
          ]
        }
      ],
      "source": [
        "from abc import ABC, abstractmethod\n",
        "\n",
        "class shape(ABC):\n",
        "\n",
        "  @abstractmethod\n",
        "  def area(self):\n",
        "    pass\n",
        "\n",
        "class circle(shape):\n",
        "  def __init__(self,r):\n",
        "    self.r=r\n",
        "  def area(self):\n",
        "    print(\"Area=\",(3.14*self.r*self.r))\n",
        "\n",
        "class square(shape):\n",
        "  def __init__(self,a):\n",
        "    self.a=a\n",
        "  def area(self):\n",
        "    print(\"Area=\",((self.a)*(self.a)))\n",
        "c1=circle(13)\n",
        "r1=square(12)\n",
        "r1.area()\n",
        "c1.area()\n"
      ]
    },
    {
      "cell_type": "code",
      "execution_count": null,
      "metadata": {
        "colab": {
          "base_uri": "https://localhost:8080/"
        },
        "id": "C-UPzv8kg0HX",
        "outputId": "9c776359-0bf5-4c8a-8196-81cdc442098d"
      },
      "outputs": [
        {
          "name": "stdout",
          "output_type": "stream",
          "text": [
            "the dog is angry\n"
          ]
        }
      ],
      "source": [
        "class describe:\n",
        "  def speak(self):\n",
        "    print(\"cat or dog\")\n",
        "\n",
        "\n",
        "class dog(describe):\n",
        "  def speak(self):\n",
        "    print(\"the dog is angry\")\n",
        "\n",
        "class cat(describe):\n",
        "  def speak(self):\n",
        "    print(\"the cat is sleeping\")\n",
        "\n",
        "c1=dog()\n",
        "c1.speak()\n"
      ]
    },
    {
      "cell_type": "markdown",
      "metadata": {
        "id": "ZQq6JtldHt9U"
      },
      "source": [
        "Class MEthods"
      ]
    },
    {
      "cell_type": "code",
      "execution_count": null,
      "metadata": {
        "colab": {
          "base_uri": "https://localhost:8080/"
        },
        "id": "XqGLcR8TH6Wk",
        "outputId": "3012a1dd-ba47-474f-fa44-074f1a5b5974"
      },
      "outputs": [
        {
          "name": "stdout",
          "output_type": "stream",
          "text": [
            "The number of wheels has been updated to 6\n",
            "\n",
            "car variable updated to :6\n"
          ]
        }
      ],
      "source": [
        "class car:\n",
        "  #class variable\n",
        "  wheels=0\n",
        "\n",
        "  def __init__(self,brand,model):\n",
        "    self.brand=brand\n",
        "    self.mmodel=model\n",
        "\n",
        "  @classmethod\n",
        "  def change_wheels(cls,new_wheels):\n",
        "    cls.wheels=new_wheels\n",
        "    print(f\"The number of wheels has been updated to {cls.wheels}\")\n",
        "\n",
        "#create an instance of car\n",
        "car1=car(\"toyota\",\"etios\")\n",
        "\n",
        "# call the class method to modify the class variable\n",
        "car.change_wheels(6)\n",
        "\n",
        "print()\n",
        "\n",
        "# the class variable \"wheels\" is now changed for all instances\n",
        "print(f\"car variable updated to :{car1.wheels}\")"
      ]
    },
    {
      "cell_type": "markdown",
      "metadata": {
        "id": "tIfZuugNizyy"
      },
      "source": [
        " Intermediate Level Questions\n",
        "5. Inheritance (Multi-level and Multiple)\n",
        "Q5: Create a multi-level inheritance structure where Vehicle is the base class, Car inherits Vehicle, and ElectricCar inherits Car. Implement show_details() method in each class.\n",
        "\n",
        "Q6: Implement multiple inheritance using classes Employee, Engineer, and Manager. Create a new class TechLead that inherits from both Engineer and Manager.\n",
        "\n",
        "6. Encapsulation\n",
        "Q7: Enhance the BankAccount class to restrict access to changing the balance directly. Add a property to check if the balance is below a threshold and trigger a warning.\n",
        "\n",
        "7. Abstraction\n",
        "Q8: Create an abstract class Appliance with abstract methods turn_on() and turn_off(). Implement this class in WashingMachine and Microwave.\n",
        "\n",
        "8. Polymorphism (Method Overriding and Overloading Simulation)\n",
        "Q9: Create a base class Notification with a method send(). Inherit and override this method in EmailNotification, SMSNotification, and PushNotification classes.\n"
      ]
    },
    {
      "cell_type": "code",
      "execution_count": null,
      "metadata": {
        "colab": {
          "base_uri": "https://localhost:8080/"
        },
        "id": "vmIYlnptkPaQ",
        "outputId": "63a96bce-f274-4b5d-dd18-72467cfe1a8c"
      },
      "outputs": [
        {
          "name": "stdout",
          "output_type": "stream",
          "text": [
            "Vehicle is car,bike,bus,lorry\n"
          ]
        }
      ],
      "source": [
        "class vehicle:\n",
        "  def showdetail(self):\n",
        "    print(\"Vehicle is car,bike,bus,lorry\")\n",
        "\n",
        "class car(vehicle):\n",
        "  def showdetatil1(self):\n",
        "    print(\"Car is petrol,disel,electric\")\n",
        "\n",
        "class electriccar(car):\n",
        "  def showdetail2(self):\n",
        "    print(\"E car run on battery\")\n",
        "\n",
        "c1=electriccar()\n",
        "c1.showdetail()\n"
      ]
    },
    {
      "cell_type": "code",
      "execution_count": null,
      "metadata": {
        "id": "Gw9aZ0bsVGxa"
      },
      "outputs": [],
      "source": []
    },
    {
      "cell_type": "code",
      "execution_count": null,
      "metadata": {
        "id": "UT7Vl017nQZO"
      },
      "outputs": [],
      "source": [
        "class employee:\n",
        "  def f1(self):\n",
        "    print(\"the employee is 100\")\n",
        "class engineer:\n",
        "  def f2(self):\n",
        "    print(\"the engineer has salary 500\")\n",
        "class manager(employee,engineer):\n",
        "  def f3(self):\n",
        "    print(\"the manager has salary 1000\")\n",
        "\n",
        "class teclead(manager,engineer):\n",
        "  def f4(self):\n",
        "    print(\"the tec leader has 2000\")\n"
      ]
    },
    {
      "cell_type": "code",
      "execution_count": null,
      "metadata": {
        "colab": {
          "base_uri": "https://localhost:8080/"
        },
        "id": "tFAW-2eJpEqu",
        "outputId": "d210442d-4ad4-449f-837d-596fc568deab"
      },
      "outputs": [
        {
          "name": "stdout",
          "output_type": "stream",
          "text": [
            "Eroor\n",
            "0\n",
            "low balance\n"
          ]
        }
      ],
      "source": [
        "class bankaccount:\n",
        "  def __init__(self,balance):\n",
        "    self.__balance=balance\n",
        "\n",
        "  def deposit(self,amount):\n",
        "    self.amount=amount\n",
        "    if self.amount<=0:\n",
        "      print(\"Eroor\")\n",
        "    else:\n",
        "      self.__balance+=self.amount\n",
        "\n",
        "  def withdraw(self,amount):\n",
        "    self.amount=amount\n",
        "    if self.amount<=0:\n",
        "      print(\"Eroor\")\n",
        "    else:\n",
        "      self.__balance-=self.amount\n",
        "\n",
        "\n",
        "  def show(self):\n",
        "    print(self.__balance)\n",
        "    if self.__balance<=100:\n",
        "      print(\"low balance\")\n",
        "\n",
        "c1=bankaccount(0)\n",
        "c1.deposit(0)\n",
        "c1.show()\n"
      ]
    },
    {
      "cell_type": "code",
      "execution_count": null,
      "metadata": {
        "colab": {
          "base_uri": "https://localhost:8080/"
        },
        "id": "4f6uSCmYshSH",
        "outputId": "33cda506-a977-47d5-aa81-063e2bab6f1e"
      },
      "outputs": [
        {
          "name": "stdout",
          "output_type": "stream",
          "text": [
            "microvave is turn on\n"
          ]
        }
      ],
      "source": [
        "from abc import ABC, abstractmethod\n",
        "class appliance:\n",
        "\n",
        "  @abstractmethod\n",
        "  def turnon(self):\n",
        "    pass\n",
        "\n",
        "  @abstractmethod\n",
        "  def turnoff(self):\n",
        "    pass\n",
        "\n",
        "class washingmachine(appliance):\n",
        "\n",
        "  def turnon(self):\n",
        "    print(\"washing machine is turn on\")\n",
        "  def turnoff(self):\n",
        "    print(\"washing machine is turned off\")\n",
        "\n",
        "class microwave(appliance):\n",
        "  def turnon(self):\n",
        "    print(\"microvave is turn on\")\n",
        "  def turnoff(self):\n",
        "    print(\"microwave is turned off\")\n",
        "\n",
        "z1=microwave()\n",
        "z1.turnon()\n"
      ]
    },
    {
      "cell_type": "code",
      "execution_count": null,
      "metadata": {
        "colab": {
          "base_uri": "https://localhost:8080/"
        },
        "id": "wsEmKQk_GIFk",
        "outputId": "792ef324-1718-4260-fdb2-ae662129dc60"
      },
      "outputs": [
        {
          "name": "stdout",
          "output_type": "stream",
          "text": [
            "Notification sending\n",
            "email Notification sending\n",
            "sms Notification sending\n",
            "push Notification sending\n"
          ]
        }
      ],
      "source": [
        "class notification:\n",
        "  def send(self):\n",
        "    print(\"Notification sending\")\n",
        "\n",
        "class emailnotification(notification):\n",
        "  def send(self):\n",
        "    super().send()\n",
        "    print(\"email Notification sending\")\n",
        "class smsnotification(emailnotification):\n",
        "   def send(self):\n",
        "    super().send()\n",
        "    print(\"sms Notification sending\")\n",
        "class pushnotification(smsnotification):\n",
        "   def send(self):\n",
        "    super().send()\n",
        "    print(\"push Notification sending\")\n",
        "\n",
        "b2=pushnotification()\n",
        "b2.send()\n"
      ]
    },
    {
      "cell_type": "markdown",
      "metadata": {
        "id": "LTNM7fNqVH77"
      },
      "source": [
        "\n",
        "Q10: Simulate method overloading by writing a class Calculator with a method add() that handles:\n",
        "\n",
        "two integers\n",
        "\n",
        "two floats\n",
        "\n",
        "two strings\n",
        "\n",
        "(Hint: use default arguments or type checking)"
      ]
    },
    {
      "cell_type": "code",
      "execution_count": null,
      "metadata": {
        "colab": {
          "base_uri": "https://localhost:8080/"
        },
        "id": "Ct9nilSxIcMS",
        "outputId": "8e83163a-be88-47ab-fb74-a67f039f484c"
      },
      "outputs": [
        {
          "name": "stdout",
          "output_type": "stream",
          "text": [
            "sum= appletree\n"
          ]
        }
      ],
      "source": [
        "class calculator:\n",
        "  w=0\n",
        "  def add(self,a,b):\n",
        "    self.a=a\n",
        "    self.b=b\n",
        "    print(\"sum=\",self.a+self.b)\n",
        "\n",
        "x1=calculator()\n",
        "x1.add(\"apple\",\"tree\")"
      ]
    },
    {
      "cell_type": "markdown",
      "metadata": {
        "id": "EeLus07UMPt7"
      },
      "source": [
        "Generators"
      ]
    },
    {
      "cell_type": "code",
      "execution_count": null,
      "metadata": {
        "colab": {
          "base_uri": "https://localhost:8080/"
        },
        "id": "WfSLyBK1Jt7c",
        "outputId": "586977ac-a325-4774-e87c-f300334f7075"
      },
      "outputs": [
        {
          "name": "stdout",
          "output_type": "stream",
          "text": [
            "HI\n",
            "1\n",
            "\n",
            "how are you\n",
            "2\n",
            "Are you there \n",
            "3\n"
          ]
        }
      ],
      "source": [
        "def greeting():\n",
        "  print(\"HI\")\n",
        "  yield 1\n",
        "  print('how are you')\n",
        "  yield 2\n",
        "  print(\"Are you there \")\n",
        "  yield 3\n",
        "\n",
        "messenger=greeting()\n",
        "result=next(messenger)\n",
        "print(result)\n",
        "print()\n",
        "result=next(messenger)\n",
        "print(result)\n",
        "print()\n",
        "result=next(messenger)\n",
        "print(result)"
      ]
    },
    {
      "cell_type": "markdown",
      "metadata": {
        "id": "V_MO9hA5HeMb"
      },
      "source": [
        "ITerator"
      ]
    },
    {
      "cell_type": "code",
      "execution_count": null,
      "metadata": {
        "colab": {
          "base_uri": "https://localhost:8080/"
        },
        "id": "PofvxlCfHlUM",
        "outputId": "626733ee-6b3d-43f5-8397-18014fdc2cb3"
      },
      "outputs": [
        {
          "name": "stdout",
          "output_type": "stream",
          "text": [
            "apple\n",
            "banana\n",
            "cherry\n"
          ]
        }
      ],
      "source": [
        "mytuple=(\"apple\",\"banana\",\"cherry\")\n",
        "myit=iter(mytuple)\n",
        "print(next(myit))\n",
        "print(next(myit))\n",
        "print(next(myit))"
      ]
    },
    {
      "cell_type": "code",
      "execution_count": null,
      "metadata": {
        "colab": {
          "base_uri": "https://localhost:8080/"
        },
        "id": "xrYMhZHBIMN1",
        "outputId": "84540758-0b9d-4329-dd26-7cea73364291"
      },
      "outputs": [
        {
          "name": "stdout",
          "output_type": "stream",
          "text": [
            "b\n",
            "a\n",
            "n\n",
            "a\n",
            "n\n"
          ]
        }
      ],
      "source": [
        "mystr=\"banana\"\n",
        "myit=iter(mystr)\n",
        "print(next(myit))\n",
        "print(next(myit))\n",
        "print(next(myit))\n",
        "print(next(myit))\n",
        "print(next(myit))"
      ]
    },
    {
      "cell_type": "code",
      "execution_count": null,
      "metadata": {
        "colab": {
          "base_uri": "https://localhost:8080/"
        },
        "id": "e83Y2gM6I0CV",
        "outputId": "e55570bc-8b75-48ce-a0ff-1b8e27c0e8fc"
      },
      "outputs": [
        {
          "name": "stdout",
          "output_type": "stream",
          "text": [
            "apple\n",
            "banana\n",
            "cherry\n"
          ]
        }
      ],
      "source": [
        "mytuple=(\"apple\",\"banana\",\"cherry\")\n",
        "for x in mytuple:\n",
        "  print(x)"
      ]
    },
    {
      "cell_type": "code",
      "execution_count": null,
      "metadata": {
        "colab": {
          "base_uri": "https://localhost:8080/"
        },
        "id": "y9ymK-tdJFyi",
        "outputId": "a0431f93-aa8f-403e-9233-dc074c99d215"
      },
      "outputs": [
        {
          "name": "stdout",
          "output_type": "stream",
          "text": [
            "1\n",
            "2\n",
            "3\n",
            "4\n",
            "5\n"
          ]
        }
      ],
      "source": [
        "class mynumbers:\n",
        "  def __iter__(self):   #cccccccccc\n",
        "    self.a=1\n",
        "    return self         #3333333333\n",
        "  def __next__(self):    #cccccccccc\n",
        "    x=self.a\n",
        "    self.a+=1\n",
        "    return x\n",
        "\n",
        "myclass=mynumbers()\n",
        "myiter=iter(myclass)       #3333333\n",
        "print(next(myiter))\n",
        "print(next(myiter))\n",
        "print(next(myiter))\n",
        "print(next(myiter))\n",
        "print(next(myiter))"
      ]
    },
    {
      "cell_type": "markdown",
      "metadata": {
        "id": "rsQdw4acTvhD"
      },
      "source": [
        "#Multithreading"
      ]
    },
    {
      "cell_type": "markdown",
      "metadata": {
        "id": "cWnjIbYaesz2"
      },
      "source": [
        "What is Threading?\n",
        "Threading allows multiple parts of a prograrm to run concurrently.\n",
        "\n",
        "Useful for tasks like:\n",
        "Handling multiple user requests.\n",
        "Background tsks (eg. monitoring sensors).\n",
        "Downloading multiple files simultaneously.\n",
        "Example\n",
        "Smart Home App :-\n",
        "\n",
        "Mananging multiple tasks like:\n",
        "Secutiy camera feed.\n",
        "Processing tempreture data.\n",
        "Respnding to user commands.\n",
        "Threading ensures smooth and efficient functioning.\n",
        "How to use Threading in Python\n",
        "Import the threading module.\n",
        "Create threads using threading.Thread( )\n",
        "Start threads using ,start( )\n",
        "Wait for threads to finish using .join( )\n",
        "\n",
        "How to use Threading in Python\n",
        "Import the threading module.\n",
        "Create threads using threading.Thread( )\n",
        "Start threads using ,start( )\n",
        "Wait for threads to finish using .join( )"
      ]
    },
    {
      "cell_type": "code",
      "execution_count": null,
      "metadata": {
        "id": "b3Bt7eUreyph"
      },
      "outputs": [],
      "source": [
        "#Example 1:Basic thread\n",
        "import threading\n",
        "def task():\n",
        "  print(\"Thread running\")\n",
        "\n",
        "thread=threading.Thread(target=task)\n",
        "thread.start()\n",
        "thread.join()\n"
      ]
    },
    {
      "cell_type": "code",
      "execution_count": null,
      "metadata": {
        "colab": {
          "base_uri": "https://localhost:8080/"
        },
        "id": "1H8qrZTGfViL",
        "outputId": "712d1e9a-11cc-47db-8004-d3a9ba7ac72b"
      },
      "outputs": [
        {
          "name": "stdout",
          "output_type": "stream",
          "text": [
            "Task 1\n",
            "Task 2\n"
          ]
        }
      ],
      "source": [
        "#Example 2\n",
        "\n",
        "import threading\n",
        "\n",
        "def task1():\n",
        "  print(\"Task 1\")\n",
        "\n",
        "def task2():\n",
        "  print(\"Task 2\")\n",
        "\n",
        "t1=threading.Thread(target=task1)\n",
        "t2=threading.Thread(target=task2)\n",
        "\n",
        "t1.start()\n",
        "t2.start()\n",
        "\n",
        "t1.join()\n",
        "t2.join()"
      ]
    },
    {
      "cell_type": "code",
      "execution_count": null,
      "metadata": {
        "colab": {
          "base_uri": "https://localhost:8080/"
        },
        "id": "RC6a3TTQgWjU",
        "outputId": "4b1377f3-1fb5-4e6e-9303-2cdb6ed3a2fc"
      },
      "outputs": [
        {
          "name": "stdout",
          "output_type": "stream",
          "text": [
            "0\n",
            "1\n",
            "2\n",
            "3\n",
            "4\n"
          ]
        }
      ],
      "source": [
        "import threading\n",
        "\n",
        "def print_numbers():\n",
        "  for i in range(5):\n",
        "    print(i)\n",
        "\n",
        "thread=threading.Thread(target=print_numbers)\n",
        "thread.start()\n",
        "thread.join()\n"
      ]
    },
    {
      "cell_type": "code",
      "execution_count": null,
      "metadata": {
        "colab": {
          "base_uri": "https://localhost:8080/"
        },
        "id": "O_2qbU4bg_7p",
        "outputId": "997d55c3-d67f-4baa-df25-a9929bb98463"
      },
      "outputs": [
        {
          "name": "stdout",
          "output_type": "stream",
          "text": [
            "downloadingfile1.txt\n",
            "downloadingfile2.txt\n",
            "downloadingfile3.txt\n",
            "file1.txt downloaded\n",
            "file2.txt downloaded\n",
            "file3.txt downloaded\n"
          ]
        }
      ],
      "source": [
        "import threading\n",
        "import time\n",
        "\n",
        "def download_file(file):\n",
        "  print(f\"downloading{file}\")\n",
        "  time.sleep(2)\n",
        "  print(f\"{file} downloaded\")\n",
        "\n",
        "files=[\"file1.txt\",\"file2.txt\",\"file3.txt\"]\n",
        "threads=[threading.Thread(target=download_file,args=(f,))for f in files]\n",
        "\n",
        "for t in threads:\n",
        "  t.start()\n",
        "\n",
        "for t in threads:\n",
        "  t.join()"
      ]
    },
    {
      "cell_type": "code",
      "execution_count": null,
      "metadata": {
        "id": "qQVDaetQkEzF"
      },
      "outputs": [],
      "source": []
    },
    {
      "cell_type": "markdown",
      "metadata": {
        "id": "2pY3I2AKkbqd"
      },
      "source": [
        "3.Using Threads with Arguments"
      ]
    },
    {
      "cell_type": "code",
      "execution_count": null,
      "metadata": {
        "colab": {
          "base_uri": "https://localhost:8080/"
        },
        "id": "R_mzpMdhkPBW",
        "outputId": "9d33d164-2318-4400-d2a1-c9a6db868515"
      },
      "outputs": [
        {
          "name": "stdout",
          "output_type": "stream",
          "text": [
            "Hello, Alice!\n"
          ]
        }
      ],
      "source": [
        "import threading\n",
        "def greet(name):\n",
        "  print(f\"Hello, {name}!\")\n",
        "\n",
        "thread=threading.Thread(target=greet,args=(\"Alice\",))\n",
        "thread.start()\n",
        "thread.join()"
      ]
    },
    {
      "cell_type": "markdown",
      "metadata": {
        "id": "4Vw7Wd_clP46"
      },
      "source": [
        "Two threading\n",
        "-->1st import threading and time define chef_work() and make a for loop for range(5).each loop print(\"Chef:Preparing dish {i+1}...\") and use time.sleep() wait for 2seconds then if i==2: print(\"Chef: Calling assistanta to wash utensils.\") then wait for 1 seconds.\n",
        "make thread assistant_thread with assistant work as target start() join().\n",
        "define a function assistant work and make a for loop for range(3)\n",
        "print(\"Assistant: Washing utensil {j+i}...\") wait for 2 seconds print(\" Assistant: All utensils are clean.\")\n"
      ]
    },
    {
      "cell_type": "code",
      "execution_count": null,
      "metadata": {
        "colab": {
          "base_uri": "https://localhost:8080/"
        },
        "id": "O04oekVKlLRr",
        "outputId": "5b4c5ebe-7ec4-4d5b-a606-c6fafe20b0b6"
      },
      "outputs": [
        {
          "name": "stdout",
          "output_type": "stream",
          "text": [
            "Chef: All dishes are prepared.\n",
            "Kitchen: Starting work.\n",
            "Chef:Preparing dish 1...\n",
            "Chef:Preparing dish 2...\n",
            "Chef:Preparing dish 3...\n",
            "Chef: Calling assistanta to wash utensils.\n"
          ]
        },
        {
          "name": "stderr",
          "output_type": "stream",
          "text": [
            "Exception in thread Thread-36 (chef_work):\n",
            "Traceback (most recent call last):\n",
            "  File \"/usr/lib/python3.11/threading.py\", line 1045, in _bootstrap_inner\n",
            "    self.run()\n",
            "  File \"/usr/lib/python3.11/threading.py\", line 982, in run\n",
            "    self._target(*self._args, **self._kwargs)\n",
            "  File \"<ipython-input-10-1815708485>\", line 13, in chef_work\n",
            "  File \"/usr/lib/python3.11/threading.py\", line 959, in start\n",
            "    raise RuntimeError(\"threads can only be started once\")\n",
            "RuntimeError: threads can only be started once\n"
          ]
        },
        {
          "name": "stdout",
          "output_type": "stream",
          "text": [
            "Kitchen: All work completed.\n"
          ]
        }
      ],
      "source": [
        "import threading\n",
        "import time\n",
        "\n",
        "#Function for the chefs work (Thread 1)\n",
        "def chef_work():\n",
        "    for i in range(5): #Chef prepares 5 dishes\n",
        "        print(f\"Chef:Preparing dish {i+1}...\")\n",
        "        time.sleep(2) #Simulate time taken to prepare a dish\n",
        "        if i==2: #Assistant start washing utensils during the 3rd dish\n",
        "            print(\"Chef: Calling assistanta to wash utensils.\")\n",
        "            time.sleep(1) #Simulate time taken to call assistants\n",
        "            assistant_thread=threading.Thread(target=assistant_work)\n",
        "            assistant_thread=thread.start()\n",
        "            assistant_thread=thread.join() #Wait for assistant to finish\n",
        "            print(\"Chef: Assistant done. Resuming dish preparation.\")\n",
        "print(\"Chef: All dishes are prepared.\")\n",
        "\n",
        "#function for assistants work (Thread2)\n",
        "def assistant_work():\n",
        "  for j in range(3): #Assistants washes 3 utensils\n",
        "    print(f\"Assistant: Washing utensil {j+i}...\")\n",
        "    time.sleep(2) #Simulate time taken to wash each utensil\n",
        "  print(\" Assistant: All utensils are clean.\")\n",
        "\n",
        "print(\"Kitchen: Starting work.\")\n",
        "chef_thread= threading.Thread(target=chef_work)\n",
        "chef_thread.start()\n",
        "chef_thread.join()  # Wait for the chef to complete their work\n",
        "print(\"Kitchen: All work completed.\")\n"
      ]
    },
    {
      "cell_type": "markdown",
      "metadata": {
        "id": "RfDdsX0AwYH0"
      },
      "source": [
        "### Qustion\n",
        "Write a Python program using threading to simulate music playback and lyrics downloading:\n",
        "\n",
        "Music playback runs in one thread for 5 seconds, printing a message each second.\n",
        "During the 3rd second, a separate thread starts to simulate downloading lyrics, which takes 3 seconds.\n",
        "Ensure the music playback waits for the lyrics to finish downloading before continuing."
      ]
    },
    {
      "cell_type": "code",
      "execution_count": null,
      "metadata": {
        "colab": {
          "base_uri": "https://localhost:8080/"
        },
        "id": "96-0wGlpvPkK",
        "outputId": "e0838f07-b6b5-470c-c070-b47397a9b19a"
      },
      "outputs": [
        {
          "name": "stdout",
          "output_type": "stream",
          "text": [
            "Music Player: Starting music playback.\n",
            "Music player: Playing music 1 seconds\n",
            "Music player: Playing music 2 seconds\n",
            "Music player: Playing music 3 seconds\n",
            "Music player: Playing music 4 seconds\n",
            "Music Player: Downloading lyrics in the background\n",
            "Downloading lyrics...\n",
            "1\n",
            "2\n",
            "3\n",
            "Music player: Playing music 5 seconds\n",
            "Music Player:End music playback\n"
          ]
        }
      ],
      "source": [
        "import threading\n",
        "import time\n",
        "def down_lyrics():\n",
        "  print(\"Downloading lyrics...\")\n",
        "  for i in range(3):\n",
        "    time.sleep(1)\n",
        "    print(i+1,\"second\")\n",
        "\n",
        "def music_playback():\n",
        "  print(\"Music Player: Starting music playback.\")\n",
        "  for i in range(5):\n",
        "    time.sleep(1)\n",
        "    print(\"Music player: Playing music\",(i+1),\"seconds\")\n",
        "    if i==3:\n",
        "      print(\"Music Player: Downloading lyrics in the background\")\n",
        "      t1=threading.Thread(target=down_lyrics)\n",
        "      t1.start()\n",
        "      t1.join()\n",
        "  print(\"Music Player:End music playback\")\n",
        "\n",
        "t2=threading.Thread(target=music_playback)\n",
        "t2.start()\n",
        "t2.join()"
      ]
    },
    {
      "cell_type": "markdown",
      "metadata": {
        "id": "Hflx3NhhT4NH"
      },
      "source": [
        "Eg1"
      ]
    },
    {
      "cell_type": "code",
      "execution_count": null,
      "metadata": {
        "colab": {
          "base_uri": "https://localhost:8080/"
        },
        "id": "cCiXgEVmFBPy",
        "outputId": "b350c266-afe5-481f-bc0a-4a2658297ab0"
      },
      "outputs": [
        {
          "name": "stdout",
          "output_type": "stream",
          "text": [
            "3\n",
            "4\n"
          ]
        }
      ],
      "source": [
        "def fun1():  #each function is process\n",
        "  print(1+2)\n",
        "def fun2():\n",
        "  print(2+2)\n",
        "import threading\n",
        "t1 = threading.Thread(target=fun1)\n",
        "t2 = threading.Thread(target=fun2)\n",
        "t1.start()\n",
        "t2.start()\n",
        "t1.join()\n",
        "t2.join()"
      ]
    },
    {
      "cell_type": "code",
      "execution_count": null,
      "metadata": {
        "colab": {
          "base_uri": "https://localhost:8080/"
        },
        "id": "nIMelx5MUA6j",
        "outputId": "0ec6e796-dbfe-4504-923e-f14c3ac58431"
      },
      "outputs": [
        {
          "name": "stdout",
          "output_type": "stream",
          "text": [
            "Square: 100\n",
            "Cube: 1000\n",
            "Done!\n"
          ]
        }
      ],
      "source": [
        "import threading\n",
        "def print_cube(num):\n",
        "  \"\"\"\n",
        "  function to print cube of a given num\n",
        "  \"\"\"\n",
        "  print(\"Cube: {}\".format(num*num*num))\n",
        "\n",
        "def print_square(num):\n",
        "  \"\"\"\n",
        "  function to print square of a given num\n",
        "  \"\"\"\n",
        "  print(\"Square: {}\".format(num*num))\n",
        "\n",
        "if __name__==\"__main__\":\n",
        "#creating thread\n",
        "  t1 = threading.Thread(target=print_square,args=(10,))\n",
        "  t2 = threading.Thread(target=print_cube,args=(10,))\n",
        "\n",
        "#starting thread 1\n",
        "t1.start()\n",
        "#starting thread 2\n",
        "t2.start()\n",
        "\n",
        "#wait until thread 1 is completely exexcuted\n",
        "t1.join()\n",
        "#wait until thread2 is completely executeeed\n",
        "t2.join()\n",
        "\n",
        "#both threads completly executed\n",
        "print(\"Done!\")"
      ]
    },
    {
      "cell_type": "code",
      "execution_count": null,
      "metadata": {
        "colab": {
          "base_uri": "https://localhost:8080/"
        },
        "id": "9rXZfBRNYJsJ",
        "outputId": "30c70d8d-5a1d-4bf4-9acc-94cf27ad785e"
      },
      "outputs": [
        {
          "name": "stdout",
          "output_type": "stream",
          "text": [
            "iteration 0:x=200000\n",
            "iteration 1:x=200000\n",
            "iteration 2:x=200000\n",
            "iteration 3:x=200000\n",
            "iteration 4:x=200000\n",
            "iteration 5:x=200000\n",
            "iteration 6:x=200000\n",
            "iteration 7:x=200000\n",
            "iteration 8:x=200000\n",
            "iteration 9:x=200000\n"
          ]
        }
      ],
      "source": [
        "import threading\n",
        "#global variable x\n",
        "x=0\n",
        "def increment():\n",
        "  \"\"\"\n",
        "  function to increment global variable x\n",
        "  \"\"\"\n",
        "  global x\n",
        "  x+=1\n",
        "\n",
        "def thread_task():\n",
        "  \"\"\"\n",
        "  Task for thread ,\n",
        "  calls increment function 100000 times\n",
        "  \"\"\"\n",
        "  for _ in range(100000):\n",
        "    increment()\n",
        "\n",
        "def main_task():\n",
        "  global x\n",
        "  #setting global variable x as 0\n",
        "  x=0\n",
        "  #creating threads\n",
        "  t1=threading.Thread(target=thread_task)\n",
        "  t2=threading.Thread(target=thread_task)\n",
        "  #start threads\n",
        "  t1.start()\n",
        "  t2.start()\n",
        "  #wait until threads finish their job\n",
        "  t1.join()\n",
        "  t2.join()\n",
        "\n",
        "if __name__==\"__main__\":\n",
        "  for i in range(10):\n",
        "    main_task()\n",
        "    print(\"iteration {0}:x={1}\".format(i,x))"
      ]
    },
    {
      "cell_type": "code",
      "execution_count": null,
      "metadata": {
        "colab": {
          "base_uri": "https://localhost:8080/"
        },
        "collapsed": true,
        "id": "Ax7aO_qKPETb",
        "outputId": "37688e39-84cc-4b06-b129-51cbe4ee57de"
      },
      "outputs": [
        {
          "name": "stdout",
          "output_type": "stream",
          "text": [
            "iteration 0: x=200000\n",
            "iteration 1: x=200000\n",
            "iteration 2: x=200000\n",
            "iteration 3: x=200000\n",
            "iteration 4: x=200000\n",
            "iteration 5: x=200000\n",
            "iteration 6: x=200000\n",
            "iteration 7: x=200000\n",
            "iteration 8: x=200000\n",
            "iteration 9: x=200000\n"
          ]
        }
      ],
      "source": [
        "import threading\n",
        "\n",
        "# global variable x\n",
        "x = 0\n",
        "lock = threading.Lock()\n",
        "\n",
        "def increment():\n",
        "    \"\"\"\n",
        "    Function to increment global variable x in a thread-safe way\n",
        "    \"\"\"\n",
        "    global x\n",
        "    with lock:\n",
        "        x += 1\n",
        "\n",
        "def thread_task():\n",
        "    \"\"\"\n",
        "    Task for thread,\n",
        "    calls increment function 100000 times\n",
        "    \"\"\"\n",
        "    for _ in range(100000):\n",
        "        increment()\n",
        "\n",
        "def main_task():\n",
        "    global x\n",
        "    x = 0\n",
        "    # creating threads\n",
        "    t1 = threading.Thread(target=thread_task)\n",
        "    t2 = threading.Thread(target=thread_task)\n",
        "    # start threads\n",
        "    t1.start()\n",
        "    t2.start()\n",
        "    # wait until threads finish their job\n",
        "    t1.join()\n",
        "    t2.join()\n",
        "\n",
        "if __name__ == \"__main__\":\n",
        "    for i in range(10):\n",
        "        main_task()\n",
        "        print(\"iteration {0}: x={1}\".format(i, x))\n"
      ]
    },
    {
      "cell_type": "code",
      "execution_count": null,
      "metadata": {
        "colab": {
          "base_uri": "https://localhost:8080/"
        },
        "id": "RlAR6z1kcC4o",
        "outputId": "fa66fc87-c8d6-490f-e0cc-8e9c4b187931"
      },
      "outputs": [
        {
          "name": "stdout",
          "output_type": "stream",
          "text": [
            "iteration 0: x=200000\n",
            "iteration 1: x=200000\n",
            "iteration 2: x=200000\n",
            "iteration 3: x=200000\n",
            "iteration 4: x=200000\n",
            "iteration 5: x=200000\n",
            "iteration 6: x=200000\n",
            "iteration 7: x=200000\n",
            "iteration 8: x=200000\n",
            "iteration 9: x=200000\n"
          ]
        }
      ],
      "source": [
        "import threading\n",
        "#global variable x\n",
        "x=0\n",
        "\n",
        "def increment():\n",
        "  \"\"\"\n",
        "  function to increment global variable x\n",
        "  \"\"\"\n",
        "  global x\n",
        "  x+=1\n",
        "\n",
        "def thread_task(lock):\n",
        "  \"\"\"\n",
        "  task for thread\n",
        "  calls increment function 100000 times\n",
        "  \"\"\"\n",
        "  for _ in range(100000):\n",
        "    lock.acquire()\n",
        "    increment()\n",
        "    lock.release()\n",
        "\n",
        "def main_task():\n",
        "  global x\n",
        "  #setting global variable x as 0\n",
        "  x=0\n",
        "  #creating a lock\n",
        "  lock=threading.Lock()\n",
        "  #creating threads\n",
        "  t1=threading.Thread(target=thread_task,args=(lock,))\n",
        "  t2=threading.Thread(target=thread_task,args=(lock,))\n",
        "  #start threads\n",
        "  t1.start()\n",
        "  t2.start()\n",
        "  #wait until threads finish their job\n",
        "  t1.join()\n",
        "  t2.join()\n",
        "\n",
        "if __name__==\"__main__\":\n",
        "  for i in range(10):\n",
        "    main_task()\n",
        "    print(\"iteration {0}: x={1}\".format(i,x))\n",
        "\n"
      ]
    },
    {
      "cell_type": "code",
      "execution_count": null,
      "metadata": {
        "colab": {
          "base_uri": "https://localhost:8080/"
        },
        "collapsed": true,
        "id": "b17IkGTuP0FR",
        "outputId": "d75194c3-622a-4edc-f445-696fb7d26195"
      },
      "outputs": [
        {
          "name": "stdout",
          "output_type": "stream",
          "text": [
            "Even : 0\n",
            "Even : 2\n",
            "Even : 4\n",
            "Even : 6\n",
            "Even : 8\n",
            "Even : 10\n",
            "Even : 12\n",
            "Even : 14\n",
            "Even : 16\n",
            "Even : 18\n",
            "Odd : 1\n",
            "Odd : 3\n",
            "Odd : 5\n",
            "Odd : 7\n",
            "Odd : 9\n",
            "Odd : 11\n",
            "Odd : 13\n",
            "Odd : 15\n",
            "End\n"
          ]
        }
      ],
      "source": [
        "def evennumber(n):\n",
        "  for i in range(n):\n",
        "    if i%2 == 0:\n",
        "      print(\"Even :\",i)\n",
        "    else:\n",
        "      pass\n",
        "def oddnumber(n):\n",
        "  for i in range(n):\n",
        "    if i%2 == 1:\n",
        "      print(\"Odd :\",i)\n",
        "    else:\n",
        "      pass\n",
        "import threading\n",
        "t1=threading.Thread(target=evennumber,args=(20,))\n",
        "t2=threading.Thread(target=oddnumber,args=(16,))\n",
        "t1.start()\n",
        "t2.start()\n",
        "t1.join()\n",
        "t2.join()\n",
        "print(\"End\")"
      ]
    },
    {
      "cell_type": "code",
      "execution_count": null,
      "metadata": {
        "id": "1AsVNzYMXMvR"
      },
      "outputs": [],
      "source": [
        "import time\n",
        "import threading\n",
        "\n",
        "def evennumber(n):\n",
        "    for i in range(n):\n",
        "        if i == 10:\n",
        "            time.sleep(20)  # Simulates a long-running task\n",
        "        if i % 2 == 0:\n",
        "            print(\"Even :\", i)\n",
        "\n",
        "def oddnumber(n):\n",
        "    for i in range(n):\n",
        "        if i % 2 == 1:\n",
        "            print(\"Odd :\", i)\n",
        "\n",
        "t1 = threading.Thread(target=evennumber, args=(20,))\n",
        "t2 = threading.Thread(target=oddnumber, args=(16,))\n",
        "\n",
        "t1.start()\n",
        "t2.start()\n",
        "\n",
        "t1.join()\n",
        "t2.join()\n",
        "\n",
        "print(\"End\")"
      ]
    },
    {
      "cell_type": "markdown",
      "metadata": {
        "id": "_yc7cSl_u2C2"
      },
      "source": [
        "2. Multithreading in Python"
      ]
    },
    {
      "cell_type": "code",
      "execution_count": null,
      "metadata": {
        "id": "R8w7pRJRQxJC"
      },
      "outputs": [],
      "source": [
        "#1. File Operations in Python\n",
        "#Python provides built-in functions to perform file operations like read, write, append, etc.\n",
        "\n",
        "# Writing to a file\n",
        "with open(\"sample.txt\", \"w\") as file:\n",
        "    file.write(\"This is a sample text.\\n\")\n",
        "    file.write(\"Python makes file operations easy.\\n\")\n",
        "\n",
        "# Reading from the file\n",
        "with open(\"sample.txt\", \"r\") as file:\n",
        "    content = file.read()\n",
        "    print(\"File Content:\\n\", content)"
      ]
    },
    {
      "cell_type": "code",
      "execution_count": null,
      "metadata": {
        "id": "yYf_N374u_fK"
      },
      "outputs": [],
      "source": [
        "import threading\n",
        "import time\n",
        "\n",
        "def task1():\n",
        "    for i in range(3):\n",
        "        print(\"Task 1 running\")\n",
        "        time.sleep(1)\n",
        "\n",
        "def task2():\n",
        "    for i in range(3):\n",
        "        print(\"Task 2 running\")\n",
        "        time.sleep(1)\n",
        "\n",
        "# Creating threads\n",
        "t1 = threading.Thread(target=task1)\n",
        "t2 = threading.Thread(target=task2)\n",
        "\n",
        "# Starting threads\n",
        "t1.start()\n",
        "t2.start()\n",
        "\n",
        "# Wait for threads to finish\n",
        "t1.join()\n",
        "t2.join()\n",
        "\n",
        "print(\"Both tasks completed.\")"
      ]
    },
    {
      "cell_type": "markdown",
      "metadata": {
        "id": "8h0RcdJkvara"
      },
      "source": [
        "3. File Operation + Multithreading Combined"
      ]
    },
    {
      "cell_type": "code",
      "execution_count": null,
      "metadata": {
        "id": "a6CtGOwIvbX-"
      },
      "outputs": [],
      "source": [
        "import threading\n",
        "\n",
        "def write_even_numbers(filename):\n",
        "    with open(filename, 'w') as f:\n",
        "        for i in range(0, 20, 2):\n",
        "            f.write(f\"Even: {i}\\n\")\n",
        "\n",
        "def write_odd_numbers(filename):\n",
        "    with open(filename, 'w') as f:\n",
        "        for i in range(1, 20, 2):\n",
        "            f.write(f\"Odd: {i}\\n\")\n",
        "\n",
        "# Create threads\n",
        "t1 = threading.Thread(target=write_even_numbers, args=(\"even.txt\",))\n",
        "t2 = threading.Thread(target=write_odd_numbers, args=(\"odd.txt\",))\n",
        "\n",
        "# Start threads\n",
        "t1.start()\n",
        "t2.start()\n",
        "\n",
        "# Wait for both to complete\n",
        "t1.join()\n",
        "t2.join()\n",
        "\n",
        "print(\"Finished writing to files.\")\n",
        "\n",
        "# Read and print files\n",
        "with open(\"even.txt\", \"r\") as fe:\n",
        "    print(\"\\nEven numbers file content:\")\n",
        "    print(fe.read())\n",
        "\n",
        "with open(\"odd.txt\", \"r\") as fo:\n",
        "    print(\"\\nOdd numbers file content:\")\n",
        "    print(fo.read())"
      ]
    },
    {
      "cell_type": "markdown",
      "metadata": {
        "id": "MjqX3DgYjz-X"
      },
      "source": [
        "# File HAndling"
      ]
    },
    {
      "cell_type": "code",
      "execution_count": null,
      "metadata": {
        "id": "vB60FuGsj3UY"
      },
      "outputs": [],
      "source": [
        "# This will create the file if it doesn't exist\n",
        "file = open(\"newfile.txt\", \"w\")\n",
        "file.write(\"This is not a new file.\")\n",
        "file.close()"
      ]
    },
    {
      "cell_type": "code",
      "execution_count": null,
      "metadata": {
        "id": "yuh1H93Dlrx1"
      },
      "outputs": [],
      "source": [
        "file = open(\"newfile.txt\", \"a\")\n",
        "file.write(\"\\nNew line added.\")\n",
        "file.close()"
      ]
    },
    {
      "cell_type": "code",
      "execution_count": null,
      "metadata": {
        "colab": {
          "base_uri": "https://localhost:8080/"
        },
        "id": "bCvkBSlMlLBs",
        "outputId": "c0d5cea2-ab16-44a9-b77b-a4cc4b3e75c5"
      },
      "outputs": [
        {
          "name": "stdout",
          "output_type": "stream",
          "text": [
            "This is not a new file.\n",
            "New line added.\n"
          ]
        }
      ],
      "source": [
        "file = open(\"newfile.txt\", \"r\")\n",
        "content = file.read()\n",
        "print(content)\n",
        "file.close()"
      ]
    },
    {
      "cell_type": "code",
      "execution_count": null,
      "metadata": {
        "colab": {
          "base_uri": "https://localhost:8080/"
        },
        "id": "4-G9LYtsl9Qy",
        "outputId": "65a89804-a344-424f-cd20-940f17b97a03"
      },
      "outputs": [
        {
          "name": "stdout",
          "output_type": "stream",
          "text": [
            "This is not a new file.\n",
            "New line added.\n"
          ]
        }
      ],
      "source": [
        "with open(\"newfile.txt\", \"r\") as file:\n",
        "    content = file.read()\n",
        "    print(content)"
      ]
    },
    {
      "cell_type": "code",
      "execution_count": null,
      "metadata": {
        "colab": {
          "base_uri": "https://localhost:8080/",
          "height": 183
        },
        "id": "nwg7tsPjkbB4",
        "outputId": "83e2017a-2f01-4620-aa99-52df78ce9cf2"
      },
      "outputs": [
        {
          "ename": "FileExistsError",
          "evalue": "[Errno 17] File exists: 'newfile.txt'",
          "output_type": "error",
          "traceback": [
            "\u001b[0;31m---------------------------------------------------------------------------\u001b[0m",
            "\u001b[0;31mFileExistsError\u001b[0m                           Traceback (most recent call last)",
            "\u001b[0;32m<ipython-input-3-2448665838>\u001b[0m in \u001b[0;36m<cell line: 0>\u001b[0;34m()\u001b[0m\n\u001b[0;32m----> 1\u001b[0;31m \u001b[0mfile\u001b[0m \u001b[0;34m=\u001b[0m \u001b[0mopen\u001b[0m\u001b[0;34m(\u001b[0m\u001b[0;34m\"newfile.txt\"\u001b[0m\u001b[0;34m,\u001b[0m \u001b[0;34m\"x\"\u001b[0m\u001b[0;34m)\u001b[0m\u001b[0;34m\u001b[0m\u001b[0;34m\u001b[0m\u001b[0m\n\u001b[0m\u001b[1;32m      2\u001b[0m \u001b[0mfile\u001b[0m\u001b[0;34m.\u001b[0m\u001b[0mwrite\u001b[0m\u001b[0;34m(\u001b[0m\u001b[0;34m\"This file was created using 'x' mode.\"\u001b[0m\u001b[0;34m)\u001b[0m\u001b[0;34m\u001b[0m\u001b[0;34m\u001b[0m\u001b[0m\n\u001b[1;32m      3\u001b[0m \u001b[0mfile\u001b[0m\u001b[0;34m.\u001b[0m\u001b[0mclose\u001b[0m\u001b[0;34m(\u001b[0m\u001b[0;34m)\u001b[0m\u001b[0;34m\u001b[0m\u001b[0;34m\u001b[0m\u001b[0m\n",
            "\u001b[0;31mFileExistsError\u001b[0m: [Errno 17] File exists: 'newfile.txt'"
          ]
        }
      ],
      "source": [
        "file = open(\"unique_file.txt\", \"x\")\n",
        "file.write(\"This file was created using 'x' mode.\")\n",
        "file.close()"
      ]
    },
    {
      "cell_type": "code",
      "execution_count": null,
      "metadata": {
        "colab": {
          "base_uri": "https://localhost:8080/",
          "height": 280
        },
        "id": "Mh77uyaQdWr8",
        "outputId": "2012be6c-018c-4def-d1a1-53c8c8b05ea9"
      },
      "outputs": [
        {
          "ename": "FileExistsError",
          "evalue": "[Errno 17] File exists: 'example.txt'",
          "output_type": "error",
          "traceback": [
            "\u001b[0;31m---------------------------------------------------------------------------\u001b[0m",
            "\u001b[0;31mFileExistsError\u001b[0m                           Traceback (most recent call last)",
            "\u001b[0;32m<ipython-input-2-567795204>\u001b[0m in \u001b[0;36m<cell line: 0>\u001b[0;34m()\u001b[0m\n\u001b[0;32m----> 1\u001b[0;31m \u001b[0;32mwith\u001b[0m \u001b[0mopen\u001b[0m\u001b[0;34m(\u001b[0m\u001b[0;34m'example.txt'\u001b[0m\u001b[0;34m,\u001b[0m \u001b[0;34m'x'\u001b[0m\u001b[0;34m)\u001b[0m \u001b[0;32mas\u001b[0m \u001b[0mfile\u001b[0m\u001b[0;34m:\u001b[0m\u001b[0;34m\u001b[0m\u001b[0;34m\u001b[0m\u001b[0m\n\u001b[0m\u001b[1;32m      2\u001b[0m         \u001b[0mfile\u001b[0m\u001b[0;34m.\u001b[0m\u001b[0mwrite\u001b[0m\u001b[0;34m(\u001b[0m\u001b[0;34m\"This is a new file created.\"\u001b[0m\u001b[0;34m)\u001b[0m\u001b[0;34m\u001b[0m\u001b[0;34m\u001b[0m\u001b[0m\n",
            "\u001b[0;31mFileExistsError\u001b[0m: [Errno 17] File exists: 'example.txt'"
          ]
        }
      ],
      "source": [
        "with open('example.txt', 'x') as file:\n",
        "        file.write(\"This is a new file created.\")"
      ]
    },
    {
      "cell_type": "markdown",
      "metadata": {
        "id": "8DF_RabLtT_j"
      },
      "source": [
        "1.Write a file"
      ]
    },
    {
      "cell_type": "code",
      "execution_count": null,
      "metadata": {
        "colab": {
          "base_uri": "https://localhost:8080/"
        },
        "id": "UxJ30YOqr-zN",
        "outputId": "a4b37f20-a841-46f8-cd35-4993170c20ae"
      },
      "outputs": [
        {
          "name": "stdout",
          "output_type": "stream",
          "text": [
            "Data written successfully to example1.txt\n"
          ]
        }
      ],
      "source": [
        "#Program to write to a file\n",
        "with open(\"example1.txt\",\"w\") as f:\n",
        "  f.write(\"Hello,this is a file write operation\\n\")\n",
        "  f.write(\"Write another line.\\n\")\n",
        "\n",
        "print(\"Data written successfully to example1.txt\")\n"
      ]
    },
    {
      "cell_type": "markdown",
      "metadata": {
        "id": "Lx9ARP3XtWAE"
      },
      "source": [
        "2.Read from a file"
      ]
    },
    {
      "cell_type": "code",
      "execution_count": null,
      "metadata": {
        "colab": {
          "base_uri": "https://localhost:8080/"
        },
        "id": "b-_NKQLmtbds",
        "outputId": "713a2fbe-2eb6-4280-a695-35c377f8cfb8"
      },
      "outputs": [
        {
          "name": "stdout",
          "output_type": "stream",
          "text": [
            "File content:\n",
            " Hello,this is a file write operation\n",
            "Write another line.\n",
            "\n"
          ]
        }
      ],
      "source": [
        "#program to read a file\n",
        "with open(\"example1.txt\",\"r\") as f:\n",
        "  content=f.read()\n",
        "print(\"File content:\\n\",content)"
      ]
    },
    {
      "cell_type": "markdown",
      "metadata": {
        "id": "gg_LAw5mt-O3"
      },
      "source": [
        "3.Append to a file"
      ]
    },
    {
      "cell_type": "code",
      "execution_count": null,
      "metadata": {
        "colab": {
          "base_uri": "https://localhost:8080/"
        },
        "id": "Kng3jO9buGsK",
        "outputId": "f1391743-a49a-4cb5-8d04-cd5536141ec3"
      },
      "outputs": [
        {
          "name": "stdout",
          "output_type": "stream",
          "text": [
            "Data appended successfully\n"
          ]
        }
      ],
      "source": [
        "# Program to append to a file\n",
        "with open(\"example1.txt\",\"a\") as f:\n",
        "  f.write(\"This line is appended at the end.\\n\")\n",
        "print(\"Data appended successfully\")"
      ]
    },
    {
      "cell_type": "markdown",
      "metadata": {
        "id": "7n6NKqcYumGr"
      },
      "source": [
        "4. Read file line by line"
      ]
    },
    {
      "cell_type": "code",
      "execution_count": null,
      "metadata": {
        "colab": {
          "base_uri": "https://localhost:8080/"
        },
        "id": "d4e1Aj-Ruqfm",
        "outputId": "64710d5c-92bf-48c3-d720-ff76c579289a"
      },
      "outputs": [
        {
          "name": "stdout",
          "output_type": "stream",
          "text": [
            "line: Hello,this is a file write operation\n",
            "line: Write another line.\n",
            "line: This line is appended at the end.\n"
          ]
        }
      ],
      "source": [
        "# Reading file line by line\n",
        "with open(\"example1.txt\",\"r\") as f:\n",
        "  for line in f:\n",
        "    print(\"line:\",line.strip())"
      ]
    },
    {
      "cell_type": "markdown",
      "metadata": {
        "id": "hvvWBjRKvOQs"
      },
      "source": [
        "5. Count Words in a File"
      ]
    },
    {
      "cell_type": "code",
      "execution_count": null,
      "metadata": {
        "colab": {
          "base_uri": "https://localhost:8080/"
        },
        "id": "XG2C5tqJvQ3p",
        "outputId": "923d2633-fe27-41ff-8b99-338b7c074f8a"
      },
      "outputs": [
        {
          "name": "stdout",
          "output_type": "stream",
          "text": [
            "Total words: 16\n"
          ]
        }
      ],
      "source": [
        "# Count total words in a file\n",
        "with open(\"example1.txt\",\"r\") as f:\n",
        "  content=f.read()\n",
        "  words=content.split()\n",
        "  print(\"Total words:\",len(words))"
      ]
    },
    {
      "cell_type": "markdown",
      "metadata": {
        "id": "aGinahTXv5SC"
      },
      "source": [
        "6. Copy File Content"
      ]
    },
    {
      "cell_type": "code",
      "execution_count": null,
      "metadata": {
        "colab": {
          "base_uri": "https://localhost:8080/"
        },
        "id": "aYDZOggqv79O",
        "outputId": "2c1e5694-2248-4025-cdb0-ab851abf28fb"
      },
      "outputs": [
        {
          "name": "stdout",
          "output_type": "stream",
          "text": [
            "File copied to copy_example1.tx\n",
            "File copied to copy_example1.tx\n",
            "File copied to copy_example1.tx\n"
          ]
        }
      ],
      "source": [
        "# Copy contents of one file to another\n",
        "with open(\"example1.txt\",\"r\")as src,open(\"copy_example1.txt\",\"w\") as dest:\n",
        "  for line in src:\n",
        "    dest.write(line)\n",
        "    print(\"File copied to copy_example1.txt\")"
      ]
    },
    {
      "cell_type": "markdown",
      "metadata": {
        "id": "YkuZIh6ZwlK-"
      },
      "source": [
        "7. Search for a Word in a File"
      ]
    },
    {
      "cell_type": "code",
      "execution_count": null,
      "metadata": {
        "colab": {
          "base_uri": "https://localhost:8080/"
        },
        "id": "5RbThWJxwv07",
        "outputId": "7fc209eb-a189-442f-947d-575442272335"
      },
      "outputs": [
        {
          "name": "stdout",
          "output_type": "stream",
          "text": [
            "Word '(search_word)' found on line 1: Hello,this is a file write operation\n"
          ]
        }
      ],
      "source": [
        "search_word=\"file\"\n",
        "found=False\n",
        "\n",
        "with open(\"example1.txt\",\"r\") as f:\n",
        "  for line_num, line in enumerate(f,1):\n",
        "    if search_word in line:\n",
        "      print(f\"Word '(search_word)' found on line {line_num}: {line.strip()}\")\n",
        "      found = True\n",
        "\n",
        "if not found:\n",
        "  print(f\"Word '(search_word)' not found.\")\n"
      ]
    },
    {
      "cell_type": "markdown",
      "metadata": {
        "id": "LSL2rUxuyYJu"
      },
      "source": [
        "8. Delete Contents of a File (Empty the File)"
      ]
    },
    {
      "cell_type": "code",
      "execution_count": null,
      "metadata": {
        "colab": {
          "base_uri": "https://localhost:8080/"
        },
        "id": "xbgc2_Hqycal",
        "outputId": "51e9bb1d-56d2-4ef3-adc0-e0a2e62a09ba"
      },
      "outputs": [
        {
          "name": "stdout",
          "output_type": "stream",
          "text": [
            "File content cleared.\n"
          ]
        }
      ],
      "source": [
        "# Clear file content without deleting the file\n",
        "open(\"example1.txt\",\"w\").close()\n",
        "print(\"File content cleared.\")"
      ]
    },
    {
      "cell_type": "markdown",
      "metadata": {
        "id": "fDtHdU-K0Xs2"
      },
      "source": [
        "1. How do you open a file in Python? What are different modes?\n",
        "\n",
        "Use the built-in open() function:"
      ]
    },
    {
      "cell_type": "code",
      "execution_count": null,
      "metadata": {
        "id": "sS-JtxSc0clA"
      },
      "outputs": [],
      "source": [
        "file = open(\"file.txt\",\"r\")\n"
      ]
    },
    {
      "cell_type": "code",
      "execution_count": null,
      "metadata": {
        "id": "G9Irwa5q0zQF"
      },
      "outputs": [],
      "source": [
        "#2. What is the difference between write() and writelines()?\n",
        "#write() writes a single string.\n",
        "#writelines() writes a list of strings (no automatic newlines).\n",
        "with open(\"sample.txt\",\"w\")as f:\n",
        "  f.write(\"hello\\n\") #one line\n",
        "  f.writelines([\"Line1\\n\",\"Line2\\n\"])  #Multiple items\n"
      ]
    },
    {
      "cell_type": "code",
      "execution_count": null,
      "metadata": {
        "colab": {
          "base_uri": "https://localhost:8080/"
        },
        "id": "I5QV5L9E1dIv",
        "outputId": "d55740d7-b3cf-469f-837b-b4424e6fb8fa"
      },
      "outputs": [
        {
          "name": "stdout",
          "output_type": "stream",
          "text": [
            "This line is appended at the end.\n"
          ]
        }
      ],
      "source": [
        "#3. How do you read a file line by line?\n",
        "with open(\"sample.txt\",\"r\")as f:\n",
        "  print(line.strip())"
      ]
    },
    {
      "cell_type": "code",
      "execution_count": null,
      "metadata": {
        "id": "WmPn2Os71u12"
      },
      "outputs": [],
      "source": [
        "# 4. What is the use of with open(...) syntax?\n",
        "#It ensures the file is automatically closed after the block, even if an error occurs.\n",
        "with open(\"data.txt\",\"r\") as f:\n",
        "   content=f.read()"
      ]
    },
    {
      "cell_type": "code",
      "execution_count": null,
      "metadata": {
        "id": "OKRBHSjs9mfA"
      },
      "outputs": [],
      "source": [
        "with open(\"source.txt\",\"w\") as src:\n",
        "  src.write(\"hi this is new file\")"
      ]
    },
    {
      "cell_type": "code",
      "execution_count": null,
      "metadata": {
        "id": "7L8k9OocnF2B"
      },
      "outputs": [],
      "source": [
        "with open(\"what.txt\",\"w\") as qwe:\n",
        "  qwe.write(\"whats your name\")"
      ]
    },
    {
      "cell_type": "code",
      "execution_count": null,
      "metadata": {
        "id": "YqZ1jUZZskSV"
      },
      "outputs": [],
      "source": [
        "with open(\"what.txt\",\"r\") as qwe, open(\"apple.txt\",\"w\")as gpt:\n",
        "  gpt.write(qwe.read())"
      ]
    },
    {
      "cell_type": "code",
      "execution_count": null,
      "metadata": {
        "colab": {
          "base_uri": "https://localhost:8080/",
          "height": 36
        },
        "id": "shXCEZxjtfXK",
        "outputId": "279c917e-8b1f-4b92-c90f-63d50036f2e6"
      },
      "outputs": [
        {
          "data": {
            "application/vnd.google.colaboratory.intrinsic+json": {
              "type": "string"
            },
            "text/plain": [
              "'apple is red'"
            ]
          },
          "execution_count": 56,
          "metadata": {},
          "output_type": "execute_result"
        }
      ],
      "source": [
        "file = open(\"red.txt\",\"w\")\n",
        "file.write(\"apple is red\")\n",
        "file.close()\n",
        "file=open(\"red.txt\",\"r\")\n",
        "file.read()\n"
      ]
    },
    {
      "cell_type": "markdown",
      "metadata": {
        "id": "iFWv5-JY3kGc"
      },
      "source": [
        "# Exception Handling"
      ]
    },
    {
      "cell_type": "markdown",
      "metadata": {
        "id": "CIeVETYK48bJ"
      },
      "source": [
        "Exception handling is a programming concept used to manage error or unexpected conditions that occure during the exicution of a programme .it alles the programe to continue running of failgracefully instead of crashing .\n",
        "\n",
        "Use Exception Handling?\n",
        "To prevent the entire program from crashing due to runtime errors.\n",
        "\n",
        "To provide informative error messages.\n",
        "\n",
        "To allow recovery or alternative execution paths.\n",
        "\n",
        "common terms\n",
        "Exception: An error that occurs during program execution.\n",
        "\n",
        "Try block: Code that might throw an exception.\n",
        "\n",
        "Except block: Code that runs if an exception occurs.\n",
        "\n",
        "Finally block: Code that always runs, whether an exception occurred or not.\n",
        "\n",
        "Raise: Manually trigger an exception.\n",
        "\n",
        "What are Errors?\n",
        "Errors are issues in the code that prevent it from executing successfully.\n",
        "Types of Errors\n",
        "\n",
        "Synatx Errors\n",
        "Runtime Erros\n",
        "Logical Errors"
      ]
    },
    {
      "cell_type": "markdown",
      "metadata": {
        "id": "92kOJrnKndbZ"
      },
      "source": [
        "1. Syntax Errors\n",
        "\n",
        "Occur when the code vilates python's syntax rules.\n",
        "\n",
        "Detetcted before execution.\n",
        "\n",
        "Example: Missing colons, unmatched parentheses.\n",
        "\n",
        "_ missing a colon at the end of the if statement\n",
        "\n",
        "if 5>3 print(\"this willl cause a syntax error\")\n",
        "\n",
        "Error Message : Syntax Error: invalid syntax\n",
        "\n",
        "The python interpreter cannot undersstand the code because of incorrect syntax, such as missing colons, unmatched parentheses. or msissplled keywords."
      ]
    },
    {
      "cell_type": "code",
      "execution_count": null,
      "metadata": {
        "colab": {
          "base_uri": "https://localhost:8080/"
        },
        "id": "gNGtDdl2nfuX",
        "outputId": "ac410a2c-9ac0-41b3-afff-f81b18522b20"
      },
      "outputs": [
        {
          "name": "stdout",
          "output_type": "stream",
          "text": [
            "this will cause a syntax error\n"
          ]
        }
      ],
      "source": [
        "if 5>3\n",
        "  print(\"this will cause a syntax error\")"
      ]
    },
    {
      "cell_type": "markdown",
      "metadata": {
        "id": "q9zguoXQnuXr"
      },
      "source": [
        "2. Runtime Errors\n",
        "\n",
        "Occur during program execution\n",
        "Example: Division by zero , accessing undefined variable\n",
        "Example Code Division by zero :\n",
        "\n",
        "x=1=/0 print(x)\n",
        "\n",
        "Error Message : zero Division Error : division by zero\n",
        "\n",
        "The program syntax is correct, but the operation fails at runtime(eg, dividing by zero, accessing an undefined variable , or file not found)."
      ]
    },
    {
      "cell_type": "code",
      "execution_count": null,
      "metadata": {
        "id": "xCB_w-oXnvnD"
      },
      "outputs": [],
      "source": [
        "x=1/0\n",
        "print(x)"
      ]
    },
    {
      "cell_type": "markdown",
      "metadata": {
        "id": "30mAfGY9n3OU"
      },
      "source": [
        "3. Logical Errors\n",
        "\n",
        "The program runs but gives incorrect results due to logic flaws,\n",
        "Example: incorrect formula or condition.\n",
        "incorrect formula for calculating the area of a rectangle\n",
        "\n",
        "length =5\n",
        "\n",
        "width= 10\n",
        "\n",
        "area = length +width # should be length * width\n",
        "\n",
        "print(\"Area;\",area)\n",
        "\n",
        "ouput: Area :15\n",
        "\n",
        "The program runs successsfully but, the result is wrong because of a mustake in the logic of formula"
      ]
    },
    {
      "cell_type": "code",
      "execution_count": null,
      "metadata": {
        "colab": {
          "base_uri": "https://localhost:8080/",
          "height": 390
        },
        "collapsed": true,
        "id": "I2-TkOl3n5qP",
        "outputId": "451d2b2f-77f1-4ddd-e28a-05c0fbf417e0"
      },
      "outputs": [
        {
          "name": "stdout",
          "output_type": "stream",
          "text": [
            "This block always runs\n"
          ]
        },
        {
          "ename": "KeyboardInterrupt",
          "evalue": "Interrupted by user",
          "output_type": "error",
          "traceback": [
            "\u001b[0;31m---------------------------------------------------------------------------\u001b[0m",
            "\u001b[0;31mKeyboardInterrupt\u001b[0m                         Traceback (most recent call last)",
            "\u001b[0;32m/tmp/ipython-input-9-3788938372.py\u001b[0m in \u001b[0;36m<cell line: 0>\u001b[0;34m()\u001b[0m\n\u001b[1;32m      1\u001b[0m \u001b[0;32mtry\u001b[0m\u001b[0;34m:\u001b[0m\u001b[0;34m\u001b[0m\u001b[0;34m\u001b[0m\u001b[0m\n\u001b[0;32m----> 2\u001b[0;31m   \u001b[0mnum\u001b[0m\u001b[0;34m=\u001b[0m\u001b[0mint\u001b[0m\u001b[0;34m(\u001b[0m\u001b[0minput\u001b[0m\u001b[0;34m(\u001b[0m\u001b[0;34m\"Enter a number:\"\u001b[0m\u001b[0;34m)\u001b[0m\u001b[0;34m)\u001b[0m\u001b[0;34m\u001b[0m\u001b[0;34m\u001b[0m\u001b[0m\n\u001b[0m\u001b[1;32m      3\u001b[0m   \u001b[0mresult\u001b[0m\u001b[0;34m=\u001b[0m\u001b[0;36m10\u001b[0m\u001b[0;34m/\u001b[0m\u001b[0mnum\u001b[0m\u001b[0;34m\u001b[0m\u001b[0;34m\u001b[0m\u001b[0m\n\u001b[1;32m      4\u001b[0m \u001b[0;32mexcept\u001b[0m \u001b[0mZeroDivisionError\u001b[0m\u001b[0;34m:\u001b[0m\u001b[0;34m\u001b[0m\u001b[0;34m\u001b[0m\u001b[0m\n\u001b[1;32m      5\u001b[0m   \u001b[0mprint\u001b[0m\u001b[0;34m(\u001b[0m\u001b[0;34m\"Cannot divide by zero!\"\u001b[0m\u001b[0;34m)\u001b[0m\u001b[0;34m\u001b[0m\u001b[0;34m\u001b[0m\u001b[0m\n",
            "\u001b[0;32m/usr/local/lib/python3.11/dist-packages/ipykernel/kernelbase.py\u001b[0m in \u001b[0;36mraw_input\u001b[0;34m(self, prompt)\u001b[0m\n\u001b[1;32m   1175\u001b[0m                 \u001b[0;34m\"raw_input was called, but this frontend does not support input requests.\"\u001b[0m\u001b[0;34m\u001b[0m\u001b[0;34m\u001b[0m\u001b[0m\n\u001b[1;32m   1176\u001b[0m             )\n\u001b[0;32m-> 1177\u001b[0;31m         return self._input_request(\n\u001b[0m\u001b[1;32m   1178\u001b[0m             \u001b[0mstr\u001b[0m\u001b[0;34m(\u001b[0m\u001b[0mprompt\u001b[0m\u001b[0;34m)\u001b[0m\u001b[0;34m,\u001b[0m\u001b[0;34m\u001b[0m\u001b[0;34m\u001b[0m\u001b[0m\n\u001b[1;32m   1179\u001b[0m             \u001b[0mself\u001b[0m\u001b[0;34m.\u001b[0m\u001b[0m_parent_ident\u001b[0m\u001b[0;34m[\u001b[0m\u001b[0;34m\"shell\"\u001b[0m\u001b[0;34m]\u001b[0m\u001b[0;34m,\u001b[0m\u001b[0;34m\u001b[0m\u001b[0;34m\u001b[0m\u001b[0m\n",
            "\u001b[0;32m/usr/local/lib/python3.11/dist-packages/ipykernel/kernelbase.py\u001b[0m in \u001b[0;36m_input_request\u001b[0;34m(self, prompt, ident, parent, password)\u001b[0m\n\u001b[1;32m   1217\u001b[0m             \u001b[0;32mexcept\u001b[0m \u001b[0mKeyboardInterrupt\u001b[0m\u001b[0;34m:\u001b[0m\u001b[0;34m\u001b[0m\u001b[0;34m\u001b[0m\u001b[0m\n\u001b[1;32m   1218\u001b[0m                 \u001b[0;31m# re-raise KeyboardInterrupt, to truncate traceback\u001b[0m\u001b[0;34m\u001b[0m\u001b[0;34m\u001b[0m\u001b[0m\n\u001b[0;32m-> 1219\u001b[0;31m                 \u001b[0;32mraise\u001b[0m \u001b[0mKeyboardInterrupt\u001b[0m\u001b[0;34m(\u001b[0m\u001b[0;34m\"Interrupted by user\"\u001b[0m\u001b[0;34m)\u001b[0m \u001b[0;32mfrom\u001b[0m \u001b[0;32mNone\u001b[0m\u001b[0;34m\u001b[0m\u001b[0;34m\u001b[0m\u001b[0m\n\u001b[0m\u001b[1;32m   1220\u001b[0m             \u001b[0;32mexcept\u001b[0m \u001b[0mException\u001b[0m\u001b[0;34m:\u001b[0m\u001b[0;34m\u001b[0m\u001b[0;34m\u001b[0m\u001b[0m\n\u001b[1;32m   1221\u001b[0m                 \u001b[0mself\u001b[0m\u001b[0;34m.\u001b[0m\u001b[0mlog\u001b[0m\u001b[0;34m.\u001b[0m\u001b[0mwarning\u001b[0m\u001b[0;34m(\u001b[0m\u001b[0;34m\"Invalid Message:\"\u001b[0m\u001b[0;34m,\u001b[0m \u001b[0mexc_info\u001b[0m\u001b[0;34m=\u001b[0m\u001b[0;32mTrue\u001b[0m\u001b[0;34m)\u001b[0m\u001b[0;34m\u001b[0m\u001b[0;34m\u001b[0m\u001b[0m\n",
            "\u001b[0;31mKeyboardInterrupt\u001b[0m: Interrupted by user"
          ]
        }
      ],
      "source": [
        "try:\n",
        "  num=int(input(\"Enter a number:\"))\n",
        "  result=10/num\n",
        "except ZeroDivisionError:\n",
        "  print(\"Cannot divide by zero!\")\n",
        "except ValueError:\n",
        "  print(\"Please enter a valid number!\")\n",
        "else:\n",
        "  print(\"Division successful result:\",result)\n",
        "finally:\n",
        "  print(\"This block always runs\")"
      ]
    },
    {
      "cell_type": "code",
      "execution_count": null,
      "metadata": {
        "colab": {
          "base_uri": "https://localhost:8080/"
        },
        "id": "5Hd3Z3lhpSla",
        "outputId": "85ea648c-205e-490a-ba89-db6b560c9c21"
      },
      "outputs": [
        {
          "name": "stdout",
          "output_type": "stream",
          "text": [
            "Area: 15\n"
          ]
        }
      ],
      "source": [
        "# incorrect formula for calculating the area of a rectangle\n",
        "length=5\n",
        "width=10\n",
        "area=length+width #should be length * width\n",
        "print(\"Area:\",area)"
      ]
    },
    {
      "cell_type": "code",
      "execution_count": null,
      "metadata": {
        "id": "VjieD7Xip2SX"
      },
      "outputs": [],
      "source": []
    },
    {
      "cell_type": "markdown",
      "metadata": {
        "id": "FwpggbU1p6mQ"
      },
      "source": [
        "The Try-Except Block\n",
        "Basis Structrue:\n",
        "\n",
        "(try: code that might raise an exception\n",
        "\n",
        "except Esception Type: code to handle the exception)\n",
        "\n",
        "Example code:\n",
        "\n",
        "try:\n",
        "\n",
        "x= int (input(\"Eneter a number:\")) y=10/x\n",
        "\n",
        "exceptzeroDivisionError:\n",
        "\n",
        "print(\"Cannot divide by zero\")"
      ]
    },
    {
      "cell_type": "code",
      "execution_count": null,
      "metadata": {
        "colab": {
          "base_uri": "https://localhost:8080/"
        },
        "id": "qAoH6MCp389L",
        "outputId": "4f7cedda-0f92-49f5-b6e0-8cece6d422e4"
      },
      "outputs": [
        {
          "name": "stdout",
          "output_type": "stream",
          "text": [
            "Enter a number:0\n",
            "Cannot divide by zero\n"
          ]
        }
      ],
      "source": [
        "try:\n",
        "  x=int(input(\"Enter a number:\"))\n",
        "  y=10/x\n",
        "  print(y)\n",
        "except ZeroDivisionError:\n",
        "  print(\"Cannot divide by zero\")\n"
      ]
    },
    {
      "cell_type": "code",
      "execution_count": null,
      "metadata": {
        "colab": {
          "base_uri": "https://localhost:8080/"
        },
        "id": "OdjWlKvM6Glm",
        "outputId": "8b72b119-6fd7-4839-f1f4-2ba2529f1055"
      },
      "outputs": [
        {
          "name": "stdout",
          "output_type": "stream",
          "text": [
            "Enter a number:0\n",
            "division by zero\n"
          ]
        }
      ],
      "source": [
        "try:\n",
        "  x=int(input(\"Enter a number:\"))\n",
        "  y=10/x\n",
        "except ZeroDivisionError as e:\n",
        "  print(e)\n"
      ]
    },
    {
      "cell_type": "code",
      "execution_count": null,
      "metadata": {
        "id": "y1gdTZ_n60Er"
      },
      "outputs": [],
      "source": [
        "try:\n",
        "  print(a) #The a is not defined and it will show error\n",
        "except:\n",
        "  print(\"Error occured\") #but there is except keyboard so thats why error not showing"
      ]
    },
    {
      "cell_type": "markdown",
      "metadata": {
        "id": "NPzzgUBN7jul"
      },
      "source": [
        "`If except we do, The error will not show thats the use of the try-exept block`"
      ]
    },
    {
      "cell_type": "code",
      "execution_count": null,
      "metadata": {
        "colab": {
          "base_uri": "https://localhost:8080/",
          "height": 165
        },
        "id": "8odD02rk7lvq",
        "outputId": "6e2aa2ec-3b4a-4441-a2dd-0d2e5ea3964a"
      },
      "outputs": [
        {
          "ename": "NameError",
          "evalue": "name 'a' is not defined",
          "output_type": "error",
          "traceback": [
            "\u001b[0;31m---------------------------------------------------------------------------\u001b[0m",
            "\u001b[0;31mNameError\u001b[0m                                 Traceback (most recent call last)",
            "\u001b[0;32m<ipython-input-63-2495294062>\u001b[0m in \u001b[0;36m<cell line: 0>\u001b[0;34m()\u001b[0m\n\u001b[0;32m----> 1\u001b[0;31m \u001b[0mprint\u001b[0m\u001b[0;34m(\u001b[0m\u001b[0ma\u001b[0m\u001b[0;34m)\u001b[0m\u001b[0;34m\u001b[0m\u001b[0;34m\u001b[0m\u001b[0m\n\u001b[0m\u001b[1;32m      2\u001b[0m \u001b[0mprint\u001b[0m\u001b[0;34m(\u001b[0m\u001b[0;34m\"Hello world\"\u001b[0m\u001b[0;34m)\u001b[0m\u001b[0;34m\u001b[0m\u001b[0;34m\u001b[0m\u001b[0m\n",
            "\u001b[0;31mNameError\u001b[0m: name 'a' is not defined"
          ]
        }
      ],
      "source": [
        "print(a)\n",
        "print(\"Hello world\")"
      ]
    },
    {
      "cell_type": "code",
      "execution_count": null,
      "metadata": {
        "colab": {
          "base_uri": "https://localhost:8080/"
        },
        "id": "70lBdFYO7y1A",
        "outputId": "aceffb47-be3c-4d54-a4f0-4b62286a2a83"
      },
      "outputs": [
        {
          "name": "stdout",
          "output_type": "stream",
          "text": [
            "Error occured\n",
            "hello world\n"
          ]
        }
      ],
      "source": [
        "try:\n",
        "  print(a)\n",
        "except:\n",
        "  print(\"Error occured\")\n",
        "print(\"hello world\")\n"
      ]
    },
    {
      "cell_type": "markdown",
      "metadata": {
        "id": "_7kW4jjs8MWL"
      },
      "source": [
        "`If except we do, The error will not show thats the use of the try-exept block`\n",
        "`And it will not stop the code it just skip the error`"
      ]
    },
    {
      "cell_type": "markdown",
      "metadata": {
        "id": "8FIa74aL8cmk"
      },
      "source": [
        "Else Block :   \n",
        "\n",
        "Runs only if no esceptions occur."
      ]
    },
    {
      "cell_type": "code",
      "execution_count": null,
      "metadata": {
        "colab": {
          "base_uri": "https://localhost:8080/"
        },
        "id": "FhCexdxs8Uid",
        "outputId": "b42f9c08-dfdf-4ff6-cdf4-30e09560aea7"
      },
      "outputs": [
        {
          "name": "stdout",
          "output_type": "stream",
          "text": [
            "result: 5.0\n"
          ]
        }
      ],
      "source": [
        "try:\n",
        "  result=10/2\n",
        "except ZeroDivisionError:\n",
        "  print(\"Error\")\n",
        "else:\n",
        "  print(\"result:\",result)"
      ]
    },
    {
      "cell_type": "markdown",
      "metadata": {
        "id": "KHBR6pty9Ffu"
      },
      "source": [
        "Finally Block:\n",
        "\n",
        "Always runs, regardlesss of whether an exception occurred\n",
        "\n",
        "Useful for cleanup (ef, closing files)"
      ]
    },
    {
      "cell_type": "code",
      "execution_count": null,
      "metadata": {
        "colab": {
          "base_uri": "https://localhost:8080/"
        },
        "id": "krQp4iss9hhc",
        "outputId": "d6911280-9530-4740-aa2f-0fe72b0aa990"
      },
      "outputs": [
        {
          "name": "stdout",
          "output_type": "stream",
          "text": [
            "File not found!\n",
            "End of the program\n"
          ]
        }
      ],
      "source": [
        "try:\n",
        "  file_=open(\"data.txt\",\"r\")\n",
        "\n",
        "except FileNotFoundError:\n",
        "  print(\"File not found!\")\n",
        "\n",
        "finally:\n",
        "  print(\"End of the program\")\n"
      ]
    },
    {
      "cell_type": "code",
      "execution_count": null,
      "metadata": {
        "colab": {
          "base_uri": "https://localhost:8080/",
          "height": 165
        },
        "id": "q1F63tEg-An8",
        "outputId": "40cc33f0-ece5-47ef-ceed-2dbab0c581c5"
      },
      "outputs": [
        {
          "ename": "OverflowError",
          "evalue": "math range error",
          "output_type": "error",
          "traceback": [
            "\u001b[0;31m---------------------------------------------------------------------------\u001b[0m",
            "\u001b[0;31mOverflowError\u001b[0m                             Traceback (most recent call last)",
            "\u001b[0;32m<ipython-input-68-2464507496>\u001b[0m in \u001b[0;36m<cell line: 0>\u001b[0;34m()\u001b[0m\n\u001b[1;32m      1\u001b[0m \u001b[0;32mimport\u001b[0m \u001b[0mmath\u001b[0m\u001b[0;34m\u001b[0m\u001b[0;34m\u001b[0m\u001b[0m\n\u001b[0;32m----> 2\u001b[0;31m \u001b[0mprint\u001b[0m\u001b[0;34m(\u001b[0m\u001b[0mmath\u001b[0m\u001b[0;34m.\u001b[0m\u001b[0mexp\u001b[0m\u001b[0;34m(\u001b[0m\u001b[0;36m1000\u001b[0m\u001b[0;34m)\u001b[0m\u001b[0;34m)\u001b[0m  \u001b[0;31m#its overflow error\u001b[0m\u001b[0;34m\u001b[0m\u001b[0;34m\u001b[0m\u001b[0m\n\u001b[0m",
            "\u001b[0;31mOverflowError\u001b[0m: math range error"
          ]
        }
      ],
      "source": [
        "import math\n",
        "print(math.exp(1000))  #its overflow error"
      ]
    },
    {
      "cell_type": "code",
      "execution_count": null,
      "metadata": {
        "id": "dZZJ1xHWk_Ix"
      },
      "outputs": [],
      "source": [
        "obj=42\n",
        "obj.append(5)  #Attribute Error"
      ]
    },
    {
      "cell_type": "code",
      "execution_count": null,
      "metadata": {
        "id": "NfhMgYiUlP0p"
      },
      "outputs": [],
      "source": [
        "date={\"name\":\"john\"}\n",
        "print(data[\"age\"]) #key error"
      ]
    },
    {
      "cell_type": "code",
      "execution_count": null,
      "metadata": {
        "id": "IxueIhGQloVO"
      },
      "outputs": [],
      "source": [
        "my_list=[1,2,3]\n",
        "print(my_list[5]) #Index Error"
      ]
    },
    {
      "cell_type": "code",
      "execution_count": null,
      "metadata": {
        "id": "0Yhzbs3kl4sy"
      },
      "outputs": [],
      "source": [
        "print(int(\"Hello\")) #Value ERRor"
      ]
    },
    {
      "cell_type": "code",
      "execution_count": null,
      "metadata": {
        "id": "HiKcu2mZmDej"
      },
      "outputs": [],
      "source": [
        "my_list=[1,2,3]\n",
        "my_list.remove(5)"
      ]
    },
    {
      "cell_type": "code",
      "execution_count": null,
      "metadata": {
        "id": "VZjhim3WmUy0"
      },
      "outputs": [],
      "source": [
        "print(\"5\"+5) #Type ERror"
      ]
    },
    {
      "cell_type": "code",
      "execution_count": null,
      "metadata": {
        "id": "-REmnR8ymfnY"
      },
      "outputs": [],
      "source": [
        "open(\"nonexistant_file,.txt\") #FileNotFoundError"
      ]
    },
    {
      "cell_type": "code",
      "execution_count": null,
      "metadata": {
        "colab": {
          "base_uri": "https://localhost:8080/"
        },
        "id": "jXZ6UCGH-bs4",
        "outputId": "9a45390b-5c4d-4433-a30d-87cc4b15bdaf"
      },
      "outputs": [
        {
          "name": "stdout",
          "output_type": "stream",
          "text": [
            "[Errno 2] No such file or directory: 'nonexistant_file.txt'\n"
          ]
        }
      ],
      "source": [
        "try:\n",
        "  open(\"nonexistant_file.txt\")\n",
        "except FileNotFoundError as e:\n",
        "  print(e)\n"
      ]
    },
    {
      "cell_type": "markdown",
      "metadata": {
        "id": "dsIiYFHn_5x_"
      },
      "source": [
        "Raise Exception\n",
        "\n",
        "The raise statement in python is used to manually trigger an exception when a specific error condition occurs."
      ]
    },
    {
      "cell_type": "code",
      "execution_count": null,
      "metadata": {
        "colab": {
          "base_uri": "https://localhost:8080/",
          "height": 238
        },
        "id": "ub_W_K9E_1jA",
        "outputId": "55f064d2-3441-4eae-efa6-afbf4a5548cb"
      },
      "outputs": [
        {
          "name": "stdout",
          "output_type": "stream",
          "text": [
            "Enter your age1\n"
          ]
        },
        {
          "ename": "ValueError",
          "evalue": "age cannot be negative",
          "output_type": "error",
          "traceback": [
            "\u001b[0;31m---------------------------------------------------------------------------\u001b[0m",
            "\u001b[0;31mValueError\u001b[0m                                Traceback (most recent call last)",
            "\u001b[0;32m/tmp/ipython-input-12-4226987372.py\u001b[0m in \u001b[0;36m<cell line: 0>\u001b[0;34m()\u001b[0m\n\u001b[1;32m      2\u001b[0m \u001b[0;34m\u001b[0m\u001b[0m\n\u001b[1;32m      3\u001b[0m \u001b[0;32mif\u001b[0m \u001b[0mage\u001b[0m\u001b[0;34m>\u001b[0m\u001b[0;36m0\u001b[0m\u001b[0;34m:\u001b[0m\u001b[0;34m\u001b[0m\u001b[0;34m\u001b[0m\u001b[0m\n\u001b[0;32m----> 4\u001b[0;31m   \u001b[0;32mraise\u001b[0m \u001b[0mValueError\u001b[0m\u001b[0;34m(\u001b[0m\u001b[0;34m\"age cannot be negative\"\u001b[0m\u001b[0;34m)\u001b[0m\u001b[0;34m\u001b[0m\u001b[0;34m\u001b[0m\u001b[0m\n\u001b[0m\u001b[1;32m      5\u001b[0m \u001b[0;34m\u001b[0m\u001b[0m\n\u001b[1;32m      6\u001b[0m \u001b[0;32melse\u001b[0m\u001b[0;34m:\u001b[0m\u001b[0;34m\u001b[0m\u001b[0;34m\u001b[0m\u001b[0m\n",
            "\u001b[0;31mValueError\u001b[0m: age cannot be negative"
          ]
        }
      ],
      "source": [
        "age=int(input(\"Enter your age\"))\n",
        "\n",
        "if age>0:\n",
        "  raise ValueError(\"age cannot be negative\")\n",
        "\n",
        "else:\n",
        "  print(f\"Your age is {age}\")\n",
        "\n",
        "print(\"no try except\")"
      ]
    },
    {
      "cell_type": "code",
      "execution_count": null,
      "metadata": {
        "colab": {
          "base_uri": "https://localhost:8080/"
        },
        "id": "brdv_h7gsjgt",
        "outputId": "04d7bee9-3a9f-4268-d720-f307e05f592c"
      },
      "outputs": [
        {
          "name": "stdout",
          "output_type": "stream",
          "text": [
            "enter your age:-76\n",
            "Age cnanot be negtive\n",
            "Try except finished\n"
          ]
        }
      ],
      "source": [
        "try:\n",
        "  age=int(input(\"enter your age:\"))\n",
        "\n",
        "  if age<0:\n",
        "    raise ValueError(\"Age cnanot be negtive\")\n",
        "  else:\n",
        "    print(f\"your age is {age}\")\n",
        "except ValueError as e:\n",
        "  print(e)\n",
        "print(\"Try except finished\")"
      ]
    },
    {
      "cell_type": "markdown",
      "metadata": {
        "id": "iW-LD9lAt4KU"
      },
      "source": [
        "Custom Exceptions\n",
        "\n",
        "Custom exceptions are user- defined exceptions in Python that help handle domain-specific errors more meaningully and improve code clarity."
      ]
    },
    {
      "cell_type": "code",
      "execution_count": null,
      "metadata": {
        "colab": {
          "base_uri": "https://localhost:8080/"
        },
        "id": "DBnaP7Aut3bb",
        "outputId": "82299c83-4f39-483d-b607-b8118f90e1c2"
      },
      "outputs": [
        {
          "name": "stdout",
          "output_type": "stream",
          "text": [
            "Enter the number:3\n",
            "Exception Occurred : Invalid Age\n"
          ]
        }
      ],
      "source": [
        "class InvalidAgeException(Exception):\n",
        "  \"Raised when the input value is less than 18\"\n",
        "  pass\n",
        "\n",
        "# yout need to guess this number\n",
        "number=18\n",
        "try:\n",
        "  input_num= int(input(\"Enter the number:\"))\n",
        "  if input_num < number:\n",
        "    raise InvalidAgeException\n",
        "\n",
        "  else:\n",
        "    print(\"Elligible to vote\")\n",
        "\n",
        "except InvalidAgeException:\n",
        "  print(\"Exception Occurred : Invalid Age\")\n",
        "\n"
      ]
    },
    {
      "cell_type": "markdown",
      "metadata": {
        "id": "fU_KCl1mwF7E"
      },
      "source": [
        " Try-Except-Else\n",
        "\n",
        "Q1. Write a Python program that divides two numbers and handles division by zero."
      ]
    },
    {
      "cell_type": "code",
      "execution_count": null,
      "metadata": {
        "colab": {
          "base_uri": "https://localhost:8080/"
        },
        "id": "312kfJCiwHTe",
        "outputId": "405bcfce-d793-4579-ea33-b7e09c00e53e"
      },
      "outputs": [
        {
          "name": "stdout",
          "output_type": "stream",
          "text": [
            "Enter numerator: 6\n",
            "Enter denominator: 3\n",
            "Result: 2.0\n"
          ]
        }
      ],
      "source": [
        "try:\n",
        "  a= int(input(\"Enter numerator: \"))\n",
        "  b=int(input(\"Enter denominator: \"))\n",
        "  result=a/b\n",
        "  print(\"Result:\",result)\n",
        "except ZeroDivisionError:\n",
        "  print(\"Error: cannot divide by zero\")\n"
      ]
    },
    {
      "cell_type": "markdown",
      "metadata": {
        "id": "tQocEJqxxecy"
      },
      "source": [
        " Try-Except-Else\n",
        "\n",
        "Q2. Demonstrate try-except-finally where finally block executes no matter what."
      ]
    },
    {
      "cell_type": "code",
      "execution_count": null,
      "metadata": {
        "colab": {
          "base_uri": "https://localhost:8080/"
        },
        "id": "P3APOefsxKW-",
        "outputId": "75487274-0f63-46a8-e62e-3b005eed42fe"
      },
      "outputs": [
        {
          "name": "stdout",
          "output_type": "stream",
          "text": [
            "Enter a number:5\n",
            "Result: 2.0\n",
            "Finally block always executes.\n"
          ]
        }
      ],
      "source": [
        "try:\n",
        "  x=int(input(\"Enter a number:\"))\n",
        "  y=10/x\n",
        "  print(\"Result:\",y)\n",
        "except ZeroDivisionError:\n",
        "  print(\"Caught divide by zero error .\")\n",
        "finally:\n",
        "  print(\"Finally block always executes.\")\n"
      ]
    },
    {
      "cell_type": "markdown",
      "metadata": {
        "id": "LYs18Bh-yqG1"
      },
      "source": [
        "Try-Except-Else\n",
        "\n",
        "Q3. Use try-except-else to handle invalid input and display result if no exception."
      ]
    },
    {
      "cell_type": "code",
      "execution_count": null,
      "metadata": {
        "id": "EKJt58-HyrKu"
      },
      "outputs": [],
      "source": [
        "try:\n",
        "  num=int(input(\"Enter an integer:\"))\n",
        "except ValueError:\n",
        "  print(\"Invalid input! Not an integer.\")\n",
        "else:\n",
        "  print(\"Not entered: \",num)\n"
      ]
    },
    {
      "cell_type": "markdown",
      "metadata": {
        "id": "-1i6X2w4zWy1"
      },
      "source": [
        "Raise\n",
        "\n",
        "Q4. Raise an exception if age is below 18.\n"
      ]
    },
    {
      "cell_type": "code",
      "execution_count": null,
      "metadata": {
        "colab": {
          "base_uri": "https://localhost:8080/"
        },
        "id": "oIWitV2IzY62",
        "outputId": "35a38d43-a30b-44ba-bb0a-f8553c4da6d3"
      },
      "outputs": [
        {
          "name": "stdout",
          "output_type": "stream",
          "text": [
            "Enter your age: 60\n",
            "Access granted.\n"
          ]
        }
      ],
      "source": [
        "age=int(input(\"Enter your age: \"))\n",
        "if age<18:\n",
        "  raise ValueError(\"Age must be at least 18\")\n",
        "else:\n",
        "  print(\"Access granted.\")"
      ]
    },
    {
      "cell_type": "markdown",
      "metadata": {
        "id": "4UuTPkvXz0g7"
      },
      "source": [
        " Custom Exception\n",
        "Q5. Create and raise a custom exception NegativeNumberError."
      ]
    },
    {
      "cell_type": "code",
      "execution_count": null,
      "metadata": {
        "colab": {
          "base_uri": "https://localhost:8080/"
        },
        "id": "r50W94voz1-7",
        "outputId": "aec934ca-892a-4299-8a54-c8dea93fd3fb"
      },
      "outputs": [
        {
          "name": "stdout",
          "output_type": "stream",
          "text": [
            "Enter a positive number: 2\n",
            "Number accepted\n"
          ]
        }
      ],
      "source": [
        "class NegativeNumberError(Exception):\n",
        "  pass\n",
        "num=int(input(\"Enter a positive number: \"))\n",
        "if num<0:\n",
        "  raise NegativeNumberError(\"Negative number is not allowed\")\n",
        "else:\n",
        "  print(\"Number accepted\")"
      ]
    },
    {
      "cell_type": "markdown",
      "metadata": {
        "id": "qcMvLdkE1YXl"
      },
      "source": [
        "Multiple Exceptions Handling\n",
        "\n",
        "Q6. Write a program that handles both ValueError and ZeroDivisionError.\n",
        "\n"
      ]
    },
    {
      "cell_type": "code",
      "execution_count": null,
      "metadata": {
        "colab": {
          "base_uri": "https://localhost:8080/"
        },
        "id": "kDekRurF0lNK",
        "outputId": "3b2a7916-dd41-454e-bac5-b05226dd865d"
      },
      "outputs": [
        {
          "name": "stdout",
          "output_type": "stream",
          "text": [
            "Enter a number: 3\n",
            "Enter another number: 2\n",
            "Result: 1.5\n"
          ]
        }
      ],
      "source": [
        "try:\n",
        "  a=int(input(\"Enter a number: \"))\n",
        "  b=int(input(\"Enter another number: \"))\n",
        "  print(\"Result:\",a/b)\n",
        "except ValueError:\n",
        "  print(\"Please enter only numbers.\")\n",
        "except ZeroDivisionError:\n",
        "  print(\"Cannot divide by zero\")\n"
      ]
    },
    {
      "cell_type": "markdown",
      "metadata": {
        "id": "GQZqAx3L2SSt"
      },
      "source": [
        "Using Exception Object\n",
        "\n",
        "Q7. Catch and print the actual exception message."
      ]
    },
    {
      "cell_type": "code",
      "execution_count": null,
      "metadata": {
        "colab": {
          "base_uri": "https://localhost:8080/"
        },
        "id": "TtOfmSjN2WMD",
        "outputId": "2df60888-7eeb-491d-8f1c-92d7a4f30b5e"
      },
      "outputs": [
        {
          "name": "stdout",
          "output_type": "stream",
          "text": [
            "Enter a number: 5\n",
            "2.0\n"
          ]
        }
      ],
      "source": [
        "try:\n",
        "  n=int(input(\"Enter a number: \"))\n",
        "  print(10/n)\n",
        "except Exception as e:\n",
        "  print(\"Exception occured: \",e)\n",
        "\n"
      ]
    },
    {
      "cell_type": "markdown",
      "metadata": {
        "id": "JxiaBQBZ25Kz"
      },
      "source": [
        "Custom Exception with Constructor\n",
        "\n",
        "Q8. Create a custom exception that takes a message.\n",
        "\n"
      ]
    },
    {
      "cell_type": "code",
      "execution_count": null,
      "metadata": {
        "colab": {
          "base_uri": "https://localhost:8080/",
          "height": 329
        },
        "id": "QxLexneR2_tw",
        "outputId": "dfe7eb45-97d9-4bca-9970-6ca2b185b746"
      },
      "outputs": [
        {
          "name": "stdout",
          "output_type": "stream",
          "text": [
            "enter a number less than 100466\n"
          ]
        },
        {
          "ename": "TypeError",
          "evalue": "object.__init__() takes exactly one argument (the instance to initialize)",
          "output_type": "error",
          "traceback": [
            "\u001b[0;31m---------------------------------------------------------------------------\u001b[0m",
            "\u001b[0;31mTypeError\u001b[0m                                 Traceback (most recent call last)",
            "\u001b[0;32m/tmp/ipython-input-36-3737372066.py\u001b[0m in \u001b[0;36m<cell line: 0>\u001b[0;34m()\u001b[0m\n\u001b[1;32m      6\u001b[0m \u001b[0mvalue\u001b[0m\u001b[0;34m=\u001b[0m\u001b[0mint\u001b[0m\u001b[0;34m(\u001b[0m\u001b[0minput\u001b[0m\u001b[0;34m(\u001b[0m\u001b[0;34m\"enter a number less than 100\"\u001b[0m\u001b[0;34m)\u001b[0m\u001b[0;34m)\u001b[0m\u001b[0;34m\u001b[0m\u001b[0;34m\u001b[0m\u001b[0m\n\u001b[1;32m      7\u001b[0m \u001b[0;32mif\u001b[0m \u001b[0mvalue\u001b[0m\u001b[0;34m>\u001b[0m\u001b[0;36m100\u001b[0m\u001b[0;34m:\u001b[0m\u001b[0;34m\u001b[0m\u001b[0;34m\u001b[0m\u001b[0m\n\u001b[0;32m----> 8\u001b[0;31m   \u001b[0;32mraise\u001b[0m \u001b[0mInvalidInputError\u001b[0m\u001b[0;34m(\u001b[0m\u001b[0;34m\"Value not less than 100\"\u001b[0m\u001b[0;34m)\u001b[0m\u001b[0;34m\u001b[0m\u001b[0;34m\u001b[0m\u001b[0m\n\u001b[0m",
            "\u001b[0;32m/tmp/ipython-input-36-3737372066.py\u001b[0m in \u001b[0;36m__init__\u001b[0;34m(self, message)\u001b[0m\n\u001b[1;32m      2\u001b[0m   \u001b[0;32mdef\u001b[0m \u001b[0m__init__\u001b[0m\u001b[0;34m(\u001b[0m\u001b[0mself\u001b[0m\u001b[0;34m,\u001b[0m\u001b[0mmessage\u001b[0m\u001b[0;34m)\u001b[0m\u001b[0;34m:\u001b[0m\u001b[0;34m\u001b[0m\u001b[0;34m\u001b[0m\u001b[0m\n\u001b[1;32m      3\u001b[0m     \u001b[0mself\u001b[0m\u001b[0;34m.\u001b[0m\u001b[0mmessage\u001b[0m\u001b[0;34m=\u001b[0m\u001b[0mmessage\u001b[0m\u001b[0;34m\u001b[0m\u001b[0;34m\u001b[0m\u001b[0m\n\u001b[0;32m----> 4\u001b[0;31m     \u001b[0msuper\u001b[0m\u001b[0;34m(\u001b[0m\u001b[0;34m)\u001b[0m\u001b[0;34m.\u001b[0m\u001b[0m__init__\u001b[0m\u001b[0;34m(\u001b[0m\u001b[0mself\u001b[0m\u001b[0;34m.\u001b[0m\u001b[0mmessage\u001b[0m\u001b[0;34m)\u001b[0m\u001b[0;34m\u001b[0m\u001b[0;34m\u001b[0m\u001b[0m\n\u001b[0m\u001b[1;32m      5\u001b[0m \u001b[0;34m\u001b[0m\u001b[0m\n\u001b[1;32m      6\u001b[0m \u001b[0mvalue\u001b[0m\u001b[0;34m=\u001b[0m\u001b[0mint\u001b[0m\u001b[0;34m(\u001b[0m\u001b[0minput\u001b[0m\u001b[0;34m(\u001b[0m\u001b[0;34m\"enter a number less than 100\"\u001b[0m\u001b[0;34m)\u001b[0m\u001b[0;34m)\u001b[0m\u001b[0;34m\u001b[0m\u001b[0;34m\u001b[0m\u001b[0m\n",
            "\u001b[0;31mTypeError\u001b[0m: object.__init__() takes exactly one argument (the instance to initialize)"
          ]
        }
      ],
      "source": [
        "class InvalidInputError:\n",
        "  def __init__(self,message):\n",
        "    self.message=message\n",
        "    super().__init__(self.message)\n",
        "\n",
        "value=int(input(\"enter a number less than 100\"))\n",
        "if value>100:\n",
        "  raise InvalidInputError(\"Value not less than 100\")"
      ]
    },
    {
      "cell_type": "markdown",
      "metadata": {
        "id": "GAT4jfjw39uZ"
      },
      "source": [
        " Exception in Loop\n",
        "\n",
        "Q9. Handle exception during a loop of user inputs."
      ]
    },
    {
      "cell_type": "code",
      "execution_count": null,
      "metadata": {
        "colab": {
          "base_uri": "https://localhost:8080/"
        },
        "collapsed": true,
        "id": "brM0Uffk3_cw",
        "outputId": "951071bf-e46a-4f0b-841b-affe0a7cbf91"
      },
      "outputs": [
        {
          "name": "stdout",
          "output_type": "stream",
          "text": [
            "Enter number 1: 4\n",
            "Reciprocal: 0.25\n",
            "Enter number 2: 7\n",
            "Reciprocal: 0.14285714285714285\n",
            "Enter number 3: 8\n",
            "Reciprocal: 0.125\n"
          ]
        }
      ],
      "source": [
        "for i in range(3):\n",
        "  try:\n",
        "    n=int(input(f\"Enter number {i+1}: \"))\n",
        "    print(\"Reciprocal:\",1/n)\n",
        "  except ZeroDivisionError:\n",
        "    print(\"Cannot divide by zero.\")\n",
        "  except ValueError:\n",
        "    print(\"Please enter a valid integer.\")\n"
      ]
    },
    {
      "cell_type": "markdown",
      "metadata": {
        "id": "fxCE1TV15evQ"
      },
      "source": [
        "Nested Try Blocks\n",
        "\n",
        "Q10. Show nested try-except usage."
      ]
    },
    {
      "cell_type": "code",
      "execution_count": null,
      "metadata": {
        "colab": {
          "base_uri": "https://localhost:8080/"
        },
        "id": "a9d2k4gC5kWo",
        "outputId": "db3603f6-bb6f-4ff2-ef85-219d40bc340e"
      },
      "outputs": [
        {
          "name": "stdout",
          "output_type": "stream",
          "text": [
            "Enter a number:5\n",
            "Result: 2.0\n"
          ]
        }
      ],
      "source": [
        "try:\n",
        "  a= int(input(\"Enter a number:\"))\n",
        "  try:\n",
        "    result=10/a\n",
        "    print(\"Result:\",result)\n",
        "  except ZeroDivisionError:\n",
        "    print(\"Inner error: divide by zero\")\n",
        "except ValueError:\n",
        "  print(\"Outer Error : invalid input\")\n",
        "\n"
      ]
    },
    {
      "cell_type": "markdown",
      "metadata": {
        "id": "IIVieO65AcvK"
      },
      "source": [
        "Q11. Handle File Not Found Error\n",
        "\n",
        "Write a program to open a file and handle the case when the file does not exist."
      ]
    },
    {
      "cell_type": "code",
      "execution_count": null,
      "metadata": {
        "colab": {
          "base_uri": "https://localhost:8080/"
        },
        "id": "1-1qxvSXAecK",
        "outputId": "fe81c558-74d5-4ac7-ffc5-93d7558462aa"
      },
      "outputs": [
        {
          "name": "stdout",
          "output_type": "stream",
          "text": [
            "Error: File not found.\n"
          ]
        }
      ],
      "source": [
        "try:\n",
        "  with open(\"data.txt\",\"r\") as file:\n",
        "    content = file.read()\n",
        "    print(content)\n",
        "except FileNotFoundError:\n",
        "  print(\"Error: File not found.\")"
      ]
    },
    {
      "cell_type": "markdown",
      "metadata": {
        "id": "ec-awpwiBBgs"
      },
      "source": [
        "Q12. Catch Multiple Exceptions in One Line\n",
        "\n",
        "Write a program that handles both ValueError and TypeError in one except block."
      ]
    },
    {
      "cell_type": "code",
      "execution_count": null,
      "metadata": {
        "id": "Hh7kNZMSA-_l"
      },
      "outputs": [],
      "source": [
        "try:\n",
        "  a=int('abc')+\"xyz\"\n",
        "except (ValueError, TypeError) as e:\n",
        "  print(\"Caught Exception:\",e)\n"
      ]
    },
    {
      "cell_type": "markdown",
      "metadata": {
        "id": "oygs39FJBenO"
      },
      "source": [
        "Q13. Using assert Statement\n",
        "\n",
        "Raise an AssertionError if the input number is not even."
      ]
    },
    {
      "cell_type": "code",
      "execution_count": null,
      "metadata": {
        "colab": {
          "base_uri": "https://localhost:8080/"
        },
        "id": "fkdFh8wCBf8k",
        "outputId": "9e4a3982-526f-46f4-e9ff-9c79d2573409"
      },
      "outputs": [
        {
          "name": "stdout",
          "output_type": "stream",
          "text": [
            "Enter an even number: 4\n",
            "Even number accepted.\n"
          ]
        }
      ],
      "source": [
        "num= int(input(\"Enter an even number: \"))\n",
        "assert num%2==0,\"Not an even number\"\n",
        "print(\"Even number accepted.\")\n"
      ]
    },
    {
      "cell_type": "markdown",
      "metadata": {
        "id": "LgNBXB37CK4D"
      },
      "source": [
        " Q14. Reraise an Exception\n",
        "\n",
        "Reraise an exception after catching it."
      ]
    },
    {
      "cell_type": "code",
      "execution_count": null,
      "metadata": {
        "id": "NUQEiVwZCSuX"
      },
      "outputs": [],
      "source": [
        "try:\n",
        "  raise ValueError(\"A value error occured\")\n",
        "except ValueError as e:\n",
        "  print(\"Caught an exception:\",e)\n",
        "  raise:  #reraising the exception"
      ]
    },
    {
      "cell_type": "markdown",
      "metadata": {
        "id": "jqKGz26cC4ez"
      },
      "source": [
        "Q15. Create Custom Exception for Username Length\n",
        "\n",
        "Create a custom exception ShortUsernameError if username is less than 5 characters."
      ]
    },
    {
      "cell_type": "code",
      "execution_count": null,
      "metadata": {
        "colab": {
          "base_uri": "https://localhost:8080/"
        },
        "id": "fcXFZwFlC6L1",
        "outputId": "637d4c6d-0767-4067-cb7b-681a0c71a20c"
      },
      "outputs": [
        {
          "name": "stdout",
          "output_type": "stream",
          "text": [
            "Enter username: 65476\n",
            "Username accepted\n"
          ]
        }
      ],
      "source": [
        "class ShortUsernameError(Exception):\n",
        "  pass\n",
        "\n",
        "username=input(\"Enter username: \")\n",
        "if len(username) <5:\n",
        "  raise ShortUsernameError(\"Username must be atleast 5 charecters\")\n",
        "else:\n",
        "  print(\"Username accepted\")"
      ]
    },
    {
      "cell_type": "markdown",
      "metadata": {
        "id": "l5NLE4_rDvks"
      },
      "source": [
        "Q16. Finally with Return\n",
        "\n",
        "Demonstrate how finally executes even if return is used."
      ]
    },
    {
      "cell_type": "code",
      "execution_count": null,
      "metadata": {
        "colab": {
          "base_uri": "https://localhost:8080/"
        },
        "id": "lmHTtRaqDsoK",
        "outputId": "91133623-a6c7-436a-c4cf-71ee33b998d5"
      },
      "outputs": [
        {
          "name": "stdout",
          "output_type": "stream",
          "text": [
            "Finally block executed\n",
            "from try\n"
          ]
        }
      ],
      "source": [
        "def test():\n",
        "  try:\n",
        "    return \"from try\"\n",
        "  finally:\n",
        "    print(\"Finally block executed\")\n",
        "\n",
        "print(test())"
      ]
    },
    {
      "cell_type": "markdown",
      "metadata": {
        "id": "bQBtf71GEJL6"
      },
      "source": [
        "Q17. Use Try-Except with Dictionary Key\n",
        "\n",
        "Handle missing key in a dictionary lookup."
      ]
    },
    {
      "cell_type": "code",
      "execution_count": null,
      "metadata": {
        "colab": {
          "base_uri": "https://localhost:8080/"
        },
        "id": "IIT-ukMMEKii",
        "outputId": "c170bf10-cfe8-462d-ac2d-82b56ccdc783"
      },
      "outputs": [
        {
          "name": "stdout",
          "output_type": "stream",
          "text": [
            "Error: Key not found.\n"
          ]
        }
      ],
      "source": [
        "data = {\"name\":\"Alice\",\"age\":\"25\"}\n",
        "try:\n",
        "  print(\"City:\",data[\"city\"])\n",
        "except KeyError:\n",
        "  print(\"Error: Key not found.\")"
      ]
    },
    {
      "cell_type": "markdown",
      "metadata": {
        "id": "Ov2FND8QE43R"
      },
      "source": [
        " Q18. Exception in Function Call\n",
        "\n",
        "Handle an exception raised inside a function."
      ]
    },
    {
      "cell_type": "code",
      "execution_count": null,
      "metadata": {
        "colab": {
          "base_uri": "https://localhost:8080/"
        },
        "id": "j2xI1xJIE6TM",
        "outputId": "f7380723-b81a-4bc9-e591-4d04a0cd69dc"
      },
      "outputs": [
        {
          "name": "stdout",
          "output_type": "stream",
          "text": [
            "Division by zero not allowed\n"
          ]
        }
      ],
      "source": [
        "def divide(x,y):\n",
        "  return x/y\n",
        "\n",
        "try:\n",
        "  print(divide(10,0))\n",
        "except ZeroDivisionError:\n",
        "  print(\"Division by zero not allowed\")\n"
      ]
    },
    {
      "cell_type": "markdown",
      "metadata": {
        "id": "ZQ51lP13FbEJ"
      },
      "source": [
        "Q19. Raise Exception on Negative Square Root\n",
        "\n",
        "Raise ValueError if input is negative and calculate square root otherwise."
      ]
    },
    {
      "cell_type": "code",
      "execution_count": null,
      "metadata": {
        "colab": {
          "base_uri": "https://localhost:8080/"
        },
        "id": "zZmtszrtFcVz",
        "outputId": "646f55eb-00dc-48ce-d8c4-0485ae547f4a"
      },
      "outputs": [
        {
          "name": "stdout",
          "output_type": "stream",
          "text": [
            "enter a number:5\n",
            "Square root: 2.23606797749979\n"
          ]
        }
      ],
      "source": [
        "import math\n",
        "\n",
        "num= int(input(\"enter a number:\"))\n",
        "if num <0:\n",
        "  raise ValueError(\"cannot calculate the squareroot of negative number\")\n",
        "else:\n",
        "  print(\"Square root:\",math.sqrt(num))"
      ]
    },
    {
      "cell_type": "markdown",
      "metadata": {
        "id": "vPyO5TZ8GEWc"
      },
      "source": [
        "Q20. Use else with Loop and Exception\n",
        "\n",
        "Use try-except-else in a loop and execute else only if no exception occurred."
      ]
    },
    {
      "cell_type": "code",
      "execution_count": null,
      "metadata": {
        "id": "ITPL1JfmGHlq"
      },
      "outputs": [],
      "source": [
        "for i in range(2):\n",
        "  try:\n",
        "    n=int(input(\"Enter a number:\"))\n",
        "  except ValueError:\n",
        "    print(\"Invalid number.\")\n",
        "  else:\n",
        "    print(\"You entered:\",n)"
      ]
    },
    {
      "cell_type": "code",
      "execution_count": null,
      "metadata": {
        "id": "tNwrgIoz7t5M"
      },
      "outputs": [],
      "source": []
    },
    {
      "cell_type": "markdown",
      "metadata": {
        "id": "Oj2zXigaL-V3"
      },
      "source": [
        "# RegEx"
      ]
    },
    {
      "cell_type": "markdown",
      "metadata": {
        "id": "XPTWmnfF7xcQ"
      },
      "source": [
        "A RegEx, or Regular Expression, is a sequence of characters that forms a search pattern.\n",
        "\n",
        "RegEx can be used to check if a string contains the specified search pattern.\n",
        "\n",
        "RegEx Module--Python has a built-in package called re, which can be used to work with Regular Expressions.\n",
        "\n",
        "Import the re module:\n",
        "\n",
        "import re\n",
        "\n",
        "RegEx in Python--\n",
        "When you have imported the re module, you can start using regular expressions:"
      ]
    },
    {
      "cell_type": "markdown",
      "metadata": {
        "id": "a6XFzNrs8mFN"
      },
      "source": [
        "q))Search the string to see if it starts with \"The\" and ends with \"Spain\":"
      ]
    },
    {
      "cell_type": "code",
      "execution_count": null,
      "metadata": {
        "colab": {
          "base_uri": "https://localhost:8080/"
        },
        "id": "FCN68pbH8J5F",
        "outputId": "c342465c-8730-49ad-d85e-beb49096dd13"
      },
      "outputs": [
        {
          "name": "stdout",
          "output_type": "stream",
          "text": [
            "YES! We have a match!\n"
          ]
        }
      ],
      "source": [
        "import re\n",
        "txt=\"The rain in Spain\"\n",
        "x=re.search(\"^The.*Spain$\",txt)\n",
        "if x:\n",
        "  print(\"YES! We have a match!\")\n",
        "else:\n",
        "  print(\"No match\")"
      ]
    },
    {
      "cell_type": "markdown",
      "metadata": {
        "id": "tYA_hb4D8x5t"
      },
      "source": [
        "RegEx Functions\n",
        "The re module offers a set of functions that allows us to search a string for a match:\n",
        "\n",
        "Function\tDescription\n",
        "\n",
        "findall--Returns a list containing all matches\n",
        "\n",
        "search--Returns a Match object if there is a match anywhere in the string\n",
        "\n",
        "split--Returns a list where the string has been split at each match\n",
        "sub\tReplaces one or many matches with a string"
      ]
    },
    {
      "cell_type": "markdown",
      "metadata": {
        "id": "LtP-206FIkgD"
      },
      "source": [
        "[  ]  \tA set of characters -\t\"[a-m]\"  eg-abcdefghijklm\n",
        "\n",
        "\n",
        "\\\t   Signals a special sequence (can also be used to escape special\n",
        "characters) -\t\"\\d\"\n",
        "\n",
        ".\t      Any character (except newline character) -\t\"he..o\"\n",
        "\n",
        "^\t      Starts with\t- \"^hello\"\n",
        "\n",
        "$\t      Ends with\t- \"planet$\"\n",
        "\n",
        "*\t       Zero or more occurrences\t- \"he.*o\"\n",
        "\n",
        "+       One or more occurrences\t- \"he.+o\"\n",
        "\n",
        "?\t      Zero or one occurrences\t- \"he.?o\"\n",
        "\n",
        "{}       Exactly the specified number of occurrences -\t\"he.{2}o\"\n",
        "\n",
        "|\t        Either or -\t\"falls|stays\"\n",
        "\n",
        "()\t      Capture and group"
      ]
    },
    {
      "cell_type": "code",
      "execution_count": null,
      "metadata": {
        "colab": {
          "base_uri": "https://localhost:8080/"
        },
        "id": "CBN1s43L8r5R",
        "outputId": "73224f20-e0ea-441f-cc5b-b5b6457be6d9"
      },
      "outputs": [
        {
          "name": "stdout",
          "output_type": "stream",
          "text": [
            "['h', 'e', 'a', 'i', 'i', 'a', 'i']\n"
          ]
        }
      ],
      "source": [
        "import re\n",
        "txt=\"The rain in spain\"\n",
        "#Find all lower case characters alphabetically between \"a\" and \"m\":\n",
        "x=re.findall(\"[a-m]\",txt)\n",
        "print(x)"
      ]
    },
    {
      "cell_type": "code",
      "execution_count": null,
      "metadata": {
        "colab": {
          "base_uri": "https://localhost:8080/"
        },
        "id": "njSztIVQC8WN",
        "outputId": "9965c44f-b19d-4763-b464-6d90ac78f145"
      },
      "outputs": [
        {
          "name": "stdout",
          "output_type": "stream",
          "text": [
            "['5', '9']\n"
          ]
        }
      ],
      "source": [
        "import re\n",
        "txt=\"that will be 59 dollars\"\n",
        "#Find all digit characters:\n",
        "x=re.findall(\"\\d\",txt)\n",
        "print(x)"
      ]
    },
    {
      "cell_type": "code",
      "execution_count": null,
      "metadata": {
        "colab": {
          "base_uri": "https://localhost:8080/"
        },
        "id": "f_p-y-_CC7ow",
        "outputId": "726e2dc4-3efc-4053-937c-d15333eca44a"
      },
      "outputs": [
        {
          "name": "stdout",
          "output_type": "stream",
          "text": [
            "['hello']\n"
          ]
        }
      ],
      "source": [
        "import re\n",
        "text=\"hello planet\"\n",
        "#Search for a sequence that starts with \"he\", followed by two (any) characters, and an \"o\":\n",
        "x=re.findall(\"he..o\",text)\n",
        "print(x)"
      ]
    },
    {
      "cell_type": "code",
      "execution_count": null,
      "metadata": {
        "colab": {
          "base_uri": "https://localhost:8080/"
        },
        "id": "2pZbdOyOEruh",
        "outputId": "c8fa0db5-945b-4018-f7bc-f22e0ab5532c"
      },
      "outputs": [
        {
          "name": "stdout",
          "output_type": "stream",
          "text": [
            "['hello']\n"
          ]
        }
      ],
      "source": [
        "import re\n",
        "txt=\"hello planet\"\n",
        "#Check if the string starts with 'hello':\n",
        "x=re.findall(\"^hello\",txt)\n",
        "print(x)"
      ]
    },
    {
      "cell_type": "code",
      "execution_count": null,
      "metadata": {
        "colab": {
          "base_uri": "https://localhost:8080/"
        },
        "id": "6Y9UmJawFEdG",
        "outputId": "3ae043e7-8692-4f7b-e0ac-ba1362582ca1"
      },
      "outputs": [
        {
          "name": "stdout",
          "output_type": "stream",
          "text": [
            "yes,the string ends with 'planet'\n"
          ]
        }
      ],
      "source": [
        "import re\n",
        "txt=\"hello planet\"\n",
        "#Check if the string ends with 'planet':\n",
        "x=re.findall(\"planet$\",txt)\n",
        "if x:\n",
        "  print(\"yes,the string ends with 'planet'\")\n",
        "else:\n",
        "  print(\"no match\")"
      ]
    },
    {
      "cell_type": "code",
      "execution_count": null,
      "metadata": {
        "colab": {
          "base_uri": "https://localhost:8080/"
        },
        "id": "XUNlXmx7Fqaw",
        "outputId": "a130f57d-c15a-4409-e16e-67c2c19084a5"
      },
      "outputs": [
        {
          "name": "stdout",
          "output_type": "stream",
          "text": [
            "['hello']\n"
          ]
        }
      ],
      "source": [
        "import re\n",
        "txt=\"hello planet\"\n",
        "#Search for a sequence that starts with \"he\", followed by 0 or more  (any) characters, and an \"o\":\n",
        "x=re.findall(\"he.*o\",txt)\n",
        "print(x)"
      ]
    },
    {
      "cell_type": "code",
      "execution_count": null,
      "metadata": {
        "colab": {
          "base_uri": "https://localhost:8080/"
        },
        "id": "yhG4WrNqGCej",
        "outputId": "ae492bb3-ebb4-4847-83a5-c7c6ca02ce30"
      },
      "outputs": [
        {
          "name": "stdout",
          "output_type": "stream",
          "text": [
            "['hello']\n"
          ]
        }
      ],
      "source": [
        "# *\t       Zero or more occurrences\t- \"he.*o\"\n",
        "import re\n",
        "txt=\"hello planet\"\n",
        "#Search for a sequence that starts with \"he\", followed by 1 or more  (any) characters, and an \"o\":\n",
        "x = re.findall(\"he.+o\", txt)\n",
        "print(x)"
      ]
    },
    {
      "cell_type": "code",
      "execution_count": null,
      "metadata": {
        "colab": {
          "base_uri": "https://localhost:8080/"
        },
        "id": "pjV0zHTZGR1d",
        "outputId": "9e3f5ee8-a87a-4b4d-c29c-2b378638548b"
      },
      "outputs": [
        {
          "name": "stdout",
          "output_type": "stream",
          "text": [
            "[]\n"
          ]
        }
      ],
      "source": [
        "import re\n",
        "txt=\"hello planet\"\n",
        "#Search for a sequence that starts with \"he\", followed by 0 or 1  (any) character, and an \"o\":\n",
        "x=re.findall(\"he.?o\",txt)\n",
        "print(x)\n",
        "#This time we got no match, because there were not zero, not one, but two characters between \"he\" and the \"o\""
      ]
    },
    {
      "cell_type": "code",
      "execution_count": null,
      "metadata": {
        "colab": {
          "base_uri": "https://localhost:8080/"
        },
        "id": "MS9k0gBtHJ0W",
        "outputId": "42344e79-5904-4683-f058-9eb590f55ccc"
      },
      "outputs": [
        {
          "name": "stdout",
          "output_type": "stream",
          "text": [
            "['hello']\n"
          ]
        }
      ],
      "source": [
        "import re\n",
        "txt=\"hello planet\"\n",
        "#Search for a sequence that starts with \"he\", followed excactly 2 (any) characters, and an \"o\":\n",
        "x=re.findall(\"he.{2}o\",txt)\n",
        "print(x)"
      ]
    },
    {
      "cell_type": "code",
      "execution_count": null,
      "metadata": {
        "colab": {
          "base_uri": "https://localhost:8080/"
        },
        "id": "441jQvCHHoOh",
        "outputId": "2882e17b-16cd-4e37-c519-4d8de92401a7"
      },
      "outputs": [
        {
          "name": "stdout",
          "output_type": "stream",
          "text": [
            "['falls']\n",
            "Yes there is at least 1 match!\n"
          ]
        }
      ],
      "source": [
        "import re\n",
        "txt=\"the rain in spain falls mainly in plain!\"\n",
        "\n",
        "#Check if the string contains either \"falls\" or \"stays\":\n",
        "x=re.findall(\"falls|stays\",txt)\n",
        "print(x)\n",
        "\n",
        "if x:\n",
        "  print(\"Yes there is at least 1 match!\")\n",
        "else:\n",
        "  print(\"No match\")"
      ]
    },
    {
      "cell_type": "markdown",
      "metadata": {
        "id": "2Lx8xl9aM5uN"
      },
      "source": [
        "Special Sequences\n",
        "\n",
        "A special sequence is a \\ followed by one of the characters in the list below, and has a special meaning:"
      ]
    },
    {
      "cell_type": "code",
      "execution_count": null,
      "metadata": {
        "colab": {
          "base_uri": "https://localhost:8080/"
        },
        "id": "jQ0-Gzu_M9mK",
        "outputId": "382a6aad-ae56-4ec3-b2c4-26c70b3da8c8"
      },
      "outputs": [
        {
          "name": "stdout",
          "output_type": "stream",
          "text": [
            "['The']\n",
            "Yes, there is a match!\n"
          ]
        }
      ],
      "source": [
        "import re\n",
        "txt=\"The rain in spain\"\n",
        "#Check if the string starts with \"The\":\n",
        "x=re.findall(\"\\AThe\",txt)\n",
        "print(x)\n",
        "if x:\n",
        "  print(\"Yes, there is a match!\")\n",
        "else:\n",
        "  print(\"No match\")\n"
      ]
    },
    {
      "cell_type": "code",
      "execution_count": null,
      "metadata": {
        "colab": {
          "base_uri": "https://localhost:8080/"
        },
        "id": "-FHz2TC6O8l_",
        "outputId": "e307fa35-d254-4a8e-881f-4f376e8fb75b"
      },
      "outputs": [
        {
          "name": "stdout",
          "output_type": "stream",
          "text": [
            "[]\n",
            "No match\n"
          ]
        }
      ],
      "source": [
        "import re\n",
        "txt=\"The rain in spain\"\n",
        "#Check if \"ain\" is present at the beginning of a WORD:\n",
        "x=re.findall(r\"\\bain\",txt)\n",
        "print(x)\n",
        "if x:\n",
        "  print(\"Yes,there  is atleast 1 match\")\n",
        "else:\n",
        "  print(\"No match\")"
      ]
    },
    {
      "cell_type": "code",
      "execution_count": null,
      "metadata": {
        "colab": {
          "base_uri": "https://localhost:8080/"
        },
        "id": "k94CWSy2QLER",
        "outputId": "5b079803-c574-45f0-8941-26b078e1bbad"
      },
      "outputs": [
        {
          "name": "stdout",
          "output_type": "stream",
          "text": [
            "['ain', 'ain']\n",
            "Yes, there is at least one match!\n"
          ]
        }
      ],
      "source": [
        "import re\n",
        "txt=\"The rain in spain\"\n",
        "#Check if \"ain\" is present at the end of a WORD:\n",
        "x=re.findall(r\"ain\\b\",txt)\n",
        "print(x)\n",
        "if x:\n",
        "  print(\"Yes, there is at least one match!\")\n",
        "else:\n",
        "  print(\"No match\")"
      ]
    },
    {
      "cell_type": "code",
      "execution_count": null,
      "metadata": {
        "colab": {
          "base_uri": "https://localhost:8080/"
        },
        "id": "JJNDsrloQ8S1",
        "outputId": "3803e290-2d97-447d-c55e-00b3c42c13ce"
      },
      "outputs": [
        {
          "name": "stdout",
          "output_type": "stream",
          "text": [
            "['ain', 'ain']\n",
            "Yes,there is atleast 1 match!\n"
          ]
        }
      ],
      "source": [
        "import re\n",
        "txt=\"the rain in spain\"\n",
        "#Check if \"ain\" is present, but NOT at the beginning of a word:\n",
        "x=re.findall(r\"\\Bain\",txt)\n",
        "print(x)\n",
        "if x:\n",
        "  print(\"Yes,there is atleast 1 match!\")\n",
        "else:\n",
        "  print(\"No match\")"
      ]
    },
    {
      "cell_type": "code",
      "execution_count": null,
      "metadata": {
        "colab": {
          "base_uri": "https://localhost:8080/"
        },
        "id": "S20tKxC4Rnis",
        "outputId": "16fae319-c1b7-4f05-8674-3d72e2dbe647"
      },
      "outputs": [
        {
          "name": "stdout",
          "output_type": "stream",
          "text": [
            "[]\n",
            "No match\n"
          ]
        }
      ],
      "source": [
        "import re\n",
        "txt=\"The rain in spain\"\n",
        "#Check if \"ain\" is present, but NOT at the end of a word:\n",
        "x=re.findall(r\"ain\\B\",txt)\n",
        "print(x)\n",
        "if x:\n",
        "  print(\"Yes, there is at least one match!\")\n",
        "else:\n",
        "  print(\"No match\")"
      ]
    },
    {
      "cell_type": "code",
      "execution_count": null,
      "metadata": {
        "colab": {
          "base_uri": "https://localhost:8080/"
        },
        "id": "4gKWuSVjSIK6",
        "outputId": "5b8928d2-1858-4124-867a-1e796d67d354"
      },
      "outputs": [
        {
          "name": "stdout",
          "output_type": "stream",
          "text": [
            "[]\n",
            "No match\n"
          ]
        }
      ],
      "source": [
        "import re\n",
        "txt=\"The rain in spain\"\n",
        "#Check if the string contains any digits (numbers from 0-9):\n",
        "x=re.findall(\"\\d\",txt)\n",
        "print(x)\n",
        "if x:\n",
        "  print(\"Yes, there is at least one match!\")\n",
        "else:\n",
        "  print(\"No match\")"
      ]
    },
    {
      "cell_type": "code",
      "execution_count": null,
      "metadata": {
        "colab": {
          "base_uri": "https://localhost:8080/"
        },
        "id": "U1b8XioISlvA",
        "outputId": "a8a9ea9f-25b0-49d5-f63c-65527c119efe"
      },
      "outputs": [
        {
          "name": "stdout",
          "output_type": "stream",
          "text": [
            "['T', 'h', 'e', 'r', ' ', 'r', 'a', 'i', 'n', ' ', 'i', 'n', ' ', 's', 'p', 'a', 'i', 'n']\n",
            "Yes, there is at least one match!\n"
          ]
        }
      ],
      "source": [
        "import re\n",
        "txt=\"The rain in spain\"\n",
        "#Return a match at every no digit charecter\"\n",
        "x=re.findall(\"\\D\",txt)\n",
        "print(x)\n",
        "if x:\n",
        "  print(\"Yes, there is at least one match!\")\n",
        "else:\n",
        "  print(\"No match\")"
      ]
    },
    {
      "cell_type": "code",
      "execution_count": null,
      "metadata": {
        "colab": {
          "base_uri": "https://localhost:8080/"
        },
        "id": "6trOqktWTNuA",
        "outputId": "7a34e35c-df78-4c3c-c154-bd60d7bab259"
      },
      "outputs": [
        {
          "name": "stdout",
          "output_type": "stream",
          "text": [
            "[' ', ' ', ' ']\n",
            "Yes, there is at least one match!\n"
          ]
        }
      ],
      "source": [
        "import re\n",
        "txt=\"The rain in spain\"\n",
        "#REturn a match at ever white space charecter:\n",
        "x=re.findall(\"\\s\",txt)\n",
        "print(x)\n",
        "if x:\n",
        "  print(\"Yes, there is at least one match!\")\n",
        "else:\n",
        "  print(\"No match\")"
      ]
    },
    {
      "cell_type": "code",
      "execution_count": null,
      "metadata": {
        "colab": {
          "base_uri": "https://localhost:8080/"
        },
        "id": "-3Jsd_5BTq-5",
        "outputId": "01b1235c-df86-410d-f83c-5bae8bff0aee"
      },
      "outputs": [
        {
          "name": "stdout",
          "output_type": "stream",
          "text": [
            "['T', 'h', 'e', 'r', 'a', 'i', 'n', 'i', 'n', 's', 'p', 'a', 'i', 'n']\n",
            "Yes, there is at least one match!\n"
          ]
        }
      ],
      "source": [
        "import re\n",
        "txt=\"The rain in spain\"\n",
        "#Return a match at every non white space charecter:\n",
        "x=re.findall(\"\\S\",txt)\n",
        "print(x)\n",
        "if x:\n",
        "  print(\"Yes, there is at least one match!\")\n",
        "else:\n",
        "  print(\"No match\")"
      ]
    },
    {
      "cell_type": "code",
      "execution_count": null,
      "metadata": {
        "colab": {
          "base_uri": "https://localhost:8080/"
        },
        "id": "BYQaucIyUJl5",
        "outputId": "02ab9ed1-91ef-4505-9236-c2ff99ea839f"
      },
      "outputs": [
        {
          "name": "stdout",
          "output_type": "stream",
          "text": [
            "['T', 'h', 'e', 'r', 'a', 'i', 'n', 'i', 'n', 's', 'p', 'a', 'i', 'n']\n",
            "Yes, there is at least one match!\n"
          ]
        }
      ],
      "source": [
        "import re\n",
        "txt=\"The rain in spain\"\n",
        "#Return a match at every word charecter (charecters from a to Z,digits from 0-9, and the underscore _ charecter)\n",
        "x=re.findall(\"\\w\",txt)\n",
        "print(x)\n",
        "if x:\n",
        "  print(\"Yes, there is at least one match!\")\n",
        "else:\n",
        "  print(\"No match\")"
      ]
    },
    {
      "cell_type": "code",
      "execution_count": null,
      "metadata": {
        "colab": {
          "base_uri": "https://localhost:8080/"
        },
        "id": "CadhKZeNUqI7",
        "outputId": "a39c6465-844b-4c50-d82c-eaaae0d64ad6"
      },
      "outputs": [
        {
          "name": "stdout",
          "output_type": "stream",
          "text": [
            "[' ', ' ', ' ']\n",
            "Yes, there is at least one match!\n"
          ]
        }
      ],
      "source": [
        "import re\n",
        "txt = \"The rain in Spain\"\n",
        "#Return a match at every NON word charecter (charecters not between a to z, Like \"!\",\"?\" white-space etc.):\n",
        "x=re.findall(\"\\W\",txt)\n",
        "print(x)\n",
        "if x:\n",
        "  print(\"Yes, there is at least one match!\")\n",
        "else:\n",
        "  print(\"No match\")"
      ]
    },
    {
      "cell_type": "code",
      "execution_count": null,
      "metadata": {
        "colab": {
          "base_uri": "https://localhost:8080/"
        },
        "id": "aiamcPNEVuEC",
        "outputId": "010939a5-64cc-4c8d-9600-dde2cac05366"
      },
      "outputs": [
        {
          "name": "stdout",
          "output_type": "stream",
          "text": [
            "['Spain']\n",
            "yes, there is at leats one match!\n"
          ]
        }
      ],
      "source": [
        "import re\n",
        "txt=\"The rain in Spain\"\n",
        "#Check if the string ends with \"Spain\"\n",
        "x=re.findall(\"Spain\\Z\",txt)\n",
        "print(x)\n",
        "if x:\n",
        "  print(\"yes, there is at leats one match!\")\n",
        "else:\n",
        "  print(\"No Match\")\n"
      ]
    },
    {
      "cell_type": "markdown",
      "metadata": {
        "id": "PVte7Ky8E-pa"
      },
      "source": [
        "findall()"
      ]
    },
    {
      "cell_type": "code",
      "execution_count": null,
      "metadata": {
        "colab": {
          "base_uri": "https://localhost:8080/"
        },
        "id": "23NBmcc0E7MK",
        "outputId": "23d75f35-5bc5-4cb4-9122-a2c32a6de977"
      },
      "outputs": [
        {
          "name": "stdout",
          "output_type": "stream",
          "text": [
            "['ai', 'ai']\n"
          ]
        }
      ],
      "source": [
        "import re\n",
        "txt=\"The rain in spain\"\n",
        "x=re.findall(\"ai\",txt)\n",
        "print(x)\n"
      ]
    },
    {
      "cell_type": "code",
      "execution_count": null,
      "metadata": {
        "colab": {
          "base_uri": "https://localhost:8080/"
        },
        "id": "dBOSCV3iFbVj",
        "outputId": "7114490f-3592-4d33-f206-c062284bf128"
      },
      "outputs": [
        {
          "name": "stdout",
          "output_type": "stream",
          "text": [
            "[]\n",
            "No match\n"
          ]
        }
      ],
      "source": [
        "import re\n",
        "txt=\"The rain in spain\"\n",
        "#Check if portugal is a string\n",
        "x=re.findall(\"portugal\",txt)\n",
        "print(x)\n",
        "if (x):\n",
        "  print(\"Yes, there is atleast 1 match\")\n",
        "else:\n",
        "  print(\"No match\")"
      ]
    },
    {
      "cell_type": "code",
      "execution_count": null,
      "metadata": {
        "colab": {
          "base_uri": "https://localhost:8080/"
        },
        "id": "ZtHru4cXGHFl",
        "outputId": "c905bbaa-7c12-4c6f-b0c5-2c05a755c41b"
      },
      "outputs": [
        {
          "name": "stdout",
          "output_type": "stream",
          "text": [
            "The first white space charecter is located in position: 4\n"
          ]
        }
      ],
      "source": [
        "import re\n",
        "txt=\"the rain in spain\"\n",
        "x=re.search(\"\\s\",txt)\n",
        "print(\"The first white space charecter is located in position:\",x.start())\n",
        "\n"
      ]
    },
    {
      "cell_type": "code",
      "execution_count": null,
      "metadata": {
        "colab": {
          "base_uri": "https://localhost:8080/"
        },
        "id": "fjRT_1PqHCoc",
        "outputId": "e4588271-2aeb-45ae-d1d0-adbd086f73a9"
      },
      "outputs": [
        {
          "name": "stdout",
          "output_type": "stream",
          "text": [
            "None\n"
          ]
        }
      ],
      "source": [
        "import re\n",
        "txt=\"The rain in spain\"\n",
        "x=re.search(\"portugal\",txt)\n",
        "print(x)"
      ]
    },
    {
      "cell_type": "markdown",
      "metadata": {
        "id": "Z23uigvxHhjy"
      },
      "source": [
        "split()"
      ]
    },
    {
      "cell_type": "code",
      "execution_count": null,
      "metadata": {
        "colab": {
          "base_uri": "https://localhost:8080/"
        },
        "id": "yIx7o9v_HY3E",
        "outputId": "c2b727c4-92b4-4aa5-becc-ae40ae1f05eb"
      },
      "outputs": [
        {
          "name": "stdout",
          "output_type": "stream",
          "text": [
            "['The', 'rain', 'in', 'Spain']\n"
          ]
        }
      ],
      "source": [
        "import re\n",
        "txt=\"The rain in Spain\"\n",
        "x=re.split(\"\\s\",txt)\n",
        "print(x)"
      ]
    },
    {
      "cell_type": "code",
      "execution_count": null,
      "metadata": {
        "colab": {
          "base_uri": "https://localhost:8080/"
        },
        "id": "0MI9dBuuH-RP",
        "outputId": "d2e33235-be19-42b0-a0bb-255db7cab4f1"
      },
      "outputs": [
        {
          "name": "stdout",
          "output_type": "stream",
          "text": [
            "['The', 'rain in spain']\n"
          ]
        }
      ],
      "source": [
        "import re\n",
        "txt=\"The rain in spain\"\n",
        "x=re.split(\"\\s\",txt,1)\n",
        "print(x)"
      ]
    },
    {
      "cell_type": "code",
      "execution_count": null,
      "metadata": {
        "colab": {
          "base_uri": "https://localhost:8080/"
        },
        "id": "vZpokp4gY-6d",
        "outputId": "68bbef15-d626-464b-9552-eb97c46c24ac"
      },
      "outputs": [
        {
          "name": "stdout",
          "output_type": "stream",
          "text": [
            "['The', 'rain', 'in spain']\n"
          ]
        }
      ],
      "source": [
        "import re\n",
        "txt=\"The rain in spain\"\n",
        "x=re.split(\"\\s\",txt,2)\n",
        "print(x)"
      ]
    },
    {
      "cell_type": "markdown",
      "metadata": {
        "id": "6pepcYtSInSN"
      },
      "source": [
        "sub()"
      ]
    },
    {
      "cell_type": "code",
      "execution_count": null,
      "metadata": {
        "colab": {
          "base_uri": "https://localhost:8080/"
        },
        "id": "w-TYH_8vIaff",
        "outputId": "2ff84683-7604-4afd-befa-76b6a5aed971"
      },
      "outputs": [
        {
          "name": "stdout",
          "output_type": "stream",
          "text": [
            "The9rain9in9spain\n"
          ]
        }
      ],
      "source": [
        "#Replace every white space charecter with number 9\n",
        "import re\n",
        "#Replace all whitespace charecter with digit 9\n",
        "txt=\"The rain in spain\"\n",
        "x=re.sub(\"\\s\",\"9\",txt)\n",
        "print(x)"
      ]
    },
    {
      "cell_type": "code",
      "execution_count": null,
      "metadata": {
        "colab": {
          "base_uri": "https://localhost:8080/"
        },
        "id": "36daK1fUJekX",
        "outputId": "6ec442ef-472d-451b-8b9d-fe7edba3bca1"
      },
      "outputs": [
        {
          "name": "stdout",
          "output_type": "stream",
          "text": [
            "The9rain9in Spain\n"
          ]
        }
      ],
      "source": [
        "#Replace 1st 2 occurences\n",
        "import re\n",
        "#Replace the first 2 occurences of a white space charecter with digit 9\n",
        "txt=\"The rain in Spain\"\n",
        "x=re.sub(\"\\s\",\"9\",txt,2)\n",
        "print(x)"
      ]
    },
    {
      "cell_type": "code",
      "execution_count": null,
      "metadata": {
        "colab": {
          "base_uri": "https://localhost:8080/"
        },
        "id": "mU0SksdgKnmi",
        "outputId": "968a25f1-4f53-47b1-aa5b-cd1918248b0e"
      },
      "outputs": [
        {
          "name": "stdout",
          "output_type": "stream",
          "text": [
            "<re.Match object; span=(5, 11), match='ain in'>\n"
          ]
        }
      ],
      "source": [
        "#Print the position (start- and end- position) of the 1st match occurence\n",
        "\n",
        "import re\n",
        "txt=\"The rain in spain\"\n",
        "x=re.search(\"ain\",txt)\n",
        "print(x)"
      ]
    },
    {
      "cell_type": "code",
      "execution_count": null,
      "metadata": {
        "colab": {
          "base_uri": "https://localhost:8080/"
        },
        "id": "WGFa9gPZcWdu",
        "outputId": "f7ef25f2-ad0a-4918-dcf3-0fcb577ab21a"
      },
      "outputs": [
        {
          "name": "stdout",
          "output_type": "stream",
          "text": [
            "(12, 17)\n"
          ]
        }
      ],
      "source": [
        "#Print the position (start- and end- position) of the first match occurence\n",
        "import re\n",
        "txt=\"The rain in spain\"\n",
        "x=re.search(r\"\\bs\\w+\",txt)\n",
        "print(x.span())"
      ]
    },
    {
      "cell_type": "code",
      "execution_count": null,
      "metadata": {
        "colab": {
          "base_uri": "https://localhost:8080/"
        },
        "id": "InPmvxh1QWIT",
        "outputId": "d2cbe82f-9a09-4934-c830-f65104fa8f19"
      },
      "outputs": [
        {
          "name": "stdout",
          "output_type": "stream",
          "text": [
            "spain\n"
          ]
        }
      ],
      "source": [
        "#Print the part of string where there was a match\n",
        "import re\n",
        "txt=\"The rain in spain\"\n",
        "x=re.search(r\"\\bs\\w+\",txt)\n",
        "print(x.group())\n"
      ]
    },
    {
      "cell_type": "code",
      "execution_count": null,
      "metadata": {
        "colab": {
          "base_uri": "https://localhost:8080/"
        },
        "id": "JrFdBsc9RBkr",
        "outputId": "151c46fa-bb0b-4417-f882-2a9cf096560b"
      },
      "outputs": [
        {
          "name": "stdout",
          "output_type": "stream",
          "text": [
            "The rain in spain\n"
          ]
        }
      ],
      "source": [
        "#print the string passed through the function\n",
        "import re\n",
        "txt=\"The rain in spain\"\n",
        "x=re.search(r\"\\bs\\w+\",txt)\n",
        "print(x.string)"
      ]
    },
    {
      "cell_type": "markdown",
      "metadata": {
        "id": "BmCciUBefwbV"
      },
      "source": [
        "🔹 Python Regex Program Questions\n",
        "\n",
        "Q1)Check if a string contains only digits.\n",
        "Write a Python program using regex to check if an input string contains only digits.\n",
        "\n",
        "\n",
        "Q2)Extract all words from a sentence.\n",
        "Input: \"Hello, this is a test.\"\n",
        "Expected Output: ['Hello', 'this', 'is', 'a', 'test']\n",
        "\n",
        "Q3)Validate an email address.\n",
        "Write a Python program to check if a given string is a valid email address.\n",
        "\n",
        "Q5)Find all numbers in a string.\n",
        "Input: \"My numbers are 9999 and 12345\"\n",
        "Output: ['9999', '12345']\n",
        "\n",
        "Q6)Check if a string starts with a capital letter and ends with a period.\n",
        "\n",
        "Q7)Remove all special characters from a string except spaces.\n",
        "Input: \"Hello@# World!!\"\n",
        "Output: \"Hello World\"\n",
        "\n",
        "Q8)Find all dates in the format dd-mm-yyyy from a paragraph.\n",
        "Input: \"I was born on 12-04-2000 and my sister on 25-12-2003\"\n",
        "Output: ['12-04-2000', '25-12-2003']\n",
        "\n",
        "Q9)Replace all whitespaces in a string with a hyphen (-)\n",
        "Input: \"Hello World Python\"\n",
        "Output: \"Hello-World-Python\"\n",
        "\n",
        "Q10)Split a string at every comma, semicolon, or space.\n",
        "Input: \"apple, banana; orange mango\"\n",
        "Output: ['apple', 'banana', 'orange', 'mango']\n",
        "\n",
        "Q11)Validate a strong password.\n",
        "Criteria: At least 8 characters, includes one digit, one uppercase, one lowercase, and one special character (@, #, $, %).\n",
        "\n"
      ]
    },
    {
      "cell_type": "code",
      "execution_count": null,
      "metadata": {
        "colab": {
          "base_uri": "https://localhost:8080/"
        },
        "id": "gRJtAuHmSYly",
        "outputId": "7771a35e-453a-408d-f905-40ab31ac8551"
      },
      "outputs": [
        {
          "name": "stdout",
          "output_type": "stream",
          "text": [
            "[]\n"
          ]
        }
      ],
      "source": [
        "#Q1\n",
        "import re\n",
        "txt=\"1234567\"\n",
        "x=re.findall(\"\\D\",txt)\n",
        "print(x)"
      ]
    },
    {
      "cell_type": "code",
      "execution_count": null,
      "metadata": {
        "colab": {
          "base_uri": "https://localhost:8080/"
        },
        "id": "yvtD-YvshhoY",
        "outputId": "ecca6ef8-758a-42f4-badc-3c741b351eb1"
      },
      "outputs": [
        {
          "name": "stdout",
          "output_type": "stream",
          "text": [
            "['Hello,', 'this', 'is', 'a', 'test.']\n"
          ]
        }
      ],
      "source": [
        "#q2\n",
        "import re\n",
        "txt=\"Hello, this is a test.\"\n",
        "x=re.split(\"\\s\",txt)\n",
        "print(x)"
      ]
    },
    {
      "cell_type": "code",
      "execution_count": null,
      "metadata": {
        "colab": {
          "base_uri": "https://localhost:8080/"
        },
        "id": "TocT6cm_jPX2",
        "outputId": "bcb5d6d4-319e-4069-d1a4-7bda3ff54193"
      },
      "outputs": [
        {
          "name": "stdout",
          "output_type": "stream",
          "text": [
            "['@gmail.com']\n",
            "Valid\n"
          ]
        }
      ],
      "source": [
        "#q3Validate an email address. Write a Python program to check if a given string is a valid email address.\n",
        "import re\n",
        "txt=\"myname123@gmail.com\"\n",
        "x=re.findall(\"@gmail.com\\Z\",txt)   #check if \"@gmail.com\" is present at end of txt\n",
        "print(x)\n",
        "#Check if present in txt \"Valid\" if absent \"Invalid\"\n",
        "if x:\n",
        "  print(\"Valid\")\n",
        "else:\n",
        "  print(\"Invalid\")"
      ]
    },
    {
      "cell_type": "code",
      "execution_count": null,
      "metadata": {
        "colab": {
          "base_uri": "https://localhost:8080/"
        },
        "id": "7YmSRCGKKmg-",
        "outputId": "4471034a-eed8-4de4-ed52-ab019bc48b1b"
      },
      "outputs": [
        {
          "name": "stdout",
          "output_type": "stream",
          "text": [
            "['12345']\n"
          ]
        }
      ],
      "source": [
        "#q5\n",
        "import re\n",
        "txt= \"My numbers are 9999 and 12345\"\n",
        "x=re.findall(\"[0-9][0-9][0-9][0-9][0-9]\",txt)\n",
        "print(x)"
      ]
    },
    {
      "cell_type": "code",
      "execution_count": null,
      "metadata": {
        "colab": {
          "base_uri": "https://localhost:8080/"
        },
        "id": "xYwhRooWK_l4",
        "outputId": "1958b5bb-50b6-44aa-fa7f-07766bf2082c"
      },
      "outputs": [
        {
          "name": "stdout",
          "output_type": "stream",
          "text": [
            "Invalid\n"
          ]
        }
      ],
      "source": [
        "#q6\n",
        "import re\n",
        "txt=\"This is my bottle.\"\n",
        "x=re.findall(\"\\A[A-Z]\",txt)\n",
        "y=re.findall(\"[.]\\Z\",txt)\n",
        "if x and y:\n",
        "  print(\"Correct\")\n",
        "else:\n",
        "  print(\"Invalid\")"
      ]
    },
    {
      "cell_type": "code",
      "execution_count": null,
      "metadata": {
        "colab": {
          "base_uri": "https://localhost:8080/"
        },
        "id": "jS_tuLLelC9l",
        "outputId": "a709d811-ad85-4957-8a77-005ae668f174"
      },
      "outputs": [
        {
          "name": "stdout",
          "output_type": "stream",
          "text": [
            "yes\n"
          ]
        }
      ],
      "source": [
        "if (txt[0].isupper()==True) and (txt[-1]==\".\"):\n",
        "  print(\"yes\")\n",
        "else:\n",
        "  print(\"No\")"
      ]
    },
    {
      "cell_type": "code",
      "execution_count": null,
      "metadata": {
        "colab": {
          "base_uri": "https://localhost:8080/"
        },
        "id": "nvNKsVMAX5Mt",
        "outputId": "3d35fa1e-5967-43d7-84b0-e53af8d9f7af"
      },
      "outputs": [
        {
          "name": "stdout",
          "output_type": "stream",
          "text": [
            "Hello World\n"
          ]
        }
      ],
      "source": [
        "#Q7)Remove all special characters from a string except spaces.\n",
        "#Input: \"Hello@# World!!\"\n",
        "#Output: \"Hello World\"\n",
        "import re\n",
        "\n",
        "x = \"Hello@# World!!\"\n",
        "y = re.sub(r'[^A-Za-z0-9 ]+', '', x)\n",
        "\n",
        "print(y)"
      ]
    },
    {
      "cell_type": "code",
      "execution_count": null,
      "metadata": {
        "colab": {
          "base_uri": "https://localhost:8080/"
        },
        "id": "Gsebex63Zr6Z",
        "outputId": "8db21ef0-5d17-4a61-cbf1-773785771c87"
      },
      "outputs": [
        {
          "name": "stdout",
          "output_type": "stream",
          "text": [
            "['12-04-2000', '25-12-2003']\n"
          ]
        }
      ],
      "source": [
        "#Q8)Find all dates in the format dd-mm-yyyy from a paragraph.\n",
        "#Input:  Output: ['12-04-2000', '25-12-2003']\n",
        "\n",
        "import re\n",
        "txt=\"I was born on 12-04-2000 and my sister on 25-12-2003\"\n",
        "x=re.findall(r'[0-9][0-9][-][0-9][0-9][-][0-9][0-9][0-9][0-9]',txt) #Check if date is present in the string and select and take them into a list\n",
        "print(x)"
      ]
    },
    {
      "cell_type": "code",
      "execution_count": null,
      "metadata": {
        "colab": {
          "base_uri": "https://localhost:8080/"
        },
        "id": "xbvxwGvPa16l",
        "outputId": "65124d84-1793-4c5e-c06d-9188f6199586"
      },
      "outputs": [
        {
          "name": "stdout",
          "output_type": "stream",
          "text": [
            "Hello-World-Python\n"
          ]
        }
      ],
      "source": [
        "#Q9)Replace all whitespaces in a string with a hyphen (-) Input: \"Hello World Python\" Output: \"Hello-World-Python\"\n",
        "\n",
        "import re\n",
        "txt=\"Hello World Python\"\n",
        "x=re.sub(\"\\s\",\"-\",txt)\n",
        "print(x)"
      ]
    },
    {
      "cell_type": "code",
      "execution_count": null,
      "metadata": {
        "colab": {
          "base_uri": "https://localhost:8080/"
        },
        "id": "G6v972LPbhy7",
        "outputId": "c61eec21-5ff9-4338-e72d-b75a03dd2723"
      },
      "outputs": [
        {
          "name": "stdout",
          "output_type": "stream",
          "text": [
            "['', 'apple', 'banana', 'orange', 'mango']\n"
          ]
        }
      ],
      "source": [
        "#Q10)Split a string at every comma, semicolon, or space. Input: \"apple, banana; orange mango\" Output: ['apple', 'banana', 'orange', 'mango']\n",
        "import re\n",
        "txt=\" apple, banana; orange mango\"\n",
        "x=re.split(r\"[,; ]+\",txt)\n",
        "\n",
        "print(x)"
      ]
    },
    {
      "cell_type": "code",
      "execution_count": null,
      "metadata": {
        "colab": {
          "base_uri": "https://localhost:8080/"
        },
        "id": "mJBVP9Fum9Nh",
        "outputId": "2e83c11c-cf60-4967-b1b7-3ceb3ad44317"
      },
      "outputs": [
        {
          "name": "stdout",
          "output_type": "stream",
          "text": [
            "['apple', 'banana', 'orange', 'mango']\n"
          ]
        }
      ],
      "source": [
        "import re\n",
        "\n",
        "input_str = \"apple, banana; orange mango\"\n",
        "output_list = re.split(r'[;, ]+', input_str.strip())\n",
        "\n",
        "\n",
        "\n",
        "print(output_list)"
      ]
    },
    {
      "cell_type": "code",
      "execution_count": null,
      "metadata": {
        "colab": {
          "base_uri": "https://localhost:8080/"
        },
        "id": "pKN12Sqrc623",
        "outputId": "17f98030-b6c5-477b-96f1-8907063eb455"
      },
      "outputs": [
        {
          "name": "stdout",
          "output_type": "stream",
          "text": [
            "Password Ans@12\n",
            "Invalid\n"
          ]
        }
      ],
      "source": [
        "#Q11)Validate a strong password. Criteria: At least 8 characters,\n",
        "#includes one digit, one uppercase, one lowercase, and one special character (@, #, $, %).\n",
        "\n",
        "import re\n",
        "txt=str(input(\"Password \"))\n",
        "\n",
        "x1=re.search(\"[@#$%]\",txt) #search for special charecters iin a  string\n",
        "x5=re.search(\"[a-z]\",txt) #search for lower case alphabets in a string\n",
        "x6=re.search(\"[A-Z]\",txt) #search for upper case alphabets in a string\n",
        "x7=re.search(\"[0-9]\",txt) #search for digit in password\n",
        "if len(txt)>8:\n",
        "  if x5 and x6 and x7:\n",
        "    if x1:\n",
        "      print(\"Valid\")\n",
        "    else:\n",
        "      print(\"invalid\")\n",
        "  else:\n",
        "    print(\"Invalid\")\n",
        "else:\n",
        "  print(\"Invalid\")\n",
        "\n",
        "\n"
      ]
    },
    {
      "cell_type": "markdown",
      "metadata": {
        "id": "4BEjv582tVys"
      },
      "source": [
        "# **Logical qustions**"
      ]
    },
    {
      "cell_type": "code",
      "execution_count": null,
      "metadata": {
        "colab": {
          "base_uri": "https://localhost:8080/"
        },
        "id": "yPHOixgOvbZQ",
        "outputId": "5406d1a4-63ce-4090-ea00-07f119dea3fc"
      },
      "outputs": [
        {
          "name": "stdout",
          "output_type": "stream",
          "text": [
            "Prime\n"
          ]
        }
      ],
      "source": [
        "#check a value is prime number or not\n",
        "x=11\n",
        "a=0\n",
        "\n",
        "for i in range(2,x):\n",
        "  if x%i==0:\n",
        "    a=1\n",
        "    break\n",
        "  else:\n",
        "    a=2\n",
        "if a==1:\n",
        "  print(\"Not prime\")\n",
        "elif a==2:\n",
        "  print(\"Prime\")"
      ]
    },
    {
      "cell_type": "code",
      "execution_count": null,
      "metadata": {
        "colab": {
          "base_uri": "https://localhost:8080/"
        },
        "id": "C05SbDj7yrhL",
        "outputId": "f433112b-2e92-498f-f956-2ca6727564cd"
      },
      "outputs": [
        {
          "name": "stdout",
          "output_type": "stream",
          "text": [
            "['', 'my', 'name', 'is', 'anshif', 'and', 'iam', 'from', 'kozhikoe']\n",
            "kozhikoe\n"
          ]
        }
      ],
      "source": [
        "#xxxxxxxx\n",
        "# longest word from a sentence (my name is anshif) output=anshif\n",
        "x=\" my name is anshif and iam from kozhikoe\"\n",
        "y=x.split(\" \")\n",
        "print(y)\n",
        "a=0\n",
        "b=0\n",
        "c=0\n",
        "for v in range(len(y)):\n",
        "  for i in range(1,len(y)):\n",
        "      a=len(y[v])\n",
        "      b=len(y[v-1])\n",
        "\n",
        "      if a>b and a>c:\n",
        "         h=y[v]\n",
        "         c=len(h)\n",
        "      else:\n",
        "        pass\n",
        "print(h)\n"
      ]
    },
    {
      "cell_type": "code",
      "execution_count": null,
      "metadata": {
        "colab": {
          "base_uri": "https://localhost:8080/"
        },
        "id": "O57xrwXgKsZ5",
        "outputId": "67b2a30b-6a0a-4f05-994e-ad1cfc575526"
      },
      "outputs": [
        {
          "name": "stdout",
          "output_type": "stream",
          "text": [
            "fromssssssss\n"
          ]
        }
      ],
      "source": [
        "#check if word big a sentence\n",
        "x=\"my name is anshif and iam fromssssssss kozhikoe\"\n",
        "y=x.split()\n",
        "v=\"\"\n",
        "for i in y:\n",
        "  if len(i)>len(v):\n",
        "    v=i\n",
        "print(v)"
      ]
    },
    {
      "cell_type": "code",
      "execution_count": null,
      "metadata": {
        "colab": {
          "base_uri": "https://localhost:8080/"
        },
        "id": "lhuFGirfLcDI",
        "outputId": "4103acfb-4bff-443f-d947-b0c5f722944c"
      },
      "outputs": [
        {
          "name": "stdout",
          "output_type": "stream",
          "text": [
            "is\n"
          ]
        }
      ],
      "source": [
        "#check small word in a sentence\n",
        "x=\"my name is anshif and iam fromssssssss kozhikoe\"\n",
        "y=x.split()\n",
        "v=\"xyz\"\n",
        "for i in y:\n",
        "  if len(i)<=len(v):\n",
        "    v=i\n",
        "print(v)"
      ]
    },
    {
      "cell_type": "code",
      "execution_count": null,
      "metadata": {
        "colab": {
          "base_uri": "https://localhost:8080/"
        },
        "id": "BBPh3Z0PRHHP",
        "outputId": "f62d9e10-dac6-413b-ea51-cba6a16ed4dc"
      },
      "outputs": [
        {
          "name": "stdout",
          "output_type": "stream",
          "text": [
            "a\n"
          ]
        }
      ],
      "source": [
        "def small(a):\n",
        "  n=a.split()\n",
        "  v=\"dyffft\"\n",
        "  for i in n:\n",
        "    if len(i)<len(v):\n",
        "      v=i\n",
        "  print(v)\n",
        "\n",
        "small(\"the a trrris ybade\")"
      ]
    },
    {
      "cell_type": "code",
      "execution_count": null,
      "metadata": {
        "colab": {
          "base_uri": "https://localhost:8080/"
        },
        "id": "0F9p6F3wRIzu",
        "outputId": "5131a9be-ed3b-497a-f8dc-10e365b0c9ad"
      },
      "outputs": [
        {
          "name": "stdout",
          "output_type": "stream",
          "text": [
            "trrris\n"
          ]
        }
      ],
      "source": [
        "def big(a):\n",
        "  n=a.split()\n",
        "  v=\"\"\n",
        "  for i in n:\n",
        "    if len(i)>len(v):\n",
        "      v=i\n",
        "  print(v)\n",
        "\n",
        "big(\"the a trrris ybade\")\n"
      ]
    },
    {
      "cell_type": "code",
      "execution_count": null,
      "metadata": {
        "colab": {
          "base_uri": "https://localhost:8080/"
        },
        "id": "aHatpTAmU_Zr",
        "outputId": "c8b5c719-0405-4d02-daca-90ba03598d4d"
      },
      "outputs": [
        {
          "name": "stdout",
          "output_type": "stream",
          "text": [
            "The year is not leap year\n"
          ]
        }
      ],
      "source": [
        "#year%4==0 and y%100 not 0\n",
        "#or year%400==0\n",
        "def leapyr(a):\n",
        "  if (a%4==0 and a%100!=0) or a%400==0:\n",
        "    print(\"The year is leap year\")\n",
        "  else:\n",
        "    print(\"The year is not leap year\")\n",
        "\n",
        "leapyr(2020)\n"
      ]
    },
    {
      "cell_type": "code",
      "execution_count": null,
      "metadata": {
        "colab": {
          "base_uri": "https://localhost:8080/"
        },
        "id": "q6reWw2wbV8R",
        "outputId": "920c1621-7466-4527-d595-8aed52fb2a14"
      },
      "outputs": [
        {
          "name": "stdout",
          "output_type": "stream",
          "text": [
            "True\n"
          ]
        }
      ],
      "source": [
        "#palindrome\n",
        "x=\"htath\"\n",
        "b=x[::-1]\n",
        "if x==b:\n",
        "  print(\"True\")\n",
        "else:\n",
        "  print(\"False\")"
      ]
    },
    {
      "cell_type": "code",
      "execution_count": null,
      "metadata": {
        "id": "90Z17-5BdxT8"
      },
      "outputs": [],
      "source": []
    },
    {
      "cell_type": "code",
      "execution_count": null,
      "metadata": {
        "colab": {
          "base_uri": "https://localhost:8080/"
        },
        "id": "KbyLsyemb6kw",
        "outputId": "8f5fb6dc-1ea4-478e-d19c-fe9337392eed"
      },
      "outputs": [
        {
          "output_type": "stream",
          "name": "stdout",
          "text": [
            "Enter a number370\n",
            "True\n"
          ]
        }
      ],
      "source": [
        "#amstrong number\n",
        "\n",
        "a1=int(input(\"Enter a number\"))\n",
        "c1=str(a1)\n",
        "b1=len(c1)\n",
        "d1=0\n",
        "for i in range(len(c1)):\n",
        "  a=int(c1[i])\n",
        "  d1+=(a**b1)\n",
        "if a1==d1:\n",
        "  print(\"True\")\n",
        "else:\n",
        "  print(\"false\")\n",
        "\n"
      ]
    },
    {
      "cell_type": "code",
      "execution_count": null,
      "metadata": {
        "id": "780fyeuTi1XW"
      },
      "outputs": [],
      "source": [
        "#xxxxxxxx\n",
        "c=str(a)\n",
        "print(c)\n",
        "d=(c[0])\n",
        "b=(c[1])\n",
        "e=(c[2])\n",
        "i=(f**3)+(g**3)+(h**3)\n",
        "if i==a:\n",
        "  print(\"True\")\n",
        "else:\n",
        "  print(\"False\")"
      ]
    },
    {
      "cell_type": "code",
      "execution_count": null,
      "metadata": {
        "colab": {
          "base_uri": "https://localhost:8080/"
        },
        "id": "vDxe7Ameo65V",
        "outputId": "bb459866-2d2f-4829-af3e-b6c189aaa188"
      },
      "outputs": [
        {
          "name": "stdout",
          "output_type": "stream",
          "text": [
            "NUmber=5\n",
            "1 \n",
            "1 2 \n",
            "1 2 3 \n",
            "1 2 3 4 \n",
            "1 2 3 4 5 \n"
          ]
        }
      ],
      "source": [
        "#xxxxxxxx\n",
        "a=\"1 2 3 4 5 6 7 8 9 \"\n",
        "b=int(input(\"NUmber=\"))\n",
        "if b==1:\n",
        "  c=3\n",
        "if b==2:\n",
        "  c=5\n",
        "if b==3:\n",
        "  c=7\n",
        "if b==4:\n",
        "  c=9\n",
        "if b==5:\n",
        "  c=11\n",
        "if b==6:\n",
        "  c=13\n",
        "if b==7:\n",
        "  c=15\n",
        "if b==8:\n",
        "  c=17\n",
        "if b==9:\n",
        "  c=19\n",
        "\n",
        "for i in range(1,c):\n",
        "  if (i%2==0):\n",
        "    print(a[0:i])"
      ]
    },
    {
      "cell_type": "markdown",
      "metadata": {
        "id": "aqWy67axvu44"
      },
      "source": [
        "if (b==1):\n",
        "  c=2"
      ]
    },
    {
      "cell_type": "code",
      "execution_count": null,
      "metadata": {
        "colab": {
          "base_uri": "https://localhost:8080/"
        },
        "id": "1ZlmdB8_uU_U",
        "outputId": "9e744a93-6daa-40c9-ddd0-602ca56c354a"
      },
      "outputs": [
        {
          "name": "stdout",
          "output_type": "stream",
          "text": [
            "5\n",
            "                 * \n",
            "                * * \n",
            "               * * * \n",
            "              * * * * \n",
            "             * * * * * \n"
          ]
        }
      ],
      "source": [
        "#xxxxxxxx\n",
        "a=\"* * * * * * * * *\"\n",
        "e=\"                 \"\n",
        "b=int(input())\n",
        "if b==1:\n",
        "  c=3\n",
        "if b==2:\n",
        "  c=5\n",
        "if b==3:\n",
        "  c=7\n",
        "if b==4:\n",
        "  c=9\n",
        "if b==5:\n",
        "  c=11\n",
        "if b==6:\n",
        "  c=13\n",
        "if b==7:\n",
        "  c=15\n",
        "if b==8:\n",
        "  c=17\n",
        "if b==9:\n",
        "  c=19\n",
        "for i in range(1,c):\n",
        "  if i<(c/2):\n",
        "    print(e[i::],a[0:(2*i)])\n"
      ]
    },
    {
      "cell_type": "code",
      "execution_count": null,
      "metadata": {
        "id": "U2W4iqRe9zXV"
      },
      "outputs": [],
      "source": [
        "print()"
      ]
    },
    {
      "cell_type": "code",
      "execution_count": null,
      "metadata": {
        "colab": {
          "base_uri": "https://localhost:8080/"
        },
        "id": "_NyIUWxy01rr",
        "outputId": "a4605cfa-67ba-4dd6-82a9-44d70c22df28"
      },
      "outputs": [
        {
          "name": "stdout",
          "output_type": "stream",
          "text": [
            "3\n",
            "* * * "
          ]
        }
      ],
      "source": [
        "#xxxxxxxx\n",
        "a=\"*\"\n",
        "x=int(input())\n",
        "for i in range(x):\n",
        "  for v in range(i):d\n",
        "    print(a,end=\" \")\n",
        "    continue\n"
      ]
    },
    {
      "cell_type": "code",
      "execution_count": null,
      "metadata": {
        "colab": {
          "base_uri": "https://localhost:8080/"
        },
        "id": "MDEwDLHxkSpD",
        "outputId": "b9a0a3e6-3d01-431d-d6a0-40bc5d7bf748"
      },
      "outputs": [
        {
          "name": "stdout",
          "output_type": "stream",
          "text": [
            "yes\n"
          ]
        }
      ],
      "source": [
        "#xxxxxxxx\n",
        "p1=\"ABCdefghijklmnopqrstuvwxyz\"\n",
        "s1=p1.lower()\n",
        "if (\"a\" in s1) and (\"b\" in s1) and (\"c\" in s1) and (\"d\" in s1) and (\"e\" in s1) and (\"f\" in s1) and (\"g\" in s1) and (\"h\" in s1) and (\"i\" in s1) and (\"j\" in s1) and (\"k\" in s1) and (\"l\" in s1) and (\"m\" in s1) and (\"n\" in s1) and (\"o\" in s1) and (\"p\" in s1) and (\"q\" in s1) and (\"r\" in s1) and (\"s\" in s1) and (\"t\" in s1) and (\"u\" in s1) and (\"v\" in s1) and (\"w\" in s1) and (\"x\" in s1) and (\"y\" in s1) and (\"z\"in s1):\n",
        "  print(\"yes\")\n",
        "else:\n",
        "  print(\"No\")"
      ]
    },
    {
      "cell_type": "code",
      "execution_count": null,
      "metadata": {
        "id": "1t9Kl0C5akP1"
      },
      "outputs": [],
      "source": [
        "###xxxxxxxx\n",
        "print(\"Yes\")\n",
        "else:\n",
        "  print(\"No\")"
      ]
    },
    {
      "cell_type": "code",
      "execution_count": null,
      "metadata": {
        "colab": {
          "base_uri": "https://localhost:8080/"
        },
        "id": "YjoORn08WdJ4",
        "outputId": "5c8c44ff-53f6-4afc-d517-54b903238983"
      },
      "outputs": [
        {
          "name": "stdout",
          "output_type": "stream",
          "text": [
            "6\n"
          ]
        }
      ],
      "source": [
        "#vowels\n",
        "a1=\"aeiou\"\n",
        "a2=\"heavy rain soon\"\n",
        "a3=0\n",
        "for i in a1:\n",
        "  for t in a2:\n",
        "    if i==t:\n",
        "      a3=a3+1\n",
        "print(a3)"
      ]
    },
    {
      "cell_type": "code",
      "execution_count": null,
      "metadata": {
        "colab": {
          "base_uri": "https://localhost:8080/"
        },
        "id": "WcqVPm8guxu3",
        "outputId": "3028daeb-7025-4951-bbb5-47930a4aee22"
      },
      "outputs": [
        {
          "name": "stdout",
          "output_type": "stream",
          "text": [
            "A\n"
          ]
        }
      ],
      "source": [
        "##xxxxxxxx\n",
        "print(chr(65))"
      ]
    },
    {
      "cell_type": "code",
      "execution_count": null,
      "metadata": {
        "id": "8JGa1qwb9pWN"
      },
      "outputs": [],
      "source": [
        "#xxxxxxxx\n",
        "a=5\n",
        "b1=65\n",
        "b1+=1\n",
        "print(chr(b1))"
      ]
    },
    {
      "cell_type": "code",
      "execution_count": null,
      "metadata": {
        "colab": {
          "base_uri": "https://localhost:8080/"
        },
        "id": "yzYvE1no7hg6",
        "outputId": "284ad5b7-b7bd-4be5-8540-cbddc3537d01"
      },
      "outputs": [
        {
          "name": "stdout",
          "output_type": "stream",
          "text": [
            "B\n"
          ]
        }
      ],
      "source": []
    },
    {
      "cell_type": "code",
      "execution_count": null,
      "metadata": {
        "colab": {
          "background_save": true,
          "base_uri": "https://localhost:8080/"
        },
        "id": "XFTyaTpNAVHm",
        "outputId": "a3e8ba44-f496-4d13-de9d-ccd65d75638d"
      },
      "outputs": [
        {
          "name": "stdout",
          "output_type": "stream",
          "text": [
            "apple apple apple apple apple "
          ]
        }
      ],
      "source": [
        "#xxxxxxxx\n",
        "for b in range(0,5):\n",
        "    print(\"apple\",end=\" \")\n"
      ]
    },
    {
      "cell_type": "code",
      "source": [
        "\n",
        "#palindrome\n",
        "def palind(x):\n",
        "  b=x[::-1]\n",
        "  if x==b:\n",
        "    print(\"True\")\n",
        "  else:\n",
        "    print(\"False\")\n",
        "\n",
        "palind(\"whahw\")"
      ],
      "metadata": {
        "colab": {
          "base_uri": "https://localhost:8080/"
        },
        "id": "FfDWQD1y9nxg",
        "outputId": "849c7bf4-a7b8-4c1b-ed67-6b3c801c6edc"
      },
      "execution_count": null,
      "outputs": [
        {
          "output_type": "stream",
          "name": "stdout",
          "text": [
            "True\n"
          ]
        }
      ]
    },
    {
      "cell_type": "code",
      "source": [],
      "metadata": {
        "id": "um-nncJaAX9H"
      },
      "execution_count": null,
      "outputs": []
    }
  ],
  "metadata": {
    "colab": {
      "provenance": []
    },
    "kernelspec": {
      "display_name": "Python 3",
      "name": "python3"
    },
    "language_info": {
      "name": "python"
    }
  },
  "nbformat": 4,
  "nbformat_minor": 0
}