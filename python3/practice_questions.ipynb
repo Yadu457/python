{
  "nbformat": 4,
  "nbformat_minor": 0,
  "metadata": {
    "colab": {
      "provenance": []
    },
    "kernelspec": {
      "name": "python3",
      "display_name": "Python 3"
    },
    "language_info": {
      "name": "python"
    }
  },
  "cells": [
    {
      "cell_type": "code",
      "execution_count": null,
      "metadata": {
        "colab": {
          "base_uri": "https://localhost:8080/"
        },
        "id": "bco9gdkpBcTv",
        "outputId": "36e19c0c-ed79-4613-f7c0-c9d50c809a94"
      },
      "outputs": [
        {
          "output_type": "stream",
          "name": "stdout",
          "text": [
            "prime\n"
          ]
        }
      ],
      "source": [
        "# prime number?\n",
        "a=211\n",
        "for i in range(a):\n",
        "  if (i!=0) and (i!=1) and (i!=a):\n",
        "    if a%i==0:\n",
        "      v=\"notprime\"\n",
        "      break\n",
        "    else:\n",
        "      v=\"prime\"\n",
        "\n",
        "print(v)"
      ]
    },
    {
      "cell_type": "code",
      "source": [
        "# largest word?\n",
        "a=\"appfffffffffle isfffff do jk hgjhghjgjgjh\"\n",
        "b=0\n",
        "v=a.split()\n",
        "for t in range(len(v)):\n",
        "\n",
        "\n",
        "\n",
        "print(b)\n",
        "\n"
      ],
      "metadata": {
        "colab": {
          "base_uri": "https://localhost:8080/"
        },
        "id": "qH11mBZqBiaZ",
        "outputId": "3993f630-5d3b-4abe-c736-c446ef136e6c"
      },
      "execution_count": null,
      "outputs": [
        {
          "output_type": "stream",
          "name": "stdout",
          "text": [
            "hgjhghjgjgjh\n"
          ]
        }
      ]
    },
    {
      "cell_type": "code",
      "source": [
        "#largest word\n",
        "a=\"my name is yadhu\"\n",
        "b=0\n",
        "\n",
        "w1=0\n",
        "w2=0\n",
        "v=a.split()\n",
        "w=len(v)\n",
        "\n",
        "for i in range(w):\n",
        "  for t in range(1,w):\n",
        "    if len(v[t])>len(v[t-1]):\n",
        "      b=v[t]\n",
        "      b1=v[t-1]\n",
        "      v[t]=b1\n",
        "      v[t-1]=b\n",
        "    else:\n",
        "      pass\n",
        "print(v[0])\n",
        "\n"
      ],
      "metadata": {
        "colab": {
          "base_uri": "https://localhost:8080/"
        },
        "id": "_nf1aHj-NdXG",
        "outputId": "d202c3cd-7545-40da-a330-74a9d7ee7e0f"
      },
      "execution_count": null,
      "outputs": [
        {
          "output_type": "stream",
          "name": "stdout",
          "text": [
            "yadhu\n"
          ]
        }
      ]
    },
    {
      "cell_type": "code",
      "source": [
        "#smalIest word\n",
        "a=\"abcewbbbbwww fo ew\"\n",
        "b=0\n",
        "v=[]\n",
        "w1=0\n",
        "w2=0\n",
        "v=a.split()\n",
        "w=len(v)\n",
        "\n",
        "for i in range(0,w):\n",
        "  for t in range(1,w):\n",
        "    if len(v[t])<len(v[t-1]):\n",
        "      b=v[t]\n",
        "      b1=v[t-1]\n",
        "      v[t]=b1\n",
        "      v[t-1]=b\n",
        "    else:\n",
        "      pass\n",
        "print(v[0])"
      ],
      "metadata": {
        "colab": {
          "base_uri": "https://localhost:8080/"
        },
        "id": "DphewrJTocEt",
        "outputId": "d2b984c4-fdc9-4b40-d07e-d2d22d92358c"
      },
      "execution_count": null,
      "outputs": [
        {
          "output_type": "stream",
          "name": "stdout",
          "text": [
            "fo\n"
          ]
        }
      ]
    },
    {
      "cell_type": "code",
      "source": [],
      "metadata": {
        "colab": {
          "base_uri": "https://localhost:8080/"
        },
        "id": "rKiaocTNBlmS",
        "outputId": "923fe761-e771-4976-d107-72f36f48493a"
      },
      "execution_count": null,
      "outputs": [
        {
          "output_type": "stream",
          "name": "stdout",
          "text": [
            "j\n"
          ]
        }
      ]
    },
    {
      "cell_type": "code",
      "source": [
        "# pyramid?\n",
        "a=6\n",
        "\n",
        "t=0\n",
        "for i in range(a):\n",
        "  t=a-i\n",
        "  while t>=0:\n",
        "    print(\" \",end=\"\")\n",
        "    t-=1\n",
        "\n",
        "  for v in range(i+1):\n",
        "    print(\"*\",end=\" \")\n",
        "\n",
        "  print()\n"
      ],
      "metadata": {
        "colab": {
          "base_uri": "https://localhost:8080/"
        },
        "id": "jw2rf5G6BoVM",
        "outputId": "44ce8260-11f5-43c1-cdde-984e26859cf0"
      },
      "execution_count": null,
      "outputs": [
        {
          "output_type": "stream",
          "name": "stdout",
          "text": [
            "       * \n",
            "      * * \n",
            "     * * * \n",
            "    * * * * \n",
            "   * * * * * \n",
            "  * * * * * * \n"
          ]
        }
      ]
    },
    {
      "cell_type": "code",
      "source": [
        "a=[1,88,56,9090,23,56]\n",
        "for t in range(len(a)):\n",
        "  for i in range(1,len(a)):\n",
        "    if a[i]<a[i-1]:\n",
        "      a1=a[i]\n",
        "      a2=a[i-1]\n",
        "      a[i]=a2\n",
        "      a[i-1]=a1\n",
        "print(a)"
      ],
      "metadata": {
        "colab": {
          "base_uri": "https://localhost:8080/"
        },
        "id": "u9aUJA5oXi-e",
        "outputId": "28d435ec-020f-483c-cc7f-746162760617"
      },
      "execution_count": null,
      "outputs": [
        {
          "output_type": "stream",
          "name": "stdout",
          "text": [
            "[1, 23, 56, 56, 88, 9090]\n"
          ]
        }
      ]
    },
    {
      "cell_type": "code",
      "source": [
        "a=[\"apple\",\"chilly\",\"lilly\",\"sunflowwwwer\",\"howard\",\"chocolates\",\"orange\"]\n",
        "b=[]\n",
        "q=len(a)-1\n",
        "for i in range(0,q+1):\n",
        "  b.append(a[q-i])\n",
        "\n",
        "\n",
        "print(b)"
      ],
      "metadata": {
        "colab": {
          "base_uri": "https://localhost:8080/"
        },
        "id": "cG-aAO7uYopz",
        "outputId": "034e9c0c-dd46-4274-e9ee-2ea19be12957"
      },
      "execution_count": null,
      "outputs": [
        {
          "output_type": "stream",
          "name": "stdout",
          "text": [
            "['orange', 'chocolates', 'howard', 'sunflowwwwer', 'lilly', 'chilly', 'apple']\n"
          ]
        }
      ]
    },
    {
      "cell_type": "code",
      "source": [
        "def pm(a):\n",
        "  c=[]\n",
        "\n",
        "  for i in range(a):\n",
        "    n1=0\n",
        "    if i==0 or i==1:\n",
        "      pass\n",
        "    else:\n",
        "      for t in range(i):\n",
        "        if t!=0 and t!=1 and i%t==0:\n",
        "          n1=1\n",
        "        else:\n",
        "          pass\n",
        "      if n1==0:\n",
        "        c.append(i)\n",
        "\n",
        "  print(c)\n",
        "\n",
        "a1=100\n",
        "pm(a1)"
      ],
      "metadata": {
        "colab": {
          "base_uri": "https://localhost:8080/"
        },
        "id": "5qIRvYEfX21w",
        "outputId": "32a25169-237c-4001-93ce-add93eacea1c"
      },
      "execution_count": null,
      "outputs": [
        {
          "output_type": "stream",
          "name": "stdout",
          "text": [
            "[2, 3, 5, 7, 11, 13, 17, 19, 23, 29, 31, 37, 41, 43, 47, 53, 59, 61, 67, 71, 73, 79, 83, 89, 97]\n"
          ]
        }
      ]
    },
    {
      "cell_type": "markdown",
      "source": [
        "1\n",
        "u=1\n",
        "v=1\n",
        "t=1: x=1^1=1\n"
      ],
      "metadata": {
        "id": "qdNEpYXBrKjQ"
      }
    },
    {
      "cell_type": "code",
      "source": [
        "def hamstrong(a):\n",
        "  c=[]\n",
        "  for r in range(10,a):\n",
        "    v=[]\n",
        "    x=0\n",
        "    b1=str(r)\n",
        "    u=len(b1)\n",
        "\n",
        "    for i in b1:\n",
        "      v.append(int(i))\n",
        "\n",
        "    for t in v:\n",
        "      x+=(t**u)\n",
        "\n",
        "    if x==r:\n",
        "      c.append(r)\n",
        "\n",
        "\n",
        "  print(c)\n",
        "\n",
        "a1=1000\n",
        "hamstrong(a1)"
      ],
      "metadata": {
        "colab": {
          "base_uri": "https://localhost:8080/"
        },
        "id": "-WwboZ_Zj2e4",
        "outputId": "b6978c2c-43cf-4442-8e9d-79ae27323a5b"
      },
      "execution_count": null,
      "outputs": [
        {
          "output_type": "stream",
          "name": "stdout",
          "text": [
            "[153, 370, 371, 407]\n"
          ]
        }
      ]
    },
    {
      "cell_type": "code",
      "source": [
        "\n",
        "a1=int(input(\"N: \"))\n",
        "def rev(a):\n",
        "  b=[]\n",
        "  p=[]\n",
        "  for i in range(a):\n",
        "    c=int(input())\n",
        "    p.append(c)\n",
        "\n",
        "  q=a-1\n",
        "  for i in range(0,a):\n",
        "    b.append(p[q-i])\n",
        "  print(b)\n",
        "\n",
        "rev(a1)\n",
        "\n"
      ],
      "metadata": {
        "colab": {
          "base_uri": "https://localhost:8080/"
        },
        "id": "OYXAJGBJwJJ3",
        "outputId": "065941fb-ef3c-4ec1-e19a-e7cbae979891"
      },
      "execution_count": null,
      "outputs": [
        {
          "output_type": "stream",
          "name": "stdout",
          "text": [
            "N: 6\n",
            "1\n",
            "2\n",
            "3\n",
            "4\n",
            "5\n",
            "7\n",
            "[7, 5, 4, 3, 2, 1]\n"
          ]
        }
      ]
    },
    {
      "cell_type": "code",
      "source": [
        "a1=\"apple and intufew\"\n",
        "def bigest(a):\n",
        "  v=[]\n",
        "  v=a.split()\n",
        "  w=len(v)\n",
        "  for i in range(0,w):\n",
        "    for t in range(1,w):\n",
        "      if len(v[t])>len(v[t-1]):\n",
        "        b1=v[t]\n",
        "        b2=v[t-1]\n",
        "        v[t-1]=b1\n",
        "        v[t]=b2\n",
        "  print(v[0])\n",
        "\n",
        "bigest(a1)\n"
      ],
      "metadata": {
        "colab": {
          "base_uri": "https://localhost:8080/"
        },
        "id": "wU0dpteIaYwE",
        "outputId": "44095a8e-af21-4342-fabb-1a086b525a6b"
      },
      "execution_count": null,
      "outputs": [
        {
          "output_type": "stream",
          "name": "stdout",
          "text": [
            "intufew\n"
          ]
        }
      ]
    },
    {
      "cell_type": "code",
      "source": [
        "account=100000\n",
        "\n",
        "\n",
        "def subtract():\n",
        "  global account\n",
        "  a1=int(input(\"amount:\"))\n",
        "  if a1>account:\n",
        "    print(\"invalid,more than amount\")\n",
        "  elif a1<=account:\n",
        "    account=account-a1\n",
        "  print(\"balance=\",account)\n",
        "\n",
        "def add():\n",
        "  global account\n",
        "  a2=int(input(\"amount:\"))\n",
        "  account=account+a2\n",
        "  print(\"balance=\",account)\n",
        "\n",
        "\n",
        "\n",
        "\n",
        "\n",
        "username=\"white\"\n",
        "password=\"123456\"\n",
        "user=input()\n",
        "pass1=input()\n",
        "if username==user:\n",
        "  pass\n",
        "else:\n",
        "  print(\"Username is wrong\")\n",
        "\n",
        "if password==pass1:\n",
        "  pass\n",
        "else:\n",
        "  print(\"password is wrong\")\n",
        "\n",
        "if username==user and password==pass1:\n",
        "  print(\"1-add,2-subtract\")\n",
        "  a=int(input(\"n:\"))\n",
        "  if a==2:\n",
        "    subtract()\n",
        "  elif a==1:\n",
        "    add()\n",
        "\n",
        "\n",
        "\n"
      ],
      "metadata": {
        "colab": {
          "base_uri": "https://localhost:8080/"
        },
        "id": "zqQttFv8wDlX",
        "outputId": "5f000ca9-5f79-42e6-e233-f3aa514a0d40"
      },
      "execution_count": 15,
      "outputs": [
        {
          "output_type": "stream",
          "name": "stdout",
          "text": [
            "hgjjjjjjjlj\n",
            "123456\n",
            "Username is wrong\n"
          ]
        }
      ]
    },
    {
      "cell_type": "code",
      "source": [
        "amt=10000\n",
        "\n",
        "user0=\"rit\"\n",
        "pass0=\"123\"\n",
        "\n",
        "user1=input(\"Username=\")\n",
        "pass1=input(\"Password=\")\n",
        "\n",
        "if user0==user1 and pass0==pass1:\n",
        "\n",
        "  a1=int(input(\"drwing amount=\"))\n",
        "  if a1<=0:\n",
        "    print(\"amount you enterred is not corect\")\n",
        "  if a1>amt:\n",
        "    print(\"insufficient fund in account\")\n",
        "  elif a1<amt:\n",
        "    amt=amt-a1\n",
        "\n",
        "  print(\"balance=\",amt)\n",
        "\n",
        "elif user0!=user1 and pass0==pass1:\n",
        "  print(\"incorrect username\")\n",
        "\n",
        "elif user0==user1 and pass0!=pass1:\n",
        "  print(\"incorrect password\")\n",
        "\n",
        "elif user0!=user1 and pass0!=pass1:\n",
        "  print(\"incorrect password and username\")\n",
        "\n",
        "\n",
        "\n",
        "\n",
        "\n",
        "\n",
        "\n"
      ],
      "metadata": {
        "colab": {
          "base_uri": "https://localhost:8080/"
        },
        "id": "0xlcvYSQhPMq",
        "outputId": "10411173-27ef-4b21-c5cc-3615c3b2f1dd"
      },
      "execution_count": 46,
      "outputs": [
        {
          "output_type": "stream",
          "name": "stdout",
          "text": [
            "Username=rit\n",
            "Password=123\n",
            "drwing amount=0\n",
            "amount you enterred is not corect\n",
            "balance= 10000\n"
          ]
        }
      ]
    }
  ]
}